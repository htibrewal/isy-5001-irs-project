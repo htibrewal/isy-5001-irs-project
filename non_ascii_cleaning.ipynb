{
 "cells": [
  {
   "cell_type": "code",
   "id": "initial_id",
   "metadata": {
    "collapsed": true,
    "ExecuteTime": {
     "end_time": "2024-10-17T09:41:24.026759Z",
     "start_time": "2024-10-17T09:41:24.005808Z"
    }
   },
   "source": [
    "import pandas as pd\n",
    "import re\n",
    "import os\n",
    "from dotenv import load_dotenv"
   ],
   "outputs": [],
   "execution_count": 49
  },
  {
   "metadata": {
    "ExecuteTime": {
     "end_time": "2024-10-17T09:41:25.352452Z",
     "start_time": "2024-10-17T09:41:25.340263Z"
    }
   },
   "cell_type": "code",
   "source": "load_dotenv()",
   "id": "f5bab310d9c257da",
   "outputs": [
    {
     "data": {
      "text/plain": [
       "True"
      ]
     },
     "execution_count": 50,
     "metadata": {},
     "output_type": "execute_result"
    }
   ],
   "execution_count": 50
  },
  {
   "metadata": {
    "ExecuteTime": {
     "end_time": "2024-10-17T09:41:26.766490Z",
     "start_time": "2024-10-17T09:41:26.761871Z"
    }
   },
   "cell_type": "code",
   "source": [
    "def clean_text(text):\n",
    "    if isinstance(text, str):\n",
    "        text = text.replace('“', '\"').replace('”', '\"').replace('″', '\"')\n",
    "        \n",
    "        text = re.sub(r'[^\\x00-\\x7F]', '', text)    \n",
    "    return text"
   ],
   "id": "2082b62d711bafb7",
   "outputs": [],
   "execution_count": 51
  },
  {
   "metadata": {
    "ExecuteTime": {
     "end_time": "2024-10-17T09:41:28.153649Z",
     "start_time": "2024-10-17T09:41:28.150300Z"
    }
   },
   "cell_type": "code",
   "source": [
    "def find_non_ascii(text):\n",
    "    if isinstance(text, str):\n",
    "        # |[\\\"]\n",
    "        return bool(re.search(r'[^\\x00-\\x7F]', text))\n",
    "    return False"
   ],
   "id": "a908cb54fa322d2f",
   "outputs": [],
   "execution_count": 52
  },
  {
   "metadata": {
    "ExecuteTime": {
     "end_time": "2024-10-17T09:41:29.985375Z",
     "start_time": "2024-10-17T09:41:29.981025Z"
    }
   },
   "cell_type": "code",
   "source": [
    "def validate_non_ascii(df):\n",
    "    non_ascii_entries = df.apply(lambda col: col.apply(find_non_ascii))\n",
    "    rows_with_non_ascii = df[non_ascii_entries.any(axis=1)]    \n",
    "    return rows_with_non_ascii"
   ],
   "id": "f7017db48dc56a",
   "outputs": [],
   "execution_count": 53
  },
  {
   "metadata": {},
   "cell_type": "code",
   "outputs": [],
   "execution_count": null,
   "source": "",
   "id": "d5cfbc71a79a9294"
  },
  {
   "metadata": {
    "ExecuteTime": {
     "end_time": "2024-10-17T09:41:59.554941Z",
     "start_time": "2024-10-17T09:41:33.148777Z"
    }
   },
   "cell_type": "code",
   "source": [
    "df = pd.read_excel(os.path.join(os.getenv('PURCHASE_ORDER_FOLDER_PATH'), 'Data 1.xlsx'))\n",
    "df.columns = df.columns.str.replace(' ', '_').str.upper()"
   ],
   "id": "59c76e50673be1d3",
   "outputs": [],
   "execution_count": 54
  },
  {
   "metadata": {
    "ExecuteTime": {
     "end_time": "2024-10-17T09:41:59.579118Z",
     "start_time": "2024-10-17T09:41:59.573079Z"
    }
   },
   "cell_type": "code",
   "source": "df['ITEM_NAME']",
   "id": "fe5382920ecc4e4f",
   "outputs": [
    {
     "data": {
      "text/plain": [
       "0          Bracket no A-081-G MDR Locking Strip\n",
       "1                                 Locking Plate\n",
       "2        Charges for embossing tool trial Proto\n",
       "3                               DR Solution @12\n",
       "4               During The DR Drill Acrivity @2\n",
       "                          ...                  \n",
       "50456                      ZIPPY 25 TOP COVER-1\n",
       "50457                  ZIPPY 25 FRONT COVER - 1\n",
       "50458                ZIPPY 25 - SIDE COVER - 01\n",
       "50459                Tube 200x200x14mm (350YST)\n",
       "50460                  Tube 140x80x9mm (350YST)\n",
       "Name: ITEM_NAME, Length: 50461, dtype: object"
      ]
     },
     "execution_count": 55,
     "metadata": {},
     "output_type": "execute_result"
    }
   ],
   "execution_count": 55
  },
  {
   "metadata": {
    "ExecuteTime": {
     "end_time": "2024-10-17T09:41:59.786625Z",
     "start_time": "2024-10-17T09:41:59.716343Z"
    }
   },
   "cell_type": "code",
   "source": "validate_non_ascii(df[['ITEM_NAME']])",
   "id": "a280aec1d3d858a1",
   "outputs": [
    {
     "data": {
      "text/plain": [
       "                                               ITEM_NAME\n",
       "33          11879651Belt 6100 CC  _Disa (shot blasting )\n",
       "34     5-1002-003Bucket DIN15232-C200x140X2,0GK     _...\n",
       "35     4-2401-052Connection Elevator Belt    _Disa (s...\n",
       "36     10363906Screw M10x35-8.8 DIN15237    _Disa (sh...\n",
       "37     10128231Nut M10-6 ZN DIN1587    _Disa (shot bl...\n",
       "...                                                  ...\n",
       "50289                  Dynamo 500 – Side cover –Mould-Al\n",
       "50290                     Dynamo 500 – Side cover – Plug\n",
       "50299                           AMR 100 – Diffuser Mould\n",
       "50419        ZIPPY 25 - TOP COVER – SEPERATOR - Mould-Al\n",
       "50420              ZIPPY 25 - SIDE COVER – 02 - Mould-Al\n",
       "\n",
       "[2046 rows x 1 columns]"
      ],
      "text/html": [
       "<div>\n",
       "<style scoped>\n",
       "    .dataframe tbody tr th:only-of-type {\n",
       "        vertical-align: middle;\n",
       "    }\n",
       "\n",
       "    .dataframe tbody tr th {\n",
       "        vertical-align: top;\n",
       "    }\n",
       "\n",
       "    .dataframe thead th {\n",
       "        text-align: right;\n",
       "    }\n",
       "</style>\n",
       "<table border=\"1\" class=\"dataframe\">\n",
       "  <thead>\n",
       "    <tr style=\"text-align: right;\">\n",
       "      <th></th>\n",
       "      <th>ITEM_NAME</th>\n",
       "    </tr>\n",
       "  </thead>\n",
       "  <tbody>\n",
       "    <tr>\n",
       "      <th>33</th>\n",
       "      <td>11879651Belt 6100 CC  _Disa (shot blasting )</td>\n",
       "    </tr>\n",
       "    <tr>\n",
       "      <th>34</th>\n",
       "      <td>5-1002-003Bucket DIN15232-C200x140X2,0GK     _...</td>\n",
       "    </tr>\n",
       "    <tr>\n",
       "      <th>35</th>\n",
       "      <td>4-2401-052Connection Elevator Belt    _Disa (s...</td>\n",
       "    </tr>\n",
       "    <tr>\n",
       "      <th>36</th>\n",
       "      <td>10363906Screw M10x35-8.8 DIN15237    _Disa (sh...</td>\n",
       "    </tr>\n",
       "    <tr>\n",
       "      <th>37</th>\n",
       "      <td>10128231Nut M10-6 ZN DIN1587    _Disa (shot bl...</td>\n",
       "    </tr>\n",
       "    <tr>\n",
       "      <th>...</th>\n",
       "      <td>...</td>\n",
       "    </tr>\n",
       "    <tr>\n",
       "      <th>50289</th>\n",
       "      <td>Dynamo 500 – Side cover –Mould-Al</td>\n",
       "    </tr>\n",
       "    <tr>\n",
       "      <th>50290</th>\n",
       "      <td>Dynamo 500 – Side cover – Plug</td>\n",
       "    </tr>\n",
       "    <tr>\n",
       "      <th>50299</th>\n",
       "      <td>AMR 100 – Diffuser Mould</td>\n",
       "    </tr>\n",
       "    <tr>\n",
       "      <th>50419</th>\n",
       "      <td>ZIPPY 25 - TOP COVER – SEPERATOR - Mould-Al</td>\n",
       "    </tr>\n",
       "    <tr>\n",
       "      <th>50420</th>\n",
       "      <td>ZIPPY 25 - SIDE COVER – 02 - Mould-Al</td>\n",
       "    </tr>\n",
       "  </tbody>\n",
       "</table>\n",
       "<p>2046 rows × 1 columns</p>\n",
       "</div>"
      ]
     },
     "execution_count": 56,
     "metadata": {},
     "output_type": "execute_result"
    }
   ],
   "execution_count": 56
  },
  {
   "metadata": {},
   "cell_type": "code",
   "outputs": [],
   "execution_count": null,
   "source": "",
   "id": "661b5b4c0135c3c4"
  },
  {
   "metadata": {
    "ExecuteTime": {
     "end_time": "2024-10-17T09:42:01.873694Z",
     "start_time": "2024-10-17T09:41:59.927792Z"
    }
   },
   "cell_type": "code",
   "source": "df_cleaned = df.apply(lambda col: col.apply(clean_text))",
   "id": "bcffdf10dce98d18",
   "outputs": [],
   "execution_count": 57
  },
  {
   "metadata": {
    "ExecuteTime": {
     "end_time": "2024-10-17T09:42:01.911540Z",
     "start_time": "2024-10-17T09:42:01.906342Z"
    }
   },
   "cell_type": "code",
   "source": "df_cleaned['ITEM_NAME']",
   "id": "410216702892a576",
   "outputs": [
    {
     "data": {
      "text/plain": [
       "0          Bracket no A-081-G MDR Locking Strip\n",
       "1                                 Locking Plate\n",
       "2        Charges for embossing tool trial Proto\n",
       "3                               DR Solution @12\n",
       "4               During The DR Drill Acrivity @2\n",
       "                          ...                  \n",
       "50456                      ZIPPY 25 TOP COVER-1\n",
       "50457                  ZIPPY 25 FRONT COVER - 1\n",
       "50458                ZIPPY 25 - SIDE COVER - 01\n",
       "50459                Tube 200x200x14mm (350YST)\n",
       "50460                  Tube 140x80x9mm (350YST)\n",
       "Name: ITEM_NAME, Length: 50461, dtype: object"
      ]
     },
     "execution_count": 58,
     "metadata": {},
     "output_type": "execute_result"
    }
   ],
   "execution_count": 58
  },
  {
   "metadata": {
    "ExecuteTime": {
     "end_time": "2024-10-17T09:42:02.090955Z",
     "start_time": "2024-10-17T09:42:02.018194Z"
    }
   },
   "cell_type": "code",
   "source": "validate_non_ascii(df_cleaned[['ITEM_NAME']])",
   "id": "bf568fb0bb55bf90",
   "outputs": [
    {
     "data": {
      "text/plain": [
       "Empty DataFrame\n",
       "Columns: [ITEM_NAME]\n",
       "Index: []"
      ],
      "text/html": [
       "<div>\n",
       "<style scoped>\n",
       "    .dataframe tbody tr th:only-of-type {\n",
       "        vertical-align: middle;\n",
       "    }\n",
       "\n",
       "    .dataframe tbody tr th {\n",
       "        vertical-align: top;\n",
       "    }\n",
       "\n",
       "    .dataframe thead th {\n",
       "        text-align: right;\n",
       "    }\n",
       "</style>\n",
       "<table border=\"1\" class=\"dataframe\">\n",
       "  <thead>\n",
       "    <tr style=\"text-align: right;\">\n",
       "      <th></th>\n",
       "      <th>ITEM_NAME</th>\n",
       "    </tr>\n",
       "  </thead>\n",
       "  <tbody>\n",
       "  </tbody>\n",
       "</table>\n",
       "</div>"
      ]
     },
     "execution_count": 59,
     "metadata": {},
     "output_type": "execute_result"
    }
   ],
   "execution_count": 59
  },
  {
   "metadata": {},
   "cell_type": "code",
   "outputs": [],
   "execution_count": null,
   "source": "",
   "id": "f6e28942f0775065"
  },
  {
   "metadata": {},
   "cell_type": "code",
   "outputs": [],
   "execution_count": null,
   "source": "",
   "id": "564d02e1dac0858"
  },
  {
   "metadata": {
    "ExecuteTime": {
     "end_time": "2024-10-17T09:42:04.313994Z",
     "start_time": "2024-10-17T09:42:04.246877Z"
    }
   },
   "cell_type": "code",
   "source": [
    "electrical_parts = pd.read_csv(\n",
    "    os.path.join(os.getenv('ELECTRICAL_PARTS_FOLDER_PATH'), 'Electrical Parts Report Modified.csv'),\n",
    ")\n",
    "electrical_parts.columns = electrical_parts.columns.str.replace(' ', '_').str.upper()"
   ],
   "id": "1a95dae80d871d3",
   "outputs": [],
   "execution_count": 60
  },
  {
   "metadata": {
    "ExecuteTime": {
     "end_time": "2024-10-17T09:42:05.610218Z",
     "start_time": "2024-10-17T09:42:05.604678Z"
    }
   },
   "cell_type": "code",
   "source": "electrical_parts['PART_NAME']",
   "id": "9e713f0e253d7643",
   "outputs": [
    {
     "data": {
      "text/plain": [
       "0              CABLE GLAND- DOUBLE COMPRESSION CABLE, M90\n",
       "1                        E-STOP- LED, SELF MONTORING, 2CH\n",
       "2                              INTERFACE MODULE-PLC,RS485\n",
       "3       BRAKE CONNECTOR-FOR HF-SE/SN/SP/JP,HG-SN/SR,HK...\n",
       "4                                             CONTACT-1NO\n",
       "                              ...                        \n",
       "9354                            ÖLFLEX® CLASSIC 100 5G1,5\n",
       "9355                          ÖLFLEX® CLASSIC 100 H 5G2,5\n",
       "9356                ÖLFLEX® FD ROBUST 756 C 4 G 2,5+(2x1)\n",
       "9357                  ÖLFLEX® SERVO 700 4G1,5+(2x0,75)FDF\n",
       "9358                  ÖLFLEX® SERVO 700 4G2,5+(2x0,75)FDF\n",
       "Name: PART_NAME, Length: 9359, dtype: object"
      ]
     },
     "execution_count": 61,
     "metadata": {},
     "output_type": "execute_result"
    }
   ],
   "execution_count": 61
  },
  {
   "metadata": {
    "ExecuteTime": {
     "end_time": "2024-10-17T09:42:08.041032Z",
     "start_time": "2024-10-17T09:42:08.018902Z"
    }
   },
   "cell_type": "code",
   "source": "validate_non_ascii(electrical_parts[['PART_NAME']])",
   "id": "8323ee90f37fdce",
   "outputs": [
    {
     "data": {
      "text/plain": [
       "                                           PART_NAME\n",
       "622                                        250 µs/ch\n",
       "650      45° control valve with flange, heavy series\n",
       "651      45° control valve with flange, light series\n",
       "652   45° control valve with union nut, heavy series\n",
       "653   45° control valve with union nut, light series\n",
       "...                                              ...\n",
       "9354                       ÖLFLEX® CLASSIC 100 5G1,5\n",
       "9355                     ÖLFLEX® CLASSIC 100 H 5G2,5\n",
       "9356           ÖLFLEX® FD ROBUST 756 C 4 G 2,5+(2x1)\n",
       "9357             ÖLFLEX® SERVO 700 4G1,5+(2x0,75)FDF\n",
       "9358             ÖLFLEX® SERVO 700 4G2,5+(2x0,75)FDF\n",
       "\n",
       "[151 rows x 1 columns]"
      ],
      "text/html": [
       "<div>\n",
       "<style scoped>\n",
       "    .dataframe tbody tr th:only-of-type {\n",
       "        vertical-align: middle;\n",
       "    }\n",
       "\n",
       "    .dataframe tbody tr th {\n",
       "        vertical-align: top;\n",
       "    }\n",
       "\n",
       "    .dataframe thead th {\n",
       "        text-align: right;\n",
       "    }\n",
       "</style>\n",
       "<table border=\"1\" class=\"dataframe\">\n",
       "  <thead>\n",
       "    <tr style=\"text-align: right;\">\n",
       "      <th></th>\n",
       "      <th>PART_NAME</th>\n",
       "    </tr>\n",
       "  </thead>\n",
       "  <tbody>\n",
       "    <tr>\n",
       "      <th>622</th>\n",
       "      <td>250 µs/ch</td>\n",
       "    </tr>\n",
       "    <tr>\n",
       "      <th>650</th>\n",
       "      <td>45° control valve with flange, heavy series</td>\n",
       "    </tr>\n",
       "    <tr>\n",
       "      <th>651</th>\n",
       "      <td>45° control valve with flange, light series</td>\n",
       "    </tr>\n",
       "    <tr>\n",
       "      <th>652</th>\n",
       "      <td>45° control valve with union nut, heavy series</td>\n",
       "    </tr>\n",
       "    <tr>\n",
       "      <th>653</th>\n",
       "      <td>45° control valve with union nut, light series</td>\n",
       "    </tr>\n",
       "    <tr>\n",
       "      <th>...</th>\n",
       "      <td>...</td>\n",
       "    </tr>\n",
       "    <tr>\n",
       "      <th>9354</th>\n",
       "      <td>ÖLFLEX® CLASSIC 100 5G1,5</td>\n",
       "    </tr>\n",
       "    <tr>\n",
       "      <th>9355</th>\n",
       "      <td>ÖLFLEX® CLASSIC 100 H 5G2,5</td>\n",
       "    </tr>\n",
       "    <tr>\n",
       "      <th>9356</th>\n",
       "      <td>ÖLFLEX® FD ROBUST 756 C 4 G 2,5+(2x1)</td>\n",
       "    </tr>\n",
       "    <tr>\n",
       "      <th>9357</th>\n",
       "      <td>ÖLFLEX® SERVO 700 4G1,5+(2x0,75)FDF</td>\n",
       "    </tr>\n",
       "    <tr>\n",
       "      <th>9358</th>\n",
       "      <td>ÖLFLEX® SERVO 700 4G2,5+(2x0,75)FDF</td>\n",
       "    </tr>\n",
       "  </tbody>\n",
       "</table>\n",
       "<p>151 rows × 1 columns</p>\n",
       "</div>"
      ]
     },
     "execution_count": 62,
     "metadata": {},
     "output_type": "execute_result"
    }
   ],
   "execution_count": 62
  },
  {
   "metadata": {},
   "cell_type": "code",
   "outputs": [],
   "execution_count": null,
   "source": "",
   "id": "a4e19a8e12e0417a"
  },
  {
   "metadata": {
    "ExecuteTime": {
     "end_time": "2024-10-17T09:42:11.553896Z",
     "start_time": "2024-10-17T09:42:11.407681Z"
    }
   },
   "cell_type": "code",
   "source": "electrical_parts_cleaned = electrical_parts.apply(lambda col: col.apply(clean_text))",
   "id": "5428620d166799cd",
   "outputs": [],
   "execution_count": 63
  },
  {
   "metadata": {
    "ExecuteTime": {
     "end_time": "2024-10-17T09:42:12.797618Z",
     "start_time": "2024-10-17T09:42:12.792486Z"
    }
   },
   "cell_type": "code",
   "source": "electrical_parts_cleaned['PART_NAME']",
   "id": "7b5a5e257da6ae96",
   "outputs": [
    {
     "data": {
      "text/plain": [
       "0              CABLE GLAND- DOUBLE COMPRESSION CABLE, M90\n",
       "1                        E-STOP- LED, SELF MONTORING, 2CH\n",
       "2                              INTERFACE MODULE-PLC,RS485\n",
       "3       BRAKE CONNECTOR-FOR HF-SE/SN/SP/JP,HG-SN/SR,HK...\n",
       "4                                             CONTACT-1NO\n",
       "                              ...                        \n",
       "9354                              LFLEX CLASSIC 100 5G1,5\n",
       "9355                            LFLEX CLASSIC 100 H 5G2,5\n",
       "9356                  LFLEX FD ROBUST 756 C 4 G 2,5+(2x1)\n",
       "9357                    LFLEX SERVO 700 4G1,5+(2x0,75)FDF\n",
       "9358                    LFLEX SERVO 700 4G2,5+(2x0,75)FDF\n",
       "Name: PART_NAME, Length: 9359, dtype: object"
      ]
     },
     "execution_count": 64,
     "metadata": {},
     "output_type": "execute_result"
    }
   ],
   "execution_count": 64
  },
  {
   "metadata": {
    "ExecuteTime": {
     "end_time": "2024-10-17T09:42:19.839502Z",
     "start_time": "2024-10-17T09:42:19.818159Z"
    }
   },
   "cell_type": "code",
   "source": "validate_non_ascii(electrical_parts_cleaned[['PART_NAME']])",
   "id": "2a9e1885fd2dcd2b",
   "outputs": [
    {
     "data": {
      "text/plain": [
       "Empty DataFrame\n",
       "Columns: [PART_NAME]\n",
       "Index: []"
      ],
      "text/html": [
       "<div>\n",
       "<style scoped>\n",
       "    .dataframe tbody tr th:only-of-type {\n",
       "        vertical-align: middle;\n",
       "    }\n",
       "\n",
       "    .dataframe tbody tr th {\n",
       "        vertical-align: top;\n",
       "    }\n",
       "\n",
       "    .dataframe thead th {\n",
       "        text-align: right;\n",
       "    }\n",
       "</style>\n",
       "<table border=\"1\" class=\"dataframe\">\n",
       "  <thead>\n",
       "    <tr style=\"text-align: right;\">\n",
       "      <th></th>\n",
       "      <th>PART_NAME</th>\n",
       "    </tr>\n",
       "  </thead>\n",
       "  <tbody>\n",
       "  </tbody>\n",
       "</table>\n",
       "</div>"
      ]
     },
     "execution_count": 65,
     "metadata": {},
     "output_type": "execute_result"
    }
   ],
   "execution_count": 65
  },
  {
   "metadata": {},
   "cell_type": "code",
   "outputs": [],
   "execution_count": null,
   "source": "",
   "id": "378c7ad8510caaa5"
  },
  {
   "metadata": {
    "ExecuteTime": {
     "end_time": "2024-10-17T09:43:07.502856Z",
     "start_time": "2024-10-17T09:43:07.242007Z"
    }
   },
   "cell_type": "code",
   "source": "merged_data = pd.merge(df_cleaned, electrical_parts_cleaned, how=\"inner\", left_on=\"ITEM_NAME\", right_on=\"PART_NAME\")",
   "id": "22ff0c258c2662bf",
   "outputs": [],
   "execution_count": 66
  },
  {
   "metadata": {
    "ExecuteTime": {
     "end_time": "2024-10-17T09:43:11.697810Z",
     "start_time": "2024-10-17T09:43:11.693298Z"
    }
   },
   "cell_type": "code",
   "source": "merged_data.shape",
   "id": "36a3cd2dcb854b30",
   "outputs": [
    {
     "data": {
      "text/plain": [
       "(166112, 80)"
      ]
     },
     "execution_count": 67,
     "metadata": {},
     "output_type": "execute_result"
    }
   ],
   "execution_count": 67
  },
  {
   "metadata": {
    "ExecuteTime": {
     "end_time": "2024-10-17T09:43:33.131823Z",
     "start_time": "2024-10-17T09:43:33.094607Z"
    }
   },
   "cell_type": "code",
   "source": [
    "filtered_data = merged_data.drop_duplicates(subset=['PO_NUM', 'PART_NAME'], keep='first')\n",
    "filtered_data.shape"
   ],
   "id": "8374b52c7476d1a8",
   "outputs": [
    {
     "data": {
      "text/plain": [
       "(5399, 80)"
      ]
     },
     "execution_count": 69,
     "metadata": {},
     "output_type": "execute_result"
    }
   ],
   "execution_count": 69
  },
  {
   "metadata": {},
   "cell_type": "code",
   "outputs": [],
   "execution_count": null,
   "source": "",
   "id": "44f78abacca99393"
  }
 ],
 "metadata": {
  "kernelspec": {
   "display_name": "Python 3",
   "language": "python",
   "name": "python3"
  },
  "language_info": {
   "codemirror_mode": {
    "name": "ipython",
    "version": 2
   },
   "file_extension": ".py",
   "mimetype": "text/x-python",
   "name": "python",
   "nbconvert_exporter": "python",
   "pygments_lexer": "ipython2",
   "version": "2.7.6"
  }
 },
 "nbformat": 4,
 "nbformat_minor": 5
}
