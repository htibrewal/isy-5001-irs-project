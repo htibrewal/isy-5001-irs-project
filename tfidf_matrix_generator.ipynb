{
 "cells": [
  {
   "cell_type": "code",
   "execution_count": 3,
   "metadata": {},
   "outputs": [],
   "source": [
    "import pandas as pd\n",
    "import numpy as np\n",
    "from sklearn.feature_extraction.text import TfidfVectorizer\n",
    "import nltk\n",
    "from nltk.tokenize import word_tokenize\n",
    "from nltk.corpus import stopwords\n",
    "\n",
    "\n",
    "DATASET_PATH = \"./models/itemset_metrics.csv\"\n",
    "\n",
    "def load_data():\n",
    "    data = pd.read_csv(DATASET_PATH)\n",
    "    return data\n",
    "\n",
    "def preprocess(text):\n",
    "    tokens = word_tokenize(text.lower())\n",
    "    tokens = [t for t in tokens if t.isalnum() and t not in stopwords.words('english')]\n",
    "    return ' '.join(tokens)\n",
    "\n",
    "data = load_data()\n",
    "data['Processed_Description'] = data['PART_DESCRIPTION'].apply(preprocess)\n",
    "vectorizer = TfidfVectorizer()\n",
    "tfidf_matrix = vectorizer.fit_transform(data['Processed_Description'])"
   ]
  },
  {
   "cell_type": "code",
   "execution_count": 5,
   "metadata": {},
   "outputs": [
    {
     "data": {
      "text/plain": [
       "['./models/vectorizer.joblib']"
      ]
     },
     "execution_count": 5,
     "metadata": {},
     "output_type": "execute_result"
    }
   ],
   "source": [
    "import scipy.sparse\n",
    "import joblib\n",
    "\n",
    "# Save the tfidf_matrix as a sparse matrix\n",
    "scipy.sparse.save_npz('./models/tfidf_matrix.npz', tfidf_matrix)\n",
    "\n",
    "# Save the vectorizer\n",
    "joblib.dump(vectorizer, './models/vectorizer.joblib')"
   ]
  },
  {
   "cell_type": "code",
   "execution_count": null,
   "metadata": {},
   "outputs": [],
   "source": []
  }
 ],
 "metadata": {
  "kernelspec": {
   "display_name": "Python 3",
   "language": "python",
   "name": "python3"
  },
  "language_info": {
   "codemirror_mode": {
    "name": "ipython",
    "version": 3
   },
   "file_extension": ".py",
   "mimetype": "text/x-python",
   "name": "python",
   "nbconvert_exporter": "python",
   "pygments_lexer": "ipython3",
   "version": "3.10.6"
  }
 },
 "nbformat": 4,
 "nbformat_minor": 2
}
