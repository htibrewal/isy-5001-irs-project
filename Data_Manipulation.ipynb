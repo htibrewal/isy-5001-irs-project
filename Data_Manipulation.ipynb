{
  "cells": [
    {
      "cell_type": "code",
      "execution_count": 6,
      "metadata": {
        "colab": {
          "base_uri": "https://localhost:8080/"
        },
        "id": "CJOBfA29HU-P",
        "outputId": "50dfa74c-104e-4735-ad45-f9e4ed8e54d0"
      },
      "outputs": [
        {
          "output_type": "stream",
          "name": "stdout",
          "text": [
            "Drive already mounted at /content/drive; to attempt to forcibly remount, call drive.mount(\"/content/drive\", force_remount=True).\n",
            "Electrical Data :\n",
            "\n",
            "       # DOCTYPE CANCELED DOCCUR  DOCRATE DocStatus  PO NUM Base Type  \\\n",
            "0   3874       I        N    INR      1.0         C   60186        -1   \n",
            "1   3875       I        N    INR      1.0         C   60186        -1   \n",
            "2   3954       I        N    INR      1.0         C   60213        -1   \n",
            "3   8557       I        N    INR      1.0         C   72163        -1   \n",
            "4  13535       I        N    INR      1.0         C   73639        PR   \n",
            "\n",
            "   Base Number  Base Line  ... Manually Closed PO PO OWNER Name   PymntGroup  \\\n",
            "0          NaN        NaN  ...                 No           NaN       Net-30   \n",
            "1          NaN        NaN  ...                 No           NaN       Net-30   \n",
            "2          NaN        NaN  ...                 No           NaN       Net-30   \n",
            "3          NaN        NaN  ...                 No           NaN       Net-30   \n",
            "4     101378.0       20.0  ...                 No   Pooja Yadav  Net 30 days   \n",
            "\n",
            "                                              Header  footer  Branch Name  \\\n",
            "0  Contact Details: MR. AASHISH Kumar A TO Z ELEC...     NaN        NOIDA   \n",
            "1  Contact Details: MR. AASHISH Kumar A TO Z ELEC...     NaN        NOIDA   \n",
            "2  Contact Details: MR. AASHISH Kumar A TO Z ELEC...     NaN        NOIDA   \n",
            "3                                                NaN     NaN        NOIDA   \n",
            "4                                                NaN     NaN        NOIDA   \n",
            "\n",
            "  Imp Or Exp  Cost Saving Cost Saving Criteria Force closed PO qty  \n",
            "0          N          NaN                  NaN                 0.0  \n",
            "1          N          NaN                  NaN                 0.0  \n",
            "2          N          NaN                  NaN                 0.0  \n",
            "3          N          NaN                  NaN                 0.0  \n",
            "4          N          NaN                  NaN                 0.0  \n",
            "\n",
            "[5 rows x 61 columns]\n",
            "\n",
            "Misc Data :\n",
            "\n",
            "       # DOCTYPE CANCELED DOCCUR  DOCRATE DocStatus     PO NUM Base Type  \\\n",
            "0  26968       I        N    INR      1.0         C  232431279        PR   \n",
            "1  42455       I        N    INR      1.0         C  232471206        PR   \n",
            "2  45582       S        N    INR      1.0         C  232472169        PR   \n",
            "3   9868       S        N    INR      1.0         C      72616        PR   \n",
            "4   9869       S        N    INR      1.0         C      72616        PR   \n",
            "\n",
            "   Base Number  Base Line  ... Manually Closed PO     PO OWNER Name  \\\n",
            "0  232401368.0        1.0  ...                 No    Yoginder Kumar   \n",
            "1  232451256.0        1.0  ...                 No   Ashutosh Tiwari   \n",
            "2  232452086.0        1.0  ...                 No  Abhishek Chauhan   \n",
            "3     100150.0        1.0  ...                Yes     Aman Chambial   \n",
            "4     100150.0        2.0  ...                Yes     Aman Chambial   \n",
            "\n",
            "      PymntGroup                                             Header footer  \\\n",
            "0    Net 30 days                                                NaN    NaN   \n",
            "1    Net 30 days                                                NaN    NaN   \n",
            "2  Refer PO Text  Payment Terms : 100% after service completion ...    NaN   \n",
            "3         Net-30  OTC charges shall be paid after installation o...    NaN   \n",
            "4         Net-30  OTC charges shall be paid after installation o...    NaN   \n",
            "\n",
            "  Branch Name Imp Or Exp  Cost Saving Cost Saving Criteria Force closed PO qty  \n",
            "0       NOIDA          N          NaN                  NaN                 0.0  \n",
            "1   Ecotech X          N          NaN                  NaN                 0.0  \n",
            "2   Ecotech X          N          NaN                  NaN                 0.0  \n",
            "3       NOIDA          N          NaN                  NaN                 0.0  \n",
            "4       NOIDA          N          NaN                  NaN                 0.0  \n",
            "\n",
            "[5 rows x 60 columns]\n"
          ]
        }
      ],
      "source": [
        "import pandas as pd\n",
        "\n",
        "from google.colab import drive\n",
        "\n",
        "drive.mount('/content/drive')\n",
        "\n",
        "Data_Elec = pd.read_excel('/content/drive/My Drive/NUS-ISS AIS Projects/Project 1/Data/Electrical_Parts_V2.xlsx',  engine='openpyxl')\n",
        "Data_Misc = pd.read_excel('/content/drive/My Drive/NUS-ISS AIS Projects/Project 1/Data/Misc_Parts.xlsx',  engine='openpyxl')\n",
        "\n",
        "print(\"Electrical Data :\\n\")\n",
        "print(Data_Elec.head())\n",
        "\n",
        "print(\"\\nMisc Data :\\n\")\n",
        "print(Data_Misc.head())\n"
      ]
    },
    {
      "cell_type": "code",
      "source": [
        "print(Data_Elec['Part ID'])"
      ],
      "metadata": {
        "colab": {
          "base_uri": "https://localhost:8080/"
        },
        "id": "lhL518DEaoI5",
        "outputId": "7f8d7f47-96ad-4956-a9fb-e7357a26a224"
      },
      "execution_count": 3,
      "outputs": [
        {
          "output_type": "stream",
          "name": "stdout",
          "text": [
            "0        18165\n",
            "1        18165\n",
            "2        18166\n",
            "3        18167\n",
            "4        24587\n",
            "         ...  \n",
            "11108    36220\n",
            "11109    18212\n",
            "11110    18212\n",
            "11111    18080\n",
            "11112    18080\n",
            "Name: Part ID, Length: 11113, dtype: int64\n"
          ]
        }
      ]
    },
    {
      "cell_type": "code",
      "source": [
        "print(Data_Misc['Misc_ID'])"
      ],
      "metadata": {
        "colab": {
          "base_uri": "https://localhost:8080/"
        },
        "id": "ug03X4__hqf9",
        "outputId": "91ce0a26-5480-4bed-a0ba-13e25de266a3"
      },
      "execution_count": 9,
      "outputs": [
        {
          "output_type": "stream",
          "name": "stdout",
          "text": [
            "0          MC11560\n",
            "1          4556800\n",
            "2                0\n",
            "3                0\n",
            "4                0\n",
            "           ...    \n",
            "39343    00047513A\n",
            "39344    00047494A\n",
            "39345    00047510A\n",
            "39346      3079000\n",
            "39347      3079100\n",
            "Name: Misc_ID, Length: 39348, dtype: object\n"
          ]
        }
      ]
    },
    {
      "cell_type": "code",
      "source": [
        "#Drop the duplicate values from Electrical Data\n",
        "Data_Elec_Unique = Data_Elec.drop_duplicates(subset=['Part ID'])\n",
        "\n",
        "#Drop the duplicate values from Misc Data\n",
        "Data_Misc_Unique = Data_Misc.drop_duplicates(subset=['Misc_ID'])\n",
        "\n",
        "#Storing in a CSV File\n",
        "Data_Elec_Unique.to_csv('Electrical_Parts_Unique.csv', index=False)\n",
        "Data_Misc_Unique.to_csv('Misc_Parts_Unique.csv', index=False)\n",
        "\n",
        "print('Unique Electrcial Parts: \\n', Data_Elec_Unique['Part ID'])\n",
        "print('\\nUnique Miscellaneous Parts: \\n', Data_Misc_Unique['Misc_ID'])"
      ],
      "metadata": {
        "colab": {
          "base_uri": "https://localhost:8080/"
        },
        "id": "VBGFR2j-j-dz",
        "outputId": "d5bf5a61-cda1-47e9-9fb0-aee7238c8509"
      },
      "execution_count": 11,
      "outputs": [
        {
          "output_type": "stream",
          "name": "stdout",
          "text": [
            "Unique Electrcial Parts: \n",
            " 0        18165\n",
            "2        18166\n",
            "3        18167\n",
            "4        24587\n",
            "7        25933\n",
            "         ...  \n",
            "11098    29706\n",
            "11100    35470\n",
            "11104    18080\n",
            "11105    18212\n",
            "11106    36220\n",
            "Name: Part ID, Length: 3343, dtype: int64\n",
            "\n",
            "Unique Miscellaneous Parts: \n",
            " 0        MC11560\n",
            "1        4556800\n",
            "2              0\n",
            "11       ST00545\n",
            "12       ST00546\n",
            "          ...   \n",
            "39334    3483002\n",
            "39335    3477601\n",
            "39336    4248101\n",
            "39337    3734701\n",
            "39346    3079000\n",
            "Name: Misc_ID, Length: 17228, dtype: object\n"
          ]
        }
      ]
    },
    {
      "cell_type": "markdown",
      "source": [
        "# Replacing the values"
      ],
      "metadata": {
        "id": "1MzAvF5Zj8a1"
      }
    },
    {
      "cell_type": "markdown",
      "source": [
        "Values to be replaced in the column:\n",
        "\n",
        "ID,\n",
        "Name,\n",
        "Supplier,\n",
        "Supplier ID,\n",
        "Item Description,\n",
        "Item Details,\n",
        "Manufacturer Part Number,\n",
        "HSN code"
      ],
      "metadata": {
        "id": "XSrfCy38q9Sk"
      }
    },
    {
      "cell_type": "code",
      "source": [
        "# Define a function to find a random replacement part based on similar price and quantity\n",
        "def find_replacement(mechanical_row, electrical_df, tolerance_price=0.3, tolerance_quantity=0.3):\n",
        "    price_range = (mechanical_row['PRICE'] * (1 - tolerance_price), mechanical_row['PRICE'] * (1 + tolerance_price))\n",
        "    quantity_range = (mechanical_row['ORDERED QUANTITY'] * (1 - tolerance_quantity), mechanical_row['ORDERED QUANTITY'] * (1 + tolerance_quantity))\n",
        "\n",
        "    # Filter electrical parts that fall within the price and quantity range\n",
        "    matching_parts = electrical_df[\n",
        "        (electrical_df['PRICE'] >= price_range[0]) & (electrical_df['PRICE'] <= price_range[1]) &\n",
        "        (electrical_df['ORDERED QUANTITY'] >= quantity_range[0]) & (electrical_df['ORDERED QUANTITY'] <= quantity_range[1])\n",
        "    ]\n",
        "\n",
        "    # If there are matching parts, return a random one\n",
        "    if not matching_parts.empty:\n",
        "        return matching_parts.sample(1).iloc[0]\n",
        "    return None\n",
        "\n",
        "print(Data_Misc['Misc_ID'])\n",
        "\n",
        "# Iterate over mechanical parts and replace them with electrical parts\n",
        "Modified_Data_Misc = Data_Misc.copy()\n",
        "\n",
        "for index, row in Data_Misc.iterrows():\n",
        "    replacement = find_replacement(row, Data_Elec)\n",
        "    if replacement is not None:\n",
        "        Modified_Data_Misc.loc[index, 'Misc_ID'] = replacement['Part ID']\n",
        "        Modified_Data_Misc.loc[index, 'ITEM NAME'] = replacement['Part Name']\n",
        "        Modified_Data_Misc.loc[index, 'SUPPLIER NAME'] = replacement['SUPPLIER NAME']\n",
        "        Modified_Data_Misc.loc[index, 'SUPPLIER CODE'] = replacement['SUPPLIER CODE']\n",
        "        Modified_Data_Misc.loc[index, 'FG Item Description'] = replacement['FG Item Description']\n",
        "        Modified_Data_Misc.loc[index, 'Item Details'] = replacement['Item Details']\n",
        "        Modified_Data_Misc.loc[index, 'UOM'] = replacement['UOM']\n",
        "        Modified_Data_Misc.loc[index, 'Manufacturer Part No'] = replacement['Manufacturer Part No']\n",
        "        Modified_Data_Misc.loc[index, 'HSN'] = replacement['HSN']\n",
        "\n",
        "# Save the updated dataframe with replaced parts\n",
        "Modified_Data_Misc.to_csv('Modified_Data_Misc.csv', index=False)\n"
      ],
      "metadata": {
        "colab": {
          "base_uri": "https://localhost:8080/"
        },
        "id": "ilXhadISj7kH",
        "outputId": "ac91510b-2bc4-4f88-f86f-e7903082708d"
      },
      "execution_count": 26,
      "outputs": [
        {
          "output_type": "stream",
          "name": "stdout",
          "text": [
            "0          MC11560\n",
            "1          4556800\n",
            "2                0\n",
            "3                0\n",
            "4                0\n",
            "           ...    \n",
            "39343    00047513A\n",
            "39344    00047494A\n",
            "39345    00047510A\n",
            "39346      3079000\n",
            "39347      3079100\n",
            "Name: Misc_ID, Length: 39348, dtype: object\n"
          ]
        }
      ]
    },
    {
      "cell_type": "code",
      "source": [
        "#Define a function to randomly replace null values with the ID having the closest price\n",
        "def fill_null_misc_id(df, price_column='PRICE'):\n",
        " Data_Misc_Copy = Data_Misc.copy()  # Create a copy to avoid modifying the original DataFrame\n",
        " null_indices = Data_Misc_Copy['Misc_ID'].isnull()\n",
        "\n",
        " for index in Data_Misc_Copy[null_indices].index:\n",
        "      # Find the row with the closest price\n",
        "      row_price = Data_Misc_Copy.loc[index, 'PRICE']\n",
        "      Data_Misc_Copy['price_diff'] = abs(Data_Misc_Copy['PRICE'] - row_price)\n",
        "      closest_rows = Data_Misc_Copy.loc[~Data_Misc_Copy['Misc_ID'].isnull()].sort_values('price_diff')\n",
        "\n",
        "      # If there are rows with non-null Misc_ID and close prices\n",
        "      if not closest_rows.empty:\n",
        "          # Select a random row from the closest rows\n",
        "          random_row_index = np.random.choice(closest_rows.index)\n",
        "          Data_Misc_Copy.loc[index, 'Misc_ID'] = Data_Misc_Copy.loc[random_row_index, 'Misc_ID']\n",
        "      # If no suitable replacement is found, it will remain null\n",
        "\n",
        " Data_Misc_Copy = Data_Misc_Copy.drop('price_diff', axis=1, errors='ignore')\n",
        " return Data_Misc_Copy\n",
        "\n",
        "Data_Misc_Fill = fill_null_misc_id(Data_Misc)\n",
        "\n",
        "  # Define a function to find a random replacement part based on similar price and quantity\n",
        "def find_replacement(mechanical_row, electrical_df, tolerance_price=0.3, tolerance_quantity=0.3):\n",
        "    price_range = (mechanical_row['PRICE'] * (1 - tolerance_price), mechanical_row['PRICE'] * (1 + tolerance_price))\n",
        "    quantity_range = (mechanical_row['ORDERED QUANTITY'] * (1 - tolerance_quantity), mechanical_row['ORDERED QUANTITY'] * (1 + tolerance_quantity))\n",
        "\n",
        "    # Filter electrical parts that fall within the price and quantity range\n",
        "    matching_parts = electrical_df[\n",
        "        (electrical_df['PRICE'] >= price_range[0]) & (electrical_df['PRICE'] <= price_range[1]) &\n",
        "        (electrical_df['ORDERED QUANTITY'] >= quantity_range[0]) & (electrical_df['ORDERED QUANTITY'] <= quantity_range[1])\n",
        "    ]\n",
        "\n",
        "    # If there are matching parts, return a random one\n",
        "    if not matching_parts.empty:\n",
        "        return matching_parts.sample(1).iloc[0]\n",
        "    return None\n",
        "\n",
        "print(Data_Misc_Fill['Misc_ID'])\n",
        "\n",
        "# Iterate over mechanical parts and replace them with electrical parts\n",
        "Modified_Data_Misc = Data_Misc_Fill.copy()\n",
        "\n",
        "for index, row in Data_Misc_Fill.iterrows():\n",
        "    replacement = find_replacement(row, Data_Elec)\n",
        "    if replacement is not None:\n",
        "        Modified_Data_Misc.loc[index, 'Misc_ID'] = replacement['Part ID']\n",
        "        Modified_Data_Misc.loc[index, 'ITEM NAME'] = replacement['Part Name']\n",
        "        Modified_Data_Misc.loc[index, 'SUPPLIER NAME'] = replacement['SUPPLIER NAME']\n",
        "        Modified_Data_Misc.loc[index, 'SUPPLIER CODE'] = replacement['SUPPLIER CODE']\n",
        "        Modified_Data_Misc.loc[index, 'FG Item Description'] = replacement['FG Item Description']\n",
        "        Modified_Data_Misc.loc[index, 'Item Details'] = replacement['Item Details']\n",
        "        Modified_Data_Misc.loc[index, 'UOM'] = replacement['UOM']\n",
        "        Modified_Data_Misc.loc[index, 'Manufacturer Part No'] = replacement['Manufacturer Part No']\n",
        "        Modified_Data_Misc.loc[index, 'HSN'] = replacement['HSN']\n",
        "\n",
        "# Save the updated dataframe with replaced parts\n",
        "Modified_Data_Misc.to_csv('Modified_Data_Misc_without_NULL.csv', index=False)\n",
        "\n",
        "\n"
      ],
      "metadata": {
        "colab": {
          "base_uri": "https://localhost:8080/"
        },
        "id": "Cj__MqU_EGAr",
        "outputId": "22b643af-8458-401a-f100-ac1b39a2f3e2"
      },
      "execution_count": 33,
      "outputs": [
        {
          "output_type": "stream",
          "name": "stdout",
          "text": [
            "0          MC11560\n",
            "1          4556800\n",
            "2                0\n",
            "3                0\n",
            "4                0\n",
            "           ...    \n",
            "39343    00047513A\n",
            "39344    00047494A\n",
            "39345    00047510A\n",
            "39346      3079000\n",
            "39347      3079100\n",
            "Name: Misc_ID, Length: 39348, dtype: object\n"
          ]
        }
      ]
    },
    {
      "cell_type": "code",
      "source": [
        "# Merge Data_Elec_Unique and Data_Misc_Unique based on 'Part ID' and 'Misc_ID'\n",
        "Merged_Data = pd.merge(Data_Misc_Unique, Data_Elec_Unique, left_on='Misc_ID', right_on='Part ID', how='left')\n",
        "\n",
        "# Update columns in Modified_Data_Misc\n",
        "Modified_Data_Misc = Data_Misc.copy()\n",
        "\n",
        "for index, row in Merged_Data.iterrows():\n",
        "  if pd.notna(row['Part ID']):  # Check if 'Part ID' is not NaN\n",
        "      Modified_Data_Misc.loc[Modified_Data_Misc['Misc_ID'] == row['Misc_ID'], 'SUPPLIER NAME'] = row['SUPPLIER NAME_y']\n",
        "      Modified_Data_Misc.loc[Modified_Data_Misc['Misc_ID'] == row['Misc_ID'], 'SUPPLIER CODE'] = row['SUPPLIER CODE_y']\n",
        "      Modified_Data_Misc.loc[Modified_Data_Misc['Misc_ID'] == row['Misc_ID'], 'FG Item Description'] = row['FG Item Description_y']\n",
        "      Modified_Data_Misc.loc[Modified_Data_Misc['Misc_ID'] == row['Misc_ID'], 'Item Details'] = row['Item Details_y']\n",
        "      Modified_Data_Misc.loc[Modified_Data_Misc['Misc_ID'] == row['Misc_ID'], 'UOM'] = row['UOM_y']\n",
        "      Modified_Data_Misc.loc[Modified_Data_Misc['Misc_ID'] == row['Misc_ID'], 'Manufacturer Part No'] = row['Manufacturer Part No_y']\n",
        "      Modified_Data_Misc.loc[Modified_Data_Misc['Misc_ID'] == row['Misc_ID'], 'HSN'] = row['HSN_y']\n",
        "\n",
        "# Save the updated dataframe\n",
        "Modified_Data_Misc.to_csv('Modified_Data_Misc_Merged.csv', index=False)"
      ],
      "metadata": {
        "id": "mPKn65ejIxY6"
      },
      "execution_count": 34,
      "outputs": []
    },
    {
      "cell_type": "code",
      "source": [
        "#Print Number of Matching ID from two data sets\n",
        "\n"
      ],
      "metadata": {
        "id": "XGVI069rnAzO"
      },
      "execution_count": null,
      "outputs": []
    }
  ],
  "metadata": {
    "colab": {
      "provenance": []
    },
    "kernelspec": {
      "display_name": "Python 3",
      "name": "python3"
    },
    "language_info": {
      "name": "python"
    }
  },
  "nbformat": 4,
  "nbformat_minor": 0
}