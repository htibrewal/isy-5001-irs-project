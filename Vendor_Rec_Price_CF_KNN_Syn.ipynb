{
  "nbformat": 4,
  "nbformat_minor": 0,
  "metadata": {
    "colab": {
      "provenance": []
    },
    "kernelspec": {
      "name": "python3",
      "display_name": "Python 3"
    },
    "language_info": {
      "name": "python"
    }
  },
  "cells": [
    {
      "cell_type": "markdown",
      "source": [
        "# Preparing the Data\n"
      ],
      "metadata": {
        "id": "3TUj2pg9HVNM"
      }
    },
    {
      "cell_type": "code",
      "execution_count": 1,
      "metadata": {
        "colab": {
          "base_uri": "https://localhost:8080/"
        },
        "id": "CiDEqKqwHHP4",
        "outputId": "00679fc7-28f8-4a31-ecac-0aea739626b4"
      },
      "outputs": [
        {
          "output_type": "stream",
          "name": "stdout",
          "text": [
            "Mounted at /content/drive\n",
            "\n",
            " First few rows of the PO Dump: \n",
            "    PO_NUM         ITEM_NAME                       PART_DESCRIPTION ITEM_CODE  \\\n",
            "0  100000           Gripper     Pneumatic gripper for robotic arms   MOT7793   \n",
            "1  100000        3D Printer     Compact 3D printer for prototyping   MOT1546   \n",
            "2  100001   Pressure Sensor         High-precision pressure sensor   KYO7240   \n",
            "3  100001  Proximity Sensor             Inductive proximity sensor   KYO2884   \n",
            "4  100002   Control Cabinet  Industrial control cabinet with locks   IND4956   \n",
            "\n",
            "                         SUPPLIER_NAME SUPPLIER_CODE  ORDERED_QUANTITY  \\\n",
            "0  MOTHERSON SUMI WIRING INDIA LIMITED      VD904014                39   \n",
            "1  MOTHERSON SUMI WIRING INDIA LIMITED      VD904014               180   \n",
            "2         KYOWA MANUFACTURING CO., LTD      VD650721                67   \n",
            "3         KYOWA MANUFACTURING CO., LTD      VD650721               179   \n",
            "4                  INDEANA ENGINEERING      VD671527               300   \n",
            "\n",
            "   FAULTED_PARTS    PRICE   PO_VALUE DOWNPAYMENT_DATE DELIVERY_DATE  \n",
            "0              0  3740.04  145861.56       2023-09-05    2023-09-26  \n",
            "1              9  2547.14  458485.20       2023-10-22    2023-11-29  \n",
            "2              0   220.82   14794.94       2023-09-30    2023-11-06  \n",
            "3              0  4716.11  844183.69       2023-12-03    2023-12-30  \n",
            "4             15  1526.58  457974.00       2023-09-02    2023-12-10   \n",
            "\n"
          ]
        }
      ],
      "source": [
        " # Loading the data\n",
        "\n",
        "from google.colab import drive\n",
        "import pandas as pd\n",
        "import numpy as np\n",
        "\n",
        "drive.mount('/content/drive')\n",
        "\n",
        "PO_data=pd.read_csv('/content/drive/MyDrive/NUS-ISS AIS Projects/Project 1/Data/enlarged_dataset.csv')\n",
        "\n",
        "# Display the first few rows of the dataset\n",
        "print('\\n First few rows of the PO Dump: \\n', PO_data.head(), '\\n')"
      ]
    },
    {
      "cell_type": "markdown",
      "source": [
        "Calculating Delivery Time for each line item"
      ],
      "metadata": {
        "id": "l6Raj3WFHk3u"
      }
    },
    {
      "cell_type": "code",
      "source": [
        "#Calculating Delivery Time\n",
        "\n",
        "# Convert 'DOC_CREATION_DATE' and 'DELIVERY_DATE' to datetime objects\n",
        "PO_data['DOWNPAYMENT_DATE'] = pd.to_datetime(PO_data['DOWNPAYMENT_DATE'])\n",
        "PO_data['DELIVERY_DATE'] = pd.to_datetime(PO_data['DELIVERY_DATE'])\n",
        "\n",
        "# Calculate delivery time in days\n",
        "PO_data['DELIVERY_TIME'] = (PO_data['DELIVERY_DATE'] - PO_data['DOWNPAYMENT_DATE']).dt.days\n",
        "\n",
        "PO_data['DELIVERY_TIME'] = PO_data['DELIVERY_TIME'].abs()\n",
        "\n",
        "# Print delivery time for each vendor\n",
        "print(PO_data[['SUPPLIER_CODE', 'DELIVERY_TIME']])"
      ],
      "metadata": {
        "colab": {
          "base_uri": "https://localhost:8080/"
        },
        "id": "qilUmbs6HvGu",
        "outputId": "d7117b51-bf16-4872-cb7b-aadde5670c94"
      },
      "execution_count": 2,
      "outputs": [
        {
          "output_type": "stream",
          "name": "stdout",
          "text": [
            "      SUPPLIER_CODE  DELIVERY_TIME\n",
            "0          VD904014             21\n",
            "1          VD904014             38\n",
            "2          VD650721             37\n",
            "3          VD650721             27\n",
            "4          VD671527             99\n",
            "...             ...            ...\n",
            "58662      VD492539             16\n",
            "58663      VD492539              6\n",
            "58664      VD406065             26\n",
            "58665      VD994773             40\n",
            "58666      VD994773             39\n",
            "\n",
            "[58667 rows x 2 columns]\n"
          ]
        }
      ]
    },
    {
      "cell_type": "code",
      "source": [
        "#Checking for improper Delivery times\n",
        "\n",
        "#Print all vendors with negative delivery time\n",
        "negative_delivery_time = PO_data[PO_data['DELIVERY_TIME'] < 0]\n",
        "\n",
        "#Total number of vendors with negative delivery date\n",
        "print('Total Number of vendors with Negative deliveries:', len(negative_delivery_time['SUPPLIER_CODE'].unique()), '\\n')\n",
        "print(negative_delivery_time['SUPPLIER_CODE'].value_counts())"
      ],
      "metadata": {
        "colab": {
          "base_uri": "https://localhost:8080/"
        },
        "id": "jg9JsCLGH4yi",
        "outputId": "cd85d75f-e9eb-44b3-b7fd-6a2be4e83b17"
      },
      "execution_count": 3,
      "outputs": [
        {
          "output_type": "stream",
          "name": "stdout",
          "text": [
            "Total Number of vendors with Negative deliveries: 0 \n",
            "\n",
            "Series([], Name: count, dtype: int64)\n"
          ]
        }
      ]
    },
    {
      "cell_type": "code",
      "source": [
        "Original_price = PO_data['PRICE']\n",
        "#Original_item_value = PO_data['ITEM_VALUE']\n",
        "Original_delivery_time = PO_data['DELIVERY_TIME']"
      ],
      "metadata": {
        "id": "MbAI2EBHEuy3"
      },
      "execution_count": 4,
      "outputs": []
    },
    {
      "cell_type": "markdown",
      "source": [
        "# EDA"
      ],
      "metadata": {
        "id": "AXACKBLDLZyh"
      }
    },
    {
      "cell_type": "code",
      "source": [
        "# observing the shape of the data\n",
        "print('Shape of the Data is: \\t', PO_data.shape, '\\n')"
      ],
      "metadata": {
        "colab": {
          "base_uri": "https://localhost:8080/"
        },
        "id": "kVU1_GT4La-x",
        "outputId": "9f012613-7ec7-40c7-b514-82b65f23c7fe"
      },
      "execution_count": 5,
      "outputs": [
        {
          "output_type": "stream",
          "name": "stdout",
          "text": [
            "Shape of the Data is: \t (58667, 13) \n",
            "\n"
          ]
        }
      ]
    },
    {
      "cell_type": "code",
      "source": [
        "# Check the data types and non-null counts\n",
        "print('\\nData Types and Non-null Counts:\\t', PO_data.info(), '\\n')"
      ],
      "metadata": {
        "colab": {
          "base_uri": "https://localhost:8080/"
        },
        "id": "VzpwfZbmLgi1",
        "outputId": "b4c533ce-8bf4-47a0-8e69-0f31062ed44f"
      },
      "execution_count": 6,
      "outputs": [
        {
          "output_type": "stream",
          "name": "stdout",
          "text": [
            "<class 'pandas.core.frame.DataFrame'>\n",
            "RangeIndex: 58667 entries, 0 to 58666\n",
            "Data columns (total 13 columns):\n",
            " #   Column            Non-Null Count  Dtype         \n",
            "---  ------            --------------  -----         \n",
            " 0   PO_NUM            58667 non-null  int64         \n",
            " 1   ITEM_NAME         58667 non-null  object        \n",
            " 2   PART_DESCRIPTION  58667 non-null  object        \n",
            " 3   ITEM_CODE         58667 non-null  object        \n",
            " 4   SUPPLIER_NAME     58667 non-null  object        \n",
            " 5   SUPPLIER_CODE     58667 non-null  object        \n",
            " 6   ORDERED_QUANTITY  58667 non-null  int64         \n",
            " 7   FAULTED_PARTS     58667 non-null  int64         \n",
            " 8   PRICE             58667 non-null  float64       \n",
            " 9   PO_VALUE          58667 non-null  float64       \n",
            " 10  DOWNPAYMENT_DATE  58667 non-null  datetime64[ns]\n",
            " 11  DELIVERY_DATE     58667 non-null  datetime64[ns]\n",
            " 12  DELIVERY_TIME     58667 non-null  int64         \n",
            "dtypes: datetime64[ns](2), float64(2), int64(4), object(5)\n",
            "memory usage: 5.8+ MB\n",
            "\n",
            "Data Types and Non-null Counts:\t None \n",
            "\n"
          ]
        }
      ]
    },
    {
      "cell_type": "code",
      "source": [
        "# Check for missing values\n",
        "print('Missing Values: \\n', PO_data.isnull().sum(), '\\n')"
      ],
      "metadata": {
        "colab": {
          "base_uri": "https://localhost:8080/"
        },
        "id": "_8gMcLXuLnod",
        "outputId": "cdd439a1-b6bc-49af-f881-a08f2db93a22"
      },
      "execution_count": 7,
      "outputs": [
        {
          "output_type": "stream",
          "name": "stdout",
          "text": [
            "Missing Values: \n",
            " PO_NUM              0\n",
            "ITEM_NAME           0\n",
            "PART_DESCRIPTION    0\n",
            "ITEM_CODE           0\n",
            "SUPPLIER_NAME       0\n",
            "SUPPLIER_CODE       0\n",
            "ORDERED_QUANTITY    0\n",
            "FAULTED_PARTS       0\n",
            "PRICE               0\n",
            "PO_VALUE            0\n",
            "DOWNPAYMENT_DATE    0\n",
            "DELIVERY_DATE       0\n",
            "DELIVERY_TIME       0\n",
            "dtype: int64 \n",
            "\n"
          ]
        }
      ]
    },
    {
      "cell_type": "code",
      "source": [
        "# Check for duplicate rows\n",
        "print('Number of duplicate rows: \\t', PO_data.duplicated().sum(), '\\n')"
      ],
      "metadata": {
        "colab": {
          "base_uri": "https://localhost:8080/"
        },
        "id": "k75cKGshL1_6",
        "outputId": "c308f189-891f-4168-fe2f-6ee8c40f88bd"
      },
      "execution_count": 8,
      "outputs": [
        {
          "output_type": "stream",
          "name": "stdout",
          "text": [
            "Number of duplicate rows: \t 0 \n",
            "\n"
          ]
        }
      ]
    },
    {
      "cell_type": "code",
      "source": [
        "#Summary of all the numerical data\n",
        "print('All the Numerical Features: \\n', PO_data.select_dtypes(include=['number']).columns, '\\n')\n",
        "\n",
        "# Summary statistics for numerical features\n",
        "print('Summary for Numberical Features: \\n', PO_data.describe(), '\\n')"
      ],
      "metadata": {
        "colab": {
          "base_uri": "https://localhost:8080/"
        },
        "id": "Rw-M-1JCL77A",
        "outputId": "ba14a838-9a37-4e04-8825-491b718e0734"
      },
      "execution_count": 9,
      "outputs": [
        {
          "output_type": "stream",
          "name": "stdout",
          "text": [
            "All the Numerical Features: \n",
            " Index(['PO_NUM', 'ORDERED_QUANTITY', 'FAULTED_PARTS', 'PRICE', 'PO_VALUE',\n",
            "       'DELIVERY_TIME'],\n",
            "      dtype='object') \n",
            "\n",
            "Summary for Numberical Features: \n",
            "               PO_NUM  ORDERED_QUANTITY  FAULTED_PARTS         PRICE  \\\n",
            "count   58667.000000      58667.000000   58667.000000  58667.000000   \n",
            "mean   115010.739496        150.165408       5.705882   2563.427641   \n",
            "min    100000.000000          1.000000       0.000000     41.350000   \n",
            "25%    107535.000000         75.000000       0.000000   1300.845000   \n",
            "50%    114965.000000        150.000000       0.000000   2575.440000   \n",
            "75%    122516.500000        225.000000       3.000000   3729.720000   \n",
            "max    129999.000000        300.000000     300.000000   5987.200000   \n",
            "std      8657.877555         86.742675      25.070171   1454.977483   \n",
            "\n",
            "           PO_VALUE               DOWNPAYMENT_DATE  \\\n",
            "count  5.866700e+04                          58667   \n",
            "mean   3.847127e+05  2023-07-02 15:11:08.798472448   \n",
            "min    6.384000e+01            2023-01-01 00:00:00   \n",
            "25%    1.083448e+05            2023-04-02 00:00:00   \n",
            "50%    2.881368e+05            2023-07-03 00:00:00   \n",
            "75%    5.871222e+05            2023-10-02 00:00:00   \n",
            "max    1.747144e+06            2024-01-01 00:00:00   \n",
            "std    3.361677e+05                            NaN   \n",
            "\n",
            "                       DELIVERY_DATE  DELIVERY_TIME  \n",
            "count                          58667   58667.000000  \n",
            "mean   2023-08-23 07:51:14.730257152      51.694513  \n",
            "min              2023-01-05 00:00:00       3.000000  \n",
            "25%              2023-05-24 00:00:00      27.000000  \n",
            "50%              2023-08-24 00:00:00      52.000000  \n",
            "75%              2023-11-23 00:00:00      76.000000  \n",
            "max              2024-04-10 00:00:00     100.000000  \n",
            "std                              NaN      28.373537   \n",
            "\n"
          ]
        }
      ]
    },
    {
      "cell_type": "code",
      "source": [
        "#Summary of all the categorical data\n",
        "print('All the Categorical Features: \\n', PO_data.select_dtypes(include=['object', 'category']).columns, '\\n')\n",
        "\n",
        "# Summary statistics for categorical features\n",
        "print('Summary for Categorical Features: \\n', PO_data.describe(include=['object']), '\\n')"
      ],
      "metadata": {
        "colab": {
          "base_uri": "https://localhost:8080/"
        },
        "id": "liLQl6skMTp3",
        "outputId": "ed574b83-8c5a-4b74-9c6b-62e4822c6f6a"
      },
      "execution_count": 10,
      "outputs": [
        {
          "output_type": "stream",
          "name": "stdout",
          "text": [
            "All the Categorical Features: \n",
            " Index(['ITEM_NAME', 'PART_DESCRIPTION', 'ITEM_CODE', 'SUPPLIER_NAME',\n",
            "       'SUPPLIER_CODE'],\n",
            "      dtype='object') \n",
            "\n",
            "Summary for Categorical Features: \n",
            "         ITEM_NAME                            PART_DESCRIPTION ITEM_CODE  \\\n",
            "count       58667                                       58667     58667   \n",
            "unique         15                                          15      1199   \n",
            "top     VFD Drive  Variable Frequency Drive for motor control   PRA4679   \n",
            "freq         4506                                        4506        81   \n",
            "\n",
            "                           SUPPLIER_NAME SUPPLIER_CODE  \n",
            "count                              58667         58667  \n",
            "unique                                80            80  \n",
            "top     Praja Controls & Systems Pvt Ltd      VD899831  \n",
            "freq                                 828           828   \n",
            "\n"
          ]
        }
      ]
    },
    {
      "cell_type": "code",
      "source": [
        "# Standardize the numeric columns\n",
        "\n",
        "from sklearn.preprocessing import StandardScaler\n",
        "\n",
        "scaler = StandardScaler()\n",
        "PO_data[['PRICE','DELIVERY_TIME']] = scaler.fit_transform(PO_data[['PRICE','DELIVERY_TIME']])\n"
      ],
      "metadata": {
        "id": "Crx3JR2GPsBL"
      },
      "execution_count": 11,
      "outputs": []
    },
    {
      "cell_type": "code",
      "source": [
        "# Encode categorical variables\n",
        "PO_data = pd.get_dummies(PO_data, columns=['SUPPLIER_NAME', 'ITEM_NAME'], drop_first=True)"
      ],
      "metadata": {
        "id": "g4HlipDBQOgj"
      },
      "execution_count": 12,
      "outputs": []
    },
    {
      "cell_type": "markdown",
      "source": [
        "# Training with Collaborative Fitting with KNN"
      ],
      "metadata": {
        "id": "DubKuBDqRZdr"
      }
    },
    {
      "cell_type": "code",
      "source": [
        "!pip install scikit-surprise"
      ],
      "metadata": {
        "colab": {
          "base_uri": "https://localhost:8080/"
        },
        "id": "m7_D5zVgYf4A",
        "outputId": "bd5f7447-3c98-4f4f-df8f-d4d98305bb4d"
      },
      "execution_count": 13,
      "outputs": [
        {
          "output_type": "stream",
          "name": "stdout",
          "text": [
            "Collecting scikit-surprise\n",
            "  Downloading scikit_surprise-1.1.4.tar.gz (154 kB)\n",
            "\u001b[?25l     \u001b[90m━━━━━━━━━━━━━━━━━━━━━━━━━━━━━━━━━━━━━━━━\u001b[0m \u001b[32m0.0/154.4 kB\u001b[0m \u001b[31m?\u001b[0m eta \u001b[36m-:--:--\u001b[0m\r\u001b[2K     \u001b[91m━━━━━━━━━━━━━━━━━━━━━━━━━━━━━━━━━━━━━━━\u001b[0m\u001b[91m╸\u001b[0m \u001b[32m153.6/154.4 kB\u001b[0m \u001b[31m5.2 MB/s\u001b[0m eta \u001b[36m0:00:01\u001b[0m\r\u001b[2K     \u001b[90m━━━━━━━━━━━━━━━━━━━━━━━━━━━━━━━━━━━━━━━━\u001b[0m \u001b[32m154.4/154.4 kB\u001b[0m \u001b[31m3.5 MB/s\u001b[0m eta \u001b[36m0:00:00\u001b[0m\n",
            "\u001b[?25h  Installing build dependencies ... \u001b[?25l\u001b[?25hdone\n",
            "  Getting requirements to build wheel ... \u001b[?25l\u001b[?25hdone\n",
            "  Preparing metadata (pyproject.toml) ... \u001b[?25l\u001b[?25hdone\n",
            "Requirement already satisfied: joblib>=1.2.0 in /usr/local/lib/python3.10/dist-packages (from scikit-surprise) (1.4.2)\n",
            "Requirement already satisfied: numpy>=1.19.5 in /usr/local/lib/python3.10/dist-packages (from scikit-surprise) (1.26.4)\n",
            "Requirement already satisfied: scipy>=1.6.0 in /usr/local/lib/python3.10/dist-packages (from scikit-surprise) (1.13.1)\n",
            "Building wheels for collected packages: scikit-surprise\n",
            "  Building wheel for scikit-surprise (pyproject.toml) ... \u001b[?25l\u001b[?25hdone\n",
            "  Created wheel for scikit-surprise: filename=scikit_surprise-1.1.4-cp310-cp310-linux_x86_64.whl size=2357285 sha256=76d0f550375bbcde3eff7584115fda9e85447d88e0c9782000bfd655d5548888\n",
            "  Stored in directory: /root/.cache/pip/wheels/4b/3f/df/6acbf0a40397d9bf3ff97f582cc22fb9ce66adde75bc71fd54\n",
            "Successfully built scikit-surprise\n",
            "Installing collected packages: scikit-surprise\n",
            "Successfully installed scikit-surprise-1.1.4\n"
          ]
        }
      ]
    },
    {
      "cell_type": "markdown",
      "source": [
        "Ranking Vendors out of 10 based on Price"
      ],
      "metadata": {
        "id": "6bHZga5XHqsQ"
      }
    },
    {
      "cell_type": "code",
      "source": [
        "from surprise import Dataset, Reader, SVD\n",
        "from surprise.model_selection import train_test_split\n",
        "from sklearn.preprocessing import MinMaxScaler\n",
        "\n",
        "# Prepare data for Surprise library\n",
        "reader = Reader(rating_scale=(1, 10))  # Adjust rating scale as needed\n",
        "data = Dataset.load_from_df(PO_data[['SUPPLIER_CODE', 'PRICE', 'DELIVERY_TIME']], reader)\n",
        "\n",
        "# Split data into train and test sets\n",
        "trainset, testset = train_test_split(data, test_size=.25)\n",
        "\n",
        "# Train the SVD model\n",
        "algo = SVD()\n",
        "algo.fit(trainset)\n",
        "\n",
        "# Predict vendor ratings based on price\n",
        "predictions = algo.test(testset)\n",
        "\n",
        "# Store predictions in a DataFrame\n",
        "prediction_df = pd.DataFrame(predictions)\n",
        "\n",
        "# Get predicted ratings\n",
        "predicted_ratings = prediction_df[['uid', 'est']]\n",
        "\n",
        "# Group by vendor (uid) and calculate the average predicted rating\n",
        "vendor_ratings = predicted_ratings.groupby('uid')['est'].mean()\n",
        "\n",
        "\n",
        "# Scale the average predicted rating to be between 1 and 10\n",
        "scaler = MinMaxScaler(feature_range=(1, 10))\n",
        "scaled_vendor_ratings = scaler.fit_transform(vendor_ratings.values.reshape(-1, 1))\n",
        "\n",
        "# Create a DataFrame with vendor and rating\n",
        "vendor_ranking = pd.DataFrame({'SUPPLIER_CODE': vendor_ratings.index, 'Vendor_Rating': scaled_vendor_ratings.flatten()})\n",
        "\n",
        "# Sort vendors based on their rating\n",
        "vendor_ranking = vendor_ranking.sort_values('Vendor_Rating', ascending=False)\n",
        "\n",
        "vendor_ranking"
      ],
      "metadata": {
        "colab": {
          "base_uri": "https://localhost:8080/",
          "height": 423
        },
        "id": "YPrUhSB3haaZ",
        "outputId": "b8964503-7501-4aae-bfea-89bf45af8ead"
      },
      "execution_count": 14,
      "outputs": [
        {
          "output_type": "execute_result",
          "data": {
            "text/plain": [
              "   SUPPLIER_CODE  Vendor_Rating\n",
              "0       VD101149            1.0\n",
              "1       VD122239            1.0\n",
              "58      VD784623            1.0\n",
              "57      VD780586            1.0\n",
              "56      VD776359            1.0\n",
              "..           ...            ...\n",
              "25      VD424465            1.0\n",
              "24      VD412248            1.0\n",
              "23      VD406065            1.0\n",
              "22      VD369278            1.0\n",
              "79      VD996609            1.0\n",
              "\n",
              "[80 rows x 2 columns]"
            ],
            "text/html": [
              "\n",
              "  <div id=\"df-813187d9-5d35-40c6-bb25-13455a53471a\" class=\"colab-df-container\">\n",
              "    <div>\n",
              "<style scoped>\n",
              "    .dataframe tbody tr th:only-of-type {\n",
              "        vertical-align: middle;\n",
              "    }\n",
              "\n",
              "    .dataframe tbody tr th {\n",
              "        vertical-align: top;\n",
              "    }\n",
              "\n",
              "    .dataframe thead th {\n",
              "        text-align: right;\n",
              "    }\n",
              "</style>\n",
              "<table border=\"1\" class=\"dataframe\">\n",
              "  <thead>\n",
              "    <tr style=\"text-align: right;\">\n",
              "      <th></th>\n",
              "      <th>SUPPLIER_CODE</th>\n",
              "      <th>Vendor_Rating</th>\n",
              "    </tr>\n",
              "  </thead>\n",
              "  <tbody>\n",
              "    <tr>\n",
              "      <th>0</th>\n",
              "      <td>VD101149</td>\n",
              "      <td>1.0</td>\n",
              "    </tr>\n",
              "    <tr>\n",
              "      <th>1</th>\n",
              "      <td>VD122239</td>\n",
              "      <td>1.0</td>\n",
              "    </tr>\n",
              "    <tr>\n",
              "      <th>58</th>\n",
              "      <td>VD784623</td>\n",
              "      <td>1.0</td>\n",
              "    </tr>\n",
              "    <tr>\n",
              "      <th>57</th>\n",
              "      <td>VD780586</td>\n",
              "      <td>1.0</td>\n",
              "    </tr>\n",
              "    <tr>\n",
              "      <th>56</th>\n",
              "      <td>VD776359</td>\n",
              "      <td>1.0</td>\n",
              "    </tr>\n",
              "    <tr>\n",
              "      <th>...</th>\n",
              "      <td>...</td>\n",
              "      <td>...</td>\n",
              "    </tr>\n",
              "    <tr>\n",
              "      <th>25</th>\n",
              "      <td>VD424465</td>\n",
              "      <td>1.0</td>\n",
              "    </tr>\n",
              "    <tr>\n",
              "      <th>24</th>\n",
              "      <td>VD412248</td>\n",
              "      <td>1.0</td>\n",
              "    </tr>\n",
              "    <tr>\n",
              "      <th>23</th>\n",
              "      <td>VD406065</td>\n",
              "      <td>1.0</td>\n",
              "    </tr>\n",
              "    <tr>\n",
              "      <th>22</th>\n",
              "      <td>VD369278</td>\n",
              "      <td>1.0</td>\n",
              "    </tr>\n",
              "    <tr>\n",
              "      <th>79</th>\n",
              "      <td>VD996609</td>\n",
              "      <td>1.0</td>\n",
              "    </tr>\n",
              "  </tbody>\n",
              "</table>\n",
              "<p>80 rows × 2 columns</p>\n",
              "</div>\n",
              "    <div class=\"colab-df-buttons\">\n",
              "\n",
              "  <div class=\"colab-df-container\">\n",
              "    <button class=\"colab-df-convert\" onclick=\"convertToInteractive('df-813187d9-5d35-40c6-bb25-13455a53471a')\"\n",
              "            title=\"Convert this dataframe to an interactive table.\"\n",
              "            style=\"display:none;\">\n",
              "\n",
              "  <svg xmlns=\"http://www.w3.org/2000/svg\" height=\"24px\" viewBox=\"0 -960 960 960\">\n",
              "    <path d=\"M120-120v-720h720v720H120Zm60-500h600v-160H180v160Zm220 220h160v-160H400v160Zm0 220h160v-160H400v160ZM180-400h160v-160H180v160Zm440 0h160v-160H620v160ZM180-180h160v-160H180v160Zm440 0h160v-160H620v160Z\"/>\n",
              "  </svg>\n",
              "    </button>\n",
              "\n",
              "  <style>\n",
              "    .colab-df-container {\n",
              "      display:flex;\n",
              "      gap: 12px;\n",
              "    }\n",
              "\n",
              "    .colab-df-convert {\n",
              "      background-color: #E8F0FE;\n",
              "      border: none;\n",
              "      border-radius: 50%;\n",
              "      cursor: pointer;\n",
              "      display: none;\n",
              "      fill: #1967D2;\n",
              "      height: 32px;\n",
              "      padding: 0 0 0 0;\n",
              "      width: 32px;\n",
              "    }\n",
              "\n",
              "    .colab-df-convert:hover {\n",
              "      background-color: #E2EBFA;\n",
              "      box-shadow: 0px 1px 2px rgba(60, 64, 67, 0.3), 0px 1px 3px 1px rgba(60, 64, 67, 0.15);\n",
              "      fill: #174EA6;\n",
              "    }\n",
              "\n",
              "    .colab-df-buttons div {\n",
              "      margin-bottom: 4px;\n",
              "    }\n",
              "\n",
              "    [theme=dark] .colab-df-convert {\n",
              "      background-color: #3B4455;\n",
              "      fill: #D2E3FC;\n",
              "    }\n",
              "\n",
              "    [theme=dark] .colab-df-convert:hover {\n",
              "      background-color: #434B5C;\n",
              "      box-shadow: 0px 1px 3px 1px rgba(0, 0, 0, 0.15);\n",
              "      filter: drop-shadow(0px 1px 2px rgba(0, 0, 0, 0.3));\n",
              "      fill: #FFFFFF;\n",
              "    }\n",
              "  </style>\n",
              "\n",
              "    <script>\n",
              "      const buttonEl =\n",
              "        document.querySelector('#df-813187d9-5d35-40c6-bb25-13455a53471a button.colab-df-convert');\n",
              "      buttonEl.style.display =\n",
              "        google.colab.kernel.accessAllowed ? 'block' : 'none';\n",
              "\n",
              "      async function convertToInteractive(key) {\n",
              "        const element = document.querySelector('#df-813187d9-5d35-40c6-bb25-13455a53471a');\n",
              "        const dataTable =\n",
              "          await google.colab.kernel.invokeFunction('convertToInteractive',\n",
              "                                                    [key], {});\n",
              "        if (!dataTable) return;\n",
              "\n",
              "        const docLinkHtml = 'Like what you see? Visit the ' +\n",
              "          '<a target=\"_blank\" href=https://colab.research.google.com/notebooks/data_table.ipynb>data table notebook</a>'\n",
              "          + ' to learn more about interactive tables.';\n",
              "        element.innerHTML = '';\n",
              "        dataTable['output_type'] = 'display_data';\n",
              "        await google.colab.output.renderOutput(dataTable, element);\n",
              "        const docLink = document.createElement('div');\n",
              "        docLink.innerHTML = docLinkHtml;\n",
              "        element.appendChild(docLink);\n",
              "      }\n",
              "    </script>\n",
              "  </div>\n",
              "\n",
              "\n",
              "<div id=\"df-8ccd144b-37c9-43c0-8099-4553d59c6d14\">\n",
              "  <button class=\"colab-df-quickchart\" onclick=\"quickchart('df-8ccd144b-37c9-43c0-8099-4553d59c6d14')\"\n",
              "            title=\"Suggest charts\"\n",
              "            style=\"display:none;\">\n",
              "\n",
              "<svg xmlns=\"http://www.w3.org/2000/svg\" height=\"24px\"viewBox=\"0 0 24 24\"\n",
              "     width=\"24px\">\n",
              "    <g>\n",
              "        <path d=\"M19 3H5c-1.1 0-2 .9-2 2v14c0 1.1.9 2 2 2h14c1.1 0 2-.9 2-2V5c0-1.1-.9-2-2-2zM9 17H7v-7h2v7zm4 0h-2V7h2v10zm4 0h-2v-4h2v4z\"/>\n",
              "    </g>\n",
              "</svg>\n",
              "  </button>\n",
              "\n",
              "<style>\n",
              "  .colab-df-quickchart {\n",
              "      --bg-color: #E8F0FE;\n",
              "      --fill-color: #1967D2;\n",
              "      --hover-bg-color: #E2EBFA;\n",
              "      --hover-fill-color: #174EA6;\n",
              "      --disabled-fill-color: #AAA;\n",
              "      --disabled-bg-color: #DDD;\n",
              "  }\n",
              "\n",
              "  [theme=dark] .colab-df-quickchart {\n",
              "      --bg-color: #3B4455;\n",
              "      --fill-color: #D2E3FC;\n",
              "      --hover-bg-color: #434B5C;\n",
              "      --hover-fill-color: #FFFFFF;\n",
              "      --disabled-bg-color: #3B4455;\n",
              "      --disabled-fill-color: #666;\n",
              "  }\n",
              "\n",
              "  .colab-df-quickchart {\n",
              "    background-color: var(--bg-color);\n",
              "    border: none;\n",
              "    border-radius: 50%;\n",
              "    cursor: pointer;\n",
              "    display: none;\n",
              "    fill: var(--fill-color);\n",
              "    height: 32px;\n",
              "    padding: 0;\n",
              "    width: 32px;\n",
              "  }\n",
              "\n",
              "  .colab-df-quickchart:hover {\n",
              "    background-color: var(--hover-bg-color);\n",
              "    box-shadow: 0 1px 2px rgba(60, 64, 67, 0.3), 0 1px 3px 1px rgba(60, 64, 67, 0.15);\n",
              "    fill: var(--button-hover-fill-color);\n",
              "  }\n",
              "\n",
              "  .colab-df-quickchart-complete:disabled,\n",
              "  .colab-df-quickchart-complete:disabled:hover {\n",
              "    background-color: var(--disabled-bg-color);\n",
              "    fill: var(--disabled-fill-color);\n",
              "    box-shadow: none;\n",
              "  }\n",
              "\n",
              "  .colab-df-spinner {\n",
              "    border: 2px solid var(--fill-color);\n",
              "    border-color: transparent;\n",
              "    border-bottom-color: var(--fill-color);\n",
              "    animation:\n",
              "      spin 1s steps(1) infinite;\n",
              "  }\n",
              "\n",
              "  @keyframes spin {\n",
              "    0% {\n",
              "      border-color: transparent;\n",
              "      border-bottom-color: var(--fill-color);\n",
              "      border-left-color: var(--fill-color);\n",
              "    }\n",
              "    20% {\n",
              "      border-color: transparent;\n",
              "      border-left-color: var(--fill-color);\n",
              "      border-top-color: var(--fill-color);\n",
              "    }\n",
              "    30% {\n",
              "      border-color: transparent;\n",
              "      border-left-color: var(--fill-color);\n",
              "      border-top-color: var(--fill-color);\n",
              "      border-right-color: var(--fill-color);\n",
              "    }\n",
              "    40% {\n",
              "      border-color: transparent;\n",
              "      border-right-color: var(--fill-color);\n",
              "      border-top-color: var(--fill-color);\n",
              "    }\n",
              "    60% {\n",
              "      border-color: transparent;\n",
              "      border-right-color: var(--fill-color);\n",
              "    }\n",
              "    80% {\n",
              "      border-color: transparent;\n",
              "      border-right-color: var(--fill-color);\n",
              "      border-bottom-color: var(--fill-color);\n",
              "    }\n",
              "    90% {\n",
              "      border-color: transparent;\n",
              "      border-bottom-color: var(--fill-color);\n",
              "    }\n",
              "  }\n",
              "</style>\n",
              "\n",
              "  <script>\n",
              "    async function quickchart(key) {\n",
              "      const quickchartButtonEl =\n",
              "        document.querySelector('#' + key + ' button');\n",
              "      quickchartButtonEl.disabled = true;  // To prevent multiple clicks.\n",
              "      quickchartButtonEl.classList.add('colab-df-spinner');\n",
              "      try {\n",
              "        const charts = await google.colab.kernel.invokeFunction(\n",
              "            'suggestCharts', [key], {});\n",
              "      } catch (error) {\n",
              "        console.error('Error during call to suggestCharts:', error);\n",
              "      }\n",
              "      quickchartButtonEl.classList.remove('colab-df-spinner');\n",
              "      quickchartButtonEl.classList.add('colab-df-quickchart-complete');\n",
              "    }\n",
              "    (() => {\n",
              "      let quickchartButtonEl =\n",
              "        document.querySelector('#df-8ccd144b-37c9-43c0-8099-4553d59c6d14 button');\n",
              "      quickchartButtonEl.style.display =\n",
              "        google.colab.kernel.accessAllowed ? 'block' : 'none';\n",
              "    })();\n",
              "  </script>\n",
              "</div>\n",
              "\n",
              "  <div id=\"id_c6ed3e03-9931-443d-a377-8a87ac19ae89\">\n",
              "    <style>\n",
              "      .colab-df-generate {\n",
              "        background-color: #E8F0FE;\n",
              "        border: none;\n",
              "        border-radius: 50%;\n",
              "        cursor: pointer;\n",
              "        display: none;\n",
              "        fill: #1967D2;\n",
              "        height: 32px;\n",
              "        padding: 0 0 0 0;\n",
              "        width: 32px;\n",
              "      }\n",
              "\n",
              "      .colab-df-generate:hover {\n",
              "        background-color: #E2EBFA;\n",
              "        box-shadow: 0px 1px 2px rgba(60, 64, 67, 0.3), 0px 1px 3px 1px rgba(60, 64, 67, 0.15);\n",
              "        fill: #174EA6;\n",
              "      }\n",
              "\n",
              "      [theme=dark] .colab-df-generate {\n",
              "        background-color: #3B4455;\n",
              "        fill: #D2E3FC;\n",
              "      }\n",
              "\n",
              "      [theme=dark] .colab-df-generate:hover {\n",
              "        background-color: #434B5C;\n",
              "        box-shadow: 0px 1px 3px 1px rgba(0, 0, 0, 0.15);\n",
              "        filter: drop-shadow(0px 1px 2px rgba(0, 0, 0, 0.3));\n",
              "        fill: #FFFFFF;\n",
              "      }\n",
              "    </style>\n",
              "    <button class=\"colab-df-generate\" onclick=\"generateWithVariable('vendor_ranking')\"\n",
              "            title=\"Generate code using this dataframe.\"\n",
              "            style=\"display:none;\">\n",
              "\n",
              "  <svg xmlns=\"http://www.w3.org/2000/svg\" height=\"24px\"viewBox=\"0 0 24 24\"\n",
              "       width=\"24px\">\n",
              "    <path d=\"M7,19H8.4L18.45,9,17,7.55,7,17.6ZM5,21V16.75L18.45,3.32a2,2,0,0,1,2.83,0l1.4,1.43a1.91,1.91,0,0,1,.58,1.4,1.91,1.91,0,0,1-.58,1.4L9.25,21ZM18.45,9,17,7.55Zm-12,3A5.31,5.31,0,0,0,4.9,8.1,5.31,5.31,0,0,0,1,6.5,5.31,5.31,0,0,0,4.9,4.9,5.31,5.31,0,0,0,6.5,1,5.31,5.31,0,0,0,8.1,4.9,5.31,5.31,0,0,0,12,6.5,5.46,5.46,0,0,0,6.5,12Z\"/>\n",
              "  </svg>\n",
              "    </button>\n",
              "    <script>\n",
              "      (() => {\n",
              "      const buttonEl =\n",
              "        document.querySelector('#id_c6ed3e03-9931-443d-a377-8a87ac19ae89 button.colab-df-generate');\n",
              "      buttonEl.style.display =\n",
              "        google.colab.kernel.accessAllowed ? 'block' : 'none';\n",
              "\n",
              "      buttonEl.onclick = () => {\n",
              "        google.colab.notebook.generateWithVariable('vendor_ranking');\n",
              "      }\n",
              "      })();\n",
              "    </script>\n",
              "  </div>\n",
              "\n",
              "    </div>\n",
              "  </div>\n"
            ],
            "application/vnd.google.colaboratory.intrinsic+json": {
              "type": "dataframe",
              "variable_name": "vendor_ranking",
              "summary": "{\n  \"name\": \"vendor_ranking\",\n  \"rows\": 80,\n  \"fields\": [\n    {\n      \"column\": \"SUPPLIER_CODE\",\n      \"properties\": {\n        \"dtype\": \"string\",\n        \"num_unique_values\": 80,\n        \"samples\": [\n          \"VD904014\",\n          \"VD101149\",\n          \"VD905465\"\n        ],\n        \"semantic_type\": \"\",\n        \"description\": \"\"\n      }\n    },\n    {\n      \"column\": \"Vendor_Rating\",\n      \"properties\": {\n        \"dtype\": \"number\",\n        \"std\": 0.0,\n        \"min\": 1.0,\n        \"max\": 1.0,\n        \"num_unique_values\": 1,\n        \"samples\": [\n          1.0\n        ],\n        \"semantic_type\": \"\",\n        \"description\": \"\"\n      }\n    }\n  ]\n}"
            }
          },
          "metadata": {},
          "execution_count": 14
        }
      ]
    },
    {
      "cell_type": "markdown",
      "source": [
        "Traning model for vendor recommendation based on Price\n"
      ],
      "metadata": {
        "id": "4vkft-Q4HiJP"
      }
    },
    {
      "cell_type": "code",
      "source": [
        "from surprise import KNNBasic\n",
        "from surprise import accuracy\n",
        "from surprise import Reader\n",
        "from surprise import Dataset\n",
        "from sklearn.model_selection import train_test_split\n",
        "\n",
        "y = PO_data['PRICE']\n",
        "X = PO_data.drop(columns=['PRICE'])\n",
        "\n",
        "# Split the data (e.g., 80% training, 20% testing)\n",
        "X_train, X_test, y_train, y_test = train_test_split(X, y, test_size=0.2, random_state=42)\n",
        "\n",
        "#Create a Surprise Dateset\n",
        "reader = Reader(rating_scale=(PO_data['PRICE'].min(), PO_data['PRICE'].max()))\n",
        "\n",
        "# Create the trainset from the training data\n",
        "train_df = pd.DataFrame({'userID': X_train.index, 'itemID': X_train['ITEM_CODE'], 'rating': y_train})\n",
        "trainset = Dataset.load_from_df(train_df[['userID', 'itemID', 'rating']], reader)\n",
        "\n",
        "# Use the SVD algorithm\n",
        "model = KNNBasic()\n",
        "\n",
        "sim_options = {\n",
        "    'name': 'cosine',  # Or 'pearson'\n",
        "    'user_based': False  # True for user-based, False for item-based\n",
        "}\n",
        "model = KNNBasic(sim_options=sim_options)\n",
        "\n",
        "# Train the model on the Surprise trainset\n",
        "model.fit(trainset.build_full_trainset())\n",
        "\n",
        "# Make predictions - need to create testset similar to trainset\n",
        "test_df = pd.DataFrame({'userID': X_test.index, 'itemID': X_test['ITEM_CODE'], 'rating': y_test})\n",
        "testset = Dataset.load_from_df(test_df[['userID', 'itemID', 'rating']], reader).build_full_trainset().build_testset() # create testset\n",
        "predictions = model.test(testset) # get predictions on the testset\n",
        "\n",
        "# Evaluate the model\n",
        "accuracy.mse(predictions)\n",
        "\n",
        "# Evaluate accuracy\n",
        "accuracy.rmse(predictions)"
      ],
      "metadata": {
        "colab": {
          "base_uri": "https://localhost:8080/"
        },
        "id": "4G85pR4oVQ6E",
        "outputId": "1200ca0c-3f2e-47d7-eaae-3538c1853448"
      },
      "execution_count": 15,
      "outputs": [
        {
          "output_type": "stream",
          "name": "stdout",
          "text": [
            "Computing the cosine similarity matrix...\n",
            "Done computing similarity matrix.\n",
            "MSE: 1.0105\n",
            "RMSE: 1.0052\n"
          ]
        },
        {
          "output_type": "execute_result",
          "data": {
            "text/plain": [
              "1.0052350210939518"
            ]
          },
          "metadata": {},
          "execution_count": 15
        }
      ]
    },
    {
      "cell_type": "code",
      "source": [
        "# Replace the scaled columns with the original values\n",
        "PO_data['PRICE'] = Original_price\n",
        "#PO_data['ITEM_VALUE'] = Original_item_value\n",
        "PO_data['DELIVERY_TIME'] = Original_delivery_time"
      ],
      "metadata": {
        "id": "dEhXw9LEGsiv"
      },
      "execution_count": 16,
      "outputs": []
    },
    {
      "cell_type": "markdown",
      "source": [
        "Get top 3 Vendors for a particular part name on the basis of delivery time"
      ],
      "metadata": {
        "id": "DKcbtAZKHP-X"
      }
    },
    {
      "cell_type": "code",
      "source": [
        "# Get the top 3 vendors for a specific component\n",
        "\n",
        "#randomly select a part_name\n",
        "import random\n",
        "\n",
        "# Get all available column names\n",
        "available_columns = PO_data.columns\n",
        "\n",
        "# Check if 'PART_NAME' exists, otherwise, use a different relevant column\n",
        "part_name_column = 'PART_NAME' if 'PART_NAME' in available_columns else available_columns[0]  # Replace available_columns[0] with an appropriate column if needed\n",
        "\n",
        "# Randomly select a part_name\n",
        "part_name = random.choice(PO_data[part_name_column].unique())\n",
        "\n",
        "print(f\"Randomly selected part name: {part_name}\")\n",
        "\n",
        "component_id = PO_data[PO_data[part_name_column] == part_name]['ITEM_CODE'].iloc[0]\n",
        "\n",
        "recommended_vendors = PO_data[PO_data['ITEM_CODE'] == component_id]\n",
        "recommended_vendors = recommended_vendors.sort_values(by='DELIVERY_TIME', ascending=True)\n",
        "\n",
        "# Print the top N vendors for the component\n",
        "top_vendors = recommended_vendors.head(3)\n",
        "print(top_vendors[['SUPPLIER_CODE', 'DELIVERY_TIME', 'PRICE']])\n"
      ],
      "metadata": {
        "id": "fvIxYHief9xR",
        "colab": {
          "base_uri": "https://localhost:8080/"
        },
        "outputId": "eef63db7-bdae-4099-89ba-59d1c5e125e6"
      },
      "execution_count": 18,
      "outputs": [
        {
          "output_type": "stream",
          "name": "stdout",
          "text": [
            "Randomly selected part name: 126547\n",
            "      SUPPLIER_CODE  DELIVERY_TIME   PRICE\n",
            "14565      VD996609              6  724.64\n",
            "12759      VD996609              6  754.25\n",
            "9472       VD996609              6  793.37\n"
          ]
        }
      ]
    }
  ]
}