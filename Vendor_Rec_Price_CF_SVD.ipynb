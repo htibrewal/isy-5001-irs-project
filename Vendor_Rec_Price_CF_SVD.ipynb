{
  "nbformat": 4,
  "nbformat_minor": 0,
  "metadata": {
    "colab": {
      "provenance": []
    },
    "kernelspec": {
      "name": "python3",
      "display_name": "Python 3"
    },
    "language_info": {
      "name": "python"
    }
  },
  "cells": [
    {
      "cell_type": "markdown",
      "source": [
        "# Preparing the Data\n"
      ],
      "metadata": {
        "id": "3TUj2pg9HVNM"
      }
    },
    {
      "cell_type": "code",
      "execution_count": 1,
      "metadata": {
        "colab": {
          "base_uri": "https://localhost:8080/"
        },
        "id": "CiDEqKqwHHP4",
        "outputId": "a63e8c92-1ef9-468a-e4c4-504c8f88793f"
      },
      "outputs": [
        {
          "output_type": "stream",
          "name": "stdout",
          "text": [
            "Mounted at /content/drive\n",
            "\n",
            " First few rows of the PO Dump: \n",
            "    Unnamed: 0  PO_NUM DOCCUR  DOCRATE SUPPLIER_CODE  \\\n",
            "0           0   53586    INR      1.0      VD001614   \n",
            "1           1   53586    INR      1.0      VD001614   \n",
            "2           2   53650    INR      1.0      VD003065   \n",
            "3           3   53684    INR      1.0      VD003071   \n",
            "4           4   53946    INR      1.0      VD002799   \n",
            "\n",
            "                           SUPPLIER_NAME    DOC_DATE DELIVERY_DATE  \\\n",
            "0  ITG SOFTWARE ENGINEERING (I) PVT. LTD  01-10-2021    30-11-2022   \n",
            "1  ITG SOFTWARE ENGINEERING (I) PVT. LTD  01-10-2021    30-11-2022   \n",
            "2    TIKMANY TELESYSTEMS PRIVATE LIMITED  07-10-2021    28-09-2021   \n",
            "3                       ZIP TECHNOLOGIES  08-10-2021    28-09-2021   \n",
            "4          INSPIRED TECHNOLOGIES PVT LTD  18-10-2021    30-11-2021   \n",
            "\n",
            "       PO_VALUE LOCATION  ...  TAX_AMOUNT(LC) LINETOTAL_WITH_TAX_(LC)  \\\n",
            "0  2.764740e+07      SEA  ...      410400.000            2.690400e+06   \n",
            "1  2.764740e+07      SEA  ...     3807000.000            2.495700e+07   \n",
            "2  3.589997e+03    NOIDA  ...         547.627            3.589997e+03   \n",
            "3  1.674998e+03    NOIDA  ...         255.508            1.674998e+03   \n",
            "4  2.301000e+07   MUMBAI  ...     3510000.000            2.301000e+07   \n",
            "\n",
            "  PART_ID_CLEANED              PART_NAME  \\\n",
            "0           17306                SENSORS   \n",
            "1           17340  SINGLE BOARD COMPUTER   \n",
            "2           28317              CONNECTOR   \n",
            "3           18181               PLC CARD   \n",
            "4           17448                 SENSOR   \n",
            "\n",
            "                                    PART_DESCRIPTION  WIDTH_(MM)  HEIGHT_(MM)  \\\n",
            "0                    MINIATURE PHOTOELECTRIC SENSORS         0.0          0.0   \n",
            "1  SINGLE BOARD COMPUTERS UP SQUARED BOARD WITH C...         0.0          0.0   \n",
            "2                 CONNECTION LINE YM2D24-050PN1MRJA4         NaN          NaN   \n",
            "3                   FX5-485-BD MITSUBISHI RS485 CARD         NaN          NaN   \n",
            "4                   SHORT RANGE SCANNER-CONFIGURABLE         0.0          0.0   \n",
            "\n",
            "   DEPTH_(MM)  MOUNTING_CLEARANCES_(MM)  WEIGHT_(KG)  \n",
            "0         0.0                       NaN          0.0  \n",
            "1         0.0                       NaN          0.0  \n",
            "2         NaN                       NaN          NaN  \n",
            "3         NaN                       NaN          NaN  \n",
            "4         0.0                       NaN          0.0  \n",
            "\n",
            "[5 rows x 27 columns] \n",
            "\n"
          ]
        }
      ],
      "source": [
        " # Loading the data\n",
        "\n",
        "from google.colab import drive\n",
        "import pandas as pd\n",
        "import numpy as np\n",
        "\n",
        "drive.mount('/content/drive')\n",
        "\n",
        "PO_data=pd.read_csv('/content/drive/MyDrive/NUS-ISS AIS Projects/Project 1/Data/filtered_data_final_2.csv')\n",
        "\n",
        "# Display the first few rows of the dataset\n",
        "print('\\n First few rows of the PO Dump: \\n', PO_data.head(), '\\n')"
      ]
    },
    {
      "cell_type": "markdown",
      "source": [
        "Calculating Delivery Time for each line item"
      ],
      "metadata": {
        "id": "l6Raj3WFHk3u"
      }
    },
    {
      "cell_type": "code",
      "source": [
        "#Calculating Delivery Time\n",
        "\n",
        "# Convert 'DOC_CREATION_DATE' and 'DELIVERY_DATE' to datetime objects\n",
        "PO_data['DOC_DATE'] = pd.to_datetime(PO_data['DOC_DATE'], format='%d-%m-%Y')\n",
        "PO_data['DELIVERY_DATE'] = pd.to_datetime(PO_data['DELIVERY_DATE'])\n",
        "\n",
        "# Calculate delivery time in days\n",
        "PO_data['DELIVERY_TIME'] = (PO_data['DELIVERY_DATE'] - PO_data['DOC_DATE']).dt.days\n",
        "\n",
        "PO_data['DELIVERY_TIME'] = PO_data['DELIVERY_TIME'].abs()\n",
        "\n",
        "# Print delivery time for each vendor\n",
        "print(PO_data[['SUPPLIER_CODE', 'DELIVERY_TIME']])"
      ],
      "metadata": {
        "colab": {
          "base_uri": "https://localhost:8080/"
        },
        "id": "qilUmbs6HvGu",
        "outputId": "f9e35d25-9b2a-48c3-8f14-5d246ebd969f"
      },
      "execution_count": 2,
      "outputs": [
        {
          "output_type": "stream",
          "name": "stdout",
          "text": [
            "      SUPPLIER_CODE  DELIVERY_TIME\n",
            "0          VD001614            425\n",
            "1          VD001614            425\n",
            "2          VD003065              9\n",
            "3          VD003071             10\n",
            "4          VD002799             43\n",
            "...             ...            ...\n",
            "38967      VD002002             11\n",
            "38968      VD002002             11\n",
            "38969      VD002002             11\n",
            "38970      VD002002             11\n",
            "38971      VD002002             11\n",
            "\n",
            "[38972 rows x 2 columns]\n"
          ]
        },
        {
          "output_type": "stream",
          "name": "stderr",
          "text": [
            "<ipython-input-2-e43fc9b04f13>:5: UserWarning: Parsing dates in %d-%m-%Y format when dayfirst=False (the default) was specified. Pass `dayfirst=True` or specify a format to silence this warning.\n",
            "  PO_data['DELIVERY_DATE'] = pd.to_datetime(PO_data['DELIVERY_DATE'])\n"
          ]
        }
      ]
    },
    {
      "cell_type": "code",
      "source": [
        "#Checking for improper Delivery times\n",
        "\n",
        "#Print all vendors with negative delivery time\n",
        "negative_delivery_time = PO_data[PO_data['DELIVERY_TIME'] < 0]\n",
        "\n",
        "#Total number of vendors with negative delivery date\n",
        "print('Total Number of vendors with Negative deliveries:', len(negative_delivery_time['SUPPLIER_CODE'].unique()), '\\n')\n",
        "print(negative_delivery_time['SUPPLIER_CODE'].value_counts())"
      ],
      "metadata": {
        "colab": {
          "base_uri": "https://localhost:8080/"
        },
        "id": "jg9JsCLGH4yi",
        "outputId": "ec65c7be-2bd4-4abc-f179-f873d4468e16"
      },
      "execution_count": 3,
      "outputs": [
        {
          "output_type": "stream",
          "name": "stdout",
          "text": [
            "Total Number of vendors with Negative deliveries: 0 \n",
            "\n",
            "Series([], Name: count, dtype: int64)\n"
          ]
        }
      ]
    },
    {
      "cell_type": "markdown",
      "source": [
        "# EDA"
      ],
      "metadata": {
        "id": "AXACKBLDLZyh"
      }
    },
    {
      "cell_type": "code",
      "source": [
        "# observing the shape of the data\n",
        "print('Shape of the Data is: \\t', PO_data.shape, '\\n')"
      ],
      "metadata": {
        "colab": {
          "base_uri": "https://localhost:8080/"
        },
        "id": "kVU1_GT4La-x",
        "outputId": "204e1010-3630-4a0e-ff82-8c49744fd314"
      },
      "execution_count": 4,
      "outputs": [
        {
          "output_type": "stream",
          "name": "stdout",
          "text": [
            "Shape of the Data is: \t (38972, 28) \n",
            "\n"
          ]
        }
      ]
    },
    {
      "cell_type": "code",
      "source": [
        "# Check the data types and non-null counts\n",
        "print('\\nData Types and Non-null Counts:\\t', PO_data.info(), '\\n')"
      ],
      "metadata": {
        "colab": {
          "base_uri": "https://localhost:8080/"
        },
        "id": "VzpwfZbmLgi1",
        "outputId": "8eb2fcb7-eb36-417c-f686-08b2dad20032"
      },
      "execution_count": 5,
      "outputs": [
        {
          "output_type": "stream",
          "name": "stdout",
          "text": [
            "<class 'pandas.core.frame.DataFrame'>\n",
            "RangeIndex: 38972 entries, 0 to 38971\n",
            "Data columns (total 28 columns):\n",
            " #   Column                    Non-Null Count  Dtype         \n",
            "---  ------                    --------------  -----         \n",
            " 0   Unnamed: 0                38972 non-null  int64         \n",
            " 1   PO_NUM                    38972 non-null  int64         \n",
            " 2   DOCCUR                    38972 non-null  object        \n",
            " 3   DOCRATE                   38972 non-null  float64       \n",
            " 4   SUPPLIER_CODE             38972 non-null  object        \n",
            " 5   SUPPLIER_NAME             38970 non-null  object        \n",
            " 6   DOC_DATE                  38972 non-null  datetime64[ns]\n",
            " 7   DELIVERY_DATE             38972 non-null  datetime64[ns]\n",
            " 8   PO_VALUE                  38972 non-null  float64       \n",
            " 9   LOCATION                  38972 non-null  object        \n",
            " 10  ITEM_CODE_CLEANED         38972 non-null  int64         \n",
            " 11  ITEM_NAME                 38972 non-null  object        \n",
            " 12  ITEM_DETAILS              38847 non-null  object        \n",
            " 13  UOM                       38972 non-null  object        \n",
            " 14  ORDERED_QUANTITY          38972 non-null  float64       \n",
            " 15  PRICE                     38972 non-null  float64       \n",
            " 16  ITEM_VALUE                38972 non-null  float64       \n",
            " 17  TAX_AMOUNT(LC)            38972 non-null  float64       \n",
            " 18  LINETOTAL_WITH_TAX_(LC)   38972 non-null  float64       \n",
            " 19  PART_ID_CLEANED           38972 non-null  int64         \n",
            " 20  PART_NAME                 38972 non-null  object        \n",
            " 21  PART_DESCRIPTION          38679 non-null  object        \n",
            " 22  WIDTH_(MM)                26996 non-null  float64       \n",
            " 23  HEIGHT_(MM)               27064 non-null  float64       \n",
            " 24  DEPTH_(MM)                26245 non-null  float64       \n",
            " 25  MOUNTING_CLEARANCES_(MM)  0 non-null      float64       \n",
            " 26  WEIGHT_(KG)               25417 non-null  float64       \n",
            " 27  DELIVERY_TIME             38972 non-null  int64         \n",
            "dtypes: datetime64[ns](2), float64(12), int64(5), object(9)\n",
            "memory usage: 8.3+ MB\n",
            "\n",
            "Data Types and Non-null Counts:\t None \n",
            "\n"
          ]
        }
      ]
    },
    {
      "cell_type": "code",
      "source": [
        "# Check for missing values\n",
        "print('Missing Values: \\n', PO_data.isnull().sum(), '\\n')"
      ],
      "metadata": {
        "colab": {
          "base_uri": "https://localhost:8080/"
        },
        "id": "_8gMcLXuLnod",
        "outputId": "22e7b8dc-d41f-4a29-96b5-373917e7894b"
      },
      "execution_count": 6,
      "outputs": [
        {
          "output_type": "stream",
          "name": "stdout",
          "text": [
            "Missing Values: \n",
            " Unnamed: 0                      0\n",
            "PO_NUM                          0\n",
            "DOCCUR                          0\n",
            "DOCRATE                         0\n",
            "SUPPLIER_CODE                   0\n",
            "SUPPLIER_NAME                   2\n",
            "DOC_DATE                        0\n",
            "DELIVERY_DATE                   0\n",
            "PO_VALUE                        0\n",
            "LOCATION                        0\n",
            "ITEM_CODE_CLEANED               0\n",
            "ITEM_NAME                       0\n",
            "ITEM_DETAILS                  125\n",
            "UOM                             0\n",
            "ORDERED_QUANTITY                0\n",
            "PRICE                           0\n",
            "ITEM_VALUE                      0\n",
            "TAX_AMOUNT(LC)                  0\n",
            "LINETOTAL_WITH_TAX_(LC)         0\n",
            "PART_ID_CLEANED                 0\n",
            "PART_NAME                       0\n",
            "PART_DESCRIPTION              293\n",
            "WIDTH_(MM)                  11976\n",
            "HEIGHT_(MM)                 11908\n",
            "DEPTH_(MM)                  12727\n",
            "MOUNTING_CLEARANCES_(MM)    38972\n",
            "WEIGHT_(KG)                 13555\n",
            "DELIVERY_TIME                   0\n",
            "dtype: int64 \n",
            "\n"
          ]
        }
      ]
    },
    {
      "cell_type": "code",
      "source": [
        "# Check for duplicate rows\n",
        "print('Number of duplicate rows: \\t', PO_data.duplicated().sum(), '\\n')"
      ],
      "metadata": {
        "colab": {
          "base_uri": "https://localhost:8080/"
        },
        "id": "k75cKGshL1_6",
        "outputId": "0cfa61fb-56e4-447a-d99d-a5a540e8a830"
      },
      "execution_count": 7,
      "outputs": [
        {
          "output_type": "stream",
          "name": "stdout",
          "text": [
            "Number of duplicate rows: \t 0 \n",
            "\n"
          ]
        }
      ]
    },
    {
      "cell_type": "code",
      "source": [
        "#Summary of all the numerical data\n",
        "print('All the Numerical Features: \\n', PO_data.select_dtypes(include=['number']).columns, '\\n')\n",
        "\n",
        "# Summary statistics for numerical features\n",
        "print('Summary for Numberical Features: \\n', PO_data.describe(), '\\n')"
      ],
      "metadata": {
        "colab": {
          "base_uri": "https://localhost:8080/"
        },
        "id": "Rw-M-1JCL77A",
        "outputId": "f1f1424a-dac0-42af-8d54-5c6d1dc29ec6"
      },
      "execution_count": 8,
      "outputs": [
        {
          "output_type": "stream",
          "name": "stdout",
          "text": [
            "All the Numerical Features: \n",
            " Index(['Unnamed: 0', 'PO_NUM', 'DOCRATE', 'PO_VALUE', 'ITEM_CODE_CLEANED',\n",
            "       'ORDERED_QUANTITY', 'PRICE', 'ITEM_VALUE', 'TAX_AMOUNT(LC)',\n",
            "       'LINETOTAL_WITH_TAX_(LC)', 'PART_ID_CLEANED', 'WIDTH_(MM)',\n",
            "       'HEIGHT_(MM)', 'DEPTH_(MM)', 'MOUNTING_CLEARANCES_(MM)', 'WEIGHT_(KG)',\n",
            "       'DELIVERY_TIME'],\n",
            "      dtype='object') \n",
            "\n",
            "Summary for Numberical Features: \n",
            "          Unnamed: 0        PO_NUM       DOCRATE  \\\n",
            "count  38972.000000  3.897200e+04  38972.000000   \n",
            "mean   19485.500000  1.326400e+08     11.108913   \n",
            "min        0.000000  5.358600e+04      0.531900   \n",
            "25%     9742.750000  7.353375e+04      1.000000   \n",
            "50%    19485.500000  2.324308e+08      1.000000   \n",
            "75%    29228.250000  2.324701e+08      1.000000   \n",
            "max    38971.000000  2.425306e+08    105.572200   \n",
            "std    11250.391682  1.156600e+08     27.008198   \n",
            "\n",
            "                            DOC_DATE                  DELIVERY_DATE  \\\n",
            "count                          38972                          38972   \n",
            "mean   2023-06-04 18:50:10.653802496  2023-07-27 10:06:05.062095872   \n",
            "min              2021-10-01 00:00:00            2020-05-30 00:00:00   \n",
            "25%              2023-01-12 00:00:00            2023-02-20 00:00:00   \n",
            "50%              2023-05-16 00:00:00            2023-06-30 00:00:00   \n",
            "75%              2023-12-16 00:00:00            2024-01-23 00:00:00   \n",
            "max              2024-05-14 00:00:00            2204-03-20 00:00:00   \n",
            "std                              NaN                            NaN   \n",
            "\n",
            "           PO_VALUE  ITEM_CODE_CLEANED  ORDERED_QUANTITY         PRICE  \\\n",
            "count  3.897200e+04       38972.000000      38972.000000  3.897200e+04   \n",
            "mean   1.381926e+06       27336.907857        439.640368  1.643622e+04   \n",
            "min    0.000000e+00       14730.000000          1.000000  1.000000e-02   \n",
            "25%    4.170651e+04       18060.000000          3.000000  7.050000e+01   \n",
            "50%    1.489307e+05       26245.000000         12.000000  5.573750e+02   \n",
            "75%    4.694166e+05       33073.000000        100.000000  3.750000e+03   \n",
            "max    2.177792e+08       56001.000000     142000.000000  3.690000e+06   \n",
            "std    9.543567e+06       10356.347113       2366.380728  1.048510e+05   \n",
            "\n",
            "         ITEM_VALUE  TAX_AMOUNT(LC)  LINETOTAL_WITH_TAX_(LC)  PART_ID_CLEANED  \\\n",
            "count  3.897200e+04    3.897200e+04             3.897200e+04     38972.000000   \n",
            "mean   1.295403e+05    1.955500e+04             1.490953e+05     27336.907857   \n",
            "min    1.000000e-02    0.000000e+00             1.200000e-02     14730.000000   \n",
            "25%    2.250000e+03    2.088000e+02             2.596000e+03     18060.000000   \n",
            "50%    1.000000e+04    1.296000e+03             1.156400e+04     26245.000000   \n",
            "75%    4.433824e+04    6.466716e+03             5.160169e+04     33073.000000   \n",
            "max    7.505000e+07    1.350900e+07             8.855900e+07     56001.000000   \n",
            "std    1.077163e+06    1.830149e+05             1.251052e+06     10356.347113   \n",
            "\n",
            "          WIDTH_(MM)   HEIGHT_(MM)     DEPTH_(MM)  MOUNTING_CLEARANCES_(MM)  \\\n",
            "count   26996.000000  27064.000000   26245.000000                       0.0   \n",
            "mean      347.839284    176.667481      78.847395                       NaN   \n",
            "min         0.000000      0.000000       0.000000                       NaN   \n",
            "25%         0.000000      0.000000       0.000000                       NaN   \n",
            "50%         0.000000      5.000000       0.000000                       NaN   \n",
            "75%        48.000000     73.000000      52.000000                       NaN   \n",
            "max    320000.000000  30000.000000  279400.000000                       NaN   \n",
            "std      8427.289840   1528.398766    2990.158178                       NaN   \n",
            "\n",
            "        WEIGHT_(KG)  DELIVERY_TIME  \n",
            "count  25417.000000   38972.000000  \n",
            "mean      48.407351      52.865391  \n",
            "min        0.000000       0.000000  \n",
            "25%        0.000000       9.000000  \n",
            "50%        0.000000      22.000000  \n",
            "75%        0.079000      44.000000  \n",
            "max    32100.000000   65765.000000  \n",
            "std      888.935567     748.387183   \n",
            "\n"
          ]
        }
      ]
    },
    {
      "cell_type": "code",
      "source": [
        "#Summary of all the categorical data\n",
        "print('All the Categorical Features: \\n', PO_data.select_dtypes(include=['object', 'category']).columns, '\\n')\n",
        "\n",
        "# Summary statistics for categorical features\n",
        "print('Summary for Categorical Features: \\n', PO_data.describe(include=['object']), '\\n')"
      ],
      "metadata": {
        "colab": {
          "base_uri": "https://localhost:8080/"
        },
        "id": "liLQl6skMTp3",
        "outputId": "abdf33f6-94d3-4bd0-cd92-ecd7cd472250"
      },
      "execution_count": 9,
      "outputs": [
        {
          "output_type": "stream",
          "name": "stdout",
          "text": [
            "All the Categorical Features: \n",
            " Index(['DOCCUR', 'SUPPLIER_CODE', 'SUPPLIER_NAME', 'LOCATION', 'ITEM_NAME',\n",
            "       'ITEM_DETAILS', 'UOM', 'PART_NAME', 'PART_DESCRIPTION'],\n",
            "      dtype='object') \n",
            "\n",
            "Summary for Categorical Features: \n",
            "        DOCCUR SUPPLIER_CODE          SUPPLIER_NAME LOCATION ITEM_NAME  \\\n",
            "count   38972         38972                  38970    38972     38972   \n",
            "unique      7          1133                   1107       56      2464   \n",
            "top       INR      VF000363  DIGI-KEY ELECTRONICS.    NOIDA     CABLE   \n",
            "freq    33941          2661                   2661    25194      2338   \n",
            "\n",
            "                                             ITEM_DETAILS    UOM PART_NAME  \\\n",
            "count                                               38847  38972     38972   \n",
            "unique                                               3263     17      1995   \n",
            "top     <DASH>LFLEX<REGISTERED> 100 POWER AND CONTROL ...    NOS     CABLE   \n",
            "freq                                                  132  34737      2968   \n",
            "\n",
            "                                         PART_DESCRIPTION  \n",
            "count                                               38679  \n",
            "unique                                               3242  \n",
            "top     OLFLEX 100 POWER AND CONTROL CABLE; 4G1.5; 9.8...  \n",
            "freq                                                  132   \n",
            "\n"
          ]
        }
      ]
    },
    {
      "cell_type": "code",
      "source": [
        "# Standardize the numeric columns\n",
        "\n",
        "from sklearn.preprocessing import StandardScaler\n",
        "\n",
        "scaler = StandardScaler()\n",
        "PO_data[['PRICE', 'ITEM_VALUE', 'DELIVERY_TIME']] = scaler.fit_transform(PO_data[['PRICE', 'ITEM_VALUE', 'DELIVERY_TIME']])\n"
      ],
      "metadata": {
        "id": "Crx3JR2GPsBL"
      },
      "execution_count": 10,
      "outputs": []
    },
    {
      "cell_type": "code",
      "source": [
        "# Encode categorical variables\n",
        "PO_data = pd.get_dummies(PO_data, columns=['SUPPLIER_NAME', 'PART_NAME'], drop_first=True)"
      ],
      "metadata": {
        "id": "g4HlipDBQOgj"
      },
      "execution_count": 11,
      "outputs": []
    },
    {
      "cell_type": "markdown",
      "source": [
        "Checking for Linearity"
      ],
      "metadata": {
        "id": "5mA4iRIhJm2I"
      }
    },
    {
      "cell_type": "markdown",
      "source": [
        "# Training with Collaborative Fitting with SVD\n",
        "\n",
        "---\n",
        "\n"
      ],
      "metadata": {
        "id": "DubKuBDqRZdr"
      }
    },
    {
      "cell_type": "code",
      "source": [
        "!pip install scikit-surprise"
      ],
      "metadata": {
        "colab": {
          "base_uri": "https://localhost:8080/"
        },
        "id": "m7_D5zVgYf4A",
        "outputId": "07721f37-93fe-44c1-b172-1b7c2e73ac00"
      },
      "execution_count": 12,
      "outputs": [
        {
          "output_type": "stream",
          "name": "stdout",
          "text": [
            "Collecting scikit-surprise\n",
            "  Downloading scikit_surprise-1.1.4.tar.gz (154 kB)\n",
            "\u001b[?25l     \u001b[90m━━━━━━━━━━━━━━━━━━━━━━━━━━━━━━━━━━━━━━━━\u001b[0m \u001b[32m0.0/154.4 kB\u001b[0m \u001b[31m?\u001b[0m eta \u001b[36m-:--:--\u001b[0m\r\u001b[2K     \u001b[91m━━━━━━━━━━━━━━━\u001b[0m\u001b[91m╸\u001b[0m\u001b[90m━━━━━━━━━━━━━━━━━━━━━━━━\u001b[0m \u001b[32m61.4/154.4 kB\u001b[0m \u001b[31m1.6 MB/s\u001b[0m eta \u001b[36m0:00:01\u001b[0m\r\u001b[2K     \u001b[90m━━━━━━━━━━━━━━━━━━━━━━━━━━━━━━━━━━━━━━━━\u001b[0m \u001b[32m154.4/154.4 kB\u001b[0m \u001b[31m2.5 MB/s\u001b[0m eta \u001b[36m0:00:00\u001b[0m\n",
            "\u001b[?25h  Installing build dependencies ... \u001b[?25l\u001b[?25hdone\n",
            "  Getting requirements to build wheel ... \u001b[?25l\u001b[?25hdone\n",
            "  Preparing metadata (pyproject.toml) ... \u001b[?25l\u001b[?25hdone\n",
            "Requirement already satisfied: joblib>=1.2.0 in /usr/local/lib/python3.10/dist-packages (from scikit-surprise) (1.4.2)\n",
            "Requirement already satisfied: numpy>=1.19.5 in /usr/local/lib/python3.10/dist-packages (from scikit-surprise) (1.26.4)\n",
            "Requirement already satisfied: scipy>=1.6.0 in /usr/local/lib/python3.10/dist-packages (from scikit-surprise) (1.13.1)\n",
            "Building wheels for collected packages: scikit-surprise\n",
            "  Building wheel for scikit-surprise (pyproject.toml) ... \u001b[?25l\u001b[?25hdone\n",
            "  Created wheel for scikit-surprise: filename=scikit_surprise-1.1.4-cp310-cp310-linux_x86_64.whl size=2357269 sha256=392848c482564cb058bc68fcc1757551ffef18d9bac214f4989cc6111d26e885\n",
            "  Stored in directory: /root/.cache/pip/wheels/4b/3f/df/6acbf0a40397d9bf3ff97f582cc22fb9ce66adde75bc71fd54\n",
            "Successfully built scikit-surprise\n",
            "Installing collected packages: scikit-surprise\n",
            "Successfully installed scikit-surprise-1.1.4\n"
          ]
        }
      ]
    },
    {
      "cell_type": "code",
      "source": [
        "from surprise import Reader, Dataset\n",
        "\n",
        "# Convert data into Surprise format\n",
        "reader = Reader(rating_scale=(1, 10))  # Assuming price scale\n",
        "surprise_data = Dataset.load_from_df(PO_data[['SUPPLIER_CODE', 'PART_ID_CLEANED', 'PRICE']], reader)\n",
        "\n",
        "#print(f\"Number of users: {surprise_data.n_users}\")\n",
        "#print(f\"Number of items: {surprise_data.n_items}\")\n",
        "\n",
        "print(surprise_data)"
      ],
      "metadata": {
        "colab": {
          "base_uri": "https://localhost:8080/"
        },
        "id": "YPrUhSB3haaZ",
        "outputId": "dff778c6-3ebd-4aa9-c862-527c736b1871"
      },
      "execution_count": null,
      "outputs": [
        {
          "output_type": "stream",
          "name": "stdout",
          "text": [
            "<surprise.dataset.DatasetAutoFolds object at 0x7a5aa8f6a500>\n"
          ]
        }
      ]
    },
    {
      "cell_type": "code",
      "source": [
        "from surprise import SVD\n",
        "from surprise import accuracy\n",
        "from surprise import Reader\n",
        "from surprise import Dataset\n",
        "from sklearn.model_selection import train_test_split\n",
        "\n",
        "y = PO_data['PRICE']\n",
        "X = PO_data.drop(columns=['PRICE'])\n",
        "\n",
        "# Split the data (e.g., 80% training, 20% testing)\n",
        "X_train, X_test, y_train, y_test = train_test_split(X, y, test_size=0.2, random_state=42)\n",
        "\n",
        "#Create a Surprise Dateset\n",
        "reader = Reader(rating_scale=(PO_data['PRICE'].min(), PO_data['PRICE'].max()))\n",
        "\n",
        "# Create the trainset from the training data\n",
        "train_df = pd.DataFrame({'userID': X_train.index, 'itemID': X_train['PART_ID_CLEANED'], 'rating': y_train})\n",
        "trainset = Dataset.load_from_df(train_df[['userID', 'itemID', 'rating']], reader)\n",
        "\n",
        "# Use the SVD algorithm\n",
        "model = SVD()\n",
        "\n",
        "# Train the model on the Surprise trainset\n",
        "model.fit(trainset.build_full_trainset())\n",
        "\n",
        "# Make predictions - need to create testset similar to trainset\n",
        "test_df = pd.DataFrame({'userID': X_test.index, 'itemID': X_test['PART_ID_CLEANED'], 'rating': y_test})\n",
        "testset = Dataset.load_from_df(test_df[['userID', 'itemID', 'rating']], reader).build_full_trainset().build_testset() # create testset\n",
        "predictions = model.test(testset) # get predictions on the testset\n",
        "\n",
        "# Evaluate the model\n",
        "accuracy.mse(predictions)\n",
        "\n",
        "# Evaluate accuracy\n",
        "accuracy.rmse(predictions)"
      ],
      "metadata": {
        "colab": {
          "base_uri": "https://localhost:8080/"
        },
        "id": "4G85pR4oVQ6E",
        "outputId": "957cd9f5-4886-47ad-ad18-384269a99f00"
      },
      "execution_count": 13,
      "outputs": [
        {
          "output_type": "stream",
          "name": "stdout",
          "text": [
            "MSE: 0.2743\n",
            "RMSE: 0.5237\n"
          ]
        },
        {
          "output_type": "execute_result",
          "data": {
            "text/plain": [
              "0.5236904849457404"
            ]
          },
          "metadata": {},
          "execution_count": 13
        }
      ]
    },
    {
      "cell_type": "code",
      "source": [],
      "metadata": {
        "id": "fvIxYHief9xR"
      },
      "execution_count": null,
      "outputs": []
    },
    {
      "cell_type": "code",
      "source": [
        "# Since 'scaler' is the StandardScaler object used for scaling\n",
        "original_delivery_time = scaler.inverse_transform(PO_data[['PRICE', 'ITEM_VALUE', 'DELIVERY_TIME']])[:, 2]\n",
        "\n",
        "# Replace the scaled 'DELIVERY_TIME' column with the original values\n",
        "PO_data['PRICE'] = original_delivery_time"
      ],
      "metadata": {
        "id": "9oOk_GEtktpI"
      },
      "execution_count": null,
      "outputs": []
    },
    {
      "cell_type": "code",
      "source": [
        "# prompt: Predicting for a specific part and vendor based on price instead o flead time\n",
        "\n",
        "# Assuming you want to predict the price for a specific part and vendor\n",
        "# Get unique part_id and supplier_code combinations from the training data\n",
        "\n",
        "unique_combinations = X_train[['PART_ID_CLEANED', 'SUPPLIER_CODE']].drop_duplicates()\n",
        "\n",
        "# Example: Predict the price for part ID 12345 and supplier code 9876\n",
        "part_id_to_predict = 12345\n",
        "supplier_code_to_predict = 9876\n",
        "\n",
        "\n",
        "# Create a new DataFrame for prediction\n",
        "prediction_df = pd.DataFrame({\n",
        "    'userID': [0],  # Use a placeholder for user ID (it won't affect the prediction)\n",
        "    'itemID': [part_id_to_predict],\n",
        "    'rating': [0] #Placeholder for rating\n",
        "})\n",
        "\n",
        "\n",
        "# Make a prediction for this part_id and supplier_code\n",
        "prediction = model.predict(uid=0, iid=part_id_to_predict)\n",
        "predicted_price = prediction.est\n",
        "\n",
        "# Print the predicted price\n",
        "print(f\"Predicted price for part ID {part_id_to_predict} and supplier {supplier_code_to_predict}: {predicted_price}\")\n",
        "\n",
        "# You can adapt this code to loop through different part IDs and supplier codes\n",
        "# to generate predictions for various combinations.\n",
        "\n",
        "\n",
        "\n",
        "\n",
        "\n",
        "\n",
        "\n"
      ],
      "metadata": {
        "id": "Gjp-BoEbo4Pv"
      },
      "execution_count": null,
      "outputs": []
    },
    {
      "cell_type": "code",
      "source": [
        "unique_combinations = X_train[['PART_ID_CLEANED', 'SUPPLIER_CODE']].drop_duplicates()\n",
        "\n",
        "for index, row in unique_combinations.iterrows():\n",
        "    part_id_to_predict = row['PART_ID_CLEANED']\n",
        "    supplier_code_to_predict = row['SUPPLIER_CODE']\n",
        "\n",
        "part_to_predict = PO_data['PART_ID_CLEANED'].sample().iloc[0]\n",
        "vendor_to_predict = PO_data['SUPPLIER_CODE'].sample().iloc[0]\n",
        "\n",
        "# Create a new DataFrame for prediction\n",
        "prediction_df = pd.DataFrame({\n",
        "    'userID': [0],  # Use a placeholder for user ID (it won't affect the prediction)\n",
        "    'itemID': [part_to_predict],\n",
        "    'rating': [0] #Placeholder for rating\n",
        "})\n",
        "\n",
        "\n",
        "# Make a prediction for this part_id and supplier_code\n",
        "prediction = model.predict(uid=0, iid=part_to_predict)\n",
        "predicted_price = prediction.est\n",
        "\n",
        "# Print the predicted price\n",
        "print(f\"Predicted price for part ID {part_to_predict} and supplier {vendor_to_predict}: {predicted_price}\")"
      ],
      "metadata": {
        "colab": {
          "base_uri": "https://localhost:8080/"
        },
        "id": "syGQaETs0sKZ",
        "outputId": "0733f532-5fac-4e57-a0a9-b07b1254dfc2"
      },
      "execution_count": 18,
      "outputs": [
        {
          "output_type": "stream",
          "name": "stdout",
          "text": [
            "Predicted price for part ID 50855 and supplier VD002354: 0.015368292004308878\n"
          ]
        }
      ]
    },
    {
      "cell_type": "code",
      "source": [
        "# Predicting for a specific part and vendor\n",
        "\n",
        "unique_combinations = X_train[['PART_ID_CLEANED', 'SUPPLIER_CODE']].drop_duplicates()\n",
        "\n",
        "part_to_predict = PO_data['PART_ID_CLEANED'].sample().iloc[0]\n",
        "vendor_to_predict = PO_data['SUPPLIER_CODE'].sample().iloc[0]\n",
        "\n",
        "# Predict\n",
        "prediction = model.predict(vendor_to_predict, part_to_predict)\n",
        "\n",
        "# Display the prediction for lead time\n",
        "print(f\"Predicted price for {vendor_to_predict} to supply {part_to_predict}: {prediction.est}\")\n",
        "\n",
        "# Recommend top vendors for a particular part based on lead time\n",
        "# We will predict lead times for all vendors for a specific part and rank them\n",
        "def recommend_vendors_for_part(model, part_name, vendors, top_n=3):\n",
        "    vendor_predictions = [(vendor, model.predict(vendor, part_name).est) for vendor in vendors]\n",
        "    sorted_vendors = sorted(vendor_predictions, key=lambda x: x[1])  # Sort by predicted lead time\n",
        "    return sorted_vendors[:top_n]\n",
        "\n",
        "# Get all unique vendors\n",
        "unique_vendors = PO_data['SUPPLIER_CODE'].unique()\n",
        "\n",
        "# Recommend top vendors for 'Part2'\n",
        "recommended_vendors = recommend_vendors_for_part(model, 'Part2', unique_vendors)\n",
        "print(\"Top vendors for Part2 based on price predictions:\")\n",
        "for vendor, lead_time in recommended_vendors:\n",
        "    print(f\"Vendor: {vendor}, Predicted price: {lead_time}\")\n",
        "\n",
        "print(f\"Predicting lead time for {vendor_to_predict} to supply {part_to_predict}\")\n",
        "\n",
        "# Predict\n",
        "prediction = model.predict(vendor_to_predict, part_to_predict)\n",
        "\n",
        "# Display the prediction for lead time\n",
        "print(f\"Predicted lead time for {vendor_to_predict} to supply {part_to_predict}: {prediction.est}\")\n",
        "\n",
        "# Recommend top vendors for a particular part based on lead time\n",
        "# We will predict lead times for all vendors for a specific part and rank them\n",
        "def recommend_vendors_for_part(model, part_name, vendors, top_n=3):\n",
        "    vendor_predictions = [(vendor, model.predict(vendor, part_name).est) for vendor in vendors]\n",
        "    sorted_vendors = sorted(vendor_predictions, key=lambda x: x[1])  # Sort by predicted lead time\n",
        "    return sorted_vendors[:top_n]\n",
        "\n",
        "# Get all unique vendors\n",
        "unique_vendors = PO_data['SUPPLIER_CODE'].unique()\n",
        "\n",
        "# Recommend top vendors for 'Part2'\n",
        "recommended_vendors = recommend_vendors_for_part(model, 'Part2', unique_vendors)\n",
        "print(\"Top vendors for the selected part based on lead time predictions:\")\n",
        "for vendor, lead_time in recommended_vendors:\n",
        "    print(f\"Vendor: {vendor}, Predicted Lead Time: {lead_time}\")"
      ],
      "metadata": {
        "colab": {
          "base_uri": "https://localhost:8080/"
        },
        "id": "81l72tIFbQ5G",
        "outputId": "b323ff5d-7239-45b3-86be-7429d936219c"
      },
      "execution_count": 19,
      "outputs": [
        {
          "output_type": "stream",
          "name": "stdout",
          "text": [
            "Predicted price for VD001784 to supply 25455: -0.12583790221897\n",
            "Top vendors for Part2 based on price predictions:\n",
            "Vendor: VD001614, Predicted price: 0.002814112141419809\n",
            "Vendor: VD003065, Predicted price: 0.002814112141419809\n",
            "Vendor: VD003071, Predicted price: 0.002814112141419809\n",
            "Predicting lead time for VD001784 to supply 25455\n",
            "Predicted lead time for VD001784 to supply 25455: -0.12583790221897\n",
            "Top vendors for the selected part based on lead time predictions:\n",
            "Vendor: VD001614, Predicted Lead Time: 0.002814112141419809\n",
            "Vendor: VD003065, Predicted Lead Time: 0.002814112141419809\n",
            "Vendor: VD003071, Predicted Lead Time: 0.002814112141419809\n"
          ]
        }
      ]
    },
    {
      "cell_type": "code",
      "source": [
        "# Get the top N vendors for a specific component\n",
        "\n",
        "#randomly select a part_name\n",
        "import random\n",
        "\n",
        "# Get all available column names\n",
        "available_columns = PO_data.columns\n",
        "\n",
        "# Check if 'PART_NAME' exists, otherwise, use a different relevant column\n",
        "part_name_column = 'PART_NAME' if 'PART_NAME' in available_columns else available_columns[0]  # Replace available_columns[0] with an appropriate column if needed\n",
        "\n",
        "# Randomly select a part_name\n",
        "part_name = random.choice(PO_data[part_name_column].unique())\n",
        "\n",
        "component_id = PO_data[PO_data[part_name_column] == part_name]['PART_ID_CLEANED'].iloc[0]\n",
        "\n",
        "recommended_vendors = PO_data[PO_data['PART_ID_CLEANED'] == component_id]\n",
        "recommended_vendors = recommended_vendors.sort_values(by='DELIVERY_TIME', ascending=False)\n",
        "\n",
        "# Print the top N vendors for the component\n",
        "top_vendors = recommended_vendors[recommended_vendors[part_name_column] == component_id].head(5)\n",
        "print(top_vendors[['SUPPLIER_CODE', 'DELIVERY_TIME', 'PRICE', 'DOCCUR']])"
      ],
      "metadata": {
        "id": "-sC6Oqr3Ry_e",
        "colab": {
          "base_uri": "https://localhost:8080/"
        },
        "outputId": "003d51c8-650e-441e-f9fa-2d58714a4e71"
      },
      "execution_count": 20,
      "outputs": [
        {
          "output_type": "stream",
          "name": "stdout",
          "text": [
            "Empty DataFrame\n",
            "Columns: [SUPPLIER_CODE, DELIVERY_TIME, PRICE, DOCCUR]\n",
            "Index: []\n"
          ]
        }
      ]
    }
  ]
}