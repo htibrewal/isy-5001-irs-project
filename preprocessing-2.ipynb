{
 "cells": [
  {
   "metadata": {
    "ExecuteTime": {
     "end_time": "2024-10-14T07:35:32.157418Z",
     "start_time": "2024-10-14T07:35:30.030392Z"
    }
   },
   "cell_type": "code",
   "source": [
    "import pandas as pd\n",
    "import numpy as np\n",
    "import os\n",
    "import matplotlib.pyplot as plt"
   ],
   "id": "231655ffe06d67ba",
   "outputs": [],
   "execution_count": 1
  },
  {
   "metadata": {
    "ExecuteTime": {
     "end_time": "2024-10-14T07:35:33.829137Z",
     "start_time": "2024-10-14T07:35:33.825527Z"
    }
   },
   "cell_type": "code",
   "source": "base_path = '/Users/harsh/Desktop/Intelligent Reasoning Systems/Project/Raw Data'",
   "id": "b6caf78199a85810",
   "outputs": [],
   "execution_count": 2
  },
  {
   "metadata": {
    "ExecuteTime": {
     "end_time": "2024-10-14T07:36:06.664844Z",
     "start_time": "2024-10-14T07:35:35.327271Z"
    }
   },
   "cell_type": "code",
   "source": [
    "location_data = pd.read_excel(os.path.join(base_path, 'Data 1.xlsx'))\n",
    "location_data.columns = location_data.columns.str.replace(' ', '_').str.upper()"
   ],
   "id": "421bf6a585268299",
   "outputs": [],
   "execution_count": 3
  },
  {
   "metadata": {
    "ExecuteTime": {
     "end_time": "2024-10-14T07:36:06.682469Z",
     "start_time": "2024-10-14T07:36:06.674722Z"
    }
   },
   "cell_type": "code",
   "source": "location_data.shape",
   "id": "46b10f409acdcde3",
   "outputs": [
    {
     "data": {
      "text/plain": [
       "(50461, 59)"
      ]
     },
     "execution_count": 4,
     "metadata": {},
     "output_type": "execute_result"
    }
   ],
   "execution_count": 4
  },
  {
   "metadata": {
    "ExecuteTime": {
     "end_time": "2024-10-14T07:36:06.809054Z",
     "start_time": "2024-10-14T07:36:06.801241Z"
    }
   },
   "cell_type": "code",
   "source": "location_data.dtypes",
   "id": "756db1895902246b",
   "outputs": [
    {
     "data": {
      "text/plain": [
       "#                                   int64\n",
       "DOCTYPE                            object\n",
       "CANCELED                           object\n",
       "DOCCUR                             object\n",
       "DOCRATE                           float64\n",
       "DOCSTATUS                          object\n",
       "PO_NUM                              int64\n",
       "BASE_TYPE                          object\n",
       "BASE_NUMBER                       float64\n",
       "BASE_LINE                         float64\n",
       "SUPPLIER_NAME                      object\n",
       "SUPPLIER_CODE                      object\n",
       "DOC_DATE                   datetime64[ns]\n",
       "DELIVERY_DATE              datetime64[ns]\n",
       "EXPECTED_DATE              datetime64[ns]\n",
       "FOLLOW_UP_DATE             datetime64[ns]\n",
       "BUYER                              object\n",
       "PO_VALUE                          float64\n",
       "BP_PROJECT_CODE                    object\n",
       "BP_PROJECT_NAME                    object\n",
       "LINE_PROJECT_CODE                  object\n",
       "LINE_PROJECT_NAME                  object\n",
       "LOCATION                           object\n",
       "ITEM_CODE                          object\n",
       "ITEM_NAME                          object\n",
       "FG_ITEM_DESCRIPTION                object\n",
       "ITEM_DETAILS                       object\n",
       "MANUFACTURER_PART_NO               object\n",
       "HSN                                object\n",
       "UOM                                object\n",
       "ORDERED_QUANTITY                  float64\n",
       "PRICE                             float64\n",
       "ITEM_VALUE                        float64\n",
       "FREIGHT                           float64\n",
       "TAX_CODE                           object\n",
       "TAX_AMOUNT(LC)                    float64\n",
       "LINETOTAL_WITH_TAX_(LC)           float64\n",
       "BALANCE_QUNATITY                  float64\n",
       "OPEN_QTY_IN_OPENING               float64\n",
       "OPEN_ITEM_VALUE                   float64\n",
       "USER_CODE                          object\n",
       "ORDER_QTY                         float64\n",
       "GRN_/_SHIPMENT_QTY                float64\n",
       "GRN_/_SHIPMENT_VAL                float64\n",
       "DOWNPAYMENT_VALUE                 float64\n",
       "DOWNPAYMENT_DATE           datetime64[ns]\n",
       "PAID_AMOUNT                       float64\n",
       "OPEN_GR_QTY                       float64\n",
       "GR_OPEN_VALUE                     float64\n",
       "MANUALLY_CLOSED_PO                 object\n",
       "PO_OWNER_NAME                      object\n",
       "PYMNTGROUP                         object\n",
       "HEADER                             object\n",
       "FOOTER                             object\n",
       "BRANCH_NAME                        object\n",
       "IMP_OR_EXP                         object\n",
       "COST_SAVING                        object\n",
       "COST_SAVING_CRITERIA               object\n",
       "FORCE_CLOSED_PO_QTY               float64\n",
       "dtype: object"
      ]
     },
     "execution_count": 5,
     "metadata": {},
     "output_type": "execute_result"
    }
   ],
   "execution_count": 5
  },
  {
   "metadata": {
    "ExecuteTime": {
     "end_time": "2024-10-14T07:36:07.132758Z",
     "start_time": "2024-10-14T07:36:06.999910Z"
    }
   },
   "cell_type": "code",
   "source": [
    "unique_counts = location_data.nunique()\n",
    "unique_counts"
   ],
   "id": "7bfd38a4a0d29e6c",
   "outputs": [
    {
     "data": {
      "text/plain": [
       "#                          50461\n",
       "DOCTYPE                        2\n",
       "CANCELED                       2\n",
       "DOCCUR                         8\n",
       "DOCRATE                      610\n",
       "DOCSTATUS                      2\n",
       "PO_NUM                     15110\n",
       "BASE_TYPE                      2\n",
       "BASE_NUMBER                10775\n",
       "BASE_LINE                    298\n",
       "SUPPLIER_NAME               1615\n",
       "SUPPLIER_CODE               1642\n",
       "DOC_DATE                     744\n",
       "DELIVERY_DATE                968\n",
       "EXPECTED_DATE                  2\n",
       "FOLLOW_UP_DATE                 2\n",
       "BUYER                        101\n",
       "PO_VALUE                   10978\n",
       "BP_PROJECT_CODE              171\n",
       "BP_PROJECT_NAME              170\n",
       "LINE_PROJECT_CODE            373\n",
       "LINE_PROJECT_NAME            369\n",
       "LOCATION                      59\n",
       "ITEM_CODE                  20592\n",
       "ITEM_NAME                  23937\n",
       "FG_ITEM_DESCRIPTION         6666\n",
       "ITEM_DETAILS               11598\n",
       "MANUFACTURER_PART_NO        9354\n",
       "HSN                         1670\n",
       "UOM                           78\n",
       "ORDERED_QUANTITY            1105\n",
       "PRICE                      18757\n",
       "ITEM_VALUE                 24852\n",
       "FREIGHT                      448\n",
       "TAX_CODE                      33\n",
       "TAX_AMOUNT(LC)             18659\n",
       "LINETOTAL_WITH_TAX_(LC)    25484\n",
       "BALANCE_QUNATITY             412\n",
       "OPEN_QTY_IN_OPENING          666\n",
       "OPEN_ITEM_VALUE             3666\n",
       "USER_CODE                     17\n",
       "ORDER_QTY                   1105\n",
       "GRN_/_SHIPMENT_QTY          1414\n",
       "GRN_/_SHIPMENT_VAL         20273\n",
       "DOWNPAYMENT_VALUE           2677\n",
       "DOWNPAYMENT_DATE             349\n",
       "PAID_AMOUNT                 1256\n",
       "OPEN_GR_QTY                   67\n",
       "GR_OPEN_VALUE                244\n",
       "MANUALLY_CLOSED_PO             2\n",
       "PO_OWNER_NAME                148\n",
       "PYMNTGROUP                    43\n",
       "HEADER                      3004\n",
       "FOOTER                        23\n",
       "BRANCH_NAME                    5\n",
       "IMP_OR_EXP                     2\n",
       "COST_SAVING                  938\n",
       "COST_SAVING_CRITERIA           4\n",
       "FORCE_CLOSED_PO_QTY          753\n",
       "dtype: int64"
      ]
     },
     "execution_count": 6,
     "metadata": {},
     "output_type": "execute_result"
    }
   ],
   "execution_count": 6
  },
  {
   "metadata": {
    "ExecuteTime": {
     "end_time": "2024-10-14T07:36:07.311823Z",
     "start_time": "2024-10-14T07:36:07.306754Z"
    }
   },
   "cell_type": "code",
   "source": [
    "threshold = 10\n",
    "\n",
    "group_1 = unique_counts[unique_counts < threshold]\n",
    "group_2 = unique_counts[unique_counts >= threshold]"
   ],
   "id": "d8aeeef8bccde0ba",
   "outputs": [],
   "execution_count": 7
  },
  {
   "metadata": {
    "ExecuteTime": {
     "end_time": "2024-10-14T07:36:07.494890Z",
     "start_time": "2024-10-14T07:36:07.434874Z"
    }
   },
   "cell_type": "code",
   "source": [
    "sparse_columns = group_1.index.to_list()\n",
    "\n",
    "for column in sparse_columns:\n",
    "    print(column)\n",
    "    print(location_data[column].dropna().unique())\n",
    "    print()"
   ],
   "id": "b7689a817949c0e0",
   "outputs": [
    {
     "name": "stdout",
     "output_type": "stream",
     "text": [
      "DOCTYPE\n",
      "['I' 'S']\n",
      "\n",
      "CANCELED\n",
      "['N' 'Y']\n",
      "\n",
      "DOCCUR\n",
      "['INR' 'EUR' 'USD' 'AUD' 'CHF' 'GBP' 'JPY' 'KWD']\n",
      "\n",
      "DOCSTATUS\n",
      "['C' 'O']\n",
      "\n",
      "BASE_TYPE\n",
      "['PR' -1]\n",
      "\n",
      "EXPECTED_DATE\n",
      "<DatetimeArray>\n",
      "['2023-01-06 00:00:00', '2023-05-03 00:00:00']\n",
      "Length: 2, dtype: datetime64[ns]\n",
      "\n",
      "FOLLOW_UP_DATE\n",
      "<DatetimeArray>\n",
      "['2023-05-03 00:00:00', '2023-01-16 00:00:00']\n",
      "Length: 2, dtype: datetime64[ns]\n",
      "\n",
      "MANUALLY_CLOSED_PO\n",
      "['No' 'Yes']\n",
      "\n",
      "BRANCH_NAME\n",
      "['NOIDA' 'Ecotech X' 'AFSNOIDA' 'GUJARAT' 'MUMBAI']\n",
      "\n",
      "IMP_OR_EXP\n",
      "['N' 'Y']\n",
      "\n",
      "COST_SAVING_CRITERIA\n",
      "['Against L2' 'Against LPP' 'Negotiated' 'Others']\n",
      "\n"
     ]
    }
   ],
   "execution_count": 8
  },
  {
   "metadata": {
    "ExecuteTime": {
     "end_time": "2024-10-14T07:36:14.371578Z",
     "start_time": "2024-10-14T07:36:14.363893Z"
    }
   },
   "cell_type": "code",
   "source": "group_2",
   "id": "c8584e64fb589e10",
   "outputs": [
    {
     "data": {
      "text/plain": [
       "#                          50461\n",
       "DOCRATE                      610\n",
       "PO_NUM                     15110\n",
       "BASE_NUMBER                10775\n",
       "BASE_LINE                    298\n",
       "SUPPLIER_NAME               1615\n",
       "SUPPLIER_CODE               1642\n",
       "DOC_DATE                     744\n",
       "DELIVERY_DATE                968\n",
       "BUYER                        101\n",
       "PO_VALUE                   10978\n",
       "BP_PROJECT_CODE              171\n",
       "BP_PROJECT_NAME              170\n",
       "LINE_PROJECT_CODE            373\n",
       "LINE_PROJECT_NAME            369\n",
       "LOCATION                      59\n",
       "ITEM_CODE                  20592\n",
       "ITEM_NAME                  23937\n",
       "FG_ITEM_DESCRIPTION         6666\n",
       "ITEM_DETAILS               11598\n",
       "MANUFACTURER_PART_NO        9354\n",
       "HSN                         1670\n",
       "UOM                           78\n",
       "ORDERED_QUANTITY            1105\n",
       "PRICE                      18757\n",
       "ITEM_VALUE                 24852\n",
       "FREIGHT                      448\n",
       "TAX_CODE                      33\n",
       "TAX_AMOUNT(LC)             18659\n",
       "LINETOTAL_WITH_TAX_(LC)    25484\n",
       "BALANCE_QUNATITY             412\n",
       "OPEN_QTY_IN_OPENING          666\n",
       "OPEN_ITEM_VALUE             3666\n",
       "USER_CODE                     17\n",
       "ORDER_QTY                   1105\n",
       "GRN_/_SHIPMENT_QTY          1414\n",
       "GRN_/_SHIPMENT_VAL         20273\n",
       "DOWNPAYMENT_VALUE           2677\n",
       "DOWNPAYMENT_DATE             349\n",
       "PAID_AMOUNT                 1256\n",
       "OPEN_GR_QTY                   67\n",
       "GR_OPEN_VALUE                244\n",
       "PO_OWNER_NAME                148\n",
       "PYMNTGROUP                    43\n",
       "HEADER                      3004\n",
       "FOOTER                        23\n",
       "COST_SAVING                  938\n",
       "FORCE_CLOSED_PO_QTY          753\n",
       "dtype: int64"
      ]
     },
     "execution_count": 9,
     "metadata": {},
     "output_type": "execute_result"
    }
   ],
   "execution_count": 9
  },
  {
   "metadata": {
    "ExecuteTime": {
     "end_time": "2024-10-14T08:53:36.017888Z",
     "start_time": "2024-10-14T08:53:36.001580Z"
    }
   },
   "cell_type": "code",
   "source": [
    "dense_columns = group_2.index.to_list()\n",
    "\n",
    "# for column in dense_columns:\n",
    "#     print(column)\n",
    "#     print(location_data[column].dropna().unique())\n",
    "#     print()"
   ],
   "id": "501399d31822990b",
   "outputs": [],
   "execution_count": 10
  },
  {
   "metadata": {},
   "cell_type": "code",
   "outputs": [],
   "execution_count": null,
   "source": "",
   "id": "9c50b5988e0057b0"
  },
  {
   "metadata": {
    "ExecuteTime": {
     "end_time": "2024-10-14T08:58:10.183791Z",
     "start_time": "2024-10-14T08:58:09.990824Z"
    }
   },
   "cell_type": "code",
   "source": [
    "# LOAD ELECTRICAL PARTS INFO\n",
    "electric_parts_data = pd.read_csv(os.path.join(base_path, 'Final CSV Files', 'Electrical Parts Report Modified.csv'), encoding='ISO-8859-1')\n",
    "electric_parts_data.columns = electric_parts_data.columns.str.replace(' ', '_').str.upper()\n",
    "electric_parts_data = electric_parts_data.drop(labels=['PART_OWNER', 'PART_REVISION', 'MOUNTING_CLEARANCES_(MM)', 'OLD_PLM_ID', 'OLD_SAP_ID', 'RELEASED_STATUS', 'PART_CATEGORY'], axis=1)"
   ],
   "id": "1ad777f257d4308b",
   "outputs": [],
   "execution_count": 13
  },
  {
   "metadata": {
    "ExecuteTime": {
     "end_time": "2024-10-14T08:58:16.469160Z",
     "start_time": "2024-10-14T08:58:16.461611Z"
    }
   },
   "cell_type": "code",
   "source": "electric_parts_data.shape",
   "id": "dda70d27b1d8e46c",
   "outputs": [
    {
     "data": {
      "text/plain": [
       "(9359, 14)"
      ]
     },
     "execution_count": 14,
     "metadata": {},
     "output_type": "execute_result"
    }
   ],
   "execution_count": 14
  },
  {
   "metadata": {
    "ExecuteTime": {
     "end_time": "2024-10-14T08:58:23.340288Z",
     "start_time": "2024-10-14T08:58:23.306391Z"
    }
   },
   "cell_type": "code",
   "source": "electric_parts_data.head()",
   "id": "8bcca75100290867",
   "outputs": [
    {
     "data": {
      "text/plain": [
       "   PART_ID                                          PART_NAME  \\\n",
       "0    41237         CABLE GLAND- DOUBLE COMPRESSION CABLE, M90   \n",
       "1    52897                   E-STOP- LED, SELF MONTORING, 2CH   \n",
       "2    54675                         INTERFACE MODULE-PLC,RS485   \n",
       "3    57680  BRAKE CONNECTOR-FOR HF-SE/SN/SP/JP,HG-SN/SR,HK...   \n",
       "4    64912                                        CONTACT-1NO   \n",
       "\n",
       "                                    PART_DESCRIPTION      REVISION_DATE  \\\n",
       "0  CABLE GLAND DOUBLE COMPRESSION, SS304, OD:72-8...  31-Aug-2023 16:47   \n",
       "1                              EMERGENCY PUSH BUTTON  01-Mar-2024 16:47   \n",
       "2  CPU - CENTRAL PROCESSING UNITS NX1P RS-422/485...  11-Apr-2024 12:38   \n",
       "3  BRAKE CONNECTOR FOR HF-SE/SN/SP/JP,HG-SN/SR,HK...  31-May-2024 12:11   \n",
       "4  WITHOUT HOLDER - NON-ILLUMINATED - SINGLE CONT...  21-Sep-2024 14:05   \n",
       "\n",
       "   PRODUCT_GROUP  PRODUCT_SUBGROUP  WIDTH_(MM)  HEIGHT_(MM)  DEPTH_(MM)  \\\n",
       "0            0.0               0.0         0.0          0.0         0.0   \n",
       "1           12.0               1.0         0.0          0.0         0.0   \n",
       "2           26.0               1.0         0.0          0.0         0.0   \n",
       "3          129.0               1.0        90.0         60.0       110.0   \n",
       "4            6.0             194.0        10.0         44.0        28.0   \n",
       "\n",
       "   WEIGHT_(KG) MANUFACTURER MANUFACTURER_PART_NUMBER    EPLAN_PART_NUMBER  \\\n",
       "0        0.000          CGS                  CGW 014          CGS.CGW 014   \n",
       "1        2.700     ROCKWELL              800F-1YMD81      A-B.800F-1YMD81   \n",
       "2        0.000        OMRON               NX1W-CIF11       OMR.NX1W-CIF11   \n",
       "3        0.050   MITSUBISHI           MR-BKCNS1-2M-L   MIT.MR-BKCNS1-2M-L   \n",
       "4        0.013          ABB          1SFA611610R1001  ABB.1SFA611610R1001   \n",
       "\n",
       "       RELEASED_DATE  \n",
       "0  18-Sep-2023 10:46  \n",
       "1  08-Mar-2024 11:36  \n",
       "2  12-Apr-2024 10:46  \n",
       "3  31-May-2024 16:43  \n",
       "4  23-Sep-2024 13:59  "
      ],
      "text/html": [
       "<div>\n",
       "<style scoped>\n",
       "    .dataframe tbody tr th:only-of-type {\n",
       "        vertical-align: middle;\n",
       "    }\n",
       "\n",
       "    .dataframe tbody tr th {\n",
       "        vertical-align: top;\n",
       "    }\n",
       "\n",
       "    .dataframe thead th {\n",
       "        text-align: right;\n",
       "    }\n",
       "</style>\n",
       "<table border=\"1\" class=\"dataframe\">\n",
       "  <thead>\n",
       "    <tr style=\"text-align: right;\">\n",
       "      <th></th>\n",
       "      <th>PART_ID</th>\n",
       "      <th>PART_NAME</th>\n",
       "      <th>PART_DESCRIPTION</th>\n",
       "      <th>REVISION_DATE</th>\n",
       "      <th>PRODUCT_GROUP</th>\n",
       "      <th>PRODUCT_SUBGROUP</th>\n",
       "      <th>WIDTH_(MM)</th>\n",
       "      <th>HEIGHT_(MM)</th>\n",
       "      <th>DEPTH_(MM)</th>\n",
       "      <th>WEIGHT_(KG)</th>\n",
       "      <th>MANUFACTURER</th>\n",
       "      <th>MANUFACTURER_PART_NUMBER</th>\n",
       "      <th>EPLAN_PART_NUMBER</th>\n",
       "      <th>RELEASED_DATE</th>\n",
       "    </tr>\n",
       "  </thead>\n",
       "  <tbody>\n",
       "    <tr>\n",
       "      <th>0</th>\n",
       "      <td>41237</td>\n",
       "      <td>CABLE GLAND- DOUBLE COMPRESSION CABLE, M90</td>\n",
       "      <td>CABLE GLAND DOUBLE COMPRESSION, SS304, OD:72-8...</td>\n",
       "      <td>31-Aug-2023 16:47</td>\n",
       "      <td>0.0</td>\n",
       "      <td>0.0</td>\n",
       "      <td>0.0</td>\n",
       "      <td>0.0</td>\n",
       "      <td>0.0</td>\n",
       "      <td>0.000</td>\n",
       "      <td>CGS</td>\n",
       "      <td>CGW 014</td>\n",
       "      <td>CGS.CGW 014</td>\n",
       "      <td>18-Sep-2023 10:46</td>\n",
       "    </tr>\n",
       "    <tr>\n",
       "      <th>1</th>\n",
       "      <td>52897</td>\n",
       "      <td>E-STOP- LED, SELF MONTORING, 2CH</td>\n",
       "      <td>EMERGENCY PUSH BUTTON</td>\n",
       "      <td>01-Mar-2024 16:47</td>\n",
       "      <td>12.0</td>\n",
       "      <td>1.0</td>\n",
       "      <td>0.0</td>\n",
       "      <td>0.0</td>\n",
       "      <td>0.0</td>\n",
       "      <td>2.700</td>\n",
       "      <td>ROCKWELL</td>\n",
       "      <td>800F-1YMD81</td>\n",
       "      <td>A-B.800F-1YMD81</td>\n",
       "      <td>08-Mar-2024 11:36</td>\n",
       "    </tr>\n",
       "    <tr>\n",
       "      <th>2</th>\n",
       "      <td>54675</td>\n",
       "      <td>INTERFACE MODULE-PLC,RS485</td>\n",
       "      <td>CPU - CENTRAL PROCESSING UNITS NX1P RS-422/485...</td>\n",
       "      <td>11-Apr-2024 12:38</td>\n",
       "      <td>26.0</td>\n",
       "      <td>1.0</td>\n",
       "      <td>0.0</td>\n",
       "      <td>0.0</td>\n",
       "      <td>0.0</td>\n",
       "      <td>0.000</td>\n",
       "      <td>OMRON</td>\n",
       "      <td>NX1W-CIF11</td>\n",
       "      <td>OMR.NX1W-CIF11</td>\n",
       "      <td>12-Apr-2024 10:46</td>\n",
       "    </tr>\n",
       "    <tr>\n",
       "      <th>3</th>\n",
       "      <td>57680</td>\n",
       "      <td>BRAKE CONNECTOR-FOR HF-SE/SN/SP/JP,HG-SN/SR,HK...</td>\n",
       "      <td>BRAKE CONNECTOR FOR HF-SE/SN/SP/JP,HG-SN/SR,HK...</td>\n",
       "      <td>31-May-2024 12:11</td>\n",
       "      <td>129.0</td>\n",
       "      <td>1.0</td>\n",
       "      <td>90.0</td>\n",
       "      <td>60.0</td>\n",
       "      <td>110.0</td>\n",
       "      <td>0.050</td>\n",
       "      <td>MITSUBISHI</td>\n",
       "      <td>MR-BKCNS1-2M-L</td>\n",
       "      <td>MIT.MR-BKCNS1-2M-L</td>\n",
       "      <td>31-May-2024 16:43</td>\n",
       "    </tr>\n",
       "    <tr>\n",
       "      <th>4</th>\n",
       "      <td>64912</td>\n",
       "      <td>CONTACT-1NO</td>\n",
       "      <td>WITHOUT HOLDER - NON-ILLUMINATED - SINGLE CONT...</td>\n",
       "      <td>21-Sep-2024 14:05</td>\n",
       "      <td>6.0</td>\n",
       "      <td>194.0</td>\n",
       "      <td>10.0</td>\n",
       "      <td>44.0</td>\n",
       "      <td>28.0</td>\n",
       "      <td>0.013</td>\n",
       "      <td>ABB</td>\n",
       "      <td>1SFA611610R1001</td>\n",
       "      <td>ABB.1SFA611610R1001</td>\n",
       "      <td>23-Sep-2024 13:59</td>\n",
       "    </tr>\n",
       "  </tbody>\n",
       "</table>\n",
       "</div>"
      ]
     },
     "execution_count": 15,
     "metadata": {},
     "output_type": "execute_result"
    }
   ],
   "execution_count": 15
  },
  {
   "metadata": {},
   "cell_type": "code",
   "outputs": [],
   "execution_count": null,
   "source": "",
   "id": "4b4fef624d5ce61d"
  },
  {
   "metadata": {
    "ExecuteTime": {
     "end_time": "2024-10-14T09:03:23.181018Z",
     "start_time": "2024-10-14T09:03:23.082129Z"
    }
   },
   "cell_type": "code",
   "source": [
    "merged_data_on_code = pd.merge(location_data, electric_parts_data, how=\"inner\", left_on=\"ITEM_CODE\", right_on=\"PART_ID\")\n",
    "merged_data_on_code.shape"
   ],
   "id": "e55a1c3c25bff366",
   "outputs": [
    {
     "data": {
      "text/plain": [
       "(4592, 73)"
      ]
     },
     "execution_count": 23,
     "metadata": {},
     "output_type": "execute_result"
    }
   ],
   "execution_count": 23
  },
  {
   "metadata": {
    "ExecuteTime": {
     "end_time": "2024-10-14T09:03:27.667109Z",
     "start_time": "2024-10-14T09:03:27.609603Z"
    }
   },
   "cell_type": "code",
   "source": "merged_data_on_code.head()",
   "id": "fab2a19a4a5e5c52",
   "outputs": [
    {
     "data": {
      "text/plain": [
       "       # DOCTYPE CANCELED DOCCUR  DOCRATE DOCSTATUS  PO_NUM BASE_TYPE  \\\n",
       "0   3874       I        N    INR      1.0         C   60186        -1   \n",
       "1   3875       I        N    INR      1.0         C   60186        -1   \n",
       "2   3954       I        N    INR      1.0         C   60213        -1   \n",
       "3   8557       I        N    INR      1.0         C   72163        -1   \n",
       "4  13537       I        N    INR      1.0         C   73639        PR   \n",
       "\n",
       "   BASE_NUMBER  BASE_LINE  ... PRODUCT_GROUP PRODUCT_SUBGROUP WIDTH_(MM)  \\\n",
       "0          NaN        NaN  ...           1.0              1.0        NaN   \n",
       "1          NaN        NaN  ...           1.0              1.0        NaN   \n",
       "2          NaN        NaN  ...           1.0              1.0        NaN   \n",
       "3          NaN        NaN  ...           1.0              1.0        NaN   \n",
       "4     101378.0       21.0  ...           1.0              1.0        NaN   \n",
       "\n",
       "  HEIGHT_(MM) DEPTH_(MM) WEIGHT_(KG) MANUFACTURER  MANUFACTURER_PART_NUMBER  \\\n",
       "0         NaN        NaN         NaN       ICOTEK                     50741   \n",
       "1         NaN        NaN         NaN       ICOTEK                     50741   \n",
       "2         NaN        NaN         NaN  Icotek gmbh                     44053   \n",
       "3         NaN        NaN         NaN       ICOTEK                KEL-DPZ-HD   \n",
       "4         NaN        NaN         NaN       ICOTEK                KEL-DPZ-HD   \n",
       "\n",
       "  EPLAN_PART_NUMBER      RELEASED_DATE  \n",
       "0         ICO.50741  17-Jul-2023 16:17  \n",
       "1         ICO.50741  17-Jul-2023 16:17  \n",
       "2         ICO.44053  12-Dec-2022 18:37  \n",
       "3         ICO.70351  25-Nov-2022 18:01  \n",
       "4         ICO.70351  25-Nov-2022 18:01  \n",
       "\n",
       "[5 rows x 73 columns]"
      ],
      "text/html": [
       "<div>\n",
       "<style scoped>\n",
       "    .dataframe tbody tr th:only-of-type {\n",
       "        vertical-align: middle;\n",
       "    }\n",
       "\n",
       "    .dataframe tbody tr th {\n",
       "        vertical-align: top;\n",
       "    }\n",
       "\n",
       "    .dataframe thead th {\n",
       "        text-align: right;\n",
       "    }\n",
       "</style>\n",
       "<table border=\"1\" class=\"dataframe\">\n",
       "  <thead>\n",
       "    <tr style=\"text-align: right;\">\n",
       "      <th></th>\n",
       "      <th>#</th>\n",
       "      <th>DOCTYPE</th>\n",
       "      <th>CANCELED</th>\n",
       "      <th>DOCCUR</th>\n",
       "      <th>DOCRATE</th>\n",
       "      <th>DOCSTATUS</th>\n",
       "      <th>PO_NUM</th>\n",
       "      <th>BASE_TYPE</th>\n",
       "      <th>BASE_NUMBER</th>\n",
       "      <th>BASE_LINE</th>\n",
       "      <th>...</th>\n",
       "      <th>PRODUCT_GROUP</th>\n",
       "      <th>PRODUCT_SUBGROUP</th>\n",
       "      <th>WIDTH_(MM)</th>\n",
       "      <th>HEIGHT_(MM)</th>\n",
       "      <th>DEPTH_(MM)</th>\n",
       "      <th>WEIGHT_(KG)</th>\n",
       "      <th>MANUFACTURER</th>\n",
       "      <th>MANUFACTURER_PART_NUMBER</th>\n",
       "      <th>EPLAN_PART_NUMBER</th>\n",
       "      <th>RELEASED_DATE</th>\n",
       "    </tr>\n",
       "  </thead>\n",
       "  <tbody>\n",
       "    <tr>\n",
       "      <th>0</th>\n",
       "      <td>3874</td>\n",
       "      <td>I</td>\n",
       "      <td>N</td>\n",
       "      <td>INR</td>\n",
       "      <td>1.0</td>\n",
       "      <td>C</td>\n",
       "      <td>60186</td>\n",
       "      <td>-1</td>\n",
       "      <td>NaN</td>\n",
       "      <td>NaN</td>\n",
       "      <td>...</td>\n",
       "      <td>1.0</td>\n",
       "      <td>1.0</td>\n",
       "      <td>NaN</td>\n",
       "      <td>NaN</td>\n",
       "      <td>NaN</td>\n",
       "      <td>NaN</td>\n",
       "      <td>ICOTEK</td>\n",
       "      <td>50741</td>\n",
       "      <td>ICO.50741</td>\n",
       "      <td>17-Jul-2023 16:17</td>\n",
       "    </tr>\n",
       "    <tr>\n",
       "      <th>1</th>\n",
       "      <td>3875</td>\n",
       "      <td>I</td>\n",
       "      <td>N</td>\n",
       "      <td>INR</td>\n",
       "      <td>1.0</td>\n",
       "      <td>C</td>\n",
       "      <td>60186</td>\n",
       "      <td>-1</td>\n",
       "      <td>NaN</td>\n",
       "      <td>NaN</td>\n",
       "      <td>...</td>\n",
       "      <td>1.0</td>\n",
       "      <td>1.0</td>\n",
       "      <td>NaN</td>\n",
       "      <td>NaN</td>\n",
       "      <td>NaN</td>\n",
       "      <td>NaN</td>\n",
       "      <td>ICOTEK</td>\n",
       "      <td>50741</td>\n",
       "      <td>ICO.50741</td>\n",
       "      <td>17-Jul-2023 16:17</td>\n",
       "    </tr>\n",
       "    <tr>\n",
       "      <th>2</th>\n",
       "      <td>3954</td>\n",
       "      <td>I</td>\n",
       "      <td>N</td>\n",
       "      <td>INR</td>\n",
       "      <td>1.0</td>\n",
       "      <td>C</td>\n",
       "      <td>60213</td>\n",
       "      <td>-1</td>\n",
       "      <td>NaN</td>\n",
       "      <td>NaN</td>\n",
       "      <td>...</td>\n",
       "      <td>1.0</td>\n",
       "      <td>1.0</td>\n",
       "      <td>NaN</td>\n",
       "      <td>NaN</td>\n",
       "      <td>NaN</td>\n",
       "      <td>NaN</td>\n",
       "      <td>Icotek gmbh</td>\n",
       "      <td>44053</td>\n",
       "      <td>ICO.44053</td>\n",
       "      <td>12-Dec-2022 18:37</td>\n",
       "    </tr>\n",
       "    <tr>\n",
       "      <th>3</th>\n",
       "      <td>8557</td>\n",
       "      <td>I</td>\n",
       "      <td>N</td>\n",
       "      <td>INR</td>\n",
       "      <td>1.0</td>\n",
       "      <td>C</td>\n",
       "      <td>72163</td>\n",
       "      <td>-1</td>\n",
       "      <td>NaN</td>\n",
       "      <td>NaN</td>\n",
       "      <td>...</td>\n",
       "      <td>1.0</td>\n",
       "      <td>1.0</td>\n",
       "      <td>NaN</td>\n",
       "      <td>NaN</td>\n",
       "      <td>NaN</td>\n",
       "      <td>NaN</td>\n",
       "      <td>ICOTEK</td>\n",
       "      <td>KEL-DPZ-HD</td>\n",
       "      <td>ICO.70351</td>\n",
       "      <td>25-Nov-2022 18:01</td>\n",
       "    </tr>\n",
       "    <tr>\n",
       "      <th>4</th>\n",
       "      <td>13537</td>\n",
       "      <td>I</td>\n",
       "      <td>N</td>\n",
       "      <td>INR</td>\n",
       "      <td>1.0</td>\n",
       "      <td>C</td>\n",
       "      <td>73639</td>\n",
       "      <td>PR</td>\n",
       "      <td>101378.0</td>\n",
       "      <td>21.0</td>\n",
       "      <td>...</td>\n",
       "      <td>1.0</td>\n",
       "      <td>1.0</td>\n",
       "      <td>NaN</td>\n",
       "      <td>NaN</td>\n",
       "      <td>NaN</td>\n",
       "      <td>NaN</td>\n",
       "      <td>ICOTEK</td>\n",
       "      <td>KEL-DPZ-HD</td>\n",
       "      <td>ICO.70351</td>\n",
       "      <td>25-Nov-2022 18:01</td>\n",
       "    </tr>\n",
       "  </tbody>\n",
       "</table>\n",
       "<p>5 rows × 73 columns</p>\n",
       "</div>"
      ]
     },
     "execution_count": 24,
     "metadata": {},
     "output_type": "execute_result"
    }
   ],
   "execution_count": 24
  },
  {
   "metadata": {},
   "cell_type": "code",
   "outputs": [],
   "execution_count": null,
   "source": "",
   "id": "ed01f54767bc311c"
  },
  {
   "metadata": {
    "ExecuteTime": {
     "end_time": "2024-10-14T09:13:17.395562Z",
     "start_time": "2024-10-14T09:13:16.962420Z"
    }
   },
   "cell_type": "code",
   "source": [
    "merged_data_on_name = pd.merge(location_data, electric_parts_data, how=\"inner\", left_on=\"ITEM_NAME\", right_on=\"PART_NAME\")\n",
    "merged_data_on_name.shape"
   ],
   "id": "85cfde8ff3a608a3",
   "outputs": [
    {
     "data": {
      "text/plain": [
       "(166002, 73)"
      ]
     },
     "execution_count": 35,
     "metadata": {},
     "output_type": "execute_result"
    }
   ],
   "execution_count": 35
  },
  {
   "metadata": {
    "ExecuteTime": {
     "end_time": "2024-10-14T09:13:20.386161Z",
     "start_time": "2024-10-14T09:13:20.377563Z"
    }
   },
   "cell_type": "code",
   "source": "merged_data_on_name.head()[['PO_NUM', 'ITEM_CODE', 'ITEM_NAME', 'PART_ID', 'PART_NAME']]",
   "id": "a1899c87f34863a6",
   "outputs": [
    {
     "data": {
      "text/plain": [
       "   PO_NUM ITEM_CODE          ITEM_NAME  PART_ID          PART_NAME\n",
       "0   60186     18165  Cable Entry Plate    18166  Cable Entry Plate\n",
       "1   60186     18165  Cable Entry Plate    25934  Cable Entry Plate\n",
       "2   60186     18165  Cable Entry Plate    18166  Cable Entry Plate\n",
       "3   60186     18165  Cable Entry Plate    25934  Cable Entry Plate\n",
       "4   60213     18166  Cable Entry Plate    18166  Cable Entry Plate"
      ],
      "text/html": [
       "<div>\n",
       "<style scoped>\n",
       "    .dataframe tbody tr th:only-of-type {\n",
       "        vertical-align: middle;\n",
       "    }\n",
       "\n",
       "    .dataframe tbody tr th {\n",
       "        vertical-align: top;\n",
       "    }\n",
       "\n",
       "    .dataframe thead th {\n",
       "        text-align: right;\n",
       "    }\n",
       "</style>\n",
       "<table border=\"1\" class=\"dataframe\">\n",
       "  <thead>\n",
       "    <tr style=\"text-align: right;\">\n",
       "      <th></th>\n",
       "      <th>PO_NUM</th>\n",
       "      <th>ITEM_CODE</th>\n",
       "      <th>ITEM_NAME</th>\n",
       "      <th>PART_ID</th>\n",
       "      <th>PART_NAME</th>\n",
       "    </tr>\n",
       "  </thead>\n",
       "  <tbody>\n",
       "    <tr>\n",
       "      <th>0</th>\n",
       "      <td>60186</td>\n",
       "      <td>18165</td>\n",
       "      <td>Cable Entry Plate</td>\n",
       "      <td>18166</td>\n",
       "      <td>Cable Entry Plate</td>\n",
       "    </tr>\n",
       "    <tr>\n",
       "      <th>1</th>\n",
       "      <td>60186</td>\n",
       "      <td>18165</td>\n",
       "      <td>Cable Entry Plate</td>\n",
       "      <td>25934</td>\n",
       "      <td>Cable Entry Plate</td>\n",
       "    </tr>\n",
       "    <tr>\n",
       "      <th>2</th>\n",
       "      <td>60186</td>\n",
       "      <td>18165</td>\n",
       "      <td>Cable Entry Plate</td>\n",
       "      <td>18166</td>\n",
       "      <td>Cable Entry Plate</td>\n",
       "    </tr>\n",
       "    <tr>\n",
       "      <th>3</th>\n",
       "      <td>60186</td>\n",
       "      <td>18165</td>\n",
       "      <td>Cable Entry Plate</td>\n",
       "      <td>25934</td>\n",
       "      <td>Cable Entry Plate</td>\n",
       "    </tr>\n",
       "    <tr>\n",
       "      <th>4</th>\n",
       "      <td>60213</td>\n",
       "      <td>18166</td>\n",
       "      <td>Cable Entry Plate</td>\n",
       "      <td>18166</td>\n",
       "      <td>Cable Entry Plate</td>\n",
       "    </tr>\n",
       "  </tbody>\n",
       "</table>\n",
       "</div>"
      ]
     },
     "execution_count": 36,
     "metadata": {},
     "output_type": "execute_result"
    }
   ],
   "execution_count": 36
  },
  {
   "metadata": {
    "ExecuteTime": {
     "end_time": "2024-10-14T09:14:54.041834Z",
     "start_time": "2024-10-14T09:14:53.975341Z"
    }
   },
   "cell_type": "code",
   "source": "merged_data_on_name[['PO_NUM', 'ITEM_CODE', 'ITEM_NAME', 'PART_ID', 'PART_NAME']].nunique()",
   "id": "8ef70d4221563beb",
   "outputs": [
    {
     "data": {
      "text/plain": [
       "PO_NUM       2853\n",
       "ITEM_CODE    2156\n",
       "ITEM_NAME    1085\n",
       "PART_ID      3025\n",
       "PART_NAME    1085\n",
       "dtype: int64"
      ]
     },
     "execution_count": 37,
     "metadata": {},
     "output_type": "execute_result"
    }
   ],
   "execution_count": 37
  },
  {
   "metadata": {
    "ExecuteTime": {
     "end_time": "2024-10-14T09:17:01.342996Z",
     "start_time": "2024-10-14T09:17:01.278724Z"
    }
   },
   "cell_type": "code",
   "source": [
    "merged_data_grouped_1 = merged_data_on_name.groupby(['ITEM_NAME'])[['ITEM_CODE', 'PART_ID']].nunique()\n",
    "merged_data_grouped_1.shape"
   ],
   "id": "e4d9c7504be9f532",
   "outputs": [
    {
     "data": {
      "text/plain": [
       "(1085, 2)"
      ]
     },
     "execution_count": 41,
     "metadata": {},
     "output_type": "execute_result"
    }
   ],
   "execution_count": 41
  },
  {
   "metadata": {
    "ExecuteTime": {
     "end_time": "2024-10-14T09:17:31.630725Z",
     "start_time": "2024-10-14T09:17:31.619342Z"
    }
   },
   "cell_type": "code",
   "source": "merged_data_grouped_1[merged_data_grouped_1['ITEM_CODE'] > 1]",
   "id": "e1a3300454fb56de",
   "outputs": [
    {
     "data": {
      "text/plain": [
       "                           ITEM_CODE  PART_ID\n",
       "ITEM_NAME                                    \n",
       "ACCESS POINT                       2        2\n",
       "ACTIVE COMPONENT                   7       48\n",
       "ACTUATOR                           2        2\n",
       "ANTENNA                            3        4\n",
       "Actuator                           2        3\n",
       "...                              ...      ...\n",
       "connector                          2        1\n",
       "control cable                      5       12\n",
       "control cable TPE                  2        3\n",
       "miniature circuit breaker          2        3\n",
       "wire                               6        8\n",
       "\n",
       "[317 rows x 2 columns]"
      ],
      "text/html": [
       "<div>\n",
       "<style scoped>\n",
       "    .dataframe tbody tr th:only-of-type {\n",
       "        vertical-align: middle;\n",
       "    }\n",
       "\n",
       "    .dataframe tbody tr th {\n",
       "        vertical-align: top;\n",
       "    }\n",
       "\n",
       "    .dataframe thead th {\n",
       "        text-align: right;\n",
       "    }\n",
       "</style>\n",
       "<table border=\"1\" class=\"dataframe\">\n",
       "  <thead>\n",
       "    <tr style=\"text-align: right;\">\n",
       "      <th></th>\n",
       "      <th>ITEM_CODE</th>\n",
       "      <th>PART_ID</th>\n",
       "    </tr>\n",
       "    <tr>\n",
       "      <th>ITEM_NAME</th>\n",
       "      <th></th>\n",
       "      <th></th>\n",
       "    </tr>\n",
       "  </thead>\n",
       "  <tbody>\n",
       "    <tr>\n",
       "      <th>ACCESS POINT</th>\n",
       "      <td>2</td>\n",
       "      <td>2</td>\n",
       "    </tr>\n",
       "    <tr>\n",
       "      <th>ACTIVE COMPONENT</th>\n",
       "      <td>7</td>\n",
       "      <td>48</td>\n",
       "    </tr>\n",
       "    <tr>\n",
       "      <th>ACTUATOR</th>\n",
       "      <td>2</td>\n",
       "      <td>2</td>\n",
       "    </tr>\n",
       "    <tr>\n",
       "      <th>ANTENNA</th>\n",
       "      <td>3</td>\n",
       "      <td>4</td>\n",
       "    </tr>\n",
       "    <tr>\n",
       "      <th>Actuator</th>\n",
       "      <td>2</td>\n",
       "      <td>3</td>\n",
       "    </tr>\n",
       "    <tr>\n",
       "      <th>...</th>\n",
       "      <td>...</td>\n",
       "      <td>...</td>\n",
       "    </tr>\n",
       "    <tr>\n",
       "      <th>connector</th>\n",
       "      <td>2</td>\n",
       "      <td>1</td>\n",
       "    </tr>\n",
       "    <tr>\n",
       "      <th>control cable</th>\n",
       "      <td>5</td>\n",
       "      <td>12</td>\n",
       "    </tr>\n",
       "    <tr>\n",
       "      <th>control cable TPE</th>\n",
       "      <td>2</td>\n",
       "      <td>3</td>\n",
       "    </tr>\n",
       "    <tr>\n",
       "      <th>miniature circuit breaker</th>\n",
       "      <td>2</td>\n",
       "      <td>3</td>\n",
       "    </tr>\n",
       "    <tr>\n",
       "      <th>wire</th>\n",
       "      <td>6</td>\n",
       "      <td>8</td>\n",
       "    </tr>\n",
       "  </tbody>\n",
       "</table>\n",
       "<p>317 rows × 2 columns</p>\n",
       "</div>"
      ]
     },
     "execution_count": 42,
     "metadata": {},
     "output_type": "execute_result"
    }
   ],
   "execution_count": 42
  },
  {
   "metadata": {
    "ExecuteTime": {
     "end_time": "2024-10-14T09:17:45.755355Z",
     "start_time": "2024-10-14T09:17:45.742975Z"
    }
   },
   "cell_type": "code",
   "source": "merged_data_grouped_1[merged_data_grouped_1['PART_ID'] > 1]",
   "id": "10ac1ae910d4bddf",
   "outputs": [
    {
     "data": {
      "text/plain": [
       "                           ITEM_CODE  PART_ID\n",
       "ITEM_NAME                                    \n",
       "ACCESS POINT                       2        2\n",
       "ACTIVE COMPONENT                   7       48\n",
       "ACTUATOR                           2        2\n",
       "ADAPTER                            1        2\n",
       "ANALOG OUTPUT MODULE               1        2\n",
       "...                              ...      ...\n",
       "contactor - 3P                     1        2\n",
       "control cable                      5       12\n",
       "control cable TPE                  2        3\n",
       "miniature circuit breaker          2        3\n",
       "wire                               6        8\n",
       "\n",
       "[417 rows x 2 columns]"
      ],
      "text/html": [
       "<div>\n",
       "<style scoped>\n",
       "    .dataframe tbody tr th:only-of-type {\n",
       "        vertical-align: middle;\n",
       "    }\n",
       "\n",
       "    .dataframe tbody tr th {\n",
       "        vertical-align: top;\n",
       "    }\n",
       "\n",
       "    .dataframe thead th {\n",
       "        text-align: right;\n",
       "    }\n",
       "</style>\n",
       "<table border=\"1\" class=\"dataframe\">\n",
       "  <thead>\n",
       "    <tr style=\"text-align: right;\">\n",
       "      <th></th>\n",
       "      <th>ITEM_CODE</th>\n",
       "      <th>PART_ID</th>\n",
       "    </tr>\n",
       "    <tr>\n",
       "      <th>ITEM_NAME</th>\n",
       "      <th></th>\n",
       "      <th></th>\n",
       "    </tr>\n",
       "  </thead>\n",
       "  <tbody>\n",
       "    <tr>\n",
       "      <th>ACCESS POINT</th>\n",
       "      <td>2</td>\n",
       "      <td>2</td>\n",
       "    </tr>\n",
       "    <tr>\n",
       "      <th>ACTIVE COMPONENT</th>\n",
       "      <td>7</td>\n",
       "      <td>48</td>\n",
       "    </tr>\n",
       "    <tr>\n",
       "      <th>ACTUATOR</th>\n",
       "      <td>2</td>\n",
       "      <td>2</td>\n",
       "    </tr>\n",
       "    <tr>\n",
       "      <th>ADAPTER</th>\n",
       "      <td>1</td>\n",
       "      <td>2</td>\n",
       "    </tr>\n",
       "    <tr>\n",
       "      <th>ANALOG OUTPUT MODULE</th>\n",
       "      <td>1</td>\n",
       "      <td>2</td>\n",
       "    </tr>\n",
       "    <tr>\n",
       "      <th>...</th>\n",
       "      <td>...</td>\n",
       "      <td>...</td>\n",
       "    </tr>\n",
       "    <tr>\n",
       "      <th>contactor - 3P</th>\n",
       "      <td>1</td>\n",
       "      <td>2</td>\n",
       "    </tr>\n",
       "    <tr>\n",
       "      <th>control cable</th>\n",
       "      <td>5</td>\n",
       "      <td>12</td>\n",
       "    </tr>\n",
       "    <tr>\n",
       "      <th>control cable TPE</th>\n",
       "      <td>2</td>\n",
       "      <td>3</td>\n",
       "    </tr>\n",
       "    <tr>\n",
       "      <th>miniature circuit breaker</th>\n",
       "      <td>2</td>\n",
       "      <td>3</td>\n",
       "    </tr>\n",
       "    <tr>\n",
       "      <th>wire</th>\n",
       "      <td>6</td>\n",
       "      <td>8</td>\n",
       "    </tr>\n",
       "  </tbody>\n",
       "</table>\n",
       "<p>417 rows × 2 columns</p>\n",
       "</div>"
      ]
     },
     "execution_count": 43,
     "metadata": {},
     "output_type": "execute_result"
    }
   ],
   "execution_count": 43
  },
  {
   "metadata": {},
   "cell_type": "code",
   "outputs": [],
   "execution_count": null,
   "source": "",
   "id": "89702fa8ad0743f8"
  },
  {
   "metadata": {
    "ExecuteTime": {
     "end_time": "2024-10-14T11:44:32.361402Z",
     "start_time": "2024-10-14T11:44:32.357580Z"
    }
   },
   "cell_type": "code",
   "source": "merged_data_grouped_2 = merged_data_on_name.groupby(['ITEM_NAME'])",
   "id": "e71be826d6909c43",
   "outputs": [],
   "execution_count": 52
  },
  {
   "metadata": {
    "ExecuteTime": {
     "end_time": "2024-10-14T11:54:54.714009Z",
     "start_time": "2024-10-14T11:54:54.710416Z"
    }
   },
   "cell_type": "code",
   "source": [
    "def process_list_items(lst:list[str]) -> list:\n",
    "    return [str(num)[:5] if len(str(num)) > 5 else str(num) for num in lst]"
   ],
   "id": "f2b25ae90ae05350",
   "outputs": [],
   "execution_count": 61
  },
  {
   "metadata": {
    "ExecuteTime": {
     "end_time": "2024-10-14T11:54:56.505882Z",
     "start_time": "2024-10-14T11:54:56.409461Z"
    }
   },
   "cell_type": "code",
   "source": [
    "merged_data_item_code = merged_data_grouped_2['ITEM_CODE'].unique()\n",
    "merged_data_item_code = merged_data_item_code.apply(process_list_items)\n",
    "merged_data_item_code"
   ],
   "id": "8bd4ed17d1e9c6a5",
   "outputs": [
    {
     "data": {
      "text/plain": [
       "ITEM_NAME\n",
       "0.25 Sq/mm WIRE WHITE/BLUE                                                           [17799]\n",
       "0.5 SQ.MM Single core cable - BLUE, LAPP                                             [18776]\n",
       "0.5 Sq/mm WIRE WHITE/BLUE                                                            [17798]\n",
       "0.75 Sq/mm WIRE WHITE/BLUE                                                           [17802]\n",
       "16 Digital Outputs, Remote, Modular I/O system                                       [18868]\n",
       "                                                                     ...                    \n",
       "single contact block                                                                 [17182]\n",
       "white wire/cable 0.75 sqmm                                                           [14984]\n",
       "wire                                              [14870, 14869, 14873, 14872, 15031, 15030]\n",
       "wire armoured cables                                                                 [18074]\n",
       "yellow wire/cable 0.75 sqmm                                                          [15011]\n",
       "Name: ITEM_CODE, Length: 1085, dtype: object"
      ]
     },
     "execution_count": 62,
     "metadata": {},
     "output_type": "execute_result"
    }
   ],
   "execution_count": 62
  },
  {
   "metadata": {
    "ExecuteTime": {
     "end_time": "2024-10-14T11:59:40.999932Z",
     "start_time": "2024-10-14T11:59:40.908069Z"
    }
   },
   "cell_type": "code",
   "source": [
    "merged_data_part_id = merged_data_grouped_2['PART_ID'].unique()\n",
    "merged_data_part_id"
   ],
   "id": "3b0cee4ddc8d6e91",
   "outputs": [
    {
     "data": {
      "text/plain": [
       "ITEM_NAME\n",
       "0.25 Sq/mm WIRE WHITE/BLUE                                                                  [17799]\n",
       "0.5 SQ.MM Single core cable - BLUE, LAPP                                                    [18776]\n",
       "0.5 Sq/mm WIRE WHITE/BLUE                                                                   [17798]\n",
       "0.75 Sq/mm WIRE WHITE/BLUE                                                                  [17802]\n",
       "16 Digital Outputs, Remote, Modular I/O system                                              [18868]\n",
       "                                                                        ...                        \n",
       "single contact block                                                                        [17182]\n",
       "white wire/cable 0.75 sqmm                                                                  [14984]\n",
       "wire                                              [15027, 15030, 14870, 14873, 14869, 14872, 150...\n",
       "wire armoured cables                                                                        [18074]\n",
       "yellow wire/cable 0.75 sqmm                                                                 [15011]\n",
       "Name: PART_ID, Length: 1085, dtype: object"
      ]
     },
     "execution_count": 63,
     "metadata": {},
     "output_type": "execute_result"
    }
   ],
   "execution_count": 63
  },
  {
   "metadata": {
    "ExecuteTime": {
     "end_time": "2024-10-14T12:03:02.293450Z",
     "start_time": "2024-10-14T12:03:02.246853Z"
    }
   },
   "cell_type": "code",
   "source": [
    "intersect_result = merged_data_item_code.combine(merged_data_part_id, lambda x, y: np.intersect1d(x, y))\n",
    "intersect_result"
   ],
   "id": "8910394f5d9f4a8a",
   "outputs": [
    {
     "data": {
      "text/plain": [
       "ITEM_NAME\n",
       "0.25 Sq/mm WIRE WHITE/BLUE                                                    [17799]\n",
       "0.5 SQ.MM Single core cable - BLUE, LAPP                                      [18776]\n",
       "0.5 Sq/mm WIRE WHITE/BLUE                                                     [17798]\n",
       "0.75 Sq/mm WIRE WHITE/BLUE                                                    [17802]\n",
       "16 Digital Outputs, Remote, Modular I/O system                                [18868]\n",
       "                                                                 ...                 \n",
       "single contact block                                                          [17182]\n",
       "white wire/cable 0.75 sqmm                                                    [14984]\n",
       "wire                                              [14869, 14870, 14872, 14873, 15030]\n",
       "wire armoured cables                                                          [18074]\n",
       "yellow wire/cable 0.75 sqmm                                                   [15011]\n",
       "Length: 1085, dtype: object"
      ]
     },
     "execution_count": 66,
     "metadata": {},
     "output_type": "execute_result"
    }
   ],
   "execution_count": 66
  },
  {
   "metadata": {
    "ExecuteTime": {
     "end_time": "2024-10-14T12:03:08.412767Z",
     "start_time": "2024-10-14T12:03:08.378815Z"
    }
   },
   "cell_type": "code",
   "source": [
    "union_result = merged_data_item_code.combine(merged_data_part_id, lambda x, y: np.union1d(x, y))\n",
    "union_result"
   ],
   "id": "79b39a0e048497c3",
   "outputs": [
    {
     "data": {
      "text/plain": [
       "ITEM_NAME\n",
       "0.25 Sq/mm WIRE WHITE/BLUE                                                                  [17799]\n",
       "0.5 SQ.MM Single core cable - BLUE, LAPP                                                    [18776]\n",
       "0.5 Sq/mm WIRE WHITE/BLUE                                                                   [17798]\n",
       "0.75 Sq/mm WIRE WHITE/BLUE                                                                  [17802]\n",
       "16 Digital Outputs, Remote, Modular I/O system                                              [18868]\n",
       "                                                                        ...                        \n",
       "single contact block                                                                        [17182]\n",
       "white wire/cable 0.75 sqmm                                                                  [14984]\n",
       "wire                                              [14869, 14870, 14872, 14873, 15027, 15028, 150...\n",
       "wire armoured cables                                                                        [18074]\n",
       "yellow wire/cable 0.75 sqmm                                                                 [15011]\n",
       "Length: 1085, dtype: object"
      ]
     },
     "execution_count": 67,
     "metadata": {},
     "output_type": "execute_result"
    }
   ],
   "execution_count": 67
  },
  {
   "metadata": {},
   "cell_type": "code",
   "outputs": [],
   "execution_count": null,
   "source": "",
   "id": "160d21e616c4155e"
  },
  {
   "metadata": {},
   "cell_type": "code",
   "outputs": [],
   "execution_count": null,
   "source": "",
   "id": "6217c841908ecdbb"
  },
  {
   "metadata": {
    "ExecuteTime": {
     "end_time": "2024-10-12T09:49:15.037399Z",
     "start_time": "2024-10-12T09:49:13.966918Z"
    }
   },
   "cell_type": "code",
   "source": [
    "item_df = pd.DataFrame({\n",
    "    'COUNT': location_data.groupby('SUPPLIER_CODE')['ITEM_CODE'].count(),\n",
    "    'NAN_COUNT': location_data.groupby('SUPPLIER_CODE')['ITEM_CODE'].apply(lambda x: x.isnull().sum()),\n",
    "    'UNIQUE_COUNT': location_data.groupby('SUPPLIER_CODE')['ITEM_CODE'].nunique(),\n",
    "    'UNIQUE': location_data.groupby('SUPPLIER_CODE')['ITEM_CODE'].apply(lambda x: x.dropna().unique())\n",
    "})\n",
    "\n",
    "repeating_items = item_df[item_df['COUNT'] > item_df['UNIQUE_COUNT']]\n",
    "repeating_items"
   ],
   "id": "a9fa72e2da386690",
   "outputs": [
    {
     "data": {
      "text/plain": [
       "               COUNT  NAN_COUNT  UNIQUE_COUNT  \\\n",
       "SUPPLIER_CODE                                   \n",
       "VCD000016          4          0             3   \n",
       "VCD000019          8          0             7   \n",
       "VCD000025          7          2             3   \n",
       "VCD000035         38         10            29   \n",
       "VCD000037          6          0             3   \n",
       "...              ...        ...           ...   \n",
       "VO000075           2          0             1   \n",
       "VO000101           4          0             3   \n",
       "VO000103           3          0             2   \n",
       "VO000111           2          0             1   \n",
       "VRD000116          3          0             2   \n",
       "\n",
       "                                                          UNIQUE  \n",
       "SUPPLIER_CODE                                                     \n",
       "VCD000016                            [CW00995, CW00996, CW00997]  \n",
       "VCD000019      [CW01004, CW01005, CW01006, CW01008, CWIP00227...  \n",
       "VCD000025                            [CW01014, CW01015, CW01016]  \n",
       "VCD000035      [CW01189, CW01190, CW01191, CW01192, CW01193, ...  \n",
       "VCD000037                            [CW01066, CW01173, GC00815]  \n",
       "...                                                          ...  \n",
       "VO000075                                               [EL16746]  \n",
       "VO000101                             [2455400, 2550500, 1510900]  \n",
       "VO000103                                      [EL17471, EL18961]  \n",
       "VO000111                                               [EL17748]  \n",
       "VRD000116                                   [CWIP00312, GC00521]  \n",
       "\n",
       "[531 rows x 4 columns]"
      ],
      "text/html": [
       "<div>\n",
       "<style scoped>\n",
       "    .dataframe tbody tr th:only-of-type {\n",
       "        vertical-align: middle;\n",
       "    }\n",
       "\n",
       "    .dataframe tbody tr th {\n",
       "        vertical-align: top;\n",
       "    }\n",
       "\n",
       "    .dataframe thead th {\n",
       "        text-align: right;\n",
       "    }\n",
       "</style>\n",
       "<table border=\"1\" class=\"dataframe\">\n",
       "  <thead>\n",
       "    <tr style=\"text-align: right;\">\n",
       "      <th></th>\n",
       "      <th>COUNT</th>\n",
       "      <th>NAN_COUNT</th>\n",
       "      <th>UNIQUE_COUNT</th>\n",
       "      <th>UNIQUE</th>\n",
       "    </tr>\n",
       "    <tr>\n",
       "      <th>SUPPLIER_CODE</th>\n",
       "      <th></th>\n",
       "      <th></th>\n",
       "      <th></th>\n",
       "      <th></th>\n",
       "    </tr>\n",
       "  </thead>\n",
       "  <tbody>\n",
       "    <tr>\n",
       "      <th>VCD000016</th>\n",
       "      <td>4</td>\n",
       "      <td>0</td>\n",
       "      <td>3</td>\n",
       "      <td>[CW00995, CW00996, CW00997]</td>\n",
       "    </tr>\n",
       "    <tr>\n",
       "      <th>VCD000019</th>\n",
       "      <td>8</td>\n",
       "      <td>0</td>\n",
       "      <td>7</td>\n",
       "      <td>[CW01004, CW01005, CW01006, CW01008, CWIP00227...</td>\n",
       "    </tr>\n",
       "    <tr>\n",
       "      <th>VCD000025</th>\n",
       "      <td>7</td>\n",
       "      <td>2</td>\n",
       "      <td>3</td>\n",
       "      <td>[CW01014, CW01015, CW01016]</td>\n",
       "    </tr>\n",
       "    <tr>\n",
       "      <th>VCD000035</th>\n",
       "      <td>38</td>\n",
       "      <td>10</td>\n",
       "      <td>29</td>\n",
       "      <td>[CW01189, CW01190, CW01191, CW01192, CW01193, ...</td>\n",
       "    </tr>\n",
       "    <tr>\n",
       "      <th>VCD000037</th>\n",
       "      <td>6</td>\n",
       "      <td>0</td>\n",
       "      <td>3</td>\n",
       "      <td>[CW01066, CW01173, GC00815]</td>\n",
       "    </tr>\n",
       "    <tr>\n",
       "      <th>...</th>\n",
       "      <td>...</td>\n",
       "      <td>...</td>\n",
       "      <td>...</td>\n",
       "      <td>...</td>\n",
       "    </tr>\n",
       "    <tr>\n",
       "      <th>VO000075</th>\n",
       "      <td>2</td>\n",
       "      <td>0</td>\n",
       "      <td>1</td>\n",
       "      <td>[EL16746]</td>\n",
       "    </tr>\n",
       "    <tr>\n",
       "      <th>VO000101</th>\n",
       "      <td>4</td>\n",
       "      <td>0</td>\n",
       "      <td>3</td>\n",
       "      <td>[2455400, 2550500, 1510900]</td>\n",
       "    </tr>\n",
       "    <tr>\n",
       "      <th>VO000103</th>\n",
       "      <td>3</td>\n",
       "      <td>0</td>\n",
       "      <td>2</td>\n",
       "      <td>[EL17471, EL18961]</td>\n",
       "    </tr>\n",
       "    <tr>\n",
       "      <th>VO000111</th>\n",
       "      <td>2</td>\n",
       "      <td>0</td>\n",
       "      <td>1</td>\n",
       "      <td>[EL17748]</td>\n",
       "    </tr>\n",
       "    <tr>\n",
       "      <th>VRD000116</th>\n",
       "      <td>3</td>\n",
       "      <td>0</td>\n",
       "      <td>2</td>\n",
       "      <td>[CWIP00312, GC00521]</td>\n",
       "    </tr>\n",
       "  </tbody>\n",
       "</table>\n",
       "<p>531 rows × 4 columns</p>\n",
       "</div>"
      ]
     },
     "execution_count": 61,
     "metadata": {},
     "output_type": "execute_result"
    }
   ],
   "execution_count": 61
  },
  {
   "metadata": {
    "ExecuteTime": {
     "end_time": "2024-10-12T09:48:27.458694Z",
     "start_time": "2024-10-12T09:48:27.212321Z"
    }
   },
   "cell_type": "code",
   "source": [
    "# Plot the graph for the top 10 SUPPLIER_CODE with item count\n",
    "\n",
    "# repeating_items = repeating_items[:10]\n",
    "\n",
    "categories = repeating_items.index\n",
    "width = 0.5  # Width of the bars\n",
    "\n",
    "# Creating a figure and axis\n",
    "fig, ax = plt.subplots(figsize=(20, 7))\n",
    "\n",
    "# Plotting the first bar (Normal Count + NaN Count)\n",
    "bar1 = ax.bar(categories, repeating_items['NAN_COUNT'], width, label='NaN Count', color='lightcoral')\n",
    "bar2 = ax.bar(categories, repeating_items['COUNT'], width, bottom=repeating_items['NAN_COUNT'], label='Count', color='lightblue')\n",
    "\n",
    "# Plotting the second bar (Unique Count)\n",
    "bar3 = ax.bar([x + width for x in range(len(categories))], repeating_items['UNIQUE_COUNT'], width, label='Unique Count', color='lightgreen')\n",
    "\n",
    "# Adding labels and title\n",
    "ax.set_xlabel('Category')\n",
    "ax.set_ylabel('Count')\n",
    "ax.set_title('NaN Count, Count, and Unique Count per Category')\n",
    "ax.set_xticks([x + width / 2 for x in range(len(categories))])\n",
    "ax.set_xticklabels(categories)\n",
    "\n",
    "ax.legend()\n",
    "plt.show()"
   ],
   "id": "aefbb8eb125424c7",
   "outputs": [
    {
     "data": {
      "text/plain": [
       "<Figure size 2000x700 with 1 Axes>"
      ],
      "image/png": "[encoded data removed]"
     },
     "metadata": {},
     "output_type": "display_data"
    }
   ],
   "execution_count": 60
  },
  {
   "metadata": {
    "ExecuteTime": {
     "end_time": "2024-10-12T11:14:24.696807Z",
     "start_time": "2024-10-12T11:14:22.380845Z"
    }
   },
   "cell_type": "code",
   "source": [
    "transaction_items = pd.DataFrame({\n",
    "    'ITEM_COUNT': location_data.groupby('PO_NUM')['ITEM_NAME'].nunique(),\n",
    "    'ITEMS': location_data.groupby('PO_NUM')['ITEM_NAME'].apply(lambda x: x.dropna().unique())\n",
    "})\n",
    "\n",
    "transaction_items = transaction_items.sort_values(by='ITEM_COUNT', ascending=False)\n",
    "transaction_items"
   ],
   "id": "dd7e86bfcd6b8353",
   "outputs": [
    {
     "data": {
      "text/plain": [
       "           ITEM_COUNT                                              ITEMS\n",
       "PO_NUM                                                                  \n",
       "232433841         265  [RMCF0603ZT0R00 RES 0 OHM JUMPER 1/10W 0603, R...\n",
       "242504056         254  [SMF4L30CA TVS DIODE 30VWM 48.4VC SOD123FL, RM...\n",
       "232433489         203  [CAP CER 4.7UF 16V X5R 0603: C1608X5R1C475K080...\n",
       "232431784         191  [RR1220P-122-D RES SMD 1.2K OHM 0.5% 1/10W 080...\n",
       "232433058         187  [RES SMD 1K OHM 0.1% 1/10W 0603: RT0603BRD071K...\n",
       "...               ...                                                ...\n",
       "232420121           1  [PRINTER-197x267x191MM203DPI152 MM PER SECUSBB...\n",
       "232420123           1  [Matrix Cosec VEGA FAX with Battery backup (Ha...\n",
       "232420124           1          [EM Prox Card Module for Vega Fax Device]\n",
       "232420125           1  [Installation & commissioning charges for Matr...\n",
       "232430956           1                            [Traffic Convex mirror]\n",
       "\n",
       "[15110 rows x 2 columns]"
      ],
      "text/html": [
       "<div>\n",
       "<style scoped>\n",
       "    .dataframe tbody tr th:only-of-type {\n",
       "        vertical-align: middle;\n",
       "    }\n",
       "\n",
       "    .dataframe tbody tr th {\n",
       "        vertical-align: top;\n",
       "    }\n",
       "\n",
       "    .dataframe thead th {\n",
       "        text-align: right;\n",
       "    }\n",
       "</style>\n",
       "<table border=\"1\" class=\"dataframe\">\n",
       "  <thead>\n",
       "    <tr style=\"text-align: right;\">\n",
       "      <th></th>\n",
       "      <th>ITEM_COUNT</th>\n",
       "      <th>ITEMS</th>\n",
       "    </tr>\n",
       "    <tr>\n",
       "      <th>PO_NUM</th>\n",
       "      <th></th>\n",
       "      <th></th>\n",
       "    </tr>\n",
       "  </thead>\n",
       "  <tbody>\n",
       "    <tr>\n",
       "      <th>232433841</th>\n",
       "      <td>265</td>\n",
       "      <td>[RMCF0603ZT0R00 RES 0 OHM JUMPER 1/10W 0603, R...</td>\n",
       "    </tr>\n",
       "    <tr>\n",
       "      <th>242504056</th>\n",
       "      <td>254</td>\n",
       "      <td>[SMF4L30CA TVS DIODE 30VWM 48.4VC SOD123FL, RM...</td>\n",
       "    </tr>\n",
       "    <tr>\n",
       "      <th>232433489</th>\n",
       "      <td>203</td>\n",
       "      <td>[CAP CER 4.7UF 16V X5R 0603: C1608X5R1C475K080...</td>\n",
       "    </tr>\n",
       "    <tr>\n",
       "      <th>232431784</th>\n",
       "      <td>191</td>\n",
       "      <td>[RR1220P-122-D RES SMD 1.2K OHM 0.5% 1/10W 080...</td>\n",
       "    </tr>\n",
       "    <tr>\n",
       "      <th>232433058</th>\n",
       "      <td>187</td>\n",
       "      <td>[RES SMD 1K OHM 0.1% 1/10W 0603: RT0603BRD071K...</td>\n",
       "    </tr>\n",
       "    <tr>\n",
       "      <th>...</th>\n",
       "      <td>...</td>\n",
       "      <td>...</td>\n",
       "    </tr>\n",
       "    <tr>\n",
       "      <th>232420121</th>\n",
       "      <td>1</td>\n",
       "      <td>[PRINTER-197x267x191MM203DPI152 MM PER SECUSBB...</td>\n",
       "    </tr>\n",
       "    <tr>\n",
       "      <th>232420123</th>\n",
       "      <td>1</td>\n",
       "      <td>[Matrix Cosec VEGA FAX with Battery backup (Ha...</td>\n",
       "    </tr>\n",
       "    <tr>\n",
       "      <th>232420124</th>\n",
       "      <td>1</td>\n",
       "      <td>[EM Prox Card Module for Vega Fax Device]</td>\n",
       "    </tr>\n",
       "    <tr>\n",
       "      <th>232420125</th>\n",
       "      <td>1</td>\n",
       "      <td>[Installation &amp; commissioning charges for Matr...</td>\n",
       "    </tr>\n",
       "    <tr>\n",
       "      <th>232430956</th>\n",
       "      <td>1</td>\n",
       "      <td>[Traffic Convex mirror]</td>\n",
       "    </tr>\n",
       "  </tbody>\n",
       "</table>\n",
       "<p>15110 rows × 2 columns</p>\n",
       "</div>"
      ]
     },
     "execution_count": 79,
     "metadata": {},
     "output_type": "execute_result"
    }
   ],
   "execution_count": 79
  },
  {
   "metadata": {
    "ExecuteTime": {
     "end_time": "2024-10-12T11:31:18.503486Z",
     "start_time": "2024-10-12T11:31:18.500660Z"
    }
   },
   "cell_type": "code",
   "source": "# transaction_items.iloc[0]['ITEMS']",
   "id": "8dd66b097be1fe4f",
   "outputs": [],
   "execution_count": 122
  },
  {
   "metadata": {
    "ExecuteTime": {
     "end_time": "2024-10-12T11:30:52.146043Z",
     "start_time": "2024-10-12T11:30:52.132334Z"
    }
   },
   "cell_type": "code",
   "source": [
    "items_without_code = location_data[location_data['ITEM_CODE'].isnull()]['ITEM_NAME']\n",
    "\n",
    "items_without_code_count = items_without_code.count() # 5252\n",
    "items_without_code_unique_count = items_without_code.nunique() # 4724"
   ],
   "id": "2468cd717d2f18d",
   "outputs": [],
   "execution_count": 117
  },
  {
   "metadata": {
    "ExecuteTime": {
     "end_time": "2024-10-12T11:33:32.843212Z",
     "start_time": "2024-10-12T11:33:32.797161Z"
    }
   },
   "cell_type": "code",
   "source": [
    "items_with_code_df = location_data[~location_data['ITEM_CODE'].isnull()]\n",
    "\n",
    "items_with_code = items_with_code_df['ITEM_NAME']\n",
    "# 2 null ITEM_NAME rows are also present\n",
    "items_with_code_count = items_with_code.count() # 45207\n",
    "items_with_code_unique_count = items_with_code.nunique() # 19214"
   ],
   "id": "2261888f464842f9",
   "outputs": [],
   "execution_count": 124
  },
  {
   "metadata": {
    "ExecuteTime": {
     "end_time": "2024-10-12T11:35:30.695507Z",
     "start_time": "2024-10-12T11:35:30.685459Z"
    }
   },
   "cell_type": "code",
   "source": "items_with_code_df[['ITEM_CODE', 'ITEM_NAME']] # length = 45209",
   "id": "e44e1225f5506024",
   "outputs": [
    {
     "data": {
      "text/plain": [
       "       ITEM_CODE                             ITEM_NAME\n",
       "0        MC11560  Bracket no A-081-G MDR Locking Strip\n",
       "1        4556800                         Locking Plate\n",
       "11       ST00545  Integration for SolidWorks (TC30607)\n",
       "12       ST00546   Teamcenter Gateway for EDA (TC31050\n",
       "13       GC01436      Fixture for machinining Al. Bars\n",
       "...          ...                                   ...\n",
       "50456  00047513A                  ZIPPY 25 TOP COVER-1\n",
       "50457  00047494A              ZIPPY 25 FRONT COVER - 1\n",
       "50458  00047510A            ZIPPY 25 - SIDE COVER - 01\n",
       "50459    3079000            Tube 200x200x14mm (350YST)\n",
       "50460    3079100              Tube 140x80x9mm (350YST)\n",
       "\n",
       "[45209 rows x 2 columns]"
      ],
      "text/html": [
       "<div>\n",
       "<style scoped>\n",
       "    .dataframe tbody tr th:only-of-type {\n",
       "        vertical-align: middle;\n",
       "    }\n",
       "\n",
       "    .dataframe tbody tr th {\n",
       "        vertical-align: top;\n",
       "    }\n",
       "\n",
       "    .dataframe thead th {\n",
       "        text-align: right;\n",
       "    }\n",
       "</style>\n",
       "<table border=\"1\" class=\"dataframe\">\n",
       "  <thead>\n",
       "    <tr style=\"text-align: right;\">\n",
       "      <th></th>\n",
       "      <th>ITEM_CODE</th>\n",
       "      <th>ITEM_NAME</th>\n",
       "    </tr>\n",
       "  </thead>\n",
       "  <tbody>\n",
       "    <tr>\n",
       "      <th>0</th>\n",
       "      <td>MC11560</td>\n",
       "      <td>Bracket no A-081-G MDR Locking Strip</td>\n",
       "    </tr>\n",
       "    <tr>\n",
       "      <th>1</th>\n",
       "      <td>4556800</td>\n",
       "      <td>Locking Plate</td>\n",
       "    </tr>\n",
       "    <tr>\n",
       "      <th>11</th>\n",
       "      <td>ST00545</td>\n",
       "      <td>Integration for SolidWorks (TC30607)</td>\n",
       "    </tr>\n",
       "    <tr>\n",
       "      <th>12</th>\n",
       "      <td>ST00546</td>\n",
       "      <td>Teamcenter Gateway for EDA (TC31050</td>\n",
       "    </tr>\n",
       "    <tr>\n",
       "      <th>13</th>\n",
       "      <td>GC01436</td>\n",
       "      <td>Fixture for machinining Al. Bars</td>\n",
       "    </tr>\n",
       "    <tr>\n",
       "      <th>...</th>\n",
       "      <td>...</td>\n",
       "      <td>...</td>\n",
       "    </tr>\n",
       "    <tr>\n",
       "      <th>50456</th>\n",
       "      <td>00047513A</td>\n",
       "      <td>ZIPPY 25 TOP COVER-1</td>\n",
       "    </tr>\n",
       "    <tr>\n",
       "      <th>50457</th>\n",
       "      <td>00047494A</td>\n",
       "      <td>ZIPPY 25 FRONT COVER - 1</td>\n",
       "    </tr>\n",
       "    <tr>\n",
       "      <th>50458</th>\n",
       "      <td>00047510A</td>\n",
       "      <td>ZIPPY 25 - SIDE COVER - 01</td>\n",
       "    </tr>\n",
       "    <tr>\n",
       "      <th>50459</th>\n",
       "      <td>3079000</td>\n",
       "      <td>Tube 200x200x14mm (350YST)</td>\n",
       "    </tr>\n",
       "    <tr>\n",
       "      <th>50460</th>\n",
       "      <td>3079100</td>\n",
       "      <td>Tube 140x80x9mm (350YST)</td>\n",
       "    </tr>\n",
       "  </tbody>\n",
       "</table>\n",
       "<p>45209 rows × 2 columns</p>\n",
       "</div>"
      ]
     },
     "execution_count": 129,
     "metadata": {},
     "output_type": "execute_result"
    }
   ],
   "execution_count": 129
  },
  {
   "metadata": {
    "ExecuteTime": {
     "end_time": "2024-10-12T12:02:47.179832Z",
     "start_time": "2024-10-12T12:02:47.176181Z"
    }
   },
   "cell_type": "code",
   "source": [
    "def contains_nan_or_none(arr):\n",
    "    # Check for None values\n",
    "    if np.any(pd.isnull(arr)):  # This will check both None and NaN\n",
    "        return True\n",
    "    return False"
   ],
   "id": "6ffcfb57e1e324b7",
   "outputs": [],
   "execution_count": 186
  },
  {
   "metadata": {
    "ExecuteTime": {
     "end_time": "2024-10-12T11:59:55.857464Z",
     "start_time": "2024-10-12T11:59:54.648902Z"
    }
   },
   "cell_type": "code",
   "source": [
    "unique_items_with_code = items_with_code_df[['ITEM_CODE', 'ITEM_NAME']].groupby('ITEM_CODE')['ITEM_NAME'].unique()\n",
    "item_code_with_more_than_one = unique_items_with_code[unique_items_with_code.apply(lambda x: len(x) > 1)]\n",
    "item_code_with_exactly_one = unique_items_with_code[unique_items_with_code.apply(lambda x: len(x) == 1)]\n",
    "item_code_with_less_than_one = unique_items_with_code[unique_items_with_code.apply(lambda x: len(x) < 1)]"
   ],
   "id": "263758ba3a96c460",
   "outputs": [],
   "execution_count": 171
  },
  {
   "metadata": {
    "ExecuteTime": {
     "end_time": "2024-10-12T11:59:26.827399Z",
     "start_time": "2024-10-12T11:59:26.819504Z"
    }
   },
   "cell_type": "code",
   "source": "item_code_with_more_than_one",
   "id": "add918d1464cc711",
   "outputs": [
    {
     "data": {
      "text/plain": [
       "ITEM_CODE\n",
       "5          [10100079 Deep groove ball bearing 61901-2RS1 ...\n",
       "14         [BEARING, Deep Groove Ball Bearing, Deep Groov...\n",
       "15               [BEARING, Deep Groove Ball Bearing ID-10mm]\n",
       "16         [BEARING, Deep Groove Ball Bearing, Deep Groov...\n",
       "17         [BEARING, Deep Groove Ball Bearing, Deep Groov...\n",
       "                                 ...                        \n",
       "PK00016     [Wooden Log For Packing, Wooden Log for Packing]\n",
       "SP00051    [Steel Wire Rope 13mm dia, Steel Wire Rope 13m...\n",
       "SP00328    [Allen key set normal AKM 9, Allen key set nor...\n",
       "SP00331    [Spanner set(D Type), Spanner set(Ring type & ...\n",
       "SP00520    [Bearing NTN-AEL210W3, Bearing NTN-AEL210W3 + ...\n",
       "Name: ITEM_NAME, Length: 1325, dtype: object"
      ]
     },
     "execution_count": 170,
     "metadata": {},
     "output_type": "execute_result"
    }
   ],
   "execution_count": 170
  },
  {
   "metadata": {
    "ExecuteTime": {
     "end_time": "2024-10-12T12:01:11.577604Z",
     "start_time": "2024-10-12T12:01:11.554911Z"
    }
   },
   "cell_type": "code",
   "source": [
    "# Any item code that contains a nan in the numpy array\n",
    "# for 1-to-many code and name mapping\n",
    "item_code_with_more_than_one[item_code_with_more_than_one.apply(contains_nan_or_none)]"
   ],
   "id": "9bce7f28e585eefe",
   "outputs": [
    {
     "data": {
      "text/plain": [
       "Series([], Name: ITEM_NAME, dtype: object)"
      ]
     },
     "execution_count": 176,
     "metadata": {},
     "output_type": "execute_result"
    }
   ],
   "execution_count": 176
  },
  {
   "metadata": {
    "ExecuteTime": {
     "end_time": "2024-10-12T12:02:37.174600Z",
     "start_time": "2024-10-12T12:02:37.168048Z"
    }
   },
   "cell_type": "code",
   "source": "item_code_with_exactly_one",
   "id": "f978b5488ba00db",
   "outputs": [
    {
     "data": {
      "text/plain": [
       "ITEM_CODE\n",
       "18                                                     [BEARING]\n",
       "68                                                [Roller Chain]\n",
       "70                                                   [FLAT BELT]\n",
       "71                                                  [Drive Belt]\n",
       "73                                                        [BELT]\n",
       "                                     ...                        \n",
       "ST00558                  [Motorcortex MCX - Generic APP License]\n",
       "ST00559                  [COSEC CENTRA PLT100 Perpetual License]\n",
       "ST00560                  [COSEC CENTRA ACM100 Perpetual License]\n",
       "ST00570        [WS17-PRO-C VMware Workstation 17 Pro for Linu...\n",
       "\\0003786500    [SERVER-CLOCK SPEED 3.2 GHzRAM 32 GBSSD 960 GB...\n",
       "Name: ITEM_NAME, Length: 19267, dtype: object"
      ]
     },
     "execution_count": 184,
     "metadata": {},
     "output_type": "execute_result"
    }
   ],
   "execution_count": 184
  },
  {
   "metadata": {
    "ExecuteTime": {
     "end_time": "2024-10-12T12:03:38.192880Z",
     "start_time": "2024-10-12T12:03:37.975946Z"
    }
   },
   "cell_type": "code",
   "source": [
    "# Any item code that is equal to nan\n",
    "# for 1-to-1 code and name mapping\n",
    "item_code_with_exactly_one[item_code_with_exactly_one.apply(contains_nan_or_none)]"
   ],
   "id": "e7f9b4c019fc2989",
   "outputs": [
    {
     "data": {
      "text/plain": [
       "ITEM_CODE\n",
       "SF00123    [nan]\n",
       "SF00134    [nan]\n",
       "Name: ITEM_NAME, dtype: object"
      ]
     },
     "execution_count": 187,
     "metadata": {},
     "output_type": "execute_result"
    }
   ],
   "execution_count": 187
  }
 ],
 "metadata": {
  "kernelspec": {
   "display_name": "Python 3",
   "language": "python",
   "name": "python3"
  },
  "language_info": {
   "codemirror_mode": {
    "name": "ipython",
    "version": 2
   },
   "file_extension": ".py",
   "mimetype": "text/x-python",
   "name": "python",
   "nbconvert_exporter": "python",
   "pygments_lexer": "ipython2",
   "version": "2.7.6"
  }
 },
 "nbformat": 4,
 "nbformat_minor": 5
}
