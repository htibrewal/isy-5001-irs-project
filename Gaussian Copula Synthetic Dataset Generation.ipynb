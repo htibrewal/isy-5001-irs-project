{
 "cells": [
  {
   "cell_type": "code",
   "execution_count": 1,
   "id": "80286884-2f01-4395-8793-7e681b1d09fd",
   "metadata": {},
   "outputs": [
    {
     "name": "stderr",
     "output_type": "stream",
     "text": [
      "C:\\Users\\Sanglap\\miniconda3\\envs\\gpu2\\lib\\site-packages\\scipy\\__init__.py:146: UserWarning: A NumPy version >=1.16.5 and <1.23.0 is required for this version of SciPy (detected version 1.26.4\n",
      "  warnings.warn(f\"A NumPy version >={np_minversion} and <{np_maxversion}\"\n",
      "C:\\Users\\Sanglap\\miniconda3\\envs\\gpu2\\lib\\site-packages\\tqdm\\auto.py:21: TqdmWarning: IProgress not found. Please update jupyter and ipywidgets. See https://ipywidgets.readthedocs.io/en/stable/user_install.html\n",
      "  from .autonotebook import tqdm as notebook_tqdm\n"
     ]
    },
    {
     "name": "stdout",
     "output_type": "stream",
     "text": [
      "Gaussian Copula synthetic dataset saved with 50000 data points\n"
     ]
    }
   ],
   "source": [
    "import pandas as pd\n",
    "import numpy as np\n",
    "from sklearn.impute import SimpleImputer\n",
    "from sdv.tabular import GaussianCopula\n",
    "import warnings\n",
    "\n",
    "# Load your existing dataset\n",
    "data = pd.read_csv('Downloads/filtered_data.csv')\n",
    "\n",
    "# Drop columns that are entirely NaN\n",
    "data = data.dropna(axis=1, how='all')\n",
    "\n",
    "# Copy data to avoid SettingWithCopyWarning\n",
    "data = data.copy()\n",
    "\n",
    "# Imputing missing values\n",
    "# For numerical columns, fill missing values with the median\n",
    "numeric_cols = data.select_dtypes(include=[np.number]).columns\n",
    "imputer_numeric = SimpleImputer(strategy='median')\n",
    "numeric_data_imputed = imputer_numeric.fit_transform(data[numeric_cols])\n",
    "numeric_data_imputed = pd.DataFrame(numeric_data_imputed, columns=numeric_cols)\n",
    "\n",
    "# For categorical columns, fill missing values with the mode\n",
    "categorical_cols = data.select_dtypes(include=[object]).columns\n",
    "imputer_categorical = SimpleImputer(strategy='most_frequent')\n",
    "categorical_data_imputed = imputer_categorical.fit_transform(data[categorical_cols])\n",
    "categorical_data_imputed = pd.DataFrame(categorical_data_imputed, columns=categorical_cols)\n",
    "\n",
    "# Combine the imputed numerical and categorical columns back into a single DataFrame\n",
    "data_imputed = pd.concat([numeric_data_imputed, categorical_data_imputed], axis=1)\n",
    "\n",
    "# Suppress warnings to avoid stopping the execution\n",
    "warnings.filterwarnings('ignore')\n",
    "\n",
    "# Using GaussianCopula to generate synthetic data\n",
    "gaussian_copula = GaussianCopula()\n",
    "gaussian_copula.fit(data_imputed)\n",
    "gaussian_copula_synthetic_data = gaussian_copula.sample(50000)\n",
    "\n",
    "# Saving the GaussianCopula-generated synthetic dataset\n",
    "gaussian_copula_synthetic_data.to_csv('gaussian_copula_synthetic_dataset.csv', index=False)\n",
    "print(f\"Gaussian Copula synthetic dataset saved with {gaussian_copula_synthetic_data.shape[0]} data points\")\n"
   ]
  },
  {
   "cell_type": "code",
   "execution_count": null,
   "id": "5649dc55-ca16-4e0b-8d49-82e0800aaeba",
   "metadata": {},
   "outputs": [],
   "source": []
  }
 ],
 "metadata": {
  "kernelspec": {
   "display_name": "Python 3 (ipykernel)",
   "language": "python",
   "name": "python3"
  },
  "language_info": {
   "codemirror_mode": {
    "name": "ipython",
    "version": 3
   },
   "file_extension": ".py",
   "mimetype": "text/x-python",
   "name": "python",
   "nbconvert_exporter": "python",
   "pygments_lexer": "ipython3",
   "version": "3.9.19"
  }
 },
 "nbformat": 4,
 "nbformat_minor": 5
}
