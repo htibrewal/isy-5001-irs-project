{
  "nbformat": 4,
  "nbformat_minor": 0,
  "metadata": {
    "colab": {
      "provenance": [],
      "gpuType": "T4"
    },
    "kernelspec": {
      "name": "python3",
      "display_name": "Python 3"
    },
    "language_info": {
      "name": "python"
    },
    "accelerator": "GPU"
  },
  "cells": [
    {
      "cell_type": "markdown",
      "source": [
        "# Preparing the Data\n"
      ],
      "metadata": {
        "id": "3TUj2pg9HVNM"
      }
    },
    {
      "cell_type": "code",
      "execution_count": 120,
      "metadata": {
        "colab": {
          "base_uri": "https://localhost:8080/"
        },
        "id": "CiDEqKqwHHP4",
        "outputId": "b46d37a8-ea61-4f2b-e847-34696287da49"
      },
      "outputs": [
        {
          "output_type": "stream",
          "name": "stdout",
          "text": [
            "Drive already mounted at /content/drive; to attempt to forcibly remount, call drive.mount(\"/content/drive\", force_remount=True).\n",
            "\n",
            " First few rows of the PO Dump: \n",
            "    Unnamed: 0  PO_NUM DOCCUR  DOCRATE SUPPLIER_CODE  \\\n",
            "0           0   53586    INR      1.0      VD001614   \n",
            "1           1   53586    INR      1.0      VD001614   \n",
            "2           2   53650    INR      1.0      VD003065   \n",
            "3           3   53684    INR      1.0      VD003071   \n",
            "4           4   53946    INR      1.0      VD002799   \n",
            "\n",
            "                           SUPPLIER_NAME    DOC_DATE DELIVERY_DATE  \\\n",
            "0  ITG SOFTWARE ENGINEERING (I) PVT. LTD  01-10-2021    30-11-2022   \n",
            "1  ITG SOFTWARE ENGINEERING (I) PVT. LTD  01-10-2021    30-11-2022   \n",
            "2    TIKMANY TELESYSTEMS PRIVATE LIMITED  07-10-2021    28-09-2021   \n",
            "3                       ZIP TECHNOLOGIES  08-10-2021    28-09-2021   \n",
            "4          INSPIRED TECHNOLOGIES PVT LTD  18-10-2021    30-11-2021   \n",
            "\n",
            "       PO_VALUE LOCATION  ...  TAX_AMOUNT(LC) LINETOTAL_WITH_TAX_(LC)  \\\n",
            "0  2.764740e+07      SEA  ...      410400.000            2.690400e+06   \n",
            "1  2.764740e+07      SEA  ...     3807000.000            2.495700e+07   \n",
            "2  3.589997e+03    NOIDA  ...         547.627            3.589997e+03   \n",
            "3  1.674998e+03    NOIDA  ...         255.508            1.674998e+03   \n",
            "4  2.301000e+07   MUMBAI  ...     3510000.000            2.301000e+07   \n",
            "\n",
            "  PART_ID_CLEANED              PART_NAME  \\\n",
            "0           17306                SENSORS   \n",
            "1           17340  SINGLE BOARD COMPUTER   \n",
            "2           28317              CONNECTOR   \n",
            "3           18181               PLC CARD   \n",
            "4           17448                 SENSOR   \n",
            "\n",
            "                                    PART_DESCRIPTION  WIDTH_(MM)  HEIGHT_(MM)  \\\n",
            "0                    MINIATURE PHOTOELECTRIC SENSORS         0.0          0.0   \n",
            "1  SINGLE BOARD COMPUTERS UP SQUARED BOARD WITH C...         0.0          0.0   \n",
            "2                 CONNECTION LINE YM2D24-050PN1MRJA4         NaN          NaN   \n",
            "3                   FX5-485-BD MITSUBISHI RS485 CARD         NaN          NaN   \n",
            "4                   SHORT RANGE SCANNER-CONFIGURABLE         0.0          0.0   \n",
            "\n",
            "   DEPTH_(MM)  MOUNTING_CLEARANCES_(MM)  WEIGHT_(KG)  \n",
            "0         0.0                       NaN          0.0  \n",
            "1         0.0                       NaN          0.0  \n",
            "2         NaN                       NaN          NaN  \n",
            "3         NaN                       NaN          NaN  \n",
            "4         0.0                       NaN          0.0  \n",
            "\n",
            "[5 rows x 27 columns] \n",
            "\n"
          ]
        }
      ],
      "source": [
        " # Loading the data\n",
        "\n",
        "from google.colab import drive\n",
        "import pandas as pd\n",
        "import numpy as np\n",
        "\n",
        "drive.mount('/content/drive')\n",
        "\n",
        "PO_data=pd.read_csv('/content/drive/MyDrive/NUS-ISS AIS Projects/Project 1/Data/filtered_data_final_2.csv')\n",
        "\n",
        "# Display the first few rows of the dataset\n",
        "print('\\n First few rows of the PO Dump: \\n', PO_data.head(), '\\n')"
      ]
    },
    {
      "cell_type": "markdown",
      "source": [
        "Calculating Delivery Time for each line item"
      ],
      "metadata": {
        "id": "l6Raj3WFHk3u"
      }
    },
    {
      "cell_type": "code",
      "source": [
        "#Calculating Delivery Time\n",
        "\n",
        "# Convert 'DOC_CREATION_DATE' and 'DELIVERY_DATE' to datetime objects\n",
        "PO_data['DOC_DATE'] = pd.to_datetime(PO_data['DOC_DATE'], format='%d-%m-%Y')\n",
        "PO_data['DELIVERY_DATE'] = pd.to_datetime(PO_data['DELIVERY_DATE'])\n",
        "\n",
        "# Calculate delivery time in days\n",
        "PO_data['DELIVERY_TIME'] = (PO_data['DELIVERY_DATE'] - PO_data['DOC_DATE']).dt.days\n",
        "\n",
        "PO_data['DELIVERY_TIME'] = PO_data['DELIVERY_TIME'].abs()\n",
        "\n",
        "# Print delivery time for each vendor\n",
        "print(PO_data[['SUPPLIER_CODE', 'DELIVERY_TIME']])"
      ],
      "metadata": {
        "colab": {
          "base_uri": "https://localhost:8080/"
        },
        "id": "qilUmbs6HvGu",
        "outputId": "6f647de5-9c5f-4847-abf0-14186da07444"
      },
      "execution_count": 121,
      "outputs": [
        {
          "output_type": "stream",
          "name": "stdout",
          "text": [
            "      SUPPLIER_CODE  DELIVERY_TIME\n",
            "0          VD001614            425\n",
            "1          VD001614            425\n",
            "2          VD003065              9\n",
            "3          VD003071             10\n",
            "4          VD002799             43\n",
            "...             ...            ...\n",
            "38967      VD002002             11\n",
            "38968      VD002002             11\n",
            "38969      VD002002             11\n",
            "38970      VD002002             11\n",
            "38971      VD002002             11\n",
            "\n",
            "[38972 rows x 2 columns]\n"
          ]
        },
        {
          "output_type": "stream",
          "name": "stderr",
          "text": [
            "<ipython-input-121-e43fc9b04f13>:5: UserWarning: Parsing dates in %d-%m-%Y format when dayfirst=False (the default) was specified. Pass `dayfirst=True` or specify a format to silence this warning.\n",
            "  PO_data['DELIVERY_DATE'] = pd.to_datetime(PO_data['DELIVERY_DATE'])\n"
          ]
        }
      ]
    },
    {
      "cell_type": "code",
      "source": [
        "#Checking for improper Delivery times\n",
        "\n",
        "#Print all vendors with negative delivery time\n",
        "negative_delivery_time = PO_data[PO_data['DELIVERY_TIME'] < 0]\n",
        "\n",
        "#Total number of vendors with negative delivery date\n",
        "print('Total Number of vendors with Negative deliveries:', len(negative_delivery_time['SUPPLIER_CODE'].unique()), '\\n')\n",
        "print(negative_delivery_time['SUPPLIER_CODE'].value_counts())"
      ],
      "metadata": {
        "colab": {
          "base_uri": "https://localhost:8080/"
        },
        "id": "jg9JsCLGH4yi",
        "outputId": "623d0503-8fbf-4c5a-c0b1-9f12dea8cb4d"
      },
      "execution_count": 122,
      "outputs": [
        {
          "output_type": "stream",
          "name": "stdout",
          "text": [
            "Total Number of vendors with Negative deliveries: 0 \n",
            "\n",
            "Series([], Name: count, dtype: int64)\n"
          ]
        }
      ]
    },
    {
      "cell_type": "markdown",
      "source": [
        "EDA"
      ],
      "metadata": {
        "id": "AXACKBLDLZyh"
      }
    },
    {
      "cell_type": "code",
      "source": [
        "# observing the shape of the data\n",
        "print('Shape of the Data is: \\t', PO_data.shape, '\\n')"
      ],
      "metadata": {
        "colab": {
          "base_uri": "https://localhost:8080/"
        },
        "id": "kVU1_GT4La-x",
        "outputId": "5b007001-3aac-42ce-a6dc-28093d29c7ba"
      },
      "execution_count": 53,
      "outputs": [
        {
          "output_type": "stream",
          "name": "stdout",
          "text": [
            "Shape of the Data is: \t (38972, 28) \n",
            "\n"
          ]
        }
      ]
    },
    {
      "cell_type": "code",
      "source": [
        "# Check the data types and non-null counts\n",
        "print('\\nData Types and Non-null Counts:\\t', PO_data.info(), '\\n')"
      ],
      "metadata": {
        "colab": {
          "base_uri": "https://localhost:8080/"
        },
        "id": "VzpwfZbmLgi1",
        "outputId": "5553d43c-3953-4827-b355-25ef2448dd91"
      },
      "execution_count": 54,
      "outputs": [
        {
          "output_type": "stream",
          "name": "stdout",
          "text": [
            "<class 'pandas.core.frame.DataFrame'>\n",
            "RangeIndex: 38972 entries, 0 to 38971\n",
            "Data columns (total 28 columns):\n",
            " #   Column                    Non-Null Count  Dtype         \n",
            "---  ------                    --------------  -----         \n",
            " 0   Unnamed: 0                38972 non-null  int64         \n",
            " 1   PO_NUM                    38972 non-null  int64         \n",
            " 2   DOCCUR                    38972 non-null  object        \n",
            " 3   DOCRATE                   38972 non-null  float64       \n",
            " 4   SUPPLIER_CODE             38972 non-null  object        \n",
            " 5   SUPPLIER_NAME             38970 non-null  object        \n",
            " 6   DOC_DATE                  38972 non-null  datetime64[ns]\n",
            " 7   DELIVERY_DATE             38972 non-null  datetime64[ns]\n",
            " 8   PO_VALUE                  38972 non-null  float64       \n",
            " 9   LOCATION                  38972 non-null  object        \n",
            " 10  ITEM_CODE_CLEANED         38972 non-null  int64         \n",
            " 11  ITEM_NAME                 38972 non-null  object        \n",
            " 12  ITEM_DETAILS              38847 non-null  object        \n",
            " 13  UOM                       38972 non-null  object        \n",
            " 14  ORDERED_QUANTITY          38972 non-null  float64       \n",
            " 15  PRICE                     38972 non-null  float64       \n",
            " 16  ITEM_VALUE                38972 non-null  float64       \n",
            " 17  TAX_AMOUNT(LC)            38972 non-null  float64       \n",
            " 18  LINETOTAL_WITH_TAX_(LC)   38972 non-null  float64       \n",
            " 19  PART_ID_CLEANED           38972 non-null  int64         \n",
            " 20  PART_NAME                 38972 non-null  object        \n",
            " 21  PART_DESCRIPTION          38679 non-null  object        \n",
            " 22  WIDTH_(MM)                26996 non-null  float64       \n",
            " 23  HEIGHT_(MM)               27064 non-null  float64       \n",
            " 24  DEPTH_(MM)                26245 non-null  float64       \n",
            " 25  MOUNTING_CLEARANCES_(MM)  0 non-null      float64       \n",
            " 26  WEIGHT_(KG)               25417 non-null  float64       \n",
            " 27  DELIVERY_TIME             38972 non-null  int64         \n",
            "dtypes: datetime64[ns](2), float64(12), int64(5), object(9)\n",
            "memory usage: 8.3+ MB\n",
            "\n",
            "Data Types and Non-null Counts:\t None \n",
            "\n"
          ]
        }
      ]
    },
    {
      "cell_type": "code",
      "source": [],
      "metadata": {
        "id": "qsKKDLLSea5q"
      },
      "execution_count": null,
      "outputs": []
    },
    {
      "cell_type": "code",
      "source": [
        "# Check for missing values\n",
        "print('Missing Values: \\n', PO_data.isnull().sum(), '\\n')"
      ],
      "metadata": {
        "colab": {
          "base_uri": "https://localhost:8080/"
        },
        "id": "_8gMcLXuLnod",
        "outputId": "070b57bc-94e1-405c-b5ef-b7dded2d1e29"
      },
      "execution_count": 70,
      "outputs": [
        {
          "output_type": "stream",
          "name": "stdout",
          "text": [
            "Missing Values: \n",
            " Unnamed: 0                      0\n",
            "PO_NUM                          0\n",
            "DOCCUR                          0\n",
            "DOCRATE                         0\n",
            "SUPPLIER_CODE                   0\n",
            "SUPPLIER_NAME                   2\n",
            "DOC_DATE                        0\n",
            "DELIVERY_DATE                   0\n",
            "PO_VALUE                        0\n",
            "LOCATION                        0\n",
            "ITEM_CODE_CLEANED               0\n",
            "ITEM_NAME                       0\n",
            "ITEM_DETAILS                  125\n",
            "UOM                             0\n",
            "ORDERED_QUANTITY                0\n",
            "PRICE                           0\n",
            "ITEM_VALUE                      0\n",
            "TAX_AMOUNT(LC)                  0\n",
            "LINETOTAL_WITH_TAX_(LC)         0\n",
            "PART_ID_CLEANED                 0\n",
            "PART_NAME                       0\n",
            "PART_DESCRIPTION              293\n",
            "WIDTH_(MM)                  11976\n",
            "HEIGHT_(MM)                 11908\n",
            "DEPTH_(MM)                  12727\n",
            "MOUNTING_CLEARANCES_(MM)    38972\n",
            "WEIGHT_(KG)                 13555\n",
            "DELIVERY_TIME                   0\n",
            "dtype: int64 \n",
            "\n"
          ]
        }
      ]
    },
    {
      "cell_type": "code",
      "source": [
        "# Check for duplicate rows\n",
        "print('Number of duplicate rows: \\t', PO_data.duplicated().sum(), '\\n')"
      ],
      "metadata": {
        "colab": {
          "base_uri": "https://localhost:8080/"
        },
        "id": "k75cKGshL1_6",
        "outputId": "d64121a3-3f6b-4781-e0ca-08f932c353f8"
      },
      "execution_count": 56,
      "outputs": [
        {
          "output_type": "stream",
          "name": "stdout",
          "text": [
            "Number of duplicate rows: \t 0 \n",
            "\n"
          ]
        }
      ]
    },
    {
      "cell_type": "code",
      "source": [
        "#Summary of all the numerical data\n",
        "print('All the Numerical Features: \\n', PO_data.select_dtypes(include=['number']).columns, '\\n')\n",
        "\n",
        "# Summary statistics for numerical features\n",
        "print('Summary for Numberical Features: \\n', PO_data.describe(), '\\n')"
      ],
      "metadata": {
        "colab": {
          "base_uri": "https://localhost:8080/"
        },
        "id": "Rw-M-1JCL77A",
        "outputId": "22fa0c7d-833b-4752-e4ee-a0fd8abdcb01"
      },
      "execution_count": 111,
      "outputs": [
        {
          "output_type": "stream",
          "name": "stdout",
          "text": [
            "All the Numerical Features: \n",
            " Index(['Unnamed: 0', 'PO_NUM', 'DOCRATE', 'PO_VALUE', 'ITEM_CODE_CLEANED',\n",
            "       'ORDERED_QUANTITY', 'PRICE', 'ITEM_VALUE', 'TAX_AMOUNT(LC)',\n",
            "       'LINETOTAL_WITH_TAX_(LC)', 'PART_ID_CLEANED', 'WIDTH_(MM)',\n",
            "       'HEIGHT_(MM)', 'DEPTH_(MM)', 'MOUNTING_CLEARANCES_(MM)', 'WEIGHT_(KG)',\n",
            "       'DELIVERY_TIME'],\n",
            "      dtype='object') \n",
            "\n",
            "Summary for Numberical Features: \n",
            "          Unnamed: 0        PO_NUM       DOCRATE  \\\n",
            "count  38972.000000  3.897200e+04  38972.000000   \n",
            "mean   19485.500000  1.326400e+08     11.108913   \n",
            "min        0.000000  5.358600e+04      0.531900   \n",
            "25%     9742.750000  7.353375e+04      1.000000   \n",
            "50%    19485.500000  2.324308e+08      1.000000   \n",
            "75%    29228.250000  2.324701e+08      1.000000   \n",
            "max    38971.000000  2.425306e+08    105.572200   \n",
            "std    11250.391682  1.156600e+08     27.008198   \n",
            "\n",
            "                            DOC_DATE                  DELIVERY_DATE  \\\n",
            "count                          38972                          38972   \n",
            "mean   2023-06-04 18:50:10.653802496  2023-07-27 10:06:05.062095872   \n",
            "min              2021-10-01 00:00:00            2020-05-30 00:00:00   \n",
            "25%              2023-01-12 00:00:00            2023-02-20 00:00:00   \n",
            "50%              2023-05-16 00:00:00            2023-06-30 00:00:00   \n",
            "75%              2023-12-16 00:00:00            2024-01-23 00:00:00   \n",
            "max              2024-05-14 00:00:00            2204-03-20 00:00:00   \n",
            "std                              NaN                            NaN   \n",
            "\n",
            "           PO_VALUE  ITEM_CODE_CLEANED  ORDERED_QUANTITY         PRICE  \\\n",
            "count  3.897200e+04       38972.000000      38972.000000  3.897200e+04   \n",
            "mean   1.381926e+06       27336.907857        439.640368  1.643622e+04   \n",
            "min    0.000000e+00       14730.000000          1.000000  1.000000e-02   \n",
            "25%    4.170651e+04       18060.000000          3.000000  7.050000e+01   \n",
            "50%    1.489307e+05       26245.000000         12.000000  5.573750e+02   \n",
            "75%    4.694166e+05       33073.000000        100.000000  3.750000e+03   \n",
            "max    2.177792e+08       56001.000000     142000.000000  3.690000e+06   \n",
            "std    9.543567e+06       10356.347113       2366.380728  1.048510e+05   \n",
            "\n",
            "         ITEM_VALUE  TAX_AMOUNT(LC)  LINETOTAL_WITH_TAX_(LC)  PART_ID_CLEANED  \\\n",
            "count  3.897200e+04    3.897200e+04             3.897200e+04     38972.000000   \n",
            "mean   1.295403e+05    1.955500e+04             1.490953e+05     27336.907857   \n",
            "min    1.000000e-02    0.000000e+00             1.200000e-02     14730.000000   \n",
            "25%    2.250000e+03    2.088000e+02             2.596000e+03     18060.000000   \n",
            "50%    1.000000e+04    1.296000e+03             1.156400e+04     26245.000000   \n",
            "75%    4.433824e+04    6.466716e+03             5.160169e+04     33073.000000   \n",
            "max    7.505000e+07    1.350900e+07             8.855900e+07     56001.000000   \n",
            "std    1.077163e+06    1.830149e+05             1.251052e+06     10356.347113   \n",
            "\n",
            "          WIDTH_(MM)   HEIGHT_(MM)     DEPTH_(MM)  MOUNTING_CLEARANCES_(MM)  \\\n",
            "count   26996.000000  27064.000000   26245.000000                       0.0   \n",
            "mean      347.839284    176.667481      78.847395                       NaN   \n",
            "min         0.000000      0.000000       0.000000                       NaN   \n",
            "25%         0.000000      0.000000       0.000000                       NaN   \n",
            "50%         0.000000      5.000000       0.000000                       NaN   \n",
            "75%        48.000000     73.000000      52.000000                       NaN   \n",
            "max    320000.000000  30000.000000  279400.000000                       NaN   \n",
            "std      8427.289840   1528.398766    2990.158178                       NaN   \n",
            "\n",
            "        WEIGHT_(KG)  DELIVERY_TIME  \n",
            "count  25417.000000   38972.000000  \n",
            "mean      48.407351      52.865391  \n",
            "min        0.000000       0.000000  \n",
            "25%        0.000000       9.000000  \n",
            "50%        0.000000      22.000000  \n",
            "75%        0.079000      44.000000  \n",
            "max    32100.000000   65765.000000  \n",
            "std      888.935567     748.387183   \n",
            "\n"
          ]
        }
      ]
    },
    {
      "cell_type": "code",
      "source": [
        "#Summary of all the categorical data\n",
        "print('All the Categorical Features: \\n', PO_data.select_dtypes(include=['object', 'category']).columns, '\\n')\n",
        "\n",
        "# Summary statistics for categorical features\n",
        "print('Summary for Categorical Features: \\n', PO_data.describe(include=['object']), '\\n')"
      ],
      "metadata": {
        "colab": {
          "base_uri": "https://localhost:8080/"
        },
        "id": "liLQl6skMTp3",
        "outputId": "df027a78-8aeb-4b96-fe6a-85db75348e7f"
      },
      "execution_count": 112,
      "outputs": [
        {
          "output_type": "stream",
          "name": "stdout",
          "text": [
            "All the Categorical Features: \n",
            " Index(['DOCCUR', 'SUPPLIER_CODE', 'SUPPLIER_NAME', 'LOCATION', 'ITEM_NAME',\n",
            "       'ITEM_DETAILS', 'UOM', 'PART_NAME', 'PART_DESCRIPTION'],\n",
            "      dtype='object') \n",
            "\n",
            "Summary for Categorical Features: \n",
            "        DOCCUR SUPPLIER_CODE          SUPPLIER_NAME LOCATION ITEM_NAME  \\\n",
            "count   38972         38972                  38970    38972     38972   \n",
            "unique      7          1133                   1107       56      2464   \n",
            "top       INR      VF000363  DIGI-KEY ELECTRONICS.    NOIDA     CABLE   \n",
            "freq    33941          2661                   2661    25194      2338   \n",
            "\n",
            "                                             ITEM_DETAILS    UOM PART_NAME  \\\n",
            "count                                               38847  38972     38972   \n",
            "unique                                               3263     17      1995   \n",
            "top     <DASH>LFLEX<REGISTERED> 100 POWER AND CONTROL ...    NOS     CABLE   \n",
            "freq                                                  132  34737      2968   \n",
            "\n",
            "                                         PART_DESCRIPTION  \n",
            "count                                               38679  \n",
            "unique                                               3242  \n",
            "top     OLFLEX 100 POWER AND CONTROL CABLE; 4G1.5; 9.8...  \n",
            "freq                                                  132   \n",
            "\n"
          ]
        }
      ]
    },
    {
      "cell_type": "code",
      "source": [
        "# Standardize the numeric columns\n",
        "\n",
        "from sklearn.preprocessing import StandardScaler\n",
        "\n",
        "scaler = StandardScaler()\n",
        "PO_data[['PRICE', 'ITEM_VALUE', 'DELIVERY_TIME']] = scaler.fit_transform(PO_data[['PRICE', 'ITEM_VALUE', 'DELIVERY_TIME']])\n"
      ],
      "metadata": {
        "id": "Crx3JR2GPsBL"
      },
      "execution_count": 123,
      "outputs": []
    },
    {
      "cell_type": "code",
      "source": [],
      "metadata": {
        "id": "wsix4cOmeV-a"
      },
      "execution_count": null,
      "outputs": []
    },
    {
      "cell_type": "code",
      "source": [
        "# Encode categorical variables\n",
        "PO_data = pd.get_dummies(PO_data, columns=['SUPPLIER_NAME', 'PART_NAME'], drop_first=True)"
      ],
      "metadata": {
        "id": "g4HlipDBQOgj"
      },
      "execution_count": 124,
      "outputs": []
    },
    {
      "cell_type": "markdown",
      "source": [
        "Checking for Linearity"
      ],
      "metadata": {
        "id": "5mA4iRIhJm2I"
      }
    },
    {
      "cell_type": "markdown",
      "source": [
        "# Training with Linear Regression"
      ],
      "metadata": {
        "id": "DubKuBDqRZdr"
      }
    },
    {
      "cell_type": "code",
      "source": [
        "!pip install scikit-surprise"
      ],
      "metadata": {
        "colab": {
          "base_uri": "https://localhost:8080/"
        },
        "id": "m7_D5zVgYf4A",
        "outputId": "a2ac42c0-a14b-4868-f51d-a0406d5b1859"
      },
      "execution_count": 75,
      "outputs": [
        {
          "output_type": "stream",
          "name": "stdout",
          "text": [
            "Requirement already satisfied: scikit-surprise in /usr/local/lib/python3.10/dist-packages (1.1.4)\n",
            "Requirement already satisfied: joblib>=1.2.0 in /usr/local/lib/python3.10/dist-packages (from scikit-surprise) (1.4.2)\n",
            "Requirement already satisfied: numpy>=1.19.5 in /usr/local/lib/python3.10/dist-packages (from scikit-surprise) (1.26.4)\n",
            "Requirement already satisfied: scipy>=1.6.0 in /usr/local/lib/python3.10/dist-packages (from scikit-surprise) (1.13.1)\n"
          ]
        }
      ]
    },
    {
      "cell_type": "code",
      "source": [
        "from surprise import Reader, Dataset\n",
        "\n",
        "# Convert data into Surprise format\n",
        "reader = Reader(rating_scale=(1, 20))  # Assuming lead time scale\n",
        "surprise_data = Dataset.load_from_df(PO_data[['SUPPLIER_CODE', 'PART_ID_CLEANED', 'DELIVERY_TIME']], reader)\n",
        "\n",
        "#print(f\"Number of users: {surprise_data.n_users}\")\n",
        "#print(f\"Number of items: {surprise_data.n_items}\")\n",
        "\n",
        "print(surprise_data)"
      ],
      "metadata": {
        "colab": {
          "base_uri": "https://localhost:8080/"
        },
        "id": "YPrUhSB3haaZ",
        "outputId": "dff778c6-3ebd-4aa9-c862-527c736b1871"
      },
      "execution_count": 103,
      "outputs": [
        {
          "output_type": "stream",
          "name": "stdout",
          "text": [
            "<surprise.dataset.DatasetAutoFolds object at 0x7a5aa8f6a500>\n"
          ]
        }
      ]
    },
    {
      "cell_type": "code",
      "source": [
        "from surprise import SVD\n",
        "from surprise import accuracy\n",
        "from surprise import Reader\n",
        "from surprise import Dataset\n",
        "from sklearn.model_selection import train_test_split\n",
        "\n",
        "y = PO_data['DELIVERY_TIME']\n",
        "X = PO_data.drop(columns=['DELIVERY_TIME'])\n",
        "\n",
        "# Split the data (e.g., 80% training, 20% testing)\n",
        "X_train, X_test, y_train, y_test = train_test_split(X, y, test_size=0.2, random_state=42)\n",
        "\n",
        "#Create a Surprise Dateset\n",
        "reader = Reader(rating_scale=(PO_data['DELIVERY_TIME'].min(), PO_data['DELIVERY_TIME'].max()))\n",
        "\n",
        "# Create the trainset from the training data\n",
        "train_df = pd.DataFrame({'userID': X_train.index, 'itemID': X_train['PART_ID_CLEANED'], 'rating': y_train})\n",
        "trainset = Dataset.load_from_df(train_df[['userID', 'itemID', 'rating']], reader)\n",
        "\n",
        "# Use the SVD algorithm\n",
        "model = SVD()\n",
        "\n",
        "# Train the model on the Surprise trainset\n",
        "model.fit(trainset.build_full_trainset())\n",
        "\n",
        "# Make predictions - need to create testset similar to trainset\n",
        "test_df = pd.DataFrame({'userID': X_test.index, 'itemID': X_test['PART_ID_CLEANED'], 'rating': y_test})\n",
        "testset = Dataset.load_from_df(test_df[['userID', 'itemID', 'rating']], reader).build_full_trainset().build_testset() # create testset\n",
        "predictions = model.test(testset) # get predictions on the testset\n",
        "\n",
        "# Evaluate the model\n",
        "accuracy.mse(predictions)\n",
        "\n",
        "# Evaluate accuracy\n",
        "accuracy.rmse(predictions)"
      ],
      "metadata": {
        "colab": {
          "base_uri": "https://localhost:8080/"
        },
        "id": "4G85pR4oVQ6E",
        "outputId": "67e465d7-eb74-4b12-d9b7-241c5a9adc4e"
      },
      "execution_count": 125,
      "outputs": [
        {
          "output_type": "stream",
          "name": "stdout",
          "text": [
            "MSE: 0.0203\n",
            "RMSE: 0.1426\n"
          ]
        },
        {
          "output_type": "execute_result",
          "data": {
            "text/plain": [
              "0.1426091471217159"
            ]
          },
          "metadata": {},
          "execution_count": 125
        }
      ]
    },
    {
      "cell_type": "code",
      "source": [],
      "metadata": {
        "id": "fvIxYHief9xR"
      },
      "execution_count": null,
      "outputs": []
    },
    {
      "cell_type": "code",
      "source": [
        "# Since 'scaler' is the StandardScaler object used for scaling\n",
        "original_delivery_time = scaler.inverse_transform(PO_data[['PRICE', 'ITEM_VALUE', 'DELIVERY_TIME']])[:, 2]\n",
        "\n",
        "# Replace the scaled 'DELIVERY_TIME' column with the original values\n",
        "PO_data['DELIVERY_TIME'] = original_delivery_time"
      ],
      "metadata": {
        "id": "9oOk_GEtktpI"
      },
      "execution_count": 128,
      "outputs": []
    },
    {
      "cell_type": "code",
      "source": [
        "# Predicting for a specific part and vendor (use 'predict' method for recommendation)\n",
        "part_to_predict = PO_data['PART_ID_CLEANED'].sample().iloc[0]\n",
        "vendor_to_predict = PO_data['SUPPLIER_CODE'].sample().iloc[0]\n",
        "\n",
        "#[col for col in PO_data.columns if col.startswith('DELIVERY_TIME_')]\n",
        "\n",
        "print(f\"Predicting lead time for {vendor_to_predict} to supply {part_to_predict}\")\n",
        "\n",
        "# Predict\n",
        "prediction = model.predict(vendor_to_predict, part_to_predict)\n",
        "\n",
        "# Display the prediction for lead time\n",
        "print(f\"Predicted lead time for {vendor_to_predict} to supply {part_to_predict}: {prediction.est}\")\n",
        "\n",
        "# Recommend top vendors for a particular part based on lead time\n",
        "# We will predict lead times for all vendors for a specific part and rank them\n",
        "def recommend_vendors_for_part(model, part_name, vendors, top_n=3):\n",
        "    vendor_predictions = [(vendor, model.predict(vendor, part_name).est) for vendor in vendors]\n",
        "    sorted_vendors = sorted(vendor_predictions, key=lambda x: x[1])  # Sort by predicted lead time\n",
        "    return sorted_vendors[:top_n]\n",
        "\n",
        "# Get all unique vendors\n",
        "unique_vendors = PO_data['SUPPLIER_CODE'].unique()\n",
        "\n",
        "# Recommend top vendors for 'Part2'\n",
        "recommended_vendors = recommend_vendors_for_part(model, 'Part2', unique_vendors)\n",
        "print(\"Top vendors for Part2 based on lead time predictions:\")\n",
        "for vendor, lead_time in recommended_vendors:\n",
        "    print(f\"Vendor: {vendor}, Predicted Lead Time: {lead_time}\")\n",
        "\n",
        "print(f\"Predicting lead time for {vendor_to_predict} to supply {part_to_predict}\")\n",
        "\n",
        "# Predict\n",
        "prediction = model.predict(vendor_to_predict, part_to_predict)\n",
        "\n",
        "# Display the prediction for lead time\n",
        "print(f\"Predicted lead time for {vendor_to_predict} to supply {part_to_predict}: {prediction.est}\")\n",
        "\n",
        "# Recommend top vendors for a particular part based on lead time\n",
        "# We will predict lead times for all vendors for a specific part and rank them\n",
        "def recommend_vendors_for_part(model, part_name, vendors, top_n=3):\n",
        "    vendor_predictions = [(vendor, model.predict(vendor, part_name).est) for vendor in vendors]\n",
        "    sorted_vendors = sorted(vendor_predictions, key=lambda x: x[1])  # Sort by predicted lead time\n",
        "    return sorted_vendors[:top_n]\n",
        "\n",
        "# Get all unique vendors\n",
        "unique_vendors = PO_data['SUPPLIER_CODE'].unique()\n",
        "\n",
        "# Recommend top vendors for 'Part2'\n",
        "recommended_vendors = recommend_vendors_for_part(model, 'Part2', unique_vendors)\n",
        "print(\"Top vendors for the selected part based on lead time predictions:\")\n",
        "for vendor, lead_time in recommended_vendors:\n",
        "    print(f\"Vendor: {vendor}, Predicted Lead Time: {lead_time}\")"
      ],
      "metadata": {
        "colab": {
          "base_uri": "https://localhost:8080/"
        },
        "id": "81l72tIFbQ5G",
        "outputId": "3abda735-405e-44f8-ea70-eeb11622e9ef"
      },
      "execution_count": 131,
      "outputs": [
        {
          "output_type": "stream",
          "name": "stdout",
          "text": [
            "Predicting lead time for VD001818 to supply 25455\n",
            "Predicted lead time for VD001818 to supply 25455: -0.04884575119155731\n",
            "Top vendors for Part2 based on lead time predictions:\n",
            "Vendor: VD001614, Predicted Lead Time: 0.002589545885853545\n",
            "Vendor: VD003065, Predicted Lead Time: 0.002589545885853545\n",
            "Vendor: VD003071, Predicted Lead Time: 0.002589545885853545\n",
            "Predicting lead time for VD001818 to supply 25455\n",
            "Predicted lead time for VD001818 to supply 25455: -0.04884575119155731\n",
            "Top vendors for the selected part based on lead time predictions:\n",
            "Vendor: VD001614, Predicted Lead Time: 0.002589545885853545\n",
            "Vendor: VD003065, Predicted Lead Time: 0.002589545885853545\n",
            "Vendor: VD003071, Predicted Lead Time: 0.002589545885853545\n"
          ]
        }
      ]
    },
    {
      "cell_type": "code",
      "source": [
        "# Evaluate the model using accuracy\n",
        "\n",
        "from sklearn.metrics import mean_squared_error, r2_score\n",
        "from surprise import Dataset, Reader\n",
        "import pandas as pd\n",
        "\n",
        "\n",
        "# Create a Surprise Dataset from your test data\n",
        "test_df = pd.DataFrame({'userID': X_test.index, 'itemID': X_test['PART_ID_CLEANED'], 'rating': y_test})\n",
        "reader = Reader(rating_scale=(PO_data['DELIVERY_TIME'].min(), PO_data['DELIVERY_TIME'].max()))\n",
        "testset = Dataset.load_from_df(test_df[['userID', 'itemID', 'rating']], reader).build_full_trainset().build_testset()\n",
        "\n",
        "# Get predictions from your model\n",
        "predictions = model.test(testset)\n",
        "\n",
        "# Extract predicted ratings from the predictions list\n",
        "y_pred = [pred.est for pred in predictions]\n",
        "\n",
        "# Calculate Mean Squared Error (MSE)\n",
        "mse = mean_squared_error(y_test, y_pred)\n",
        "\n",
        "# Calculate R-squared (R2)\n",
        "r2 = r2_score(y_test, y_pred)\n",
        "\n",
        "# Print the results\n",
        "print(f\"Mean Squared Error (MSE): {mse}\")\n",
        "print(f\"R-squared (R2): {r2}\")"
      ],
      "metadata": {
        "id": "-v3T_curSAjM",
        "colab": {
          "base_uri": "https://localhost:8080/"
        },
        "outputId": "9825bbd2-ecc6-4d50-d5c7-3975d5a527db"
      },
      "execution_count": 137,
      "outputs": [
        {
          "output_type": "stream",
          "name": "stdout",
          "text": [
            "Mean Squared Error (MSE): 0.020337368842783213\n",
            "R-squared (R2): -0.9178618874620077\n"
          ]
        }
      ]
    },
    {
      "cell_type": "code",
      "source": [
        "# Get the top N vendors for a specific component\n",
        "\n",
        "#randomly select a part_name\n",
        "import random\n",
        "\n",
        "# Get all available column names\n",
        "available_columns = PO_data.columns\n",
        "\n",
        "# Check if 'PART_NAME' exists, otherwise, use a different relevant column\n",
        "part_name_column = 'PART_NAME' if 'PART_NAME' in available_columns else available_columns[0]  # Replace available_columns[0] with an appropriate column if needed\n",
        "\n",
        "# Randomly select a part_name\n",
        "part_name = random.choice(PO_data[part_name_column].unique())\n",
        "\n",
        "component_id = PO_data[PO_data[part_name_column] == part_name]['PART_ID_CLEANED'].iloc[0]\n",
        "\n",
        "recommended_vendors = PO_data[PO_data['PART_ID_CLEANED'] == component_id]\n",
        "recommended_vendors = recommended_vendors.sort_values(by='DELIVERY_TIME', ascending=False)\n",
        "\n",
        "# Print the top N vendors for the component\n",
        "top_vendors = recommended_vendors[recommended_vendors[part_name_column] == component_id].head(5)\n",
        "print(top_vendors[['SUPPLIER_CODE', 'DELIVERY_TIME', 'PRICE', 'DOCCUR']])"
      ],
      "metadata": {
        "id": "-sC6Oqr3Ry_e",
        "colab": {
          "base_uri": "https://localhost:8080/"
        },
        "outputId": "e0559361-4fc8-49b5-e637-d4e7a2ee5181"
      },
      "execution_count": 142,
      "outputs": [
        {
          "output_type": "stream",
          "name": "stdout",
          "text": [
            "Empty DataFrame\n",
            "Columns: [SUPPLIER_CODE, DELIVERY_TIME, PRICE, DOCCUR]\n",
            "Index: []\n"
          ]
        }
      ]
    }
  ]
}