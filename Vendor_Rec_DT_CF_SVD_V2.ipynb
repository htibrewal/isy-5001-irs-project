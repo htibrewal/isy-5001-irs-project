{
  "nbformat": 4,
  "nbformat_minor": 0,
  "metadata": {
    "colab": {
      "provenance": []
    },
    "kernelspec": {
      "name": "python3",
      "display_name": "Python 3"
    },
    "language_info": {
      "name": "python"
    }
  },
  "cells": [
    {
      "cell_type": "markdown",
      "source": [
        "# Preparing the Data\n"
      ],
      "metadata": {
        "id": "3TUj2pg9HVNM"
      }
    },
    {
      "cell_type": "code",
      "execution_count": 3,
      "metadata": {
        "colab": {
          "base_uri": "https://localhost:8080/"
        },
        "id": "CiDEqKqwHHP4",
        "outputId": "a541886e-37d3-419e-df4b-a59e1cc70ae8"
      },
      "outputs": [
        {
          "output_type": "stream",
          "name": "stdout",
          "text": [
            "Drive already mounted at /content/drive; to attempt to forcibly remount, call drive.mount(\"/content/drive\", force_remount=True).\n",
            "\n",
            " First few rows of the PO Dump: \n",
            "    Unnamed: 0  PO_NUM DOCCUR  DOCRATE SUPPLIER_CODE  \\\n",
            "0           0   53586    INR      1.0      VD001614   \n",
            "1           1   53586    INR      1.0      VD001614   \n",
            "2           2   53650    INR      1.0      VD003065   \n",
            "3           3   53684    INR      1.0      VD003071   \n",
            "4           4   53946    INR      1.0      VD002799   \n",
            "\n",
            "                           SUPPLIER_NAME    DOC_DATE DELIVERY_DATE  \\\n",
            "0  ITG SOFTWARE ENGINEERING (I) PVT. LTD  01-10-2021    30-11-2022   \n",
            "1  ITG SOFTWARE ENGINEERING (I) PVT. LTD  01-10-2021    30-11-2022   \n",
            "2    TIKMANY TELESYSTEMS PRIVATE LIMITED  07-10-2021    28-09-2021   \n",
            "3                       ZIP TECHNOLOGIES  08-10-2021    28-09-2021   \n",
            "4          INSPIRED TECHNOLOGIES PVT LTD  18-10-2021    30-11-2021   \n",
            "\n",
            "       PO_VALUE LOCATION  ...  TAX_AMOUNT(LC) LINETOTAL_WITH_TAX_(LC)  \\\n",
            "0  2.764740e+07      SEA  ...      410400.000            2.690400e+06   \n",
            "1  2.764740e+07      SEA  ...     3807000.000            2.495700e+07   \n",
            "2  3.589997e+03    NOIDA  ...         547.627            3.589997e+03   \n",
            "3  1.674998e+03    NOIDA  ...         255.508            1.674998e+03   \n",
            "4  2.301000e+07   MUMBAI  ...     3510000.000            2.301000e+07   \n",
            "\n",
            "  PART_ID_CLEANED              PART_NAME  \\\n",
            "0           17306                SENSORS   \n",
            "1           17340  SINGLE BOARD COMPUTER   \n",
            "2           28317              CONNECTOR   \n",
            "3           18181               PLC CARD   \n",
            "4           17448                 SENSOR   \n",
            "\n",
            "                                    PART_DESCRIPTION  WIDTH_(MM)  HEIGHT_(MM)  \\\n",
            "0                    MINIATURE PHOTOELECTRIC SENSORS         0.0          0.0   \n",
            "1  SINGLE BOARD COMPUTERS UP SQUARED BOARD WITH C...         0.0          0.0   \n",
            "2                 CONNECTION LINE YM2D24-050PN1MRJA4         NaN          NaN   \n",
            "3                   FX5-485-BD MITSUBISHI RS485 CARD         NaN          NaN   \n",
            "4                   SHORT RANGE SCANNER-CONFIGURABLE         0.0          0.0   \n",
            "\n",
            "   DEPTH_(MM)  MOUNTING_CLEARANCES_(MM)  WEIGHT_(KG)  \n",
            "0         0.0                       NaN          0.0  \n",
            "1         0.0                       NaN          0.0  \n",
            "2         NaN                       NaN          NaN  \n",
            "3         NaN                       NaN          NaN  \n",
            "4         0.0                       NaN          0.0  \n",
            "\n",
            "[5 rows x 27 columns] \n",
            "\n"
          ]
        }
      ],
      "source": [
        " # Loading the data\n",
        "\n",
        "from google.colab import drive\n",
        "import pandas as pd\n",
        "import numpy as np\n",
        "\n",
        "drive.mount('/content/drive')\n",
        "\n",
        "PO_data=pd.read_csv('/content/drive/MyDrive/NUS-ISS AIS Projects/Project 1/Data/filtered_data_final_2.csv')\n",
        "\n",
        "# Display the first few rows of the dataset\n",
        "print('\\n First few rows of the PO Dump: \\n', PO_data.head(), '\\n')"
      ]
    },
    {
      "cell_type": "markdown",
      "source": [
        "Calculating Delivery Time for each line item"
      ],
      "metadata": {
        "id": "l6Raj3WFHk3u"
      }
    },
    {
      "cell_type": "code",
      "source": [
        "#Calculating Delivery Time\n",
        "\n",
        "# Convert 'DOC_CREATION_DATE' and 'DELIVERY_DATE' to datetime objects\n",
        "PO_data['DOC_DATE'] = pd.to_datetime(PO_data['DOC_DATE'], format='%d-%m-%Y')\n",
        "PO_data['DELIVERY_DATE'] = pd.to_datetime(PO_data['DELIVERY_DATE'])\n",
        "\n",
        "# Calculate delivery time in days\n",
        "PO_data['DELIVERY_TIME'] = (PO_data['DELIVERY_DATE'] - PO_data['DOC_DATE']).dt.days\n",
        "\n",
        "PO_data['DELIVERY_TIME'] = PO_data['DELIVERY_TIME'].abs()\n",
        "\n",
        "# Print delivery time for each vendor\n",
        "print(PO_data[['SUPPLIER_CODE', 'DELIVERY_TIME']])"
      ],
      "metadata": {
        "colab": {
          "base_uri": "https://localhost:8080/"
        },
        "id": "qilUmbs6HvGu",
        "outputId": "423dde55-3e67-4b27-8faf-0b02b3b3c9a5"
      },
      "execution_count": 4,
      "outputs": [
        {
          "output_type": "stream",
          "name": "stdout",
          "text": [
            "      SUPPLIER_CODE  DELIVERY_TIME\n",
            "0          VD001614            425\n",
            "1          VD001614            425\n",
            "2          VD003065              9\n",
            "3          VD003071             10\n",
            "4          VD002799             43\n",
            "...             ...            ...\n",
            "38967      VD002002             11\n",
            "38968      VD002002             11\n",
            "38969      VD002002             11\n",
            "38970      VD002002             11\n",
            "38971      VD002002             11\n",
            "\n",
            "[38972 rows x 2 columns]\n"
          ]
        },
        {
          "output_type": "stream",
          "name": "stderr",
          "text": [
            "<ipython-input-4-e43fc9b04f13>:5: UserWarning: Parsing dates in %d-%m-%Y format when dayfirst=False (the default) was specified. Pass `dayfirst=True` or specify a format to silence this warning.\n",
            "  PO_data['DELIVERY_DATE'] = pd.to_datetime(PO_data['DELIVERY_DATE'])\n"
          ]
        }
      ]
    },
    {
      "cell_type": "code",
      "source": [
        "#Checking for improper Delivery times\n",
        "\n",
        "#Print all vendors with negative delivery time\n",
        "negative_delivery_time = PO_data[PO_data['DELIVERY_TIME'] < 0]\n",
        "\n",
        "#Total number of vendors with negative delivery date\n",
        "print('Total Number of vendors with Negative deliveries:', len(negative_delivery_time['SUPPLIER_CODE'].unique()), '\\n')\n",
        "print(negative_delivery_time['SUPPLIER_CODE'].value_counts())"
      ],
      "metadata": {
        "colab": {
          "base_uri": "https://localhost:8080/"
        },
        "id": "jg9JsCLGH4yi",
        "outputId": "71feb51a-24db-417f-a797-c50ac62b4194"
      },
      "execution_count": 5,
      "outputs": [
        {
          "output_type": "stream",
          "name": "stdout",
          "text": [
            "Total Number of vendors with Negative deliveries: 0 \n",
            "\n",
            "Series([], Name: count, dtype: int64)\n"
          ]
        }
      ]
    },
    {
      "cell_type": "code",
      "source": [
        "Original_price = PO_data['PRICE']\n",
        "Original_item_value = PO_data['ITEM_VALUE']\n",
        "Original_delivery_time = PO_data['DELIVERY_TIME']"
      ],
      "metadata": {
        "id": "MbAI2EBHEuy3"
      },
      "execution_count": 6,
      "outputs": []
    },
    {
      "cell_type": "markdown",
      "source": [
        "# EDA"
      ],
      "metadata": {
        "id": "AXACKBLDLZyh"
      }
    },
    {
      "cell_type": "code",
      "source": [
        "# observing the shape of the data\n",
        "print('Shape of the Data is: \\t', PO_data.shape, '\\n')"
      ],
      "metadata": {
        "colab": {
          "base_uri": "https://localhost:8080/"
        },
        "id": "kVU1_GT4La-x",
        "outputId": "282b4fff-0fcb-402a-8f55-e33585d09ca6"
      },
      "execution_count": 7,
      "outputs": [
        {
          "output_type": "stream",
          "name": "stdout",
          "text": [
            "Shape of the Data is: \t (38972, 28) \n",
            "\n"
          ]
        }
      ]
    },
    {
      "cell_type": "code",
      "source": [
        "# Check the data types and non-null counts\n",
        "print('\\nData Types and Non-null Counts:\\t', PO_data.info(), '\\n')"
      ],
      "metadata": {
        "colab": {
          "base_uri": "https://localhost:8080/"
        },
        "id": "VzpwfZbmLgi1",
        "outputId": "77a2705d-706e-4161-9712-9f12316d48fa"
      },
      "execution_count": 8,
      "outputs": [
        {
          "output_type": "stream",
          "name": "stdout",
          "text": [
            "<class 'pandas.core.frame.DataFrame'>\n",
            "RangeIndex: 38972 entries, 0 to 38971\n",
            "Data columns (total 28 columns):\n",
            " #   Column                    Non-Null Count  Dtype         \n",
            "---  ------                    --------------  -----         \n",
            " 0   Unnamed: 0                38972 non-null  int64         \n",
            " 1   PO_NUM                    38972 non-null  int64         \n",
            " 2   DOCCUR                    38972 non-null  object        \n",
            " 3   DOCRATE                   38972 non-null  float64       \n",
            " 4   SUPPLIER_CODE             38972 non-null  object        \n",
            " 5   SUPPLIER_NAME             38970 non-null  object        \n",
            " 6   DOC_DATE                  38972 non-null  datetime64[ns]\n",
            " 7   DELIVERY_DATE             38972 non-null  datetime64[ns]\n",
            " 8   PO_VALUE                  38972 non-null  float64       \n",
            " 9   LOCATION                  38972 non-null  object        \n",
            " 10  ITEM_CODE_CLEANED         38972 non-null  int64         \n",
            " 11  ITEM_NAME                 38972 non-null  object        \n",
            " 12  ITEM_DETAILS              38847 non-null  object        \n",
            " 13  UOM                       38972 non-null  object        \n",
            " 14  ORDERED_QUANTITY          38972 non-null  float64       \n",
            " 15  PRICE                     38972 non-null  float64       \n",
            " 16  ITEM_VALUE                38972 non-null  float64       \n",
            " 17  TAX_AMOUNT(LC)            38972 non-null  float64       \n",
            " 18  LINETOTAL_WITH_TAX_(LC)   38972 non-null  float64       \n",
            " 19  PART_ID_CLEANED           38972 non-null  int64         \n",
            " 20  PART_NAME                 38972 non-null  object        \n",
            " 21  PART_DESCRIPTION          38679 non-null  object        \n",
            " 22  WIDTH_(MM)                26996 non-null  float64       \n",
            " 23  HEIGHT_(MM)               27064 non-null  float64       \n",
            " 24  DEPTH_(MM)                26245 non-null  float64       \n",
            " 25  MOUNTING_CLEARANCES_(MM)  0 non-null      float64       \n",
            " 26  WEIGHT_(KG)               25417 non-null  float64       \n",
            " 27  DELIVERY_TIME             38972 non-null  int64         \n",
            "dtypes: datetime64[ns](2), float64(12), int64(5), object(9)\n",
            "memory usage: 8.3+ MB\n",
            "\n",
            "Data Types and Non-null Counts:\t None \n",
            "\n"
          ]
        }
      ]
    },
    {
      "cell_type": "code",
      "source": [
        "# Check for missing values\n",
        "print('Missing Values: \\n', PO_data.isnull().sum(), '\\n')"
      ],
      "metadata": {
        "colab": {
          "base_uri": "https://localhost:8080/"
        },
        "id": "_8gMcLXuLnod",
        "outputId": "b008f106-d55f-4694-ca90-68d6a1c04978"
      },
      "execution_count": 9,
      "outputs": [
        {
          "output_type": "stream",
          "name": "stdout",
          "text": [
            "Missing Values: \n",
            " Unnamed: 0                      0\n",
            "PO_NUM                          0\n",
            "DOCCUR                          0\n",
            "DOCRATE                         0\n",
            "SUPPLIER_CODE                   0\n",
            "SUPPLIER_NAME                   2\n",
            "DOC_DATE                        0\n",
            "DELIVERY_DATE                   0\n",
            "PO_VALUE                        0\n",
            "LOCATION                        0\n",
            "ITEM_CODE_CLEANED               0\n",
            "ITEM_NAME                       0\n",
            "ITEM_DETAILS                  125\n",
            "UOM                             0\n",
            "ORDERED_QUANTITY                0\n",
            "PRICE                           0\n",
            "ITEM_VALUE                      0\n",
            "TAX_AMOUNT(LC)                  0\n",
            "LINETOTAL_WITH_TAX_(LC)         0\n",
            "PART_ID_CLEANED                 0\n",
            "PART_NAME                       0\n",
            "PART_DESCRIPTION              293\n",
            "WIDTH_(MM)                  11976\n",
            "HEIGHT_(MM)                 11908\n",
            "DEPTH_(MM)                  12727\n",
            "MOUNTING_CLEARANCES_(MM)    38972\n",
            "WEIGHT_(KG)                 13555\n",
            "DELIVERY_TIME                   0\n",
            "dtype: int64 \n",
            "\n"
          ]
        }
      ]
    },
    {
      "cell_type": "code",
      "source": [
        "# Check for duplicate rows\n",
        "print('Number of duplicate rows: \\t', PO_data.duplicated().sum(), '\\n')"
      ],
      "metadata": {
        "colab": {
          "base_uri": "https://localhost:8080/"
        },
        "id": "k75cKGshL1_6",
        "outputId": "891826e1-1f5a-4c21-f8a0-256189201e8a"
      },
      "execution_count": 10,
      "outputs": [
        {
          "output_type": "stream",
          "name": "stdout",
          "text": [
            "Number of duplicate rows: \t 0 \n",
            "\n"
          ]
        }
      ]
    },
    {
      "cell_type": "code",
      "source": [
        "#Summary of all the numerical data\n",
        "print('All the Numerical Features: \\n', PO_data.select_dtypes(include=['number']).columns, '\\n')\n",
        "\n",
        "# Summary statistics for numerical features\n",
        "print('Summary for Numberical Features: \\n', PO_data.describe(), '\\n')"
      ],
      "metadata": {
        "colab": {
          "base_uri": "https://localhost:8080/"
        },
        "id": "Rw-M-1JCL77A",
        "outputId": "431e98fd-c2f7-4cfb-db79-61bc4c571a84"
      },
      "execution_count": 11,
      "outputs": [
        {
          "output_type": "stream",
          "name": "stdout",
          "text": [
            "All the Numerical Features: \n",
            " Index(['Unnamed: 0', 'PO_NUM', 'DOCRATE', 'PO_VALUE', 'ITEM_CODE_CLEANED',\n",
            "       'ORDERED_QUANTITY', 'PRICE', 'ITEM_VALUE', 'TAX_AMOUNT(LC)',\n",
            "       'LINETOTAL_WITH_TAX_(LC)', 'PART_ID_CLEANED', 'WIDTH_(MM)',\n",
            "       'HEIGHT_(MM)', 'DEPTH_(MM)', 'MOUNTING_CLEARANCES_(MM)', 'WEIGHT_(KG)',\n",
            "       'DELIVERY_TIME'],\n",
            "      dtype='object') \n",
            "\n",
            "Summary for Numberical Features: \n",
            "          Unnamed: 0        PO_NUM       DOCRATE  \\\n",
            "count  38972.000000  3.897200e+04  38972.000000   \n",
            "mean   19485.500000  1.326400e+08     11.108913   \n",
            "min        0.000000  5.358600e+04      0.531900   \n",
            "25%     9742.750000  7.353375e+04      1.000000   \n",
            "50%    19485.500000  2.324308e+08      1.000000   \n",
            "75%    29228.250000  2.324701e+08      1.000000   \n",
            "max    38971.000000  2.425306e+08    105.572200   \n",
            "std    11250.391682  1.156600e+08     27.008198   \n",
            "\n",
            "                            DOC_DATE                  DELIVERY_DATE  \\\n",
            "count                          38972                          38972   \n",
            "mean   2023-06-04 18:50:10.653802496  2023-07-27 10:06:05.062095872   \n",
            "min              2021-10-01 00:00:00            2020-05-30 00:00:00   \n",
            "25%              2023-01-12 00:00:00            2023-02-20 00:00:00   \n",
            "50%              2023-05-16 00:00:00            2023-06-30 00:00:00   \n",
            "75%              2023-12-16 00:00:00            2024-01-23 00:00:00   \n",
            "max              2024-05-14 00:00:00            2204-03-20 00:00:00   \n",
            "std                              NaN                            NaN   \n",
            "\n",
            "           PO_VALUE  ITEM_CODE_CLEANED  ORDERED_QUANTITY         PRICE  \\\n",
            "count  3.897200e+04       38972.000000      38972.000000  3.897200e+04   \n",
            "mean   1.381926e+06       27336.907857        439.640368  1.643622e+04   \n",
            "min    0.000000e+00       14730.000000          1.000000  1.000000e-02   \n",
            "25%    4.170651e+04       18060.000000          3.000000  7.050000e+01   \n",
            "50%    1.489307e+05       26245.000000         12.000000  5.573750e+02   \n",
            "75%    4.694166e+05       33073.000000        100.000000  3.750000e+03   \n",
            "max    2.177792e+08       56001.000000     142000.000000  3.690000e+06   \n",
            "std    9.543567e+06       10356.347113       2366.380728  1.048510e+05   \n",
            "\n",
            "         ITEM_VALUE  TAX_AMOUNT(LC)  LINETOTAL_WITH_TAX_(LC)  PART_ID_CLEANED  \\\n",
            "count  3.897200e+04    3.897200e+04             3.897200e+04     38972.000000   \n",
            "mean   1.295403e+05    1.955500e+04             1.490953e+05     27336.907857   \n",
            "min    1.000000e-02    0.000000e+00             1.200000e-02     14730.000000   \n",
            "25%    2.250000e+03    2.088000e+02             2.596000e+03     18060.000000   \n",
            "50%    1.000000e+04    1.296000e+03             1.156400e+04     26245.000000   \n",
            "75%    4.433824e+04    6.466716e+03             5.160169e+04     33073.000000   \n",
            "max    7.505000e+07    1.350900e+07             8.855900e+07     56001.000000   \n",
            "std    1.077163e+06    1.830149e+05             1.251052e+06     10356.347113   \n",
            "\n",
            "          WIDTH_(MM)   HEIGHT_(MM)     DEPTH_(MM)  MOUNTING_CLEARANCES_(MM)  \\\n",
            "count   26996.000000  27064.000000   26245.000000                       0.0   \n",
            "mean      347.839284    176.667481      78.847395                       NaN   \n",
            "min         0.000000      0.000000       0.000000                       NaN   \n",
            "25%         0.000000      0.000000       0.000000                       NaN   \n",
            "50%         0.000000      5.000000       0.000000                       NaN   \n",
            "75%        48.000000     73.000000      52.000000                       NaN   \n",
            "max    320000.000000  30000.000000  279400.000000                       NaN   \n",
            "std      8427.289840   1528.398766    2990.158178                       NaN   \n",
            "\n",
            "        WEIGHT_(KG)  DELIVERY_TIME  \n",
            "count  25417.000000   38972.000000  \n",
            "mean      48.407351      52.865391  \n",
            "min        0.000000       0.000000  \n",
            "25%        0.000000       9.000000  \n",
            "50%        0.000000      22.000000  \n",
            "75%        0.079000      44.000000  \n",
            "max    32100.000000   65765.000000  \n",
            "std      888.935567     748.387183   \n",
            "\n"
          ]
        }
      ]
    },
    {
      "cell_type": "code",
      "source": [
        "#Summary of all the categorical data\n",
        "print('All the Categorical Features: \\n', PO_data.select_dtypes(include=['object', 'category']).columns, '\\n')\n",
        "\n",
        "# Summary statistics for categorical features\n",
        "print('Summary for Categorical Features: \\n', PO_data.describe(include=['object']), '\\n')"
      ],
      "metadata": {
        "colab": {
          "base_uri": "https://localhost:8080/"
        },
        "id": "liLQl6skMTp3",
        "outputId": "b8c85609-ceaf-4edf-e3a8-2609c56e88cf"
      },
      "execution_count": 12,
      "outputs": [
        {
          "output_type": "stream",
          "name": "stdout",
          "text": [
            "All the Categorical Features: \n",
            " Index(['DOCCUR', 'SUPPLIER_CODE', 'SUPPLIER_NAME', 'LOCATION', 'ITEM_NAME',\n",
            "       'ITEM_DETAILS', 'UOM', 'PART_NAME', 'PART_DESCRIPTION'],\n",
            "      dtype='object') \n",
            "\n",
            "Summary for Categorical Features: \n",
            "        DOCCUR SUPPLIER_CODE          SUPPLIER_NAME LOCATION ITEM_NAME  \\\n",
            "count   38972         38972                  38970    38972     38972   \n",
            "unique      7          1133                   1107       56      2464   \n",
            "top       INR      VF000363  DIGI-KEY ELECTRONICS.    NOIDA     CABLE   \n",
            "freq    33941          2661                   2661    25194      2338   \n",
            "\n",
            "                                             ITEM_DETAILS    UOM PART_NAME  \\\n",
            "count                                               38847  38972     38972   \n",
            "unique                                               3263     17      1995   \n",
            "top     <DASH>LFLEX<REGISTERED> 100 POWER AND CONTROL ...    NOS     CABLE   \n",
            "freq                                                  132  34737      2968   \n",
            "\n",
            "                                         PART_DESCRIPTION  \n",
            "count                                               38679  \n",
            "unique                                               3242  \n",
            "top     OLFLEX 100 POWER AND CONTROL CABLE; 4G1.5; 9.8...  \n",
            "freq                                                  132   \n",
            "\n"
          ]
        }
      ]
    },
    {
      "cell_type": "code",
      "source": [
        "# Standardize the numeric columns\n",
        "\n",
        "from sklearn.preprocessing import StandardScaler\n",
        "\n",
        "scaler = StandardScaler()\n",
        "PO_data[['PRICE', 'ITEM_VALUE', 'DELIVERY_TIME']] = scaler.fit_transform(PO_data[['PRICE', 'ITEM_VALUE', 'DELIVERY_TIME']])\n"
      ],
      "metadata": {
        "id": "Crx3JR2GPsBL"
      },
      "execution_count": 13,
      "outputs": []
    },
    {
      "cell_type": "code",
      "source": [
        "# Encode categorical variables\n",
        "PO_data = pd.get_dummies(PO_data, columns=['SUPPLIER_NAME', 'PART_NAME'], drop_first=True)"
      ],
      "metadata": {
        "id": "g4HlipDBQOgj"
      },
      "execution_count": 14,
      "outputs": []
    },
    {
      "cell_type": "markdown",
      "source": [
        "# Training with Collaborative Fitting with SVD"
      ],
      "metadata": {
        "id": "DubKuBDqRZdr"
      }
    },
    {
      "cell_type": "code",
      "source": [
        "!pip install scikit-surprise"
      ],
      "metadata": {
        "colab": {
          "base_uri": "https://localhost:8080/"
        },
        "id": "m7_D5zVgYf4A",
        "outputId": "387515e0-e117-456d-fea1-a0e252e8622f"
      },
      "execution_count": 15,
      "outputs": [
        {
          "output_type": "stream",
          "name": "stdout",
          "text": [
            "Collecting scikit-surprise\n",
            "  Downloading scikit_surprise-1.1.4.tar.gz (154 kB)\n",
            "\u001b[?25l     \u001b[90m━━━━━━━━━━━━━━━━━━━━━━━━━━━━━━━━━━━━━━━━\u001b[0m \u001b[32m0.0/154.4 kB\u001b[0m \u001b[31m?\u001b[0m eta \u001b[36m-:--:--\u001b[0m\r\u001b[2K     \u001b[91m━━━━━━━━━━━━━━━━━━━━━━━━━━━━━\u001b[0m\u001b[90m╺\u001b[0m\u001b[90m━━━━━━━━━━\u001b[0m \u001b[32m112.6/154.4 kB\u001b[0m \u001b[31m3.2 MB/s\u001b[0m eta \u001b[36m0:00:01\u001b[0m\r\u001b[2K     \u001b[90m━━━━━━━━━━━━━━━━━━━━━━━━━━━━━━━━━━━━━━━━\u001b[0m \u001b[32m154.4/154.4 kB\u001b[0m \u001b[31m2.9 MB/s\u001b[0m eta \u001b[36m0:00:00\u001b[0m\n",
            "\u001b[?25h  Installing build dependencies ... \u001b[?25l\u001b[?25hdone\n",
            "  Getting requirements to build wheel ... \u001b[?25l\u001b[?25hdone\n",
            "  Preparing metadata (pyproject.toml) ... \u001b[?25l\u001b[?25hdone\n",
            "Requirement already satisfied: joblib>=1.2.0 in /usr/local/lib/python3.10/dist-packages (from scikit-surprise) (1.4.2)\n",
            "Requirement already satisfied: numpy>=1.19.5 in /usr/local/lib/python3.10/dist-packages (from scikit-surprise) (1.26.4)\n",
            "Requirement already satisfied: scipy>=1.6.0 in /usr/local/lib/python3.10/dist-packages (from scikit-surprise) (1.13.1)\n",
            "Building wheels for collected packages: scikit-surprise\n",
            "  Building wheel for scikit-surprise (pyproject.toml) ... \u001b[?25l\u001b[?25hdone\n",
            "  Created wheel for scikit-surprise: filename=scikit_surprise-1.1.4-cp310-cp310-linux_x86_64.whl size=2357283 sha256=d632f8e604e9cea7686b200cd67746da7bbb50490dba67a7ec00219ed2422065\n",
            "  Stored in directory: /root/.cache/pip/wheels/4b/3f/df/6acbf0a40397d9bf3ff97f582cc22fb9ce66adde75bc71fd54\n",
            "Successfully built scikit-surprise\n",
            "Installing collected packages: scikit-surprise\n",
            "Successfully installed scikit-surprise-1.1.4\n"
          ]
        }
      ]
    },
    {
      "cell_type": "markdown",
      "source": [
        "Ranking Vendors out of 10 based on Delivery Times"
      ],
      "metadata": {
        "id": "6bHZga5XHqsQ"
      }
    },
    {
      "cell_type": "code",
      "source": [
        "from surprise import Dataset, Reader, SVD\n",
        "from surprise.model_selection import train_test_split\n",
        "from sklearn.preprocessing import MinMaxScaler\n",
        "\n",
        "# Prepare data for Surprise library\n",
        "reader = Reader(rating_scale=(1, 10))  # Assuming vendor ranking is from 1 to 10\n",
        "\n",
        "data = PO_data[['SUPPLIER_CODE', 'DELIVERY_TIME', 'PRICE']]\n",
        "data = data.rename(columns={'SUPPLIER_CODE': 'userID', 'DELIVERY_TIME': 'itemID', 'PRICE': 'rating'})\n",
        "\n",
        "dataset = Dataset.load_from_df(data[['userID', 'itemID', 'rating']], reader)\n",
        "trainset, testset = train_test_split(dataset, test_size=.25)\n",
        "\n",
        "# Train SVD model\n",
        "algo = SVD()\n",
        "algo.fit(trainset)\n",
        "\n",
        "# Predict ratings for all vendor-delivery_time combinations\n",
        "predictions = algo.test(testset)\n",
        "\n",
        "# Create a DataFrame to store predicted ratings\n",
        "predicted_ratings_df = pd.DataFrame(columns=['SUPPLIER_CODE', 'DELIVERY_TIME', 'predicted_rating'])\n",
        "for uid, iid, true_r, est, _ in predictions:\n",
        "    predicted_ratings_df = pd.concat([predicted_ratings_df, pd.DataFrame({'SUPPLIER_CODE': [uid], 'DELIVERY_TIME': [iid], 'predicted_rating': [est]})], ignore_index=True)\n",
        "\n",
        "\n",
        "# Scale the predicted ratings to be between 1 and 10\n",
        "scaler = MinMaxScaler(feature_range=(1, 10))\n",
        "predicted_ratings_df['scaled_rating'] = scaler.fit_transform(predicted_ratings_df[['predicted_rating']])\n",
        "\n",
        "# Group by vendor and calculate the average predicted rating\n",
        "vendor_ratings = predicted_ratings_df.groupby('SUPPLIER_CODE')['scaled_rating'].mean()\n",
        "\n",
        "# Sort vendors by their average predicted rating in descending order\n",
        "ranked_vendors = vendor_ratings.sort_values(ascending=False)\n",
        "\n",
        "\n",
        "ranked_vendors"
      ],
      "metadata": {
        "colab": {
          "base_uri": "https://localhost:8080/",
          "height": 546
        },
        "id": "YPrUhSB3haaZ",
        "outputId": "c117cac1-81d7-470f-a78d-e06990f474b9"
      },
      "execution_count": 18,
      "outputs": [
        {
          "output_type": "stream",
          "name": "stderr",
          "text": [
            "<ipython-input-18-c578a8ce7e0a>:24: FutureWarning: The behavior of DataFrame concatenation with empty or all-NA entries is deprecated. In a future version, this will no longer exclude empty or all-NA columns when determining the result dtypes. To retain the old behavior, exclude the relevant entries before the concat operation.\n",
            "  predicted_ratings_df = pd.concat([predicted_ratings_df, pd.DataFrame({'SUPPLIER_CODE': [uid], 'DELIVERY_TIME': [iid], 'predicted_rating': [est]})], ignore_index=True)\n"
          ]
        },
        {
          "output_type": "execute_result",
          "data": {
            "text/plain": [
              "SUPPLIER_CODE\n",
              "VD003579     10.000000\n",
              "VD003897     10.000000\n",
              "VCD000030    10.000000\n",
              "VD002449      9.313732\n",
              "VD000342      5.476514\n",
              "               ...    \n",
              "VD002456      1.000000\n",
              "VD002460      1.000000\n",
              "VD002461      1.000000\n",
              "VD002465      1.000000\n",
              "VD003403      1.000000\n",
              "Name: scaled_rating, Length: 731, dtype: float64"
            ],
            "text/html": [
              "<div>\n",
              "<style scoped>\n",
              "    .dataframe tbody tr th:only-of-type {\n",
              "        vertical-align: middle;\n",
              "    }\n",
              "\n",
              "    .dataframe tbody tr th {\n",
              "        vertical-align: top;\n",
              "    }\n",
              "\n",
              "    .dataframe thead th {\n",
              "        text-align: right;\n",
              "    }\n",
              "</style>\n",
              "<table border=\"1\" class=\"dataframe\">\n",
              "  <thead>\n",
              "    <tr style=\"text-align: right;\">\n",
              "      <th></th>\n",
              "      <th>scaled_rating</th>\n",
              "    </tr>\n",
              "    <tr>\n",
              "      <th>SUPPLIER_CODE</th>\n",
              "      <th></th>\n",
              "    </tr>\n",
              "  </thead>\n",
              "  <tbody>\n",
              "    <tr>\n",
              "      <th>VD003579</th>\n",
              "      <td>10.000000</td>\n",
              "    </tr>\n",
              "    <tr>\n",
              "      <th>VD003897</th>\n",
              "      <td>10.000000</td>\n",
              "    </tr>\n",
              "    <tr>\n",
              "      <th>VCD000030</th>\n",
              "      <td>10.000000</td>\n",
              "    </tr>\n",
              "    <tr>\n",
              "      <th>VD002449</th>\n",
              "      <td>9.313732</td>\n",
              "    </tr>\n",
              "    <tr>\n",
              "      <th>VD000342</th>\n",
              "      <td>5.476514</td>\n",
              "    </tr>\n",
              "    <tr>\n",
              "      <th>...</th>\n",
              "      <td>...</td>\n",
              "    </tr>\n",
              "    <tr>\n",
              "      <th>VD002456</th>\n",
              "      <td>1.000000</td>\n",
              "    </tr>\n",
              "    <tr>\n",
              "      <th>VD002460</th>\n",
              "      <td>1.000000</td>\n",
              "    </tr>\n",
              "    <tr>\n",
              "      <th>VD002461</th>\n",
              "      <td>1.000000</td>\n",
              "    </tr>\n",
              "    <tr>\n",
              "      <th>VD002465</th>\n",
              "      <td>1.000000</td>\n",
              "    </tr>\n",
              "    <tr>\n",
              "      <th>VD003403</th>\n",
              "      <td>1.000000</td>\n",
              "    </tr>\n",
              "  </tbody>\n",
              "</table>\n",
              "<p>731 rows × 1 columns</p>\n",
              "</div><br><label><b>dtype:</b> float64</label>"
            ]
          },
          "metadata": {},
          "execution_count": 18
        }
      ]
    },
    {
      "cell_type": "markdown",
      "source": [
        "Traning model for vendor recommendation based on Delivery Time\n"
      ],
      "metadata": {
        "id": "4vkft-Q4HiJP"
      }
    },
    {
      "cell_type": "code",
      "source": [
        "from surprise import SVD\n",
        "from surprise import accuracy\n",
        "from surprise import Reader\n",
        "from surprise import Dataset\n",
        "from sklearn.model_selection import train_test_split\n",
        "\n",
        "y = PO_data['DELIVERY_TIME']\n",
        "X = PO_data.drop(columns=['DELIVERY_TIME'])\n",
        "\n",
        "# Split the data (e.g., 80% training, 20% testing)\n",
        "X_train, X_test, y_train, y_test = train_test_split(X, y, test_size=0.2, random_state=42)\n",
        "\n",
        "#Create a Surprise Dateset\n",
        "reader = Reader(rating_scale=(PO_data['DELIVERY_TIME'].min(), PO_data['DELIVERY_TIME'].max()))\n",
        "\n",
        "# Create the trainset from the training data\n",
        "train_df = pd.DataFrame({'userID': X_train.index, 'itemID': X_train['PART_ID_CLEANED'], 'rating': y_train})\n",
        "trainset = Dataset.load_from_df(train_df[['userID', 'itemID', 'rating']], reader)\n",
        "\n",
        "# Use the SVD algorithm\n",
        "model = SVD()\n",
        "\n",
        "# Train the model on the Surprise trainset\n",
        "model.fit(trainset.build_full_trainset())\n",
        "\n",
        "# Make predictions - need to create testset similar to trainset\n",
        "test_df = pd.DataFrame({'userID': X_test.index, 'itemID': X_test['PART_ID_CLEANED'], 'rating': y_test})\n",
        "testset = Dataset.load_from_df(test_df[['userID', 'itemID', 'rating']], reader).build_full_trainset().build_testset() # create testset\n",
        "predictions = model.test(testset) # get predictions on the testset\n",
        "\n",
        "# Evaluate the model\n",
        "accuracy.mse(predictions)\n",
        "\n",
        "# Evaluate accuracy\n",
        "accuracy.rmse(predictions)"
      ],
      "metadata": {
        "colab": {
          "base_uri": "https://localhost:8080/"
        },
        "id": "4G85pR4oVQ6E",
        "outputId": "3a54d0fe-b511-4e70-b136-5211144b30ea"
      },
      "execution_count": 19,
      "outputs": [
        {
          "output_type": "stream",
          "name": "stdout",
          "text": [
            "MSE: 0.0205\n",
            "RMSE: 0.1433\n"
          ]
        },
        {
          "output_type": "execute_result",
          "data": {
            "text/plain": [
              "0.14330072257063814"
            ]
          },
          "metadata": {},
          "execution_count": 19
        }
      ]
    },
    {
      "cell_type": "code",
      "source": [
        "# Replace the scaled columns with the original values\n",
        "PO_data['PRICE'] = Original_price\n",
        "PO_data['ITEM_VALUE'] = Original_item_value\n",
        "PO_data['DELIVERY_TIME'] = Original_delivery_time"
      ],
      "metadata": {
        "id": "dEhXw9LEGsiv"
      },
      "execution_count": 22,
      "outputs": []
    },
    {
      "cell_type": "markdown",
      "source": [
        "Get top 3 Vendors for a particular part name on the basis of delivery time"
      ],
      "metadata": {
        "id": "DKcbtAZKHP-X"
      }
    },
    {
      "cell_type": "code",
      "source": [
        "# Get the top 3 vendors for a specific component\n",
        "\n",
        "#randomly select a part_name\n",
        "import random\n",
        "\n",
        "# Get all available column names\n",
        "available_columns = PO_data.columns\n",
        "\n",
        "# Check if 'PART_NAME' exists, otherwise, use a different relevant column\n",
        "part_name_column = 'PART_NAME' if 'PART_NAME' in available_columns else available_columns[0]  # Replace available_columns[0] with an appropriate column if needed\n",
        "\n",
        "# Randomly select a part_name\n",
        "part_name = random.choice(PO_data[part_name_column].unique())\n",
        "\n",
        "print(f\"Randomly selected part name: {part_name}\")\n",
        "\n",
        "component_id = PO_data[PO_data[part_name_column] == part_name]['PART_ID_CLEANED'].iloc[0]\n",
        "\n",
        "recommended_vendors = PO_data[PO_data['PART_ID_CLEANED'] == component_id]\n",
        "recommended_vendors = recommended_vendors.sort_values(by='DELIVERY_TIME', ascending=True)\n",
        "\n",
        "# Print the top N vendors for the component\n",
        "top_vendors = recommended_vendors.head(3)\n",
        "print(top_vendors[['SUPPLIER_CODE', 'DELIVERY_TIME', 'PRICE', 'DOCCUR']])\n"
      ],
      "metadata": {
        "id": "fvIxYHief9xR",
        "colab": {
          "base_uri": "https://localhost:8080/"
        },
        "outputId": "0bc30510-1197-4f19-f230-a8e6236a7d71"
      },
      "execution_count": 30,
      "outputs": [
        {
          "output_type": "stream",
          "name": "stdout",
          "text": [
            "Randomly selected part name: 2741\n",
            "      SUPPLIER_CODE  DELIVERY_TIME    PRICE DOCCUR\n",
            "2972      VCD000071              3  57900.0    INR\n",
            "35835      VD002572              5  42900.0    INR\n",
            "10568      VD000156              7  44500.0    INR\n"
          ]
        }
      ]
    }
  ]
}