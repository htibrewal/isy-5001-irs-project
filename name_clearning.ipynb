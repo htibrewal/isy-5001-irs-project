{
 "cells": [
  {
   "cell_type": "code",
   "id": "initial_id",
   "metadata": {
    "collapsed": true,
    "ExecuteTime": {
     "end_time": "2024-10-16T15:44:26.975309Z",
     "start_time": "2024-10-16T15:44:26.972420Z"
    }
   },
   "source": [
    "import os\n",
    "import numpy as np\n",
    "import pandas as pd\n",
    "from dotenv import load_dotenv \n",
    "from collections import Counter"
   ],
   "outputs": [],
   "execution_count": 30
  },
  {
   "metadata": {
    "ExecuteTime": {
     "end_time": "2024-10-16T11:10:20.946412Z",
     "start_time": "2024-10-16T11:10:20.936560Z"
    }
   },
   "cell_type": "code",
   "source": "load_dotenv()",
   "id": "bec74acddae61ccd",
   "outputs": [
    {
     "data": {
      "text/plain": [
       "True"
      ]
     },
     "execution_count": 2,
     "metadata": {},
     "output_type": "execute_result"
    }
   ],
   "execution_count": 2
  },
  {
   "metadata": {
    "ExecuteTime": {
     "end_time": "2024-10-16T17:24:59.877403Z",
     "start_time": "2024-10-16T17:24:58.895774Z"
    }
   },
   "cell_type": "code",
   "source": [
    "# df = pd.read_excel(os.path.join(os.getenv('PURCHASE_ORDER_FOLDER_PATH'), 'Data 1.xlsx'))\n",
    "\n",
    "df = pd.read_csv(os.path.join(os.getenv('ELECTRICAL_PARTS_FOLDER_PATH'), 'Data 1 Modified.csv'))\n",
    "df.columns = df.columns.str.replace(' ', '_').str.upper()"
   ],
   "id": "b741a6c525097b09",
   "outputs": [
    {
     "name": "stderr",
     "output_type": "stream",
     "text": [
      "/var/folders/4c/99wh1f85111309s8ydsfjmlr0000gn/T/ipykernel_7023/3493342449.py:3: DtypeWarning: Columns (14,15,47) have mixed types. Specify dtype option on import or set low_memory=False.\n",
      "  df = pd.read_csv(os.path.join(os.getenv('ELECTRICAL_PARTS_FOLDER_PATH'), 'Data 1 Modified.csv'))\n"
     ]
    }
   ],
   "execution_count": 60
  },
  {
   "metadata": {
    "ExecuteTime": {
     "end_time": "2024-10-16T17:25:04.976457Z",
     "start_time": "2024-10-16T17:25:04.916778Z"
    }
   },
   "cell_type": "code",
   "source": "df",
   "id": "9ad5e71b172f3467",
   "outputs": [
    {
     "data": {
      "text/plain": [
       "           # DOCTYPE CANCELED DOCCUR  DOCRATE DOCSTATUS     PO_NUM BASE_TYPE  \\\n",
       "0      26968       I        N    INR      1.0         C  232431279        PR   \n",
       "1      42455       I        N    INR      1.0         C  232471206        PR   \n",
       "2      45582       S        N    INR      1.0         C  232472169        PR   \n",
       "3       9868       S        N    INR      1.0         C      72616        PR   \n",
       "4       9869       S        N    INR      1.0         C      72616        PR   \n",
       "...      ...     ...      ...    ...      ...       ...        ...       ...   \n",
       "50456  48133       I        N    INR      1.0         O  242504101        PR   \n",
       "50457  48134       I        N    INR      1.0         O  242504101        PR   \n",
       "50458  48135       I        N    INR      1.0         O  242504101        PR   \n",
       "50459  16606       I        N    INR      1.0         C      74346        PR   \n",
       "50460  16607       I        N    INR      1.0         C      74346        PR   \n",
       "\n",
       "       BASE_NUMBER  BASE_LINE  ... MANUALLY_CLOSED_PO        PO_OWNER_NAME  \\\n",
       "0      232401368.0        1.0  ...                 No       Yoginder Kumar   \n",
       "1      232451256.0        1.0  ...                 No      Ashutosh Tiwari   \n",
       "2      232452086.0        1.0  ...                 No     Abhishek Chauhan   \n",
       "3         100150.0        1.0  ...                Yes        Aman Chambial   \n",
       "4         100150.0        2.0  ...                Yes        Aman Chambial   \n",
       "...            ...        ...  ...                ...                  ...   \n",
       "50456  242500075.0        6.0  ...                 No     Dheeraj Sachdeva   \n",
       "50457  242500075.0        4.0  ...                 No     Dheeraj Sachdeva   \n",
       "50458  242500075.0        3.0  ...                 No     Dheeraj Sachdeva   \n",
       "50459     102315.0        1.0  ...                 No  Sanket Singh Rathor   \n",
       "50460     102315.0        2.0  ...                 No  Sanket Singh Rathor   \n",
       "\n",
       "                    PYMNTGROUP  \\\n",
       "0                  Net 30 days   \n",
       "1                  Net 30 days   \n",
       "2                Refer PO Text   \n",
       "3                       Net-30   \n",
       "4                       Net-30   \n",
       "...                        ...   \n",
       "50456              Net 30 days   \n",
       "50457              Net 30 days   \n",
       "50458              Net 30 days   \n",
       "50459  100% advance against PI   \n",
       "50460  100% advance against PI   \n",
       "\n",
       "                                                  HEADER FOOTER BRANCH_NAME  \\\n",
       "0                                                    NaN    NaN       NOIDA   \n",
       "1                                                    NaN    NaN   Ecotech X   \n",
       "2      Payment Terms : 100% after service completion ...    NaN   Ecotech X   \n",
       "3      OTC charges shall be paid after installation o...    NaN       NOIDA   \n",
       "4      OTC charges shall be paid after installation o...    NaN       NOIDA   \n",
       "...                                                  ...    ...         ...   \n",
       "50456                                                NaN    NaN       NOIDA   \n",
       "50457                                                NaN    NaN       NOIDA   \n",
       "50458                                                NaN    NaN       NOIDA   \n",
       "50459  12 mtr weight is 948 kg (200*200)  140*90 it i...    NaN       NOIDA   \n",
       "50460  12 mtr weight is 948 kg (200*200)  140*90 it i...    NaN       NOIDA   \n",
       "\n",
       "      IMP_OR_EXP COST_SAVING COST_SAVING_CRITERIA FORCE_CLOSED_PO_QTY  \n",
       "0              N         NaN                  NaN                   0  \n",
       "1              N         NaN                  NaN                   0  \n",
       "2              N         NaN                  NaN                   0  \n",
       "3              N         NaN                  NaN                   0  \n",
       "4              N         NaN                  NaN                   0  \n",
       "...          ...         ...                  ...                 ...  \n",
       "50456          N         NaN                  NaN                   0  \n",
       "50457          N         NaN                  NaN                   0  \n",
       "50458          N         NaN                  NaN                   0  \n",
       "50459          N         NaN                  NaN                   0  \n",
       "50460          N         NaN                  NaN                   0  \n",
       "\n",
       "[50461 rows x 59 columns]"
      ],
      "text/html": [
       "<div>\n",
       "<style scoped>\n",
       "    .dataframe tbody tr th:only-of-type {\n",
       "        vertical-align: middle;\n",
       "    }\n",
       "\n",
       "    .dataframe tbody tr th {\n",
       "        vertical-align: top;\n",
       "    }\n",
       "\n",
       "    .dataframe thead th {\n",
       "        text-align: right;\n",
       "    }\n",
       "</style>\n",
       "<table border=\"1\" class=\"dataframe\">\n",
       "  <thead>\n",
       "    <tr style=\"text-align: right;\">\n",
       "      <th></th>\n",
       "      <th>#</th>\n",
       "      <th>DOCTYPE</th>\n",
       "      <th>CANCELED</th>\n",
       "      <th>DOCCUR</th>\n",
       "      <th>DOCRATE</th>\n",
       "      <th>DOCSTATUS</th>\n",
       "      <th>PO_NUM</th>\n",
       "      <th>BASE_TYPE</th>\n",
       "      <th>BASE_NUMBER</th>\n",
       "      <th>BASE_LINE</th>\n",
       "      <th>...</th>\n",
       "      <th>MANUALLY_CLOSED_PO</th>\n",
       "      <th>PO_OWNER_NAME</th>\n",
       "      <th>PYMNTGROUP</th>\n",
       "      <th>HEADER</th>\n",
       "      <th>FOOTER</th>\n",
       "      <th>BRANCH_NAME</th>\n",
       "      <th>IMP_OR_EXP</th>\n",
       "      <th>COST_SAVING</th>\n",
       "      <th>COST_SAVING_CRITERIA</th>\n",
       "      <th>FORCE_CLOSED_PO_QTY</th>\n",
       "    </tr>\n",
       "  </thead>\n",
       "  <tbody>\n",
       "    <tr>\n",
       "      <th>0</th>\n",
       "      <td>26968</td>\n",
       "      <td>I</td>\n",
       "      <td>N</td>\n",
       "      <td>INR</td>\n",
       "      <td>1.0</td>\n",
       "      <td>C</td>\n",
       "      <td>232431279</td>\n",
       "      <td>PR</td>\n",
       "      <td>232401368.0</td>\n",
       "      <td>1.0</td>\n",
       "      <td>...</td>\n",
       "      <td>No</td>\n",
       "      <td>Yoginder Kumar</td>\n",
       "      <td>Net 30 days</td>\n",
       "      <td>NaN</td>\n",
       "      <td>NaN</td>\n",
       "      <td>NOIDA</td>\n",
       "      <td>N</td>\n",
       "      <td>NaN</td>\n",
       "      <td>NaN</td>\n",
       "      <td>0</td>\n",
       "    </tr>\n",
       "    <tr>\n",
       "      <th>1</th>\n",
       "      <td>42455</td>\n",
       "      <td>I</td>\n",
       "      <td>N</td>\n",
       "      <td>INR</td>\n",
       "      <td>1.0</td>\n",
       "      <td>C</td>\n",
       "      <td>232471206</td>\n",
       "      <td>PR</td>\n",
       "      <td>232451256.0</td>\n",
       "      <td>1.0</td>\n",
       "      <td>...</td>\n",
       "      <td>No</td>\n",
       "      <td>Ashutosh Tiwari</td>\n",
       "      <td>Net 30 days</td>\n",
       "      <td>NaN</td>\n",
       "      <td>NaN</td>\n",
       "      <td>Ecotech X</td>\n",
       "      <td>N</td>\n",
       "      <td>NaN</td>\n",
       "      <td>NaN</td>\n",
       "      <td>0</td>\n",
       "    </tr>\n",
       "    <tr>\n",
       "      <th>2</th>\n",
       "      <td>45582</td>\n",
       "      <td>S</td>\n",
       "      <td>N</td>\n",
       "      <td>INR</td>\n",
       "      <td>1.0</td>\n",
       "      <td>C</td>\n",
       "      <td>232472169</td>\n",
       "      <td>PR</td>\n",
       "      <td>232452086.0</td>\n",
       "      <td>1.0</td>\n",
       "      <td>...</td>\n",
       "      <td>No</td>\n",
       "      <td>Abhishek Chauhan</td>\n",
       "      <td>Refer PO Text</td>\n",
       "      <td>Payment Terms : 100% after service completion ...</td>\n",
       "      <td>NaN</td>\n",
       "      <td>Ecotech X</td>\n",
       "      <td>N</td>\n",
       "      <td>NaN</td>\n",
       "      <td>NaN</td>\n",
       "      <td>0</td>\n",
       "    </tr>\n",
       "    <tr>\n",
       "      <th>3</th>\n",
       "      <td>9868</td>\n",
       "      <td>S</td>\n",
       "      <td>N</td>\n",
       "      <td>INR</td>\n",
       "      <td>1.0</td>\n",
       "      <td>C</td>\n",
       "      <td>72616</td>\n",
       "      <td>PR</td>\n",
       "      <td>100150.0</td>\n",
       "      <td>1.0</td>\n",
       "      <td>...</td>\n",
       "      <td>Yes</td>\n",
       "      <td>Aman Chambial</td>\n",
       "      <td>Net-30</td>\n",
       "      <td>OTC charges shall be paid after installation o...</td>\n",
       "      <td>NaN</td>\n",
       "      <td>NOIDA</td>\n",
       "      <td>N</td>\n",
       "      <td>NaN</td>\n",
       "      <td>NaN</td>\n",
       "      <td>0</td>\n",
       "    </tr>\n",
       "    <tr>\n",
       "      <th>4</th>\n",
       "      <td>9869</td>\n",
       "      <td>S</td>\n",
       "      <td>N</td>\n",
       "      <td>INR</td>\n",
       "      <td>1.0</td>\n",
       "      <td>C</td>\n",
       "      <td>72616</td>\n",
       "      <td>PR</td>\n",
       "      <td>100150.0</td>\n",
       "      <td>2.0</td>\n",
       "      <td>...</td>\n",
       "      <td>Yes</td>\n",
       "      <td>Aman Chambial</td>\n",
       "      <td>Net-30</td>\n",
       "      <td>OTC charges shall be paid after installation o...</td>\n",
       "      <td>NaN</td>\n",
       "      <td>NOIDA</td>\n",
       "      <td>N</td>\n",
       "      <td>NaN</td>\n",
       "      <td>NaN</td>\n",
       "      <td>0</td>\n",
       "    </tr>\n",
       "    <tr>\n",
       "      <th>...</th>\n",
       "      <td>...</td>\n",
       "      <td>...</td>\n",
       "      <td>...</td>\n",
       "      <td>...</td>\n",
       "      <td>...</td>\n",
       "      <td>...</td>\n",
       "      <td>...</td>\n",
       "      <td>...</td>\n",
       "      <td>...</td>\n",
       "      <td>...</td>\n",
       "      <td>...</td>\n",
       "      <td>...</td>\n",
       "      <td>...</td>\n",
       "      <td>...</td>\n",
       "      <td>...</td>\n",
       "      <td>...</td>\n",
       "      <td>...</td>\n",
       "      <td>...</td>\n",
       "      <td>...</td>\n",
       "      <td>...</td>\n",
       "      <td>...</td>\n",
       "    </tr>\n",
       "    <tr>\n",
       "      <th>50456</th>\n",
       "      <td>48133</td>\n",
       "      <td>I</td>\n",
       "      <td>N</td>\n",
       "      <td>INR</td>\n",
       "      <td>1.0</td>\n",
       "      <td>O</td>\n",
       "      <td>242504101</td>\n",
       "      <td>PR</td>\n",
       "      <td>242500075.0</td>\n",
       "      <td>6.0</td>\n",
       "      <td>...</td>\n",
       "      <td>No</td>\n",
       "      <td>Dheeraj Sachdeva</td>\n",
       "      <td>Net 30 days</td>\n",
       "      <td>NaN</td>\n",
       "      <td>NaN</td>\n",
       "      <td>NOIDA</td>\n",
       "      <td>N</td>\n",
       "      <td>NaN</td>\n",
       "      <td>NaN</td>\n",
       "      <td>0</td>\n",
       "    </tr>\n",
       "    <tr>\n",
       "      <th>50457</th>\n",
       "      <td>48134</td>\n",
       "      <td>I</td>\n",
       "      <td>N</td>\n",
       "      <td>INR</td>\n",
       "      <td>1.0</td>\n",
       "      <td>O</td>\n",
       "      <td>242504101</td>\n",
       "      <td>PR</td>\n",
       "      <td>242500075.0</td>\n",
       "      <td>4.0</td>\n",
       "      <td>...</td>\n",
       "      <td>No</td>\n",
       "      <td>Dheeraj Sachdeva</td>\n",
       "      <td>Net 30 days</td>\n",
       "      <td>NaN</td>\n",
       "      <td>NaN</td>\n",
       "      <td>NOIDA</td>\n",
       "      <td>N</td>\n",
       "      <td>NaN</td>\n",
       "      <td>NaN</td>\n",
       "      <td>0</td>\n",
       "    </tr>\n",
       "    <tr>\n",
       "      <th>50458</th>\n",
       "      <td>48135</td>\n",
       "      <td>I</td>\n",
       "      <td>N</td>\n",
       "      <td>INR</td>\n",
       "      <td>1.0</td>\n",
       "      <td>O</td>\n",
       "      <td>242504101</td>\n",
       "      <td>PR</td>\n",
       "      <td>242500075.0</td>\n",
       "      <td>3.0</td>\n",
       "      <td>...</td>\n",
       "      <td>No</td>\n",
       "      <td>Dheeraj Sachdeva</td>\n",
       "      <td>Net 30 days</td>\n",
       "      <td>NaN</td>\n",
       "      <td>NaN</td>\n",
       "      <td>NOIDA</td>\n",
       "      <td>N</td>\n",
       "      <td>NaN</td>\n",
       "      <td>NaN</td>\n",
       "      <td>0</td>\n",
       "    </tr>\n",
       "    <tr>\n",
       "      <th>50459</th>\n",
       "      <td>16606</td>\n",
       "      <td>I</td>\n",
       "      <td>N</td>\n",
       "      <td>INR</td>\n",
       "      <td>1.0</td>\n",
       "      <td>C</td>\n",
       "      <td>74346</td>\n",
       "      <td>PR</td>\n",
       "      <td>102315.0</td>\n",
       "      <td>1.0</td>\n",
       "      <td>...</td>\n",
       "      <td>No</td>\n",
       "      <td>Sanket Singh Rathor</td>\n",
       "      <td>100% advance against PI</td>\n",
       "      <td>12 mtr weight is 948 kg (200*200)  140*90 it i...</td>\n",
       "      <td>NaN</td>\n",
       "      <td>NOIDA</td>\n",
       "      <td>N</td>\n",
       "      <td>NaN</td>\n",
       "      <td>NaN</td>\n",
       "      <td>0</td>\n",
       "    </tr>\n",
       "    <tr>\n",
       "      <th>50460</th>\n",
       "      <td>16607</td>\n",
       "      <td>I</td>\n",
       "      <td>N</td>\n",
       "      <td>INR</td>\n",
       "      <td>1.0</td>\n",
       "      <td>C</td>\n",
       "      <td>74346</td>\n",
       "      <td>PR</td>\n",
       "      <td>102315.0</td>\n",
       "      <td>2.0</td>\n",
       "      <td>...</td>\n",
       "      <td>No</td>\n",
       "      <td>Sanket Singh Rathor</td>\n",
       "      <td>100% advance against PI</td>\n",
       "      <td>12 mtr weight is 948 kg (200*200)  140*90 it i...</td>\n",
       "      <td>NaN</td>\n",
       "      <td>NOIDA</td>\n",
       "      <td>N</td>\n",
       "      <td>NaN</td>\n",
       "      <td>NaN</td>\n",
       "      <td>0</td>\n",
       "    </tr>\n",
       "  </tbody>\n",
       "</table>\n",
       "<p>50461 rows × 59 columns</p>\n",
       "</div>"
      ]
     },
     "execution_count": 61,
     "metadata": {},
     "output_type": "execute_result"
    }
   ],
   "execution_count": 61
  },
  {
   "metadata": {
    "ExecuteTime": {
     "end_time": "2024-10-16T11:18:33.097405Z",
     "start_time": "2024-10-16T11:18:33.094221Z"
    }
   },
   "cell_type": "code",
   "source": [
    "def find_non_ascii(text):\n",
    "    return [char for char in str(text) if ord(char) > 127]"
   ],
   "id": "c50d771a1e299968",
   "outputs": [],
   "execution_count": 12
  },
  {
   "metadata": {
    "ExecuteTime": {
     "end_time": "2024-10-16T17:25:10.214182Z",
     "start_time": "2024-10-16T17:25:09.449993Z"
    }
   },
   "cell_type": "code",
   "source": [
    "df['ITEM_NAME_WITH_NON_ASCII'] = df['ITEM_NAME'].apply(find_non_ascii)\n",
    "\n",
    "rows_with_non_ascii = df[df['ITEM_NAME_WITH_NON_ASCII'].apply(lambda x: len(x) > 0)]\n",
    "rows_with_non_ascii[['ITEM_NAME', 'ITEM_NAME_WITH_NON_ASCII']]"
   ],
   "id": "beae58f57ee5218c",
   "outputs": [
    {
     "data": {
      "text/plain": [
       "                                               ITEM_NAME  \\\n",
       "33          11879651Belt 6100 CC  _Disa (shot blasting )   \n",
       "34     5-1002-003Bucket DIN15232-C200x140X2,0GK     _...   \n",
       "35     4-2401-052Connection Elevator Belt    _Disa (s...   \n",
       "36     10363906Screw M10x35-8.8 DIN15237    _Disa (sh...   \n",
       "37     10128231Nut M10-6 ZN DIN1587    _Disa (shot bl...   \n",
       "...                                                  ...   \n",
       "50289                  Dynamo 500 – Side cover –Mould-Al   \n",
       "50290                     Dynamo 500 – Side cover – Plug   \n",
       "50299                           AMR 100 – Diffuser Mould   \n",
       "50419        ZIPPY 25 - TOP COVER – SEPERATOR - Mould-Al   \n",
       "50420              ZIPPY 25 - SIDE COVER – 02 - Mould-Al   \n",
       "\n",
       "      ITEM_NAME_WITH_NON_ASCII  \n",
       "33                         [ ]  \n",
       "34                [ ,  ,  ,  ]  \n",
       "35                   [ ,  ,  ]  \n",
       "36                   [ ,  ,  ]  \n",
       "37                   [ ,  ,  ]  \n",
       "...                        ...  \n",
       "50289                   [–, –]  \n",
       "50290                   [–, –]  \n",
       "50299                      [–]  \n",
       "50419                      [–]  \n",
       "50420                      [–]  \n",
       "\n",
       "[2029 rows x 2 columns]"
      ],
      "text/html": [
       "<div>\n",
       "<style scoped>\n",
       "    .dataframe tbody tr th:only-of-type {\n",
       "        vertical-align: middle;\n",
       "    }\n",
       "\n",
       "    .dataframe tbody tr th {\n",
       "        vertical-align: top;\n",
       "    }\n",
       "\n",
       "    .dataframe thead th {\n",
       "        text-align: right;\n",
       "    }\n",
       "</style>\n",
       "<table border=\"1\" class=\"dataframe\">\n",
       "  <thead>\n",
       "    <tr style=\"text-align: right;\">\n",
       "      <th></th>\n",
       "      <th>ITEM_NAME</th>\n",
       "      <th>ITEM_NAME_WITH_NON_ASCII</th>\n",
       "    </tr>\n",
       "  </thead>\n",
       "  <tbody>\n",
       "    <tr>\n",
       "      <th>33</th>\n",
       "      <td>11879651Belt 6100 CC  _Disa (shot blasting )</td>\n",
       "      <td>[ ]</td>\n",
       "    </tr>\n",
       "    <tr>\n",
       "      <th>34</th>\n",
       "      <td>5-1002-003Bucket DIN15232-C200x140X2,0GK     _...</td>\n",
       "      <td>[ ,  ,  ,  ]</td>\n",
       "    </tr>\n",
       "    <tr>\n",
       "      <th>35</th>\n",
       "      <td>4-2401-052Connection Elevator Belt    _Disa (s...</td>\n",
       "      <td>[ ,  ,  ]</td>\n",
       "    </tr>\n",
       "    <tr>\n",
       "      <th>36</th>\n",
       "      <td>10363906Screw M10x35-8.8 DIN15237    _Disa (sh...</td>\n",
       "      <td>[ ,  ,  ]</td>\n",
       "    </tr>\n",
       "    <tr>\n",
       "      <th>37</th>\n",
       "      <td>10128231Nut M10-6 ZN DIN1587    _Disa (shot bl...</td>\n",
       "      <td>[ ,  ,  ]</td>\n",
       "    </tr>\n",
       "    <tr>\n",
       "      <th>...</th>\n",
       "      <td>...</td>\n",
       "      <td>...</td>\n",
       "    </tr>\n",
       "    <tr>\n",
       "      <th>50289</th>\n",
       "      <td>Dynamo 500 – Side cover –Mould-Al</td>\n",
       "      <td>[–, –]</td>\n",
       "    </tr>\n",
       "    <tr>\n",
       "      <th>50290</th>\n",
       "      <td>Dynamo 500 – Side cover – Plug</td>\n",
       "      <td>[–, –]</td>\n",
       "    </tr>\n",
       "    <tr>\n",
       "      <th>50299</th>\n",
       "      <td>AMR 100 – Diffuser Mould</td>\n",
       "      <td>[–]</td>\n",
       "    </tr>\n",
       "    <tr>\n",
       "      <th>50419</th>\n",
       "      <td>ZIPPY 25 - TOP COVER – SEPERATOR - Mould-Al</td>\n",
       "      <td>[–]</td>\n",
       "    </tr>\n",
       "    <tr>\n",
       "      <th>50420</th>\n",
       "      <td>ZIPPY 25 - SIDE COVER – 02 - Mould-Al</td>\n",
       "      <td>[–]</td>\n",
       "    </tr>\n",
       "  </tbody>\n",
       "</table>\n",
       "<p>2029 rows × 2 columns</p>\n",
       "</div>"
      ]
     },
     "execution_count": 62,
     "metadata": {},
     "output_type": "execute_result"
    }
   ],
   "execution_count": 62
  },
  {
   "metadata": {
    "ExecuteTime": {
     "end_time": "2024-10-16T17:27:12.890120Z",
     "start_time": "2024-10-16T17:27:12.883416Z"
    }
   },
   "cell_type": "code",
   "source": [
    "item_name_non_ascii_feq = Counter()\n",
    "\n",
    "for chars in rows_with_non_ascii['ITEM_NAME_WITH_NON_ASCII']:\n",
    "    item_name_non_ascii_feq.update(chars)\n",
    "    \n",
    "len(item_name_non_ascii_feq)"
   ],
   "id": "90d2497a5ef33fec",
   "outputs": [
    {
     "data": {
      "text/plain": [
       "54"
      ]
     },
     "execution_count": 68,
     "metadata": {},
     "output_type": "execute_result"
    }
   ],
   "execution_count": 68
  },
  {
   "metadata": {
    "ExecuteTime": {
     "end_time": "2024-10-16T17:27:20.194691Z",
     "start_time": "2024-10-16T17:27:20.189619Z"
    }
   },
   "cell_type": "code",
   "source": "item_name_non_ascii_feq",
   "id": "50c482b176c6420d",
   "outputs": [
    {
     "data": {
      "text/plain": [
       "Counter({'\\xa0': 2826,\n",
       "         'Â': 739,\n",
       "         '‚': 220,\n",
       "         '°': 177,\n",
       "         '–': 137,\n",
       "         'â': 111,\n",
       "         'Ã': 97,\n",
       "         '®': 95,\n",
       "         '€': 92,\n",
       "         '²': 76,\n",
       "         '“': 73,\n",
       "         'Ø': 60,\n",
       "         '¢': 41,\n",
       "         '’': 36,\n",
       "         '±': 25,\n",
       "         '¸': 23,\n",
       "         '¬': 23,\n",
       "         '”': 20,\n",
       "         '„': 19,\n",
       "         '¹': 17,\n",
       "         '™': 15,\n",
       "         'Ö': 15,\n",
       "         '×': 14,\n",
       "         'ç': 14,\n",
       "         '·': 14,\n",
       "         '˜': 12,\n",
       "         '¡': 11,\n",
       "         'ƒ': 11,\n",
       "         'Ÿ': 10,\n",
       "         '‐': 10,\n",
       "         '…': 7,\n",
       "         'œ': 6,\n",
       "         'ü': 6,\n",
       "         '—': 5,\n",
       "         '聽': 5,\n",
       "         'µ': 5,\n",
       "         'ä': 5,\n",
       "         '″': 5,\n",
       "         '，': 4,\n",
       "         '³': 4,\n",
       "         '½': 3,\n",
       "         'º': 2,\n",
       "         'è': 2,\n",
       "         'é': 2,\n",
       "         '‘': 2,\n",
       "         '₹': 1,\n",
       "         'Ž': 1,\n",
       "         '‑': 1,\n",
       "         '•': 1,\n",
       "         'ë': 1,\n",
       "         '脳': 1,\n",
       "         '◦': 1,\n",
       "         'ˆ': 1,\n",
       "         '\\u2002': 1})"
      ]
     },
     "execution_count": 69,
     "metadata": {},
     "output_type": "execute_result"
    }
   ],
   "execution_count": 69
  },
  {
   "metadata": {
    "ExecuteTime": {
     "end_time": "2024-10-16T17:25:20.760865Z",
     "start_time": "2024-10-16T17:25:20.757357Z"
    }
   },
   "cell_type": "code",
   "source": [
    "def contains_specific_signs(item_name, signs):\n",
    "    return any(sign in str(item_name) for sign in signs)"
   ],
   "id": "f14d1a4c60dc8cf4",
   "outputs": [],
   "execution_count": 64
  },
  {
   "metadata": {
    "ExecuteTime": {
     "end_time": "2024-10-16T17:30:55.024837Z",
     "start_time": "2024-10-16T17:30:54.968595Z"
    }
   },
   "cell_type": "code",
   "source": "df[df['ITEM_NAME'].apply(lambda x: contains_specific_signs(x, ['″', '“', '”']))]['ITEM_NAME']",
   "id": "148d340dc933c94b",
   "outputs": [
    {
     "data": {
      "text/plain": [
       "5205     Fees for conducting Open MDP on “Financial Acu...\n",
       "5978                                 Micron Cartridge 20”L\n",
       "8612     52929 Ring Terminals & Spade Terminals, Spring...\n",
       "13837    52929 Ring Terminals & Spade Terminals, Spring...\n",
       "14238    HP 440 G9 AIO : Intel core i7 Processor /12700...\n",
       "                               ...                        \n",
       "47393               END COVER â€“ TERMINALS 4 SQMM/10 SQMM\n",
       "47394                              END CLAMP â€“ TERMINALS\n",
       "47396                              END CLAMP â€“ TERMINALS\n",
       "47406                              END CLAMP â€“ TERMINALS\n",
       "49854             DUCT FLEXIBLE PIPE 4”  FOR SHOT BLASTING\n",
       "Name: ITEM_NAME, Length: 67, dtype: object"
      ]
     },
     "execution_count": 74,
     "metadata": {},
     "output_type": "execute_result"
    }
   ],
   "execution_count": 74
  },
  {
   "metadata": {},
   "cell_type": "code",
   "outputs": [],
   "execution_count": null,
   "source": "",
   "id": "32c6fe2513b9b673"
  },
  {
   "metadata": {
    "ExecuteTime": {
     "end_time": "2024-10-16T15:41:49.895683Z",
     "start_time": "2024-10-16T15:41:49.890447Z"
    }
   },
   "cell_type": "code",
   "source": [
    "non_ascii_replacement_dict = {\n",
    "    '\\xa0': '<nbsp>',\n",
    "    '\\x90': '<control_char>',\n",
    "    '\\u200e': '<left_to_right_mark>',\n",
    "    '\\x81': '<control_char>',\n",
    "    '\\xad': '<soft_hyphen>',\n",
    "    '\\u2002': '<en_space>',\n",
    "    'Â': '<A>',\n",
    "    '‚': '<low_single_quote>',\n",
    "    '°': '<deg>',\n",
    "    'â': '<a>',\n",
    "    '–': '<dash>',\n",
    "    '€': '<euro>',\n",
    "    'Ã': '<A>',\n",
    "    '®': '<registered>',\n",
    "    '²': '<superscript_two>',\n",
    "    'Ø': '<O>',\n",
    "    '¢': '<cent>',\n",
    "    '’': '<right_single_quote>',\n",
    "    '±': '<plus_minus>',\n",
    "    '¸': '<cedilla>',\n",
    "    '¬': '<not>',\n",
    "    '„': '<low_double_quote>',\n",
    "    '¹': '<superscript_one>',\n",
    "    '™': '<trademark>',\n",
    "    'Ö': '<O_umlaut>',\n",
    "    '×': '<multiplication>',\n",
    "    'ç': '<c_cedilla>',\n",
    "    '·': '<middle_dot>',\n",
    "    '˜': '<tilde>',\n",
    "    '¡': '<inverted_exclamation>',\n",
    "    'ƒ': '<f>',\n",
    "    'Ÿ': '<Y_diaeresis>',\n",
    "    '‐': '<hyphen>',\n",
    "    '…': '<ellipsis>',\n",
    "    'œ': '<oe>',\n",
    "    'ü': '<u_umlaut>',\n",
    "    '—': '<em_dash>',\n",
    "    '½': '<half>',\n",
    "    '聽': '<unicode_hear>',\n",
    "    'µ': '<mu>',\n",
    "    'ä': '<a_umlaut>',\n",
    "    '″': '<double_prime>',\n",
    "    '，': '<chinese_comma>',\n",
    "    '³': '<superscript_three>',\n",
    "    'º': '<masculine_ordinal>',\n",
    "    'è': '<e_grave>',\n",
    "    'é': '<e_acute>',\n",
    "    '‘': '<left_single_quote>',\n",
    "    '₹': '<rupee>',\n",
    "    'Ž': '<Z_caron>',\n",
    "    '‑': '<non_breaking_hyphen>',\n",
    "    '•': '<bullet>',\n",
    "    'ë': '<e_umlaut>',\n",
    "    '脳': '<unicode_multiply>',\n",
    "    '◦': '<bullet_point>',\n",
    "    'ˆ': '<circumflex>',\n",
    "}"
   ],
   "id": "a68da7a2a0596057",
   "outputs": [],
   "execution_count": 24
  },
  {
   "metadata": {
    "ExecuteTime": {
     "end_time": "2024-10-16T16:29:09.978831Z",
     "start_time": "2024-10-16T16:29:09.975262Z"
    }
   },
   "cell_type": "code",
   "source": [
    "def replace_non_ascii_with_text(text):\n",
    "    if type(text) != str:\n",
    "        text = str(text)\n",
    "    \n",
    "    # Replace non-ASCII characters using the dictionary\n",
    "    for char, replacement in non_ascii_replacement_dict.items():\n",
    "        text = text.replace(char, replacement)\n",
    "\n",
    "    # # Apply the special handling for quotes\n",
    "    # text = replace_quotes(text)\n",
    "\n",
    "    return text"
   ],
   "id": "e4b2a5d0a465c2a5",
   "outputs": [],
   "execution_count": 47
  },
  {
   "metadata": {
    "ExecuteTime": {
     "end_time": "2024-10-16T17:25:25.805979Z",
     "start_time": "2024-10-16T17:25:25.603225Z"
    }
   },
   "cell_type": "code",
   "source": [
    "df['CLEANED_ITEM_NAME'] = df['ITEM_NAME'].apply(lambda x: replace_non_ascii_with_text(x))\n",
    "df[['CLEANED_ITEM_NAME', 'ITEM_NAME', 'ITEM_NAME_WITH_NON_ASCII']]"
   ],
   "id": "4def4296e0fc10ed",
   "outputs": [
    {
     "data": {
      "text/plain": [
       "                            CLEANED_ITEM_NAME  \\\n",
       "0        Bracket no A-081-G MDR Locking Strip   \n",
       "1                               Locking Plate   \n",
       "2      Charges for embossing tool trial Proto   \n",
       "3                             DR Solution @12   \n",
       "4             During The DR Drill Acrivity @2   \n",
       "...                                       ...   \n",
       "50456                    ZIPPY 25 TOP COVER-1   \n",
       "50457                ZIPPY 25 FRONT COVER - 1   \n",
       "50458              ZIPPY 25 - SIDE COVER - 01   \n",
       "50459              Tube 200x200x14mm (350YST)   \n",
       "50460                Tube 140x80x9mm (350YST)   \n",
       "\n",
       "                                    ITEM_NAME ITEM_NAME_WITH_NON_ASCII  \n",
       "0        Bracket no A-081-G MDR Locking Strip                       []  \n",
       "1                               Locking Plate                       []  \n",
       "2      Charges for embossing tool trial Proto                       []  \n",
       "3                             DR Solution @12                       []  \n",
       "4             During The DR Drill Acrivity @2                       []  \n",
       "...                                       ...                      ...  \n",
       "50456                    ZIPPY 25 TOP COVER-1                       []  \n",
       "50457                ZIPPY 25 FRONT COVER - 1                       []  \n",
       "50458              ZIPPY 25 - SIDE COVER - 01                       []  \n",
       "50459              Tube 200x200x14mm (350YST)                       []  \n",
       "50460                Tube 140x80x9mm (350YST)                       []  \n",
       "\n",
       "[50461 rows x 3 columns]"
      ],
      "text/html": [
       "<div>\n",
       "<style scoped>\n",
       "    .dataframe tbody tr th:only-of-type {\n",
       "        vertical-align: middle;\n",
       "    }\n",
       "\n",
       "    .dataframe tbody tr th {\n",
       "        vertical-align: top;\n",
       "    }\n",
       "\n",
       "    .dataframe thead th {\n",
       "        text-align: right;\n",
       "    }\n",
       "</style>\n",
       "<table border=\"1\" class=\"dataframe\">\n",
       "  <thead>\n",
       "    <tr style=\"text-align: right;\">\n",
       "      <th></th>\n",
       "      <th>CLEANED_ITEM_NAME</th>\n",
       "      <th>ITEM_NAME</th>\n",
       "      <th>ITEM_NAME_WITH_NON_ASCII</th>\n",
       "    </tr>\n",
       "  </thead>\n",
       "  <tbody>\n",
       "    <tr>\n",
       "      <th>0</th>\n",
       "      <td>Bracket no A-081-G MDR Locking Strip</td>\n",
       "      <td>Bracket no A-081-G MDR Locking Strip</td>\n",
       "      <td>[]</td>\n",
       "    </tr>\n",
       "    <tr>\n",
       "      <th>1</th>\n",
       "      <td>Locking Plate</td>\n",
       "      <td>Locking Plate</td>\n",
       "      <td>[]</td>\n",
       "    </tr>\n",
       "    <tr>\n",
       "      <th>2</th>\n",
       "      <td>Charges for embossing tool trial Proto</td>\n",
       "      <td>Charges for embossing tool trial Proto</td>\n",
       "      <td>[]</td>\n",
       "    </tr>\n",
       "    <tr>\n",
       "      <th>3</th>\n",
       "      <td>DR Solution @12</td>\n",
       "      <td>DR Solution @12</td>\n",
       "      <td>[]</td>\n",
       "    </tr>\n",
       "    <tr>\n",
       "      <th>4</th>\n",
       "      <td>During The DR Drill Acrivity @2</td>\n",
       "      <td>During The DR Drill Acrivity @2</td>\n",
       "      <td>[]</td>\n",
       "    </tr>\n",
       "    <tr>\n",
       "      <th>...</th>\n",
       "      <td>...</td>\n",
       "      <td>...</td>\n",
       "      <td>...</td>\n",
       "    </tr>\n",
       "    <tr>\n",
       "      <th>50456</th>\n",
       "      <td>ZIPPY 25 TOP COVER-1</td>\n",
       "      <td>ZIPPY 25 TOP COVER-1</td>\n",
       "      <td>[]</td>\n",
       "    </tr>\n",
       "    <tr>\n",
       "      <th>50457</th>\n",
       "      <td>ZIPPY 25 FRONT COVER - 1</td>\n",
       "      <td>ZIPPY 25 FRONT COVER - 1</td>\n",
       "      <td>[]</td>\n",
       "    </tr>\n",
       "    <tr>\n",
       "      <th>50458</th>\n",
       "      <td>ZIPPY 25 - SIDE COVER - 01</td>\n",
       "      <td>ZIPPY 25 - SIDE COVER - 01</td>\n",
       "      <td>[]</td>\n",
       "    </tr>\n",
       "    <tr>\n",
       "      <th>50459</th>\n",
       "      <td>Tube 200x200x14mm (350YST)</td>\n",
       "      <td>Tube 200x200x14mm (350YST)</td>\n",
       "      <td>[]</td>\n",
       "    </tr>\n",
       "    <tr>\n",
       "      <th>50460</th>\n",
       "      <td>Tube 140x80x9mm (350YST)</td>\n",
       "      <td>Tube 140x80x9mm (350YST)</td>\n",
       "      <td>[]</td>\n",
       "    </tr>\n",
       "  </tbody>\n",
       "</table>\n",
       "<p>50461 rows × 3 columns</p>\n",
       "</div>"
      ]
     },
     "execution_count": 65,
     "metadata": {},
     "output_type": "execute_result"
    }
   ],
   "execution_count": 65
  },
  {
   "metadata": {
    "ExecuteTime": {
     "end_time": "2024-10-16T17:25:28.736634Z",
     "start_time": "2024-10-16T17:25:28.593072Z"
    }
   },
   "cell_type": "code",
   "source": "np.unique(df['ITEM_NAME'].apply(find_non_ascii))",
   "id": "981ab248029e6409",
   "outputs": [
    {
     "data": {
      "text/plain": [
       "array([list([]), list(['\\xa0']), list(['\\xa0', '\\xa0']),\n",
       "       list(['\\xa0', '\\xa0', '\\xa0']),\n",
       "       list(['\\xa0', '\\xa0', '\\xa0', '\\xa0']),\n",
       "       list(['\\xa0', '\\xa0', '\\xa0', '\\xa0', '\\xa0']),\n",
       "       list(['\\xa0', '\\xa0', '\\xa0', '\\xa0', '\\xa0', '\\xa0']),\n",
       "       list(['\\xa0', '\\xa0', '\\xa0', '\\xa0', '\\xa0', '\\xa0', '\\xa0']),\n",
       "       list(['\\xa0', '\\xa0', '\\xa0', '\\xa0', '\\xa0', '\\xa0', '\\xa0', '\\xa0']),\n",
       "       list(['\\xa0', '\\xa0', '\\xa0', '\\xa0', '\\xa0', '\\xa0', '\\xa0', '\\xa0', '\\xa0', '\\xa0']),\n",
       "       list(['\\xa0', '\\xa0', '\\xa0', '\\xa0', '\\xa0', '\\xa0', '\\xa0', '\\xa0', '\\xa0', '\\xa0', '\\xa0', '\\xa0', '\\xa0', '\\xa0']),\n",
       "       list(['\\xa0', '\\xa0', '\\xa0', '\\xa0', '\\xa0', '\\xa0', '\\xa0', '\\xa0', '\\xa0', '\\xa0', '\\xa0', '\\xa0', '\\xa0', '\\xa0', '\\xa0']),\n",
       "       list(['\\xa0', '\\xa0', '–', '\\xa0', '\\xa0']),\n",
       "       list(['\\xa0', '²', '\\xa0', '\\xa0', '²', '\\xa0', '\\xa0', '\\xa0', '\\xa0', '\\xa0', '\\xa0', '\\xa0', '\\xa0']),\n",
       "       list(['\\xa0', 'Ø']), list(['\\xa0', 'Ø', 'Ø']),\n",
       "       list(['¢', '‚', '¬']), list(['¢', '‚', '¬', 'œ']),\n",
       "       list(['¢', '‚', '¬', '„', '¢', '¢', '‚', '¬', '„', '¢']),\n",
       "       list(['®']), list(['®', '²', '²']), list(['®', '™']), list(['°']),\n",
       "       list(['°', '°']), list(['°', '°', '°', '°']), list(['±']),\n",
       "       list(['±', '\\xa0']), list(['±', '±']), list(['²']),\n",
       "       list(['²', '²']), list(['²', 'Ø']), list(['³']), list(['µ']),\n",
       "       list(['µ', '±']), list(['·']), list(['·', '·']), list(['º']),\n",
       "       list(['½']), list(['½', '½']), list(['Â']), list(['Â', '\\xa0']),\n",
       "       list(['Â', '\\xa0', 'Â', '\\xa0']),\n",
       "       list(['Â', '\\xa0', 'Â', '\\xa0', 'Â']),\n",
       "       list(['Â', '\\xa0', 'Â', '\\xa0', 'Â', '\\xa0']),\n",
       "       list(['Â', '\\xa0', 'Â', '\\xa0', 'Â', '\\xa0', 'Â', '\\xa0']),\n",
       "       list(['Â', '\\xa0', 'Â', '\\xa0', 'Â', '\\xa0', 'Â', '\\xa0', 'Â', '\\xa0']),\n",
       "       list(['Â', '\\xa0', 'Â', '\\xa0', 'Â', '\\xa0', 'Â', '\\xa0', 'Â', '\\xa0', 'Â', '\\xa0']),\n",
       "       list(['Â', '\\xa0', 'Â', '\\xa0', 'Â', '\\xa0', 'Â', '\\xa0', 'Â', '\\xa0', 'Â', '\\xa0', 'Â']),\n",
       "       list(['Â', '\\xa0', 'Â', '\\xa0', 'Â', '\\xa0', 'Â', '\\xa0', 'Â', '\\xa0', 'Â', '\\xa0', 'Â', '\\xa0']),\n",
       "       list(['Â', '\\xa0', 'Â', '\\xa0', 'Â', '\\xa0', 'Â', '\\xa0', 'Â', '\\xa0', 'Â', '\\xa0', 'Â', '\\xa0', 'Â', '\\xa0']),\n",
       "       list(['Â', '\\xa0', 'Â', '\\xa0', 'Â', '\\xa0', 'Â', '\\xa0', 'Â', '\\xa0', 'Â', '\\xa0', 'Â', '\\xa0', 'Â', '\\xa0', 'Â', '\\xa0', 'Â', '\\xa0', 'Â', '\\xa0']),\n",
       "       list(['Â', '\\xa0', 'Â', '\\xa0', 'â', '€', '¹', 'Â', '\\xa0']),\n",
       "       list(['Â', '\\xa0', 'Ã', '–', 'Â', '®']),\n",
       "       list(['Â', '\\xa0', 'Ã', '–', 'Â', '®', 'Â', '\\xa0', 'Â', '\\xa0', 'Â', '\\xa0', 'Â', '\\xa0', 'Â', '\\xa0']),\n",
       "       list(['Â', '®']), list(['Â', '°']), list(['Â', '°', 'Â', '°']),\n",
       "       list(['Â', '±']), list(['Â', '²']), list(['Â', '·', 'Â', '·']),\n",
       "       list(['Ã', '¢', 'â', '‚', '¬', 'Â']),\n",
       "       list(['Ã', '¢', 'â', '‚', '¬', 'â', '„', '¢', 'Ã', '¢', 'â', '‚', '¬', 'â', '„', '¢']),\n",
       "       list(['Ã', '¸']), list(['Ã', '¸', 'Ã', '¸']),\n",
       "       list(['Ã', 'Ÿ', 'Â', '\\xa0']), list(['Ã', '˜']),\n",
       "       list(['Ã', '–', 'Â', '®']),\n",
       "       list(['Ã', '–', 'Â', '®', 'Â', '\\xa0']), list(['Ã', '—']),\n",
       "       list(['Ã', '—', 'Ã', '—', 'Â', '\\xa0', 'Â', '\\xa0', 'Â', '\\xa0', 'Â', '\\xa0', 'Â', '\\xa0', 'Â', '\\xa0', 'Â', '\\xa0']),\n",
       "       list(['Ã', '‚', 'Â', '\\xa0']),\n",
       "       list(['Ã', '‚', 'Â', '\\xa0', 'Ã', '‚', 'Â', '\\xa0']),\n",
       "       list(['Ã', '‚', 'Â', '\\xa0', 'Ã', '‚', 'Â', '\\xa0', 'Ã', '‚', 'Â', '\\xa0']),\n",
       "       list(['Ã', '‚', 'Â', '\\xa0', 'Ã', '‚', 'Â', '\\xa0', 'Ã', '‚', 'Â', '\\xa0', 'Ã', '‚', 'Â', '\\xa0', 'Ã', '‚', 'Â', '\\xa0']),\n",
       "       list(['Ã', '‚', 'Â', '®']), list(['Ö', '®']),\n",
       "       list(['Ö', '®', '²']), list(['×']), list(['×', '×']), list(['Ø']),\n",
       "       list(['Ø', 'Ø']), list(['â']), list(['â', '‚', '¬']),\n",
       "       list(['â', '„', '¢']), list(['â', '„', '¢', 'â', '„', '¢']),\n",
       "       list(['â', '€']), list(['â', '€', 'œ', 'â', '€', 'œ']),\n",
       "       list(['â', '€', 'Ž']), list(['â', '€', '“']),\n",
       "       list(['â', '€', '“', 'Â', '\\xa0']),\n",
       "       list(['â', '€', '“', 'â', '€', '“']),\n",
       "       list(['â', '€', '“', 'â', '€', '“', 'Â', '²', 'â', '€', '“']),\n",
       "       list(['â', '€', '™', 'â', '€', '™']), list(['ä']), list(['ç']),\n",
       "       list(['ç', '°', '¡']), list(['è']), list(['é']), list(['ë']),\n",
       "       list(['ü']), list(['ƒ', '¸', 'ƒ', '¸']),\n",
       "       list(['ƒ', '¸', '‚', '\\xa0']),\n",
       "       list(['ƒ', '¸', '‚', '\\xa0', '‚', '\\xa0', '‚', '\\xa0']),\n",
       "       list(['ˆ', '…']), list(['˜']), list(['˜', '˜', '˜']),\n",
       "       list(['\\u2002']), list(['‐', '‐', '‐', '‐', '‐']), list(['‑']),\n",
       "       list(['–']), list(['–', '®']), list(['–', '–']),\n",
       "       list(['–', '–', '–']), list(['–', '–', '–', '–']), list(['—']),\n",
       "       list(['‘']), list(['’']), list(['’', '’']),\n",
       "       list(['’', '’', '’', '’']), list(['‚', '\\xa0']),\n",
       "       list(['‚', '\\xa0', '‚', '\\xa0']),\n",
       "       list(['‚', '\\xa0', '‚', '\\xa0', '‚', '\\xa0']), list(['“']),\n",
       "       list(['“', '“']), list(['“', '“', '²', '“']), list(['“', '”']),\n",
       "       list(['”']), list(['”', '”', '”']), list(['„', '¢', '„', '¢']),\n",
       "       list(['•']), list(['…']), list(['″', '″', '″', '″', '″']),\n",
       "       list(['₹']), list(['™', '™']), list(['◦']), list(['聽']),\n",
       "       list(['脳']), list(['，'])], dtype=object)"
      ]
     },
     "execution_count": 66,
     "metadata": {},
     "output_type": "execute_result"
    }
   ],
   "execution_count": 66
  },
  {
   "metadata": {
    "ExecuteTime": {
     "end_time": "2024-10-16T17:25:31.463241Z",
     "start_time": "2024-10-16T17:25:31.317159Z"
    }
   },
   "cell_type": "code",
   "source": "np.unique(df['CLEANED_ITEM_NAME'].apply(find_non_ascii))",
   "id": "1dfbda8c83d2525f",
   "outputs": [
    {
     "data": {
      "text/plain": [
       "array([list([]), list(['“']), list(['“', '“']), list(['“', '“', '“']),\n",
       "       list(['“', '”']), list(['”']), list(['”', '”', '”'])], dtype=object)"
      ]
     },
     "execution_count": 67,
     "metadata": {},
     "output_type": "execute_result"
    }
   ],
   "execution_count": 67
  },
  {
   "metadata": {},
   "cell_type": "code",
   "outputs": [],
   "execution_count": null,
   "source": "",
   "id": "518e938d574fa8eb"
  },
  {
   "metadata": {},
   "cell_type": "code",
   "outputs": [],
   "execution_count": null,
   "source": "",
   "id": "f4c19357642ef66"
  },
  {
   "metadata": {
    "ExecuteTime": {
     "end_time": "2024-10-16T16:29:16.380215Z",
     "start_time": "2024-10-16T16:29:16.301106Z"
    }
   },
   "cell_type": "code",
   "source": [
    "electrical_parts = pd.read_csv(\n",
    "    os.path.join(os.getenv('ELECTRICAL_PARTS_FOLDER_PATH'), 'Electrical Parts Report Modified.csv'),\n",
    ")\n",
    "# encoding='ISO-8859-1'\n",
    "\n",
    "electrical_parts.columns = electrical_parts.columns.str.replace(' ', '_').str.upper()"
   ],
   "id": "344d3ec2c43e567b",
   "outputs": [],
   "execution_count": 48
  },
  {
   "metadata": {
    "ExecuteTime": {
     "end_time": "2024-10-16T16:29:17.722534Z",
     "start_time": "2024-10-16T16:29:17.716489Z"
    }
   },
   "cell_type": "code",
   "source": "electrical_parts['PART_NAME']",
   "id": "1f019c63218a47a4",
   "outputs": [
    {
     "data": {
      "text/plain": [
       "0              CABLE GLAND- DOUBLE COMPRESSION CABLE, M90\n",
       "1                        E-STOP- LED, SELF MONTORING, 2CH\n",
       "2                              INTERFACE MODULE-PLC,RS485\n",
       "3       BRAKE CONNECTOR-FOR HF-SE/SN/SP/JP,HG-SN/SR,HK...\n",
       "4                                             CONTACT-1NO\n",
       "                              ...                        \n",
       "9354                            ÖLFLEX® CLASSIC 100 5G1,5\n",
       "9355                          ÖLFLEX® CLASSIC 100 H 5G2,5\n",
       "9356                ÖLFLEX® FD ROBUST 756 C 4 G 2,5+(2x1)\n",
       "9357                  ÖLFLEX® SERVO 700 4G1,5+(2x0,75)FDF\n",
       "9358                  ÖLFLEX® SERVO 700 4G2,5+(2x0,75)FDF\n",
       "Name: PART_NAME, Length: 9359, dtype: object"
      ]
     },
     "execution_count": 49,
     "metadata": {},
     "output_type": "execute_result"
    }
   ],
   "execution_count": 49
  },
  {
   "metadata": {
    "ExecuteTime": {
     "end_time": "2024-10-16T16:29:19.759813Z",
     "start_time": "2024-10-16T16:29:19.729440Z"
    }
   },
   "cell_type": "code",
   "source": [
    "electrical_parts['PART_NAME_WITH_NON_ASCII'] = electrical_parts['PART_NAME'].apply(find_non_ascii)\n",
    "\n",
    "part_name_non_ascii_freq = Counter()\n",
    "for chars in electrical_parts['PART_NAME_WITH_NON_ASCII']:\n",
    "    part_name_non_ascii_freq.update(chars)\n",
    "\n",
    "part_name_non_ascii_freq"
   ],
   "id": "fd628212813545ee",
   "outputs": [
    {
     "data": {
      "text/plain": [
       "Counter({'\\xa0': 58,\n",
       "         '²': 26,\n",
       "         '°': 22,\n",
       "         'Ø': 15,\n",
       "         'Ö': 15,\n",
       "         '–': 13,\n",
       "         '®': 13,\n",
       "         'µ': 1})"
      ]
     },
     "execution_count": 50,
     "metadata": {},
     "output_type": "execute_result"
    }
   ],
   "execution_count": 50
  },
  {
   "metadata": {
    "ExecuteTime": {
     "end_time": "2024-10-16T17:33:10.322566Z",
     "start_time": "2024-10-16T17:33:10.306158Z"
    }
   },
   "cell_type": "code",
   "source": "electrical_parts[electrical_parts['PART_NAME'].apply(lambda x: contains_specific_signs(x, ['″', '“', '”']))]['PART_NAME']",
   "id": "142ee897361dc367",
   "outputs": [
    {
     "data": {
      "text/plain": [
       "Series([], Name: PART_NAME, dtype: object)"
      ]
     },
     "execution_count": 75,
     "metadata": {},
     "output_type": "execute_result"
    }
   ],
   "execution_count": 75
  },
  {
   "metadata": {
    "ExecuteTime": {
     "end_time": "2024-10-16T17:30:55.024837Z",
     "start_time": "2024-10-16T17:30:54.968595Z"
    }
   },
   "cell_type": "code",
   "outputs": [
    {
     "data": {
      "text/plain": [
       "5205     Fees for conducting Open MDP on “Financial Acu...\n",
       "5978                                 Micron Cartridge 20”L\n",
       "8612     52929 Ring Terminals & Spade Terminals, Spring...\n",
       "13837    52929 Ring Terminals & Spade Terminals, Spring...\n",
       "14238    HP 440 G9 AIO : Intel core i7 Processor /12700...\n",
       "                               ...                        \n",
       "47393               END COVER â€“ TERMINALS 4 SQMM/10 SQMM\n",
       "47394                              END CLAMP â€“ TERMINALS\n",
       "47396                              END CLAMP â€“ TERMINALS\n",
       "47406                              END CLAMP â€“ TERMINALS\n",
       "49854             DUCT FLEXIBLE PIPE 4”  FOR SHOT BLASTING\n",
       "Name: ITEM_NAME, Length: 67, dtype: object"
      ]
     },
     "execution_count": 74,
     "metadata": {},
     "output_type": "execute_result"
    }
   ],
   "execution_count": 74,
   "source": "",
   "id": "2e0980d1b21b6904"
  },
  {
   "metadata": {
    "ExecuteTime": {
     "end_time": "2024-10-16T16:30:23.754116Z",
     "start_time": "2024-10-16T16:30:23.705781Z"
    }
   },
   "cell_type": "code",
   "source": [
    "electrical_parts['CLEANED_PART_NAME'] = electrical_parts['PART_NAME'].apply(replace_non_ascii_with_text)\n",
    "electrical_parts[['CLEANED_PART_NAME', 'PART_NAME', 'PART_NAME_WITH_NON_ASCII']]"
   ],
   "id": "4073117940524c44",
   "outputs": [
    {
     "data": {
      "text/plain": [
       "                                      CLEANED_PART_NAME  \\\n",
       "0            CABLE GLAND- DOUBLE COMPRESSION CABLE, M90   \n",
       "1                      E-STOP- LED, SELF MONTORING, 2CH   \n",
       "2                            INTERFACE MODULE-PLC,RS485   \n",
       "3     BRAKE CONNECTOR-FOR HF-SE/SN/SP/JP,HG-SN/SR,HK...   \n",
       "4                                           CONTACT-1NO   \n",
       "...                                                 ...   \n",
       "9354      <O_umlaut>LFLEX<registered> CLASSIC 100 5G1,5   \n",
       "9355    <O_umlaut>LFLEX<registered> CLASSIC 100 H 5G2,5   \n",
       "9356  <O_umlaut>LFLEX<registered> FD ROBUST 756 C 4 ...   \n",
       "9357  <O_umlaut>LFLEX<registered> SERVO 700 4G1,5+(2...   \n",
       "9358  <O_umlaut>LFLEX<registered> SERVO 700 4G2,5+(2...   \n",
       "\n",
       "                                              PART_NAME  \\\n",
       "0            CABLE GLAND- DOUBLE COMPRESSION CABLE, M90   \n",
       "1                      E-STOP- LED, SELF MONTORING, 2CH   \n",
       "2                            INTERFACE MODULE-PLC,RS485   \n",
       "3     BRAKE CONNECTOR-FOR HF-SE/SN/SP/JP,HG-SN/SR,HK...   \n",
       "4                                           CONTACT-1NO   \n",
       "...                                                 ...   \n",
       "9354                          ÖLFLEX® CLASSIC 100 5G1,5   \n",
       "9355                        ÖLFLEX® CLASSIC 100 H 5G2,5   \n",
       "9356              ÖLFLEX® FD ROBUST 756 C 4 G 2,5+(2x1)   \n",
       "9357                ÖLFLEX® SERVO 700 4G1,5+(2x0,75)FDF   \n",
       "9358                ÖLFLEX® SERVO 700 4G2,5+(2x0,75)FDF   \n",
       "\n",
       "     PART_NAME_WITH_NON_ASCII  \n",
       "0                          []  \n",
       "1                          []  \n",
       "2                          []  \n",
       "3                          []  \n",
       "4                          []  \n",
       "...                       ...  \n",
       "9354                   [Ö, ®]  \n",
       "9355                   [Ö, ®]  \n",
       "9356                   [Ö, ®]  \n",
       "9357                   [Ö, ®]  \n",
       "9358                   [Ö, ®]  \n",
       "\n",
       "[9359 rows x 3 columns]"
      ],
      "text/html": [
       "<div>\n",
       "<style scoped>\n",
       "    .dataframe tbody tr th:only-of-type {\n",
       "        vertical-align: middle;\n",
       "    }\n",
       "\n",
       "    .dataframe tbody tr th {\n",
       "        vertical-align: top;\n",
       "    }\n",
       "\n",
       "    .dataframe thead th {\n",
       "        text-align: right;\n",
       "    }\n",
       "</style>\n",
       "<table border=\"1\" class=\"dataframe\">\n",
       "  <thead>\n",
       "    <tr style=\"text-align: right;\">\n",
       "      <th></th>\n",
       "      <th>CLEANED_PART_NAME</th>\n",
       "      <th>PART_NAME</th>\n",
       "      <th>PART_NAME_WITH_NON_ASCII</th>\n",
       "    </tr>\n",
       "  </thead>\n",
       "  <tbody>\n",
       "    <tr>\n",
       "      <th>0</th>\n",
       "      <td>CABLE GLAND- DOUBLE COMPRESSION CABLE, M90</td>\n",
       "      <td>CABLE GLAND- DOUBLE COMPRESSION CABLE, M90</td>\n",
       "      <td>[]</td>\n",
       "    </tr>\n",
       "    <tr>\n",
       "      <th>1</th>\n",
       "      <td>E-STOP- LED, SELF MONTORING, 2CH</td>\n",
       "      <td>E-STOP- LED, SELF MONTORING, 2CH</td>\n",
       "      <td>[]</td>\n",
       "    </tr>\n",
       "    <tr>\n",
       "      <th>2</th>\n",
       "      <td>INTERFACE MODULE-PLC,RS485</td>\n",
       "      <td>INTERFACE MODULE-PLC,RS485</td>\n",
       "      <td>[]</td>\n",
       "    </tr>\n",
       "    <tr>\n",
       "      <th>3</th>\n",
       "      <td>BRAKE CONNECTOR-FOR HF-SE/SN/SP/JP,HG-SN/SR,HK...</td>\n",
       "      <td>BRAKE CONNECTOR-FOR HF-SE/SN/SP/JP,HG-SN/SR,HK...</td>\n",
       "      <td>[]</td>\n",
       "    </tr>\n",
       "    <tr>\n",
       "      <th>4</th>\n",
       "      <td>CONTACT-1NO</td>\n",
       "      <td>CONTACT-1NO</td>\n",
       "      <td>[]</td>\n",
       "    </tr>\n",
       "    <tr>\n",
       "      <th>...</th>\n",
       "      <td>...</td>\n",
       "      <td>...</td>\n",
       "      <td>...</td>\n",
       "    </tr>\n",
       "    <tr>\n",
       "      <th>9354</th>\n",
       "      <td>&lt;O_umlaut&gt;LFLEX&lt;registered&gt; CLASSIC 100 5G1,5</td>\n",
       "      <td>ÖLFLEX® CLASSIC 100 5G1,5</td>\n",
       "      <td>[Ö, ®]</td>\n",
       "    </tr>\n",
       "    <tr>\n",
       "      <th>9355</th>\n",
       "      <td>&lt;O_umlaut&gt;LFLEX&lt;registered&gt; CLASSIC 100 H 5G2,5</td>\n",
       "      <td>ÖLFLEX® CLASSIC 100 H 5G2,5</td>\n",
       "      <td>[Ö, ®]</td>\n",
       "    </tr>\n",
       "    <tr>\n",
       "      <th>9356</th>\n",
       "      <td>&lt;O_umlaut&gt;LFLEX&lt;registered&gt; FD ROBUST 756 C 4 ...</td>\n",
       "      <td>ÖLFLEX® FD ROBUST 756 C 4 G 2,5+(2x1)</td>\n",
       "      <td>[Ö, ®]</td>\n",
       "    </tr>\n",
       "    <tr>\n",
       "      <th>9357</th>\n",
       "      <td>&lt;O_umlaut&gt;LFLEX&lt;registered&gt; SERVO 700 4G1,5+(2...</td>\n",
       "      <td>ÖLFLEX® SERVO 700 4G1,5+(2x0,75)FDF</td>\n",
       "      <td>[Ö, ®]</td>\n",
       "    </tr>\n",
       "    <tr>\n",
       "      <th>9358</th>\n",
       "      <td>&lt;O_umlaut&gt;LFLEX&lt;registered&gt; SERVO 700 4G2,5+(2...</td>\n",
       "      <td>ÖLFLEX® SERVO 700 4G2,5+(2x0,75)FDF</td>\n",
       "      <td>[Ö, ®]</td>\n",
       "    </tr>\n",
       "  </tbody>\n",
       "</table>\n",
       "<p>9359 rows × 3 columns</p>\n",
       "</div>"
      ]
     },
     "execution_count": 54,
     "metadata": {},
     "output_type": "execute_result"
    }
   ],
   "execution_count": 54
  },
  {
   "metadata": {
    "ExecuteTime": {
     "end_time": "2024-10-16T16:29:36.674502Z",
     "start_time": "2024-10-16T16:29:36.649232Z"
    }
   },
   "cell_type": "code",
   "source": "np.unique(electrical_parts['PART_NAME'].apply(find_non_ascii))",
   "id": "68149970f998922d",
   "outputs": [
    {
     "data": {
      "text/plain": [
       "array([list([]), list(['\\xa0']), list(['®']), list(['°']), list(['²']),\n",
       "       list(['²', '²']), list(['µ']), list(['Ö']), list(['Ö', '®']),\n",
       "       list(['Ø']), list(['–'])], dtype=object)"
      ]
     },
     "execution_count": 51,
     "metadata": {},
     "output_type": "execute_result"
    }
   ],
   "execution_count": 51
  },
  {
   "metadata": {
    "ExecuteTime": {
     "end_time": "2024-10-16T16:31:00.189739Z",
     "start_time": "2024-10-16T16:31:00.165521Z"
    }
   },
   "cell_type": "code",
   "source": "np.unique(electrical_parts['CLEANED_PART_NAME'].apply(find_non_ascii))",
   "id": "8089279b6e005f2c",
   "outputs": [
    {
     "data": {
      "text/plain": [
       "array([list([])], dtype=object)"
      ]
     },
     "execution_count": 56,
     "metadata": {},
     "output_type": "execute_result"
    }
   ],
   "execution_count": 56
  },
  {
   "metadata": {},
   "cell_type": "code",
   "outputs": [],
   "execution_count": null,
   "source": "",
   "id": "9baae2cec24db094"
  },
  {
   "metadata": {},
   "cell_type": "code",
   "outputs": [],
   "execution_count": null,
   "source": "",
   "id": "4a95afd6c0db6b0b"
  },
  {
   "metadata": {
    "ExecuteTime": {
     "end_time": "2024-10-16T17:28:19.544024Z",
     "start_time": "2024-10-16T17:28:18.858047Z"
    }
   },
   "cell_type": "code",
   "source": [
    "merged_data_on_name = pd.merge(df, electrical_parts, how=\"inner\", left_on=\"CLEANED_ITEM_NAME\", right_on=\"CLEANED_PART_NAME\")\n",
    "merged_data_on_name.shape"
   ],
   "id": "d56be21ecd36fe97",
   "outputs": [
    {
     "data": {
      "text/plain": [
       "(165997, 84)"
      ]
     },
     "execution_count": 70,
     "metadata": {},
     "output_type": "execute_result"
    }
   ],
   "execution_count": 70
  },
  {
   "metadata": {
    "ExecuteTime": {
     "end_time": "2024-10-16T17:28:20.964390Z",
     "start_time": "2024-10-16T17:28:20.924899Z"
    }
   },
   "cell_type": "code",
   "source": [
    "filtered_data_on_name = merged_data_on_name.drop_duplicates(subset=['PO_NUM', 'PART_NAME'], keep='first')\n",
    "filtered_data_on_name.shape"
   ],
   "id": "9058cab9854ef52f",
   "outputs": [
    {
     "data": {
      "text/plain": [
       "(5370, 84)"
      ]
     },
     "execution_count": 71,
     "metadata": {},
     "output_type": "execute_result"
    }
   ],
   "execution_count": 71
  },
  {
   "metadata": {},
   "cell_type": "code",
   "outputs": [],
   "execution_count": null,
   "source": "",
   "id": "ed77a809537c5328"
  },
  {
   "metadata": {},
   "cell_type": "code",
   "outputs": [],
   "execution_count": null,
   "source": "",
   "id": "a67e954446832a02"
  }
 ],
 "metadata": {
  "kernelspec": {
   "display_name": "Python 3",
   "language": "python",
   "name": "python3"
  },
  "language_info": {
   "codemirror_mode": {
    "name": "ipython",
    "version": 2
   },
   "file_extension": ".py",
   "mimetype": "text/x-python",
   "name": "python",
   "nbconvert_exporter": "python",
   "pygments_lexer": "ipython2",
   "version": "2.7.6"
  }
 },
 "nbformat": 4,
 "nbformat_minor": 5
}
