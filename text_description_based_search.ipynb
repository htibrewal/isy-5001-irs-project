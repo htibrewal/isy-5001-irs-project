{
 "cells": [
  {
   "cell_type": "code",
   "execution_count": 7,
   "metadata": {},
   "outputs": [
    {
     "data": {
      "text/html": [
       "<div>\n",
       "<style scoped>\n",
       "    .dataframe tbody tr th:only-of-type {\n",
       "        vertical-align: middle;\n",
       "    }\n",
       "\n",
       "    .dataframe tbody tr th {\n",
       "        vertical-align: top;\n",
       "    }\n",
       "\n",
       "    .dataframe thead th {\n",
       "        text-align: right;\n",
       "    }\n",
       "</style>\n",
       "<table border=\"1\" class=\"dataframe\">\n",
       "  <thead>\n",
       "    <tr style=\"text-align: right;\">\n",
       "      <th></th>\n",
       "      <th>PO_NUM</th>\n",
       "      <th>ITEM_NAME</th>\n",
       "      <th>SUPPLIER_NAME</th>\n",
       "      <th>SUPPLIER_CODE</th>\n",
       "      <th>ORDERED_QUANTITY</th>\n",
       "      <th>PRICE</th>\n",
       "      <th>PO_VALUE</th>\n",
       "      <th>DOWNPAYMENT_DATE</th>\n",
       "      <th>DELIVERY_DATE</th>\n",
       "      <th>PART_DESCRIPTION</th>\n",
       "      <th>FAULTED_PARTS</th>\n",
       "    </tr>\n",
       "  </thead>\n",
       "  <tbody>\n",
       "    <tr>\n",
       "      <th>0</th>\n",
       "      <td>100000</td>\n",
       "      <td>robotics arm</td>\n",
       "      <td>Pepperl+Fuchs Factory Automation Pvt. Ltd</td>\n",
       "      <td>VD423416</td>\n",
       "      <td>207</td>\n",
       "      <td>4087.92</td>\n",
       "      <td>846199.44</td>\n",
       "      <td>2023-11-03</td>\n",
       "      <td>2023-11-21</td>\n",
       "      <td>standard robotics arm</td>\n",
       "      <td>0</td>\n",
       "    </tr>\n",
       "    <tr>\n",
       "      <th>1</th>\n",
       "      <td>100001</td>\n",
       "      <td>hydraulic actuator</td>\n",
       "      <td>PHOENIX CONTACT INDIA PVT LTD</td>\n",
       "      <td>VD454846</td>\n",
       "      <td>36</td>\n",
       "      <td>151.11</td>\n",
       "      <td>5439.96</td>\n",
       "      <td>2023-05-18</td>\n",
       "      <td>2023-07-11</td>\n",
       "      <td>linear hydraulic actuator</td>\n",
       "      <td>0</td>\n",
       "    </tr>\n",
       "    <tr>\n",
       "      <th>2</th>\n",
       "      <td>100002</td>\n",
       "      <td>frequency inverter</td>\n",
       "      <td>ELECTRICAL CONTROL SYSTEMS PVT. LTD.</td>\n",
       "      <td>VD401852</td>\n",
       "      <td>95</td>\n",
       "      <td>4495.88</td>\n",
       "      <td>427108.60</td>\n",
       "      <td>2023-10-20</td>\n",
       "      <td>2024-01-28</td>\n",
       "      <td>high-performance frequency inverter</td>\n",
       "      <td>0</td>\n",
       "    </tr>\n",
       "    <tr>\n",
       "      <th>3</th>\n",
       "      <td>100003</td>\n",
       "      <td>servo amplifier</td>\n",
       "      <td>EVOKE GLOBAL</td>\n",
       "      <td>VD773282</td>\n",
       "      <td>20</td>\n",
       "      <td>1857.38</td>\n",
       "      <td>37147.60</td>\n",
       "      <td>2023-07-13</td>\n",
       "      <td>2023-08-04</td>\n",
       "      <td>compact servo amplifier</td>\n",
       "      <td>0</td>\n",
       "    </tr>\n",
       "    <tr>\n",
       "      <th>4</th>\n",
       "      <td>100004</td>\n",
       "      <td>DC motor</td>\n",
       "      <td>KUDAMM CORPORATION</td>\n",
       "      <td>VD157319</td>\n",
       "      <td>54</td>\n",
       "      <td>2336.32</td>\n",
       "      <td>126161.28</td>\n",
       "      <td>2023-01-03</td>\n",
       "      <td>2023-01-14</td>\n",
       "      <td>5V DC motor</td>\n",
       "      <td>5</td>\n",
       "    </tr>\n",
       "  </tbody>\n",
       "</table>\n",
       "</div>"
      ],
      "text/plain": [
       "   PO_NUM           ITEM_NAME                              SUPPLIER_NAME  \\\n",
       "0  100000        robotics arm  Pepperl+Fuchs Factory Automation Pvt. Ltd   \n",
       "1  100001  hydraulic actuator              PHOENIX CONTACT INDIA PVT LTD   \n",
       "2  100002  frequency inverter       ELECTRICAL CONTROL SYSTEMS PVT. LTD.   \n",
       "3  100003     servo amplifier                               EVOKE GLOBAL   \n",
       "4  100004            DC motor                         KUDAMM CORPORATION   \n",
       "\n",
       "  SUPPLIER_CODE  ORDERED_QUANTITY    PRICE   PO_VALUE DOWNPAYMENT_DATE  \\\n",
       "0      VD423416               207  4087.92  846199.44       2023-11-03   \n",
       "1      VD454846                36   151.11    5439.96       2023-05-18   \n",
       "2      VD401852                95  4495.88  427108.60       2023-10-20   \n",
       "3      VD773282                20  1857.38   37147.60       2023-07-13   \n",
       "4      VD157319                54  2336.32  126161.28       2023-01-03   \n",
       "\n",
       "  DELIVERY_DATE                     PART_DESCRIPTION  FAULTED_PARTS  \n",
       "0    2023-11-21                standard robotics arm              0  \n",
       "1    2023-07-11            linear hydraulic actuator              0  \n",
       "2    2024-01-28  high-performance frequency inverter              0  \n",
       "3    2023-08-04              compact servo amplifier              0  \n",
       "4    2023-01-14                          5V DC motor              5  "
      ]
     },
     "execution_count": 7,
     "metadata": {},
     "output_type": "execute_result"
    }
   ],
   "source": [
    "import pandas as pd\n",
    "import numpy as np\n",
    "import re\n",
    "from sklearn.feature_extraction.text import CountVectorizer\n",
    "from sklearn.metrics.pairwise import cosine_similarity\n",
    "from sentence_transformers import SentenceTransformer, util\n",
    "\n",
    "# Load the datasets (adjust paths as needed)\n",
    "purchase_data = pd.read_csv('./cleaned_datasets/final_adjusted_faulted_purchase_records.csv')\n",
    "supplier_data = pd.read_csv('./cleaned_datasets/corrected_supplier_certifications.csv')\n",
    "\n",
    "# Display first few rows\n",
    "purchase_data.head()\n"
   ]
  },
  {
   "cell_type": "code",
   "execution_count": 8,
   "metadata": {},
   "outputs": [
    {
     "data": {
      "application/vnd.jupyter.widget-view+json": {
       "model_id": "055b25c290734398a274d5f36771a7d4",
       "version_major": 2,
       "version_minor": 0
      },
      "text/plain": [
       "modules.json:   0%|          | 0.00/229 [00:00<?, ?B/s]"
      ]
     },
     "metadata": {},
     "output_type": "display_data"
    },
    {
     "data": {
      "application/vnd.jupyter.widget-view+json": {
       "model_id": "c4208d64ef194b8b9da46bd9bc7bd48f",
       "version_major": 2,
       "version_minor": 0
      },
      "text/plain": [
       "config_sentence_transformers.json:   0%|          | 0.00/122 [00:00<?, ?B/s]"
      ]
     },
     "metadata": {},
     "output_type": "display_data"
    },
    {
     "data": {
      "application/vnd.jupyter.widget-view+json": {
       "model_id": "2fecdc88095044aeb3ae079bd42c9406",
       "version_major": 2,
       "version_minor": 0
      },
      "text/plain": [
       "README.md:   0%|          | 0.00/3.73k [00:00<?, ?B/s]"
      ]
     },
     "metadata": {},
     "output_type": "display_data"
    },
    {
     "data": {
      "application/vnd.jupyter.widget-view+json": {
       "model_id": "f5351235c7204e6e9e1cd23551469093",
       "version_major": 2,
       "version_minor": 0
      },
      "text/plain": [
       "sentence_bert_config.json:   0%|          | 0.00/53.0 [00:00<?, ?B/s]"
      ]
     },
     "metadata": {},
     "output_type": "display_data"
    },
    {
     "data": {
      "application/vnd.jupyter.widget-view+json": {
       "model_id": "a2e5354c42174cacaee4a9a478693206",
       "version_major": 2,
       "version_minor": 0
      },
      "text/plain": [
       "config.json:   0%|          | 0.00/629 [00:00<?, ?B/s]"
      ]
     },
     "metadata": {},
     "output_type": "display_data"
    },
    {
     "data": {
      "application/vnd.jupyter.widget-view+json": {
       "model_id": "f3dec67135eb420e9eaeea8e190b20d2",
       "version_major": 2,
       "version_minor": 0
      },
      "text/plain": [
       "model.safetensors:   0%|          | 0.00/90.9M [00:00<?, ?B/s]"
      ]
     },
     "metadata": {},
     "output_type": "display_data"
    },
    {
     "data": {
      "application/vnd.jupyter.widget-view+json": {
       "model_id": "333b7eb464dd48c79303e8eff3b4ea7f",
       "version_major": 2,
       "version_minor": 0
      },
      "text/plain": [
       "tokenizer_config.json:   0%|          | 0.00/314 [00:00<?, ?B/s]"
      ]
     },
     "metadata": {},
     "output_type": "display_data"
    },
    {
     "data": {
      "application/vnd.jupyter.widget-view+json": {
       "model_id": "3e436d7176d94191b96a9ad0a22122d2",
       "version_major": 2,
       "version_minor": 0
      },
      "text/plain": [
       "vocab.txt:   0%|          | 0.00/232k [00:00<?, ?B/s]"
      ]
     },
     "metadata": {},
     "output_type": "display_data"
    },
    {
     "data": {
      "application/vnd.jupyter.widget-view+json": {
       "model_id": "5e24ee3fc5b1449fa589ae3281d47740",
       "version_major": 2,
       "version_minor": 0
      },
      "text/plain": [
       "tokenizer.json:   0%|          | 0.00/466k [00:00<?, ?B/s]"
      ]
     },
     "metadata": {},
     "output_type": "display_data"
    },
    {
     "data": {
      "application/vnd.jupyter.widget-view+json": {
       "model_id": "e0060c90415e499fb34f536b18dc7943",
       "version_major": 2,
       "version_minor": 0
      },
      "text/plain": [
       "special_tokens_map.json:   0%|          | 0.00/112 [00:00<?, ?B/s]"
      ]
     },
     "metadata": {},
     "output_type": "display_data"
    },
    {
     "data": {
      "application/vnd.jupyter.widget-view+json": {
       "model_id": "4d96cb4989fa40acb6d212e72fa81f88",
       "version_major": 2,
       "version_minor": 0
      },
      "text/plain": [
       "1_Pooling/config.json:   0%|          | 0.00/190 [00:00<?, ?B/s]"
      ]
     },
     "metadata": {},
     "output_type": "display_data"
    }
   ],
   "source": [
    "# Jaccard similarity function\n",
    "def jaccard_similarity(query, document):\n",
    "    query_set = set(query.lower().split())\n",
    "    document_set = set(document.lower().split())\n",
    "    intersection = query_set.intersection(document_set)\n",
    "    union = query_set.union(document_set)\n",
    "    return len(intersection) / len(union)\n",
    "\n",
    "# Cosine similarity using CountVectorizer\n",
    "def cosine_similarity_func(query, documents):\n",
    "    vectorizer = CountVectorizer().fit_transform([query] + documents)\n",
    "    vectors = vectorizer.toarray()\n",
    "    return cosine_similarity(vectors)[0, 1:]\n",
    "\n",
    "# Sentence-BERT similarity function\n",
    "model = SentenceTransformer('paraphrase-MiniLM-L6-v2')\n",
    "def embedding_similarity(query, documents):\n",
    "    query_embedding = model.encode(query, convert_to_tensor=True)\n",
    "    doc_embeddings = model.encode(documents, convert_to_tensor=True)\n",
    "    scores = util.pytorch_cos_sim(query_embedding, doc_embeddings).squeeze()\n",
    "    return scores.numpy()\n"
   ]
  },
  {
   "cell_type": "code",
   "execution_count": 9,
   "metadata": {},
   "outputs": [],
   "source": [
    "def search_items(query, technique='jaccard', top_n=5):\n",
    "    unique_items = purchase_data[['ITEM_NAME', 'PART_DESCRIPTION', 'PRICE', 'DOWNPAYMENT_DATE']].drop_duplicates()\n",
    "    descriptions = unique_items['PART_DESCRIPTION'].tolist()\n",
    "\n",
    "    if technique == 'jaccard':\n",
    "        similarities = [jaccard_similarity(query, desc) for desc in descriptions]\n",
    "    elif technique == 'cosine':\n",
    "        similarities = cosine_similarity_func(query, descriptions)\n",
    "    elif technique == 'embedding':\n",
    "        similarities = embedding_similarity(query, descriptions)\n",
    "\n",
    "    unique_items['SIMILARITY'] = similarities\n",
    "    ranked_items = unique_items.sort_values(by='SIMILARITY', ascending=False).head(top_n)\n",
    "\n",
    "    result = ranked_items.merge(\n",
    "        purchase_data[['ITEM_NAME', 'PRICE', 'DOWNPAYMENT_DATE']].groupby('ITEM_NAME').agg(\n",
    "            avg_price=('PRICE', 'mean'), last_price=('PRICE', 'last')\n",
    "        ).reset_index(), on='ITEM_NAME', how='left'\n",
    "    )\n",
    "    return result[['ITEM_NAME', 'PART_DESCRIPTION', 'SIMILARITY', 'avg_price', 'last_price']]\n"
   ]
  },
  {
   "cell_type": "code",
   "execution_count": 12,
   "metadata": {},
   "outputs": [
    {
     "name": "stdout",
     "output_type": "stream",
     "text": [
      "          ITEM_NAME           PART_DESCRIPTION  SIMILARITY    avg_price  \\\n",
      "0  proximity switch  standard proximity switch    0.816497  2483.950271   \n",
      "1  proximity switch  standard proximity switch    0.816497  2483.950271   \n",
      "2  proximity switch  standard proximity switch    0.816497  2483.950271   \n",
      "3  proximity switch  standard proximity switch    0.816497  2483.950271   \n",
      "4  proximity switch  standard proximity switch    0.816497  2483.950271   \n",
      "\n",
      "   last_price  \n",
      "0      397.07  \n",
      "1      397.07  \n",
      "2      397.07  \n",
      "3      397.07  \n",
      "4      397.07  \n"
     ]
    }
   ],
   "source": [
    "query = input(\"Describe the item you want\").strip().lower()\n",
    "technique = input(\"Select a similarity technique (jaccard, cosine, embedding): \").strip().lower()\n",
    "result = search_items(query, technique)\n",
    "print(result)\n"
   ]
  }
 ],
 "metadata": {
  "kernelspec": {
   "display_name": "Python 3",
   "language": "python",
   "name": "python3"
  },
  "language_info": {
   "codemirror_mode": {
    "name": "ipython",
    "version": 3
   },
   "file_extension": ".py",
   "mimetype": "text/x-python",
   "name": "python",
   "nbconvert_exporter": "python",
   "pygments_lexer": "ipython3",
   "version": "3.10.6"
  }
 },
 "nbformat": 4,
 "nbformat_minor": 2
}
