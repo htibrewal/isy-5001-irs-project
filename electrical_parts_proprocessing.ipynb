{
 "cells": [
  {
   "cell_type": "code",
   "id": "initial_id",
   "metadata": {
    "collapsed": true,
    "ExecuteTime": {
     "end_time": "2024-10-07T09:18:17.996552Z",
     "start_time": "2024-10-07T09:18:14.338741Z"
    }
   },
   "source": "import pandas as pd",
   "outputs": [],
   "execution_count": 1
  },
  {
   "metadata": {
    "ExecuteTime": {
     "end_time": "2024-10-07T09:24:34.303652Z",
     "start_time": "2024-10-07T09:24:34.213863Z"
    }
   },
   "cell_type": "code",
   "source": [
    "data_path = '/Users/harsh/Desktop/Intelligent Reasoning Systems/Project/Raw Data/Electrical Parts Report Modified.csv'\n",
    "\n",
    "data = pd.read_csv(data_path, encoding='ISO-8859-1')\n",
    "data.columns = data.columns.str.replace(' ', '_').str.upper()\n",
    "data = data.drop(labels=['PART_OWNER', 'PART_REVISION', 'MOUNTING_CLEARANCES_(MM)', 'OLD_PLM_ID', 'OLD_SAP_ID', 'RELEASED_STATUS', 'PART_CATEGORY'], axis=1)\n",
    "\n",
    "data.head()"
   ],
   "id": "5bfc779d2a50b49c",
   "outputs": [
    {
     "data": {
      "text/plain": [
       "   PART_ID                                          PART_NAME  \\\n",
       "0    41237         CABLE GLAND- DOUBLE COMPRESSION CABLE, M90   \n",
       "1    52897                   E-STOP- LED, SELF MONTORING, 2CH   \n",
       "2    54675                         INTERFACE MODULE-PLC,RS485   \n",
       "3    57680  BRAKE CONNECTOR-FOR HF-SE/SN/SP/JP,HG-SN/SR,HK...   \n",
       "4    64912                                        CONTACT-1NO   \n",
       "\n",
       "                                    PART_DESCRIPTION      REVISION_DATE  \\\n",
       "0  CABLE GLAND DOUBLE COMPRESSION, SS304, OD:72-8...  31-Aug-2023 16:47   \n",
       "1                              EMERGENCY PUSH BUTTON  01-Mar-2024 16:47   \n",
       "2  CPU - CENTRAL PROCESSING UNITS NX1P RS-422/485...  11-Apr-2024 12:38   \n",
       "3  BRAKE CONNECTOR FOR HF-SE/SN/SP/JP,HG-SN/SR,HK...  31-May-2024 12:11   \n",
       "4  WITHOUT HOLDER - NON-ILLUMINATED - SINGLE CONT...  21-Sep-2024 14:05   \n",
       "\n",
       "   PRODUCT_GROUP  PRODUCT_SUBGROUP  WIDTH_(MM)  HEIGHT_(MM)  DEPTH_(MM)  \\\n",
       "0            0.0               0.0         0.0          0.0         0.0   \n",
       "1           12.0               1.0         0.0          0.0         0.0   \n",
       "2           26.0               1.0         0.0          0.0         0.0   \n",
       "3          129.0               1.0        90.0         60.0       110.0   \n",
       "4            6.0             194.0        10.0         44.0        28.0   \n",
       "\n",
       "   WEIGHT_(KG) MANUFACTURER MANUFACTURER_PART_NUMBER    EPLAN_PART_NUMBER  \\\n",
       "0        0.000          CGS                  CGW 014          CGS.CGW 014   \n",
       "1        2.700     ROCKWELL              800F-1YMD81      A-B.800F-1YMD81   \n",
       "2        0.000        OMRON               NX1W-CIF11       OMR.NX1W-CIF11   \n",
       "3        0.050   MITSUBISHI           MR-BKCNS1-2M-L   MIT.MR-BKCNS1-2M-L   \n",
       "4        0.013          ABB          1SFA611610R1001  ABB.1SFA611610R1001   \n",
       "\n",
       "       RELEASED_DATE  \n",
       "0  18-Sep-2023 10:46  \n",
       "1  08-Mar-2024 11:36  \n",
       "2  12-Apr-2024 10:46  \n",
       "3  31-May-2024 16:43  \n",
       "4  23-Sep-2024 13:59  "
      ],
      "text/html": [
       "<div>\n",
       "<style scoped>\n",
       "    .dataframe tbody tr th:only-of-type {\n",
       "        vertical-align: middle;\n",
       "    }\n",
       "\n",
       "    .dataframe tbody tr th {\n",
       "        vertical-align: top;\n",
       "    }\n",
       "\n",
       "    .dataframe thead th {\n",
       "        text-align: right;\n",
       "    }\n",
       "</style>\n",
       "<table border=\"1\" class=\"dataframe\">\n",
       "  <thead>\n",
       "    <tr style=\"text-align: right;\">\n",
       "      <th></th>\n",
       "      <th>PART_ID</th>\n",
       "      <th>PART_NAME</th>\n",
       "      <th>PART_DESCRIPTION</th>\n",
       "      <th>REVISION_DATE</th>\n",
       "      <th>PRODUCT_GROUP</th>\n",
       "      <th>PRODUCT_SUBGROUP</th>\n",
       "      <th>WIDTH_(MM)</th>\n",
       "      <th>HEIGHT_(MM)</th>\n",
       "      <th>DEPTH_(MM)</th>\n",
       "      <th>WEIGHT_(KG)</th>\n",
       "      <th>MANUFACTURER</th>\n",
       "      <th>MANUFACTURER_PART_NUMBER</th>\n",
       "      <th>EPLAN_PART_NUMBER</th>\n",
       "      <th>RELEASED_DATE</th>\n",
       "    </tr>\n",
       "  </thead>\n",
       "  <tbody>\n",
       "    <tr>\n",
       "      <th>0</th>\n",
       "      <td>41237</td>\n",
       "      <td>CABLE GLAND- DOUBLE COMPRESSION CABLE, M90</td>\n",
       "      <td>CABLE GLAND DOUBLE COMPRESSION, SS304, OD:72-8...</td>\n",
       "      <td>31-Aug-2023 16:47</td>\n",
       "      <td>0.0</td>\n",
       "      <td>0.0</td>\n",
       "      <td>0.0</td>\n",
       "      <td>0.0</td>\n",
       "      <td>0.0</td>\n",
       "      <td>0.000</td>\n",
       "      <td>CGS</td>\n",
       "      <td>CGW 014</td>\n",
       "      <td>CGS.CGW 014</td>\n",
       "      <td>18-Sep-2023 10:46</td>\n",
       "    </tr>\n",
       "    <tr>\n",
       "      <th>1</th>\n",
       "      <td>52897</td>\n",
       "      <td>E-STOP- LED, SELF MONTORING, 2CH</td>\n",
       "      <td>EMERGENCY PUSH BUTTON</td>\n",
       "      <td>01-Mar-2024 16:47</td>\n",
       "      <td>12.0</td>\n",
       "      <td>1.0</td>\n",
       "      <td>0.0</td>\n",
       "      <td>0.0</td>\n",
       "      <td>0.0</td>\n",
       "      <td>2.700</td>\n",
       "      <td>ROCKWELL</td>\n",
       "      <td>800F-1YMD81</td>\n",
       "      <td>A-B.800F-1YMD81</td>\n",
       "      <td>08-Mar-2024 11:36</td>\n",
       "    </tr>\n",
       "    <tr>\n",
       "      <th>2</th>\n",
       "      <td>54675</td>\n",
       "      <td>INTERFACE MODULE-PLC,RS485</td>\n",
       "      <td>CPU - CENTRAL PROCESSING UNITS NX1P RS-422/485...</td>\n",
       "      <td>11-Apr-2024 12:38</td>\n",
       "      <td>26.0</td>\n",
       "      <td>1.0</td>\n",
       "      <td>0.0</td>\n",
       "      <td>0.0</td>\n",
       "      <td>0.0</td>\n",
       "      <td>0.000</td>\n",
       "      <td>OMRON</td>\n",
       "      <td>NX1W-CIF11</td>\n",
       "      <td>OMR.NX1W-CIF11</td>\n",
       "      <td>12-Apr-2024 10:46</td>\n",
       "    </tr>\n",
       "    <tr>\n",
       "      <th>3</th>\n",
       "      <td>57680</td>\n",
       "      <td>BRAKE CONNECTOR-FOR HF-SE/SN/SP/JP,HG-SN/SR,HK...</td>\n",
       "      <td>BRAKE CONNECTOR FOR HF-SE/SN/SP/JP,HG-SN/SR,HK...</td>\n",
       "      <td>31-May-2024 12:11</td>\n",
       "      <td>129.0</td>\n",
       "      <td>1.0</td>\n",
       "      <td>90.0</td>\n",
       "      <td>60.0</td>\n",
       "      <td>110.0</td>\n",
       "      <td>0.050</td>\n",
       "      <td>MITSUBISHI</td>\n",
       "      <td>MR-BKCNS1-2M-L</td>\n",
       "      <td>MIT.MR-BKCNS1-2M-L</td>\n",
       "      <td>31-May-2024 16:43</td>\n",
       "    </tr>\n",
       "    <tr>\n",
       "      <th>4</th>\n",
       "      <td>64912</td>\n",
       "      <td>CONTACT-1NO</td>\n",
       "      <td>WITHOUT HOLDER - NON-ILLUMINATED - SINGLE CONT...</td>\n",
       "      <td>21-Sep-2024 14:05</td>\n",
       "      <td>6.0</td>\n",
       "      <td>194.0</td>\n",
       "      <td>10.0</td>\n",
       "      <td>44.0</td>\n",
       "      <td>28.0</td>\n",
       "      <td>0.013</td>\n",
       "      <td>ABB</td>\n",
       "      <td>1SFA611610R1001</td>\n",
       "      <td>ABB.1SFA611610R1001</td>\n",
       "      <td>23-Sep-2024 13:59</td>\n",
       "    </tr>\n",
       "  </tbody>\n",
       "</table>\n",
       "</div>"
      ]
     },
     "execution_count": 5,
     "metadata": {},
     "output_type": "execute_result"
    }
   ],
   "execution_count": 5
  },
  {
   "metadata": {
    "ExecuteTime": {
     "end_time": "2024-10-07T09:24:37.183057Z",
     "start_time": "2024-10-07T09:24:37.165824Z"
    }
   },
   "cell_type": "code",
   "source": "data.nunique()",
   "id": "2506297f79285bfa",
   "outputs": [
    {
     "data": {
      "text/plain": [
       "PART_ID                     9351\n",
       "PART_NAME                   5530\n",
       "PART_DESCRIPTION            6846\n",
       "REVISION_DATE               3205\n",
       "PRODUCT_GROUP                 64\n",
       "PRODUCT_SUBGROUP              83\n",
       "WIDTH_(MM)                   637\n",
       "HEIGHT_(MM)                  738\n",
       "DEPTH_(MM)                   617\n",
       "WEIGHT_(KG)                  994\n",
       "MANUFACTURER                 613\n",
       "MANUFACTURER_PART_NUMBER    7527\n",
       "EPLAN_PART_NUMBER           7662\n",
       "RELEASED_DATE               1201\n",
       "dtype: int64"
      ]
     },
     "execution_count": 6,
     "metadata": {},
     "output_type": "execute_result"
    }
   ],
   "execution_count": 6
  },
  {
   "metadata": {
    "ExecuteTime": {
     "end_time": "2024-10-07T11:31:08.503015Z",
     "start_time": "2024-10-07T11:31:08.494778Z"
    }
   },
   "cell_type": "code",
   "source": "data.dtypes",
   "id": "91e7298a22299c4f",
   "outputs": [
    {
     "data": {
      "text/plain": [
       "PART_ID                       int64\n",
       "PART_NAME                    object\n",
       "PART_DESCRIPTION             object\n",
       "REVISION_DATE                object\n",
       "PRODUCT_GROUP               float64\n",
       "PRODUCT_SUBGROUP            float64\n",
       "WIDTH_(MM)                  float64\n",
       "HEIGHT_(MM)                 float64\n",
       "DEPTH_(MM)                  float64\n",
       "WEIGHT_(KG)                 float64\n",
       "MANUFACTURER                 object\n",
       "MANUFACTURER_PART_NUMBER     object\n",
       "EPLAN_PART_NUMBER            object\n",
       "RELEASED_DATE                object\n",
       "dtype: object"
      ]
     },
     "execution_count": 8,
     "metadata": {},
     "output_type": "execute_result"
    }
   ],
   "execution_count": 8
  }
 ],
 "metadata": {
  "kernelspec": {
   "display_name": "Python 3",
   "language": "python",
   "name": "python3"
  },
  "language_info": {
   "codemirror_mode": {
    "name": "ipython",
    "version": 2
   },
   "file_extension": ".py",
   "mimetype": "text/x-python",
   "name": "python",
   "nbconvert_exporter": "python",
   "pygments_lexer": "ipython2",
   "version": "2.7.6"
  }
 },
 "nbformat": 4,
 "nbformat_minor": 5
}
