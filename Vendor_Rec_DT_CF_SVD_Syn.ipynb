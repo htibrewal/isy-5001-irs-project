{
  "nbformat": 4,
  "nbformat_minor": 0,
  "metadata": {
    "colab": {
      "provenance": []
    },
    "kernelspec": {
      "name": "python3",
      "display_name": "Python 3"
    },
    "language_info": {
      "name": "python"
    }
  },
  "cells": [
    {
      "cell_type": "markdown",
      "source": [
        "# Preparing the Data\n"
      ],
      "metadata": {
        "id": "3TUj2pg9HVNM"
      }
    },
    {
      "cell_type": "code",
      "execution_count": 16,
      "metadata": {
        "colab": {
          "base_uri": "https://localhost:8080/"
        },
        "id": "CiDEqKqwHHP4",
        "outputId": "0f3ac158-06e6-4eaa-8abd-7a09110a4e59"
      },
      "outputs": [
        {
          "output_type": "stream",
          "name": "stdout",
          "text": [
            "Drive already mounted at /content/drive; to attempt to forcibly remount, call drive.mount(\"/content/drive\", force_remount=True).\n",
            "\n",
            " First few rows of the PO Dump: \n",
            "    PO_NUM         ITEM_NAME                       PART_DESCRIPTION ITEM_CODE  \\\n",
            "0  100000           Gripper     Pneumatic gripper for robotic arms   MOT7793   \n",
            "1  100000        3D Printer     Compact 3D printer for prototyping   MOT1546   \n",
            "2  100001   Pressure Sensor         High-precision pressure sensor   KYO7240   \n",
            "3  100001  Proximity Sensor             Inductive proximity sensor   KYO2884   \n",
            "4  100002   Control Cabinet  Industrial control cabinet with locks   IND4956   \n",
            "\n",
            "                         SUPPLIER_NAME SUPPLIER_CODE  ORDERED_QUANTITY  \\\n",
            "0  MOTHERSON SUMI WIRING INDIA LIMITED      VD904014                39   \n",
            "1  MOTHERSON SUMI WIRING INDIA LIMITED      VD904014               180   \n",
            "2         KYOWA MANUFACTURING CO., LTD      VD650721                67   \n",
            "3         KYOWA MANUFACTURING CO., LTD      VD650721               179   \n",
            "4                  INDEANA ENGINEERING      VD671527               300   \n",
            "\n",
            "   FAULTED_PARTS    PRICE   PO_VALUE DOWNPAYMENT_DATE DELIVERY_DATE  \n",
            "0              0  3740.04  145861.56       2023-09-05    2023-09-26  \n",
            "1              9  2547.14  458485.20       2023-10-22    2023-11-29  \n",
            "2              0   220.82   14794.94       2023-09-30    2023-11-06  \n",
            "3              0  4716.11  844183.69       2023-12-03    2023-12-30  \n",
            "4             15  1526.58  457974.00       2023-09-02    2023-12-10   \n",
            "\n"
          ]
        }
      ],
      "source": [
        " # Loading the data\n",
        "\n",
        "from google.colab import drive\n",
        "import pandas as pd\n",
        "import numpy as np\n",
        "\n",
        "drive.mount('/content/drive')\n",
        "\n",
        "PO_data=pd.read_csv('/content/drive/MyDrive/NUS-ISS AIS Projects/Project 1/Data/enlarged_dataset.csv')\n",
        "\n",
        "# Display the first few rows of the dataset\n",
        "print('\\n First few rows of the PO Dump: \\n', PO_data.head(), '\\n')"
      ]
    },
    {
      "cell_type": "markdown",
      "source": [
        "Calculating Delivery Time for each line item"
      ],
      "metadata": {
        "id": "l6Raj3WFHk3u"
      }
    },
    {
      "cell_type": "code",
      "source": [
        "#Calculating Delivery Time\n",
        "\n",
        "# Convert 'DOC_CREATION_DATE' and 'DELIVERY_DATE' to datetime objects\n",
        "PO_data['DOWNPAYMENT_DATE'] = pd.to_datetime(PO_data['DOWNPAYMENT_DATE'])\n",
        "PO_data['DELIVERY_DATE'] = pd.to_datetime(PO_data['DELIVERY_DATE'])\n",
        "\n",
        "# Calculate delivery time in days\n",
        "PO_data['DELIVERY_TIME'] = (PO_data['DELIVERY_DATE'] - PO_data['DOWNPAYMENT_DATE']).dt.days\n",
        "\n",
        "PO_data['DELIVERY_TIME'] = PO_data['DELIVERY_TIME'].abs()\n",
        "\n",
        "# Print delivery time for each vendor\n",
        "print(PO_data[['SUPPLIER_CODE', 'DELIVERY_TIME']])"
      ],
      "metadata": {
        "colab": {
          "base_uri": "https://localhost:8080/"
        },
        "id": "qilUmbs6HvGu",
        "outputId": "1c5eb520-919c-466a-bab0-ffaed738d125"
      },
      "execution_count": 17,
      "outputs": [
        {
          "output_type": "stream",
          "name": "stdout",
          "text": [
            "      SUPPLIER_CODE  DELIVERY_TIME\n",
            "0          VD904014             21\n",
            "1          VD904014             38\n",
            "2          VD650721             37\n",
            "3          VD650721             27\n",
            "4          VD671527             99\n",
            "...             ...            ...\n",
            "58662      VD492539             16\n",
            "58663      VD492539              6\n",
            "58664      VD406065             26\n",
            "58665      VD994773             40\n",
            "58666      VD994773             39\n",
            "\n",
            "[58667 rows x 2 columns]\n"
          ]
        }
      ]
    },
    {
      "cell_type": "code",
      "source": [
        "#Checking for improper Delivery times\n",
        "\n",
        "#Print all vendors with negative delivery time\n",
        "negative_delivery_time = PO_data[PO_data['DELIVERY_TIME'] < 0]\n",
        "\n",
        "#Total number of vendors with negative delivery date\n",
        "print('Total Number of vendors with Negative deliveries:', len(negative_delivery_time['SUPPLIER_CODE'].unique()), '\\n')\n",
        "print(negative_delivery_time['SUPPLIER_CODE'].value_counts())"
      ],
      "metadata": {
        "colab": {
          "base_uri": "https://localhost:8080/"
        },
        "id": "jg9JsCLGH4yi",
        "outputId": "203bddf5-fe39-4f3c-92a3-372be60d8d0a"
      },
      "execution_count": 18,
      "outputs": [
        {
          "output_type": "stream",
          "name": "stdout",
          "text": [
            "Total Number of vendors with Negative deliveries: 0 \n",
            "\n",
            "Series([], Name: count, dtype: int64)\n"
          ]
        }
      ]
    },
    {
      "cell_type": "code",
      "source": [
        "Original_price = PO_data['PRICE']\n",
        "#Original_item_value = PO_data['ITEM_VALUE']\n",
        "Original_delivery_time = PO_data['DELIVERY_TIME']"
      ],
      "metadata": {
        "id": "MbAI2EBHEuy3"
      },
      "execution_count": 19,
      "outputs": []
    },
    {
      "cell_type": "markdown",
      "source": [
        "# EDA"
      ],
      "metadata": {
        "id": "AXACKBLDLZyh"
      }
    },
    {
      "cell_type": "code",
      "source": [
        "# observing the shape of the data\n",
        "print('Shape of the Data is: \\t', PO_data.shape, '\\n')"
      ],
      "metadata": {
        "colab": {
          "base_uri": "https://localhost:8080/"
        },
        "id": "kVU1_GT4La-x",
        "outputId": "4be6673f-7bb7-4e7b-94b4-af2c2c0762e9"
      },
      "execution_count": 20,
      "outputs": [
        {
          "output_type": "stream",
          "name": "stdout",
          "text": [
            "Shape of the Data is: \t (58667, 13) \n",
            "\n"
          ]
        }
      ]
    },
    {
      "cell_type": "code",
      "source": [
        "# Check the data types and non-null counts\n",
        "print('\\nData Types and Non-null Counts:\\t', PO_data.info(), '\\n')"
      ],
      "metadata": {
        "colab": {
          "base_uri": "https://localhost:8080/"
        },
        "id": "VzpwfZbmLgi1",
        "outputId": "de0ba7a5-c5d0-4440-a24e-54e80b4c724a"
      },
      "execution_count": 21,
      "outputs": [
        {
          "output_type": "stream",
          "name": "stdout",
          "text": [
            "<class 'pandas.core.frame.DataFrame'>\n",
            "RangeIndex: 58667 entries, 0 to 58666\n",
            "Data columns (total 13 columns):\n",
            " #   Column            Non-Null Count  Dtype         \n",
            "---  ------            --------------  -----         \n",
            " 0   PO_NUM            58667 non-null  int64         \n",
            " 1   ITEM_NAME         58667 non-null  object        \n",
            " 2   PART_DESCRIPTION  58667 non-null  object        \n",
            " 3   ITEM_CODE         58667 non-null  object        \n",
            " 4   SUPPLIER_NAME     58667 non-null  object        \n",
            " 5   SUPPLIER_CODE     58667 non-null  object        \n",
            " 6   ORDERED_QUANTITY  58667 non-null  int64         \n",
            " 7   FAULTED_PARTS     58667 non-null  int64         \n",
            " 8   PRICE             58667 non-null  float64       \n",
            " 9   PO_VALUE          58667 non-null  float64       \n",
            " 10  DOWNPAYMENT_DATE  58667 non-null  datetime64[ns]\n",
            " 11  DELIVERY_DATE     58667 non-null  datetime64[ns]\n",
            " 12  DELIVERY_TIME     58667 non-null  int64         \n",
            "dtypes: datetime64[ns](2), float64(2), int64(4), object(5)\n",
            "memory usage: 5.8+ MB\n",
            "\n",
            "Data Types and Non-null Counts:\t None \n",
            "\n"
          ]
        }
      ]
    },
    {
      "cell_type": "code",
      "source": [
        "# Check for missing values\n",
        "print('Missing Values: \\n', PO_data.isnull().sum(), '\\n')"
      ],
      "metadata": {
        "colab": {
          "base_uri": "https://localhost:8080/"
        },
        "id": "_8gMcLXuLnod",
        "outputId": "db636fd4-f5ab-48b2-a61a-139518e4d204"
      },
      "execution_count": 22,
      "outputs": [
        {
          "output_type": "stream",
          "name": "stdout",
          "text": [
            "Missing Values: \n",
            " PO_NUM              0\n",
            "ITEM_NAME           0\n",
            "PART_DESCRIPTION    0\n",
            "ITEM_CODE           0\n",
            "SUPPLIER_NAME       0\n",
            "SUPPLIER_CODE       0\n",
            "ORDERED_QUANTITY    0\n",
            "FAULTED_PARTS       0\n",
            "PRICE               0\n",
            "PO_VALUE            0\n",
            "DOWNPAYMENT_DATE    0\n",
            "DELIVERY_DATE       0\n",
            "DELIVERY_TIME       0\n",
            "dtype: int64 \n",
            "\n"
          ]
        }
      ]
    },
    {
      "cell_type": "code",
      "source": [
        "# Check for duplicate rows\n",
        "print('Number of duplicate rows: \\t', PO_data.duplicated().sum(), '\\n')"
      ],
      "metadata": {
        "colab": {
          "base_uri": "https://localhost:8080/"
        },
        "id": "k75cKGshL1_6",
        "outputId": "72f906bf-bc71-4a0d-a624-402faf99161a"
      },
      "execution_count": 23,
      "outputs": [
        {
          "output_type": "stream",
          "name": "stdout",
          "text": [
            "Number of duplicate rows: \t 0 \n",
            "\n"
          ]
        }
      ]
    },
    {
      "cell_type": "code",
      "source": [
        "#Summary of all the numerical data\n",
        "print('All the Numerical Features: \\n', PO_data.select_dtypes(include=['number']).columns, '\\n')\n",
        "\n",
        "# Summary statistics for numerical features\n",
        "print('Summary for Numberical Features: \\n', PO_data.describe(), '\\n')"
      ],
      "metadata": {
        "colab": {
          "base_uri": "https://localhost:8080/"
        },
        "id": "Rw-M-1JCL77A",
        "outputId": "696c3476-2490-4840-e493-89cb2b07bcee"
      },
      "execution_count": 24,
      "outputs": [
        {
          "output_type": "stream",
          "name": "stdout",
          "text": [
            "All the Numerical Features: \n",
            " Index(['PO_NUM', 'ORDERED_QUANTITY', 'FAULTED_PARTS', 'PRICE', 'PO_VALUE',\n",
            "       'DELIVERY_TIME'],\n",
            "      dtype='object') \n",
            "\n",
            "Summary for Numberical Features: \n",
            "               PO_NUM  ORDERED_QUANTITY  FAULTED_PARTS         PRICE  \\\n",
            "count   58667.000000      58667.000000   58667.000000  58667.000000   \n",
            "mean   115010.739496        150.165408       5.705882   2563.427641   \n",
            "min    100000.000000          1.000000       0.000000     41.350000   \n",
            "25%    107535.000000         75.000000       0.000000   1300.845000   \n",
            "50%    114965.000000        150.000000       0.000000   2575.440000   \n",
            "75%    122516.500000        225.000000       3.000000   3729.720000   \n",
            "max    129999.000000        300.000000     300.000000   5987.200000   \n",
            "std      8657.877555         86.742675      25.070171   1454.977483   \n",
            "\n",
            "           PO_VALUE               DOWNPAYMENT_DATE  \\\n",
            "count  5.866700e+04                          58667   \n",
            "mean   3.847127e+05  2023-07-02 15:11:08.798472448   \n",
            "min    6.384000e+01            2023-01-01 00:00:00   \n",
            "25%    1.083448e+05            2023-04-02 00:00:00   \n",
            "50%    2.881368e+05            2023-07-03 00:00:00   \n",
            "75%    5.871222e+05            2023-10-02 00:00:00   \n",
            "max    1.747144e+06            2024-01-01 00:00:00   \n",
            "std    3.361677e+05                            NaN   \n",
            "\n",
            "                       DELIVERY_DATE  DELIVERY_TIME  \n",
            "count                          58667   58667.000000  \n",
            "mean   2023-08-23 07:51:14.730257152      51.694513  \n",
            "min              2023-01-05 00:00:00       3.000000  \n",
            "25%              2023-05-24 00:00:00      27.000000  \n",
            "50%              2023-08-24 00:00:00      52.000000  \n",
            "75%              2023-11-23 00:00:00      76.000000  \n",
            "max              2024-04-10 00:00:00     100.000000  \n",
            "std                              NaN      28.373537   \n",
            "\n"
          ]
        }
      ]
    },
    {
      "cell_type": "code",
      "source": [
        "#Summary of all the categorical data\n",
        "print('All the Categorical Features: \\n', PO_data.select_dtypes(include=['object', 'category']).columns, '\\n')\n",
        "\n",
        "# Summary statistics for categorical features\n",
        "print('Summary for Categorical Features: \\n', PO_data.describe(include=['object']), '\\n')"
      ],
      "metadata": {
        "colab": {
          "base_uri": "https://localhost:8080/"
        },
        "id": "liLQl6skMTp3",
        "outputId": "a528079a-bf4a-4fbd-c513-ed2975faf12c"
      },
      "execution_count": 25,
      "outputs": [
        {
          "output_type": "stream",
          "name": "stdout",
          "text": [
            "All the Categorical Features: \n",
            " Index(['ITEM_NAME', 'PART_DESCRIPTION', 'ITEM_CODE', 'SUPPLIER_NAME',\n",
            "       'SUPPLIER_CODE'],\n",
            "      dtype='object') \n",
            "\n",
            "Summary for Categorical Features: \n",
            "         ITEM_NAME                            PART_DESCRIPTION ITEM_CODE  \\\n",
            "count       58667                                       58667     58667   \n",
            "unique         15                                          15      1199   \n",
            "top     VFD Drive  Variable Frequency Drive for motor control   PRA4679   \n",
            "freq         4506                                        4506        81   \n",
            "\n",
            "                           SUPPLIER_NAME SUPPLIER_CODE  \n",
            "count                              58667         58667  \n",
            "unique                                80            80  \n",
            "top     Praja Controls & Systems Pvt Ltd      VD899831  \n",
            "freq                                 828           828   \n",
            "\n"
          ]
        }
      ]
    },
    {
      "cell_type": "code",
      "source": [
        "# Standardize the numeric columns\n",
        "\n",
        "from sklearn.preprocessing import StandardScaler\n",
        "\n",
        "scaler = StandardScaler()\n",
        "PO_data[['PRICE','DELIVERY_TIME']] = scaler.fit_transform(PO_data[['PRICE','DELIVERY_TIME']])\n"
      ],
      "metadata": {
        "id": "Crx3JR2GPsBL"
      },
      "execution_count": 26,
      "outputs": []
    },
    {
      "cell_type": "code",
      "source": [
        "# Encode categorical variables\n",
        "\n",
        "#Rename part description as part name\n",
        "PO_data = PO_data.rename(columns={'PART_DESCRIPTION': 'PART_NAME'})\n",
        "\n",
        "PO_data = pd.get_dummies(PO_data, columns=['SUPPLIER_NAME', 'PART_NAME'], drop_first=True)"
      ],
      "metadata": {
        "id": "g4HlipDBQOgj"
      },
      "execution_count": 27,
      "outputs": []
    },
    {
      "cell_type": "markdown",
      "source": [
        "# Training with Collaborative Fitting with SVD"
      ],
      "metadata": {
        "id": "DubKuBDqRZdr"
      }
    },
    {
      "cell_type": "code",
      "source": [
        "!pip install scikit-surprise"
      ],
      "metadata": {
        "colab": {
          "base_uri": "https://localhost:8080/"
        },
        "id": "m7_D5zVgYf4A",
        "outputId": "e95042ef-ce28-4998-caad-8fc4aa95557b"
      },
      "execution_count": 28,
      "outputs": [
        {
          "output_type": "stream",
          "name": "stdout",
          "text": [
            "Requirement already satisfied: scikit-surprise in /usr/local/lib/python3.10/dist-packages (1.1.4)\n",
            "Requirement already satisfied: joblib>=1.2.0 in /usr/local/lib/python3.10/dist-packages (from scikit-surprise) (1.4.2)\n",
            "Requirement already satisfied: numpy>=1.19.5 in /usr/local/lib/python3.10/dist-packages (from scikit-surprise) (1.26.4)\n",
            "Requirement already satisfied: scipy>=1.6.0 in /usr/local/lib/python3.10/dist-packages (from scikit-surprise) (1.13.1)\n"
          ]
        }
      ]
    },
    {
      "cell_type": "markdown",
      "source": [
        "Ranking Vendors out of 10 based on Delivery Times"
      ],
      "metadata": {
        "id": "6bHZga5XHqsQ"
      }
    },
    {
      "cell_type": "code",
      "source": [
        "from surprise import Dataset, Reader, SVD\n",
        "from surprise.model_selection import train_test_split\n",
        "from sklearn.preprocessing import MinMaxScaler\n",
        "\n",
        "# Prepare data for Surprise library\n",
        "reader = Reader(rating_scale=(1, 10))  # Assuming vendor ranking is from 1 to 10\n",
        "\n",
        "data = PO_data[['SUPPLIER_CODE', 'DELIVERY_TIME', 'PRICE']]\n",
        "data = data.rename(columns={'SUPPLIER_CODE': 'userID', 'DELIVERY_TIME': 'itemID', 'PRICE': 'rating'})\n",
        "\n",
        "dataset = Dataset.load_from_df(data[['userID', 'itemID', 'rating']], reader)\n",
        "trainset, testset = train_test_split(dataset, test_size=.25)\n",
        "\n",
        "# Train SVD model\n",
        "algo = SVD()\n",
        "algo.fit(trainset)\n",
        "\n",
        "# Predict ratings for all vendor-delivery_time combinations\n",
        "predictions = algo.test(testset)\n",
        "\n",
        "# Create a DataFrame to store predicted ratings\n",
        "predicted_ratings_df = pd.DataFrame(columns=['SUPPLIER_CODE', 'DELIVERY_TIME', 'predicted_rating'])\n",
        "for uid, iid, true_r, est, _ in predictions:\n",
        "    predicted_ratings_df = pd.concat([predicted_ratings_df, pd.DataFrame({'SUPPLIER_CODE': [uid], 'DELIVERY_TIME': [iid], 'predicted_rating': [est]})], ignore_index=True)\n",
        "\n",
        "\n",
        "# Scale the predicted ratings to be between 1 and 10\n",
        "scaler = MinMaxScaler(feature_range=(1, 10))\n",
        "predicted_ratings_df['scaled_rating'] = scaler.fit_transform(predicted_ratings_df[['predicted_rating']])\n",
        "\n",
        "# Group by vendor and calculate the average predicted rating\n",
        "vendor_ratings = predicted_ratings_df.groupby('SUPPLIER_CODE')['scaled_rating'].mean()\n",
        "\n",
        "# Sort vendors by their average predicted rating in descending order\n",
        "ranked_vendors = vendor_ratings.sort_values(ascending=False)\n",
        "\n",
        "\n",
        "ranked_vendors"
      ],
      "metadata": {
        "colab": {
          "base_uri": "https://localhost:8080/",
          "height": 546
        },
        "id": "YPrUhSB3haaZ",
        "outputId": "fc571c04-c5a7-42e5-f2bd-21e15442f70d"
      },
      "execution_count": 29,
      "outputs": [
        {
          "output_type": "stream",
          "name": "stderr",
          "text": [
            "<ipython-input-29-c578a8ce7e0a>:24: FutureWarning: The behavior of DataFrame concatenation with empty or all-NA entries is deprecated. In a future version, this will no longer exclude empty or all-NA columns when determining the result dtypes. To retain the old behavior, exclude the relevant entries before the concat operation.\n",
            "  predicted_ratings_df = pd.concat([predicted_ratings_df, pd.DataFrame({'SUPPLIER_CODE': [uid], 'DELIVERY_TIME': [iid], 'predicted_rating': [est]})], ignore_index=True)\n"
          ]
        },
        {
          "output_type": "execute_result",
          "data": {
            "text/plain": [
              "SUPPLIER_CODE\n",
              "VD268662    1.259603\n",
              "VD184670    1.018239\n",
              "VD101149    1.000000\n",
              "VD736394    1.000000\n",
              "VD784623    1.000000\n",
              "              ...   \n",
              "VD439383    1.000000\n",
              "VD427107    1.000000\n",
              "VD424465    1.000000\n",
              "VD412248    1.000000\n",
              "VD996609    1.000000\n",
              "Name: scaled_rating, Length: 80, dtype: float64"
            ],
            "text/html": [
              "<div>\n",
              "<style scoped>\n",
              "    .dataframe tbody tr th:only-of-type {\n",
              "        vertical-align: middle;\n",
              "    }\n",
              "\n",
              "    .dataframe tbody tr th {\n",
              "        vertical-align: top;\n",
              "    }\n",
              "\n",
              "    .dataframe thead th {\n",
              "        text-align: right;\n",
              "    }\n",
              "</style>\n",
              "<table border=\"1\" class=\"dataframe\">\n",
              "  <thead>\n",
              "    <tr style=\"text-align: right;\">\n",
              "      <th></th>\n",
              "      <th>scaled_rating</th>\n",
              "    </tr>\n",
              "    <tr>\n",
              "      <th>SUPPLIER_CODE</th>\n",
              "      <th></th>\n",
              "    </tr>\n",
              "  </thead>\n",
              "  <tbody>\n",
              "    <tr>\n",
              "      <th>VD268662</th>\n",
              "      <td>1.259603</td>\n",
              "    </tr>\n",
              "    <tr>\n",
              "      <th>VD184670</th>\n",
              "      <td>1.018239</td>\n",
              "    </tr>\n",
              "    <tr>\n",
              "      <th>VD101149</th>\n",
              "      <td>1.000000</td>\n",
              "    </tr>\n",
              "    <tr>\n",
              "      <th>VD736394</th>\n",
              "      <td>1.000000</td>\n",
              "    </tr>\n",
              "    <tr>\n",
              "      <th>VD784623</th>\n",
              "      <td>1.000000</td>\n",
              "    </tr>\n",
              "    <tr>\n",
              "      <th>...</th>\n",
              "      <td>...</td>\n",
              "    </tr>\n",
              "    <tr>\n",
              "      <th>VD439383</th>\n",
              "      <td>1.000000</td>\n",
              "    </tr>\n",
              "    <tr>\n",
              "      <th>VD427107</th>\n",
              "      <td>1.000000</td>\n",
              "    </tr>\n",
              "    <tr>\n",
              "      <th>VD424465</th>\n",
              "      <td>1.000000</td>\n",
              "    </tr>\n",
              "    <tr>\n",
              "      <th>VD412248</th>\n",
              "      <td>1.000000</td>\n",
              "    </tr>\n",
              "    <tr>\n",
              "      <th>VD996609</th>\n",
              "      <td>1.000000</td>\n",
              "    </tr>\n",
              "  </tbody>\n",
              "</table>\n",
              "<p>80 rows × 1 columns</p>\n",
              "</div><br><label><b>dtype:</b> float64</label>"
            ]
          },
          "metadata": {},
          "execution_count": 29
        }
      ]
    },
    {
      "cell_type": "markdown",
      "source": [
        "Traning model for vendor recommendation based on Delivery Time\n"
      ],
      "metadata": {
        "id": "4vkft-Q4HiJP"
      }
    },
    {
      "cell_type": "code",
      "source": [
        "from surprise import SVD\n",
        "from surprise import accuracy\n",
        "from surprise import Reader\n",
        "from surprise import Dataset\n",
        "from sklearn.model_selection import train_test_split\n",
        "\n",
        "y = PO_data['DELIVERY_TIME']\n",
        "X = PO_data.drop(columns=['DELIVERY_TIME'])\n",
        "\n",
        "# Split the data (e.g., 80% training, 20% testing)\n",
        "X_train, X_test, y_train, y_test = train_test_split(X, y, test_size=0.2, random_state=42)\n",
        "\n",
        "#Create a Surprise Dateset\n",
        "reader = Reader(rating_scale=(PO_data['DELIVERY_TIME'].min(), PO_data['DELIVERY_TIME'].max()))\n",
        "\n",
        "# Create the trainset from the training data\n",
        "train_df = pd.DataFrame({'userID': X_train.index, 'itemID': X_train['ITEM_CODE'], 'rating': y_train})\n",
        "trainset = Dataset.load_from_df(train_df[['userID', 'itemID', 'rating']], reader)\n",
        "\n",
        "# Use the SVD algorithm\n",
        "model = SVD()\n",
        "\n",
        "# Train the model on the Surprise trainset\n",
        "model.fit(trainset.build_full_trainset())\n",
        "\n",
        "# Make predictions - need to create testset similar to trainset\n",
        "test_df = pd.DataFrame({'userID': X_test.index, 'itemID': X_test['ITEM_CODE'], 'rating': y_test})\n",
        "testset = Dataset.load_from_df(test_df[['userID', 'itemID', 'rating']], reader).build_full_trainset().build_testset() # create testset\n",
        "predictions = model.test(testset) # get predictions on the testset\n",
        "\n",
        "# Evaluate the model\n",
        "accuracy.mse(predictions)\n",
        "\n",
        "# Evaluate accuracy\n",
        "accuracy.rmse(predictions)"
      ],
      "metadata": {
        "colab": {
          "base_uri": "https://localhost:8080/"
        },
        "id": "4G85pR4oVQ6E",
        "outputId": "00ee49c2-a6ca-4eee-f630-b4a158038ebf"
      },
      "execution_count": 30,
      "outputs": [
        {
          "output_type": "stream",
          "name": "stdout",
          "text": [
            "MSE: 1.0302\n",
            "RMSE: 1.0150\n"
          ]
        },
        {
          "output_type": "execute_result",
          "data": {
            "text/plain": [
              "1.0150061175789578"
            ]
          },
          "metadata": {},
          "execution_count": 30
        }
      ]
    },
    {
      "cell_type": "code",
      "source": [
        "# Replace the scaled columns with the original values\n",
        "PO_data['PRICE'] = Original_price\n",
        "#PO_data['ITEM_VALUE'] = Original_item_value\n",
        "PO_data['DELIVERY_TIME'] = Original_delivery_time"
      ],
      "metadata": {
        "id": "dEhXw9LEGsiv"
      },
      "execution_count": 31,
      "outputs": []
    },
    {
      "cell_type": "markdown",
      "source": [
        "Get top 3 Vendors for a particular part name on the basis of delivery time"
      ],
      "metadata": {
        "id": "DKcbtAZKHP-X"
      }
    },
    {
      "cell_type": "code",
      "source": [
        "# Get the top 3 vendors for a specific component\n",
        "\n",
        "#randomly select a part_name\n",
        "import random\n",
        "\n",
        "# Get all available column names\n",
        "available_columns = PO_data.columns\n",
        "\n",
        "# Check if 'PART_NAME' exists, otherwise, use a different relevant column\n",
        "part_name_column = 'PART_NAME' if 'PART_NAME' in available_columns else available_columns[0]  # Replace available_columns[0] with an appropriate column if needed\n",
        "\n",
        "# Randomly select a part_name\n",
        "part_name = random.choice(PO_data[part_name_column].unique())\n",
        "\n",
        "print(f\"Randomly selected part name: {part_name}\")\n",
        "\n",
        "component_id = PO_data[PO_data[part_name_column] == part_name]['ITEM_CODE'].iloc[0]\n",
        "\n",
        "recommended_vendors = PO_data[PO_data['ITEM_CODE'] == component_id]\n",
        "recommended_vendors = recommended_vendors.sort_values(by='DELIVERY_TIME', ascending=True)\n",
        "\n",
        "# Print the top N vendors for the component\n",
        "top_vendors = recommended_vendors.head(3)\n",
        "print(top_vendors[['SUPPLIER_CODE', 'DELIVERY_TIME', 'PRICE']])\n"
      ],
      "metadata": {
        "id": "fvIxYHief9xR",
        "colab": {
          "base_uri": "https://localhost:8080/"
        },
        "outputId": "af120e50-f3b1-4f81-913c-3e971f56db2f"
      },
      "execution_count": 34,
      "outputs": [
        {
          "output_type": "stream",
          "name": "stdout",
          "text": [
            "Randomly selected part name: 124481\n",
            "      SUPPLIER_CODE  DELIVERY_TIME   PRICE\n",
            "35972      VD738866              3  528.10\n",
            "47875      VD738866              6  433.28\n",
            "41329      VD738866              7  366.45\n"
          ]
        }
      ]
    }
  ]
}